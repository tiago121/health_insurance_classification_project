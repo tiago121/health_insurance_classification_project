{
  "nbformat": 4,
  "nbformat_minor": 0,
  "metadata": {
    "colab": {
      "provenance": [],
      "toc_visible": true,
      "mount_file_id": "14OyTwp0TTN0VdPfZqgTCVEmgJFjq9thq",
      "authorship_tag": "ABX9TyONVdAiPThN4J6lZ4YPUYpK",
      "include_colab_link": true
    },
    "kernelspec": {
      "name": "python3",
      "display_name": "Python 3"
    },
    "language_info": {
      "name": "python"
    }
  },
  "cells": [
    {
      "cell_type": "markdown",
      "metadata": {
        "id": "view-in-github",
        "colab_type": "text"
      },
      "source": [
        "<a href=\"https://colab.research.google.com/github/tiago121/health_insurance_classification_project/blob/main/Health_insurance.ipynb\" target=\"_parent\"><img src=\"https://colab.research.google.com/assets/colab-badge.svg\" alt=\"Open In Colab\"/></a>"
      ]
    },
    {
      "cell_type": "markdown",
      "source": [
        "# Health Insurance Cross Sell"
      ],
      "metadata": {
        "id": "XGEMvti2jg3d"
      }
    },
    {
      "cell_type": "markdown",
      "source": [
        "## 0.0 Initial considerations"
      ],
      "metadata": {
        "id": "icCEL7Bf6d-Q"
      }
    },
    {
      "cell_type": "code",
      "source": [
        "!pip install boruta"
      ],
      "metadata": {
        "colab": {
          "base_uri": "https://localhost:8080/"
        },
        "id": "Vg66dXZ-fX_r",
        "outputId": "0a9814a3-4601-4759-bc07-3135885bcf74"
      },
      "execution_count": null,
      "outputs": [
        {
          "output_type": "stream",
          "name": "stdout",
          "text": [
            "Looking in indexes: https://pypi.org/simple, https://us-python.pkg.dev/colab-wheels/public/simple/\n",
            "Requirement already satisfied: boruta in /usr/local/lib/python3.8/dist-packages (0.3)\n",
            "Requirement already satisfied: scipy>=0.17.0 in /usr/local/lib/python3.8/dist-packages (from boruta) (1.7.3)\n",
            "Requirement already satisfied: numpy>=1.10.4 in /usr/local/lib/python3.8/dist-packages (from boruta) (1.21.6)\n",
            "Requirement already satisfied: scikit-learn>=0.17.1 in /usr/local/lib/python3.8/dist-packages (from boruta) (1.0.2)\n",
            "Requirement already satisfied: joblib>=0.11 in /usr/local/lib/python3.8/dist-packages (from scikit-learn>=0.17.1->boruta) (1.2.0)\n",
            "Requirement already satisfied: threadpoolctl>=2.0.0 in /usr/local/lib/python3.8/dist-packages (from scikit-learn>=0.17.1->boruta) (3.1.0)\n"
          ]
        }
      ]
    },
    {
      "cell_type": "code",
      "source": [
        "!pip install scikit-plot"
      ],
      "metadata": {
        "colab": {
          "base_uri": "https://localhost:8080/"
        },
        "id": "N9yoXG7zfhrP",
        "outputId": "cb2f0326-74ba-4b82-8ef5-6f32c0b9ceb3"
      },
      "execution_count": null,
      "outputs": [
        {
          "output_type": "stream",
          "name": "stdout",
          "text": [
            "Looking in indexes: https://pypi.org/simple, https://us-python.pkg.dev/colab-wheels/public/simple/\n",
            "Requirement already satisfied: scikit-plot in /usr/local/lib/python3.8/dist-packages (0.3.7)\n",
            "Requirement already satisfied: matplotlib>=1.4.0 in /usr/local/lib/python3.8/dist-packages (from scikit-plot) (3.2.2)\n",
            "Requirement already satisfied: joblib>=0.10 in /usr/local/lib/python3.8/dist-packages (from scikit-plot) (1.2.0)\n",
            "Requirement already satisfied: scipy>=0.9 in /usr/local/lib/python3.8/dist-packages (from scikit-plot) (1.7.3)\n",
            "Requirement already satisfied: scikit-learn>=0.18 in /usr/local/lib/python3.8/dist-packages (from scikit-plot) (1.0.2)\n",
            "Requirement already satisfied: kiwisolver>=1.0.1 in /usr/local/lib/python3.8/dist-packages (from matplotlib>=1.4.0->scikit-plot) (1.4.4)\n",
            "Requirement already satisfied: pyparsing!=2.0.4,!=2.1.2,!=2.1.6,>=2.0.1 in /usr/local/lib/python3.8/dist-packages (from matplotlib>=1.4.0->scikit-plot) (3.0.9)\n",
            "Requirement already satisfied: python-dateutil>=2.1 in /usr/local/lib/python3.8/dist-packages (from matplotlib>=1.4.0->scikit-plot) (2.8.2)\n",
            "Requirement already satisfied: numpy>=1.11 in /usr/local/lib/python3.8/dist-packages (from matplotlib>=1.4.0->scikit-plot) (1.21.6)\n",
            "Requirement already satisfied: cycler>=0.10 in /usr/local/lib/python3.8/dist-packages (from matplotlib>=1.4.0->scikit-plot) (0.11.0)\n",
            "Requirement already satisfied: six>=1.5 in /usr/local/lib/python3.8/dist-packages (from python-dateutil>=2.1->matplotlib>=1.4.0->scikit-plot) (1.15.0)\n",
            "Requirement already satisfied: threadpoolctl>=2.0.0 in /usr/local/lib/python3.8/dist-packages (from scikit-learn>=0.18->scikit-plot) (3.1.0)\n"
          ]
        }
      ]
    },
    {
      "cell_type": "markdown",
      "source": [
        "### 0.1 Imports"
      ],
      "metadata": {
        "id": "ONIfo5ob6eQE"
      }
    },
    {
      "cell_type": "code",
      "source": [
        "import numpy  as np\n",
        "import pandas as pd\n",
        "import boruta as bt\n",
        "import scikitplot as skplt\n",
        "import pickle\n",
        "import seaborn as sns\n",
        "from matplotlib import pyplot as plt\n",
        "from sklearn import preprocessing   as pp\n",
        "from sklearn import linear_model    as lm\n",
        "from sklearn import model_selection as ms\n",
        "from sklearn import ensemble        as en\n",
        "from sklearn import neighbors       as nh\n",
        "import xgboost    as xgb"
      ],
      "metadata": {
        "id": "OBuevr6m6eYf"
      },
      "execution_count": null,
      "outputs": []
    },
    {
      "cell_type": "code",
      "source": [],
      "metadata": {
        "id": "S7m6YphifgO0"
      },
      "execution_count": null,
      "outputs": []
    },
    {
      "cell_type": "markdown",
      "source": [
        "### 0.2 Helper functions"
      ],
      "metadata": {
        "id": "5u5Vm9-d6egk"
      }
    },
    {
      "cell_type": "code",
      "source": [
        "def jupyter_settings():\n",
        "    %matplotlib inline\n",
        "    %pylab inline\n",
        "    \n",
        "    plt.style.use( 'bmh' )\n",
        "    plt.rcParams['figure.figsize'] = [25, 12]\n",
        "    plt.rcParams['font.size'] = 24\n",
        "    \n",
        "    display( HTML( '<style>.container { width:100% !important; }</style>') )\n",
        "    pd.options.display.max_columns = None\n",
        "    pd.options.display.max_rows = None\n",
        "    pd.set_option( 'display.expand_frame_repr', False )\n",
        "    \n",
        "    sns.set()\n",
        "\n",
        "\n",
        "def precision_at_k(data, x_val, y_val, yhat_model, k):\n",
        "    \n",
        "    data = x_val.copy()\n",
        "    data['response'] = y_val.copy()\n",
        "    \n",
        "    # propensity score\n",
        "    data['score'] = yhat_model[:, 1].tolist()      \n",
        "    \n",
        "    data = data.sort_values('score', ascending = False)\n",
        "    \n",
        "    # reset index\n",
        "    data = data.reset_index(drop = True)\n",
        "\n",
        "    # create ranking order\n",
        "    data['ranking'] = data.index + 1 \n",
        "\n",
        "    data['precision_at_k'] = data['response'].cumsum() / data['ranking']\n",
        "\n",
        "    return data.loc[k, 'precision_at_k']\n",
        "\n",
        "\n",
        "def recall_at_k(data, x_val, y_val, yhat_model, k):\n",
        "    \n",
        "    data = x_val.copy()\n",
        "    data['response'] = y_val.copy()\n",
        "    \n",
        "    # propensity score\n",
        "    data['score'] = yhat_model[:, 1].tolist()  \n",
        "    \n",
        "    data = data.sort_values('score', ascending = False)\n",
        "    \n",
        "    # reset index\n",
        "    data = data.reset_index(drop = True)\n",
        "\n",
        "    # create ranking order\n",
        "    #data['ranking'] = data.index + 1 \n",
        "\n",
        "    data['recall_at_k'] = data['response'].cumsum() / data['response'].sum()\n",
        "\n",
        "    return data.loc[k, 'recall_at_k']\n",
        "\n",
        "# In classification tasks with imbalanced class distributions we should prefer stratifiedkfold over kfold, because the class distributions is preserved in the splits.\n",
        "#def cross_validation(data, models_performance, num_folds, modelName, model, x_train, y_train, k):\n",
        "def cross_validation(data, num_folds, modelName, model, x_train, y_train, k):\n",
        "    \n",
        "    kfold = ms.StratifiedKFold(n_splits = num_folds, shuffle = True, random_state = 42)\n",
        "    \n",
        "    precision_list = []\n",
        "    recall_list = []\n",
        "    #f1_score_list = []\n",
        "    #roc_list = []\n",
        "    \n",
        "    i = 1\n",
        "    for train_cv,val_cv in kfold.split(x_train, y_train):\n",
        "\n",
        "        x_train_fold = x_train.iloc[train_cv]\n",
        "        y_train_fold = y_train.iloc[train_cv]\n",
        "\n",
        "        x_val_fold = x_train.iloc[val_cv]\n",
        "        y_val_fold = y_train.iloc[val_cv]\n",
        "\n",
        "        model_fit = model.fit(x_train_fold,y_train_fold)\n",
        "\n",
        "        yhat_model = model_fit.predict_proba(x_val_fold)\n",
        "        \n",
        "        x_val_fold['response'] = y_val_fold\n",
        "        \n",
        "        precision = round(precision_at_k(data, x_val_fold, y_val_fold, yhat_model, k), 3)\n",
        "        precision_list.append(precision)\n",
        "        \n",
        "        recall = round(recall_at_k(data, x_val_fold, y_val_fold, yhat_model, k), 3)\n",
        "        recall_list.append(recall)\n",
        "        \n",
        "    \n",
        "    precision_str = np.round(np.mean(precision_list), 3).astype(str) + ' +/- ' + np.round(np.std(precision_list), 3).astype(str)\n",
        "    recall_str    = np.round(np.mean(recall_list), 3).astype(str)    + ' +/- ' + np.round(np.std(recall_list), 3).astype(str)\n",
        "    # there are others ranking metrics like F1-Score and Average precision but little used.\n",
        "    \n",
        "        \n",
        "    #models_performance = models_performance.append(pd.Series([modelName, precision_str, recall_str], index = models_performance.columns), ignore_index = True)\n",
        "\n",
        "    #return models_performance\n",
        "    return {'Model Name': modelName, 'Precision_at_k': precision_str, 'Recall_at_k': recall_str}"
      ],
      "metadata": {
        "id": "ub2anvs66e30"
      },
      "execution_count": null,
      "outputs": []
    },
    {
      "cell_type": "markdown",
      "source": [
        "## 1.0 Data Description"
      ],
      "metadata": {
        "id": "YILFKY0Z6e_3"
      }
    },
    {
      "cell_type": "code",
      "source": [
        "df1 = pd.read_csv('/content/drive/MyDrive/Data Science/Datasets Notebooks/health_insurance.csv')\n",
        "df1 = df1.rename(columns=str.lower)\n",
        "df1.head()"
      ],
      "metadata": {
        "colab": {
          "base_uri": "https://localhost:8080/",
          "height": 267
        },
        "id": "qeh39o-e6fHc",
        "outputId": "9509db98-7d3c-4fa3-bf6a-710f805b625d"
      },
      "execution_count": null,
      "outputs": [
        {
          "output_type": "execute_result",
          "data": {
            "text/plain": [
              "   id  gender  age  driving_license  region_code  previously_insured  \\\n",
              "0   1    Male   44                1         28.0                   0   \n",
              "1   2    Male   76                1          3.0                   0   \n",
              "2   3    Male   47                1         28.0                   0   \n",
              "3   4    Male   21                1         11.0                   1   \n",
              "4   5  Female   29                1         41.0                   1   \n",
              "\n",
              "  vehicle_age vehicle_damage  annual_premium  policy_sales_channel  vintage  \\\n",
              "0   > 2 Years            Yes         40454.0                  26.0      217   \n",
              "1    1-2 Year             No         33536.0                  26.0      183   \n",
              "2   > 2 Years            Yes         38294.0                  26.0       27   \n",
              "3    < 1 Year             No         28619.0                 152.0      203   \n",
              "4    < 1 Year             No         27496.0                 152.0       39   \n",
              "\n",
              "   response  \n",
              "0         1  \n",
              "1         0  \n",
              "2         1  \n",
              "3         0  \n",
              "4         0  "
            ],
            "text/html": [
              "\n",
              "  <div id=\"df-d0698a1a-fb69-4413-83ab-4c0b669ee573\">\n",
              "    <div class=\"colab-df-container\">\n",
              "      <div>\n",
              "<style scoped>\n",
              "    .dataframe tbody tr th:only-of-type {\n",
              "        vertical-align: middle;\n",
              "    }\n",
              "\n",
              "    .dataframe tbody tr th {\n",
              "        vertical-align: top;\n",
              "    }\n",
              "\n",
              "    .dataframe thead th {\n",
              "        text-align: right;\n",
              "    }\n",
              "</style>\n",
              "<table border=\"1\" class=\"dataframe\">\n",
              "  <thead>\n",
              "    <tr style=\"text-align: right;\">\n",
              "      <th></th>\n",
              "      <th>id</th>\n",
              "      <th>gender</th>\n",
              "      <th>age</th>\n",
              "      <th>driving_license</th>\n",
              "      <th>region_code</th>\n",
              "      <th>previously_insured</th>\n",
              "      <th>vehicle_age</th>\n",
              "      <th>vehicle_damage</th>\n",
              "      <th>annual_premium</th>\n",
              "      <th>policy_sales_channel</th>\n",
              "      <th>vintage</th>\n",
              "      <th>response</th>\n",
              "    </tr>\n",
              "  </thead>\n",
              "  <tbody>\n",
              "    <tr>\n",
              "      <th>0</th>\n",
              "      <td>1</td>\n",
              "      <td>Male</td>\n",
              "      <td>44</td>\n",
              "      <td>1</td>\n",
              "      <td>28.0</td>\n",
              "      <td>0</td>\n",
              "      <td>&gt; 2 Years</td>\n",
              "      <td>Yes</td>\n",
              "      <td>40454.0</td>\n",
              "      <td>26.0</td>\n",
              "      <td>217</td>\n",
              "      <td>1</td>\n",
              "    </tr>\n",
              "    <tr>\n",
              "      <th>1</th>\n",
              "      <td>2</td>\n",
              "      <td>Male</td>\n",
              "      <td>76</td>\n",
              "      <td>1</td>\n",
              "      <td>3.0</td>\n",
              "      <td>0</td>\n",
              "      <td>1-2 Year</td>\n",
              "      <td>No</td>\n",
              "      <td>33536.0</td>\n",
              "      <td>26.0</td>\n",
              "      <td>183</td>\n",
              "      <td>0</td>\n",
              "    </tr>\n",
              "    <tr>\n",
              "      <th>2</th>\n",
              "      <td>3</td>\n",
              "      <td>Male</td>\n",
              "      <td>47</td>\n",
              "      <td>1</td>\n",
              "      <td>28.0</td>\n",
              "      <td>0</td>\n",
              "      <td>&gt; 2 Years</td>\n",
              "      <td>Yes</td>\n",
              "      <td>38294.0</td>\n",
              "      <td>26.0</td>\n",
              "      <td>27</td>\n",
              "      <td>1</td>\n",
              "    </tr>\n",
              "    <tr>\n",
              "      <th>3</th>\n",
              "      <td>4</td>\n",
              "      <td>Male</td>\n",
              "      <td>21</td>\n",
              "      <td>1</td>\n",
              "      <td>11.0</td>\n",
              "      <td>1</td>\n",
              "      <td>&lt; 1 Year</td>\n",
              "      <td>No</td>\n",
              "      <td>28619.0</td>\n",
              "      <td>152.0</td>\n",
              "      <td>203</td>\n",
              "      <td>0</td>\n",
              "    </tr>\n",
              "    <tr>\n",
              "      <th>4</th>\n",
              "      <td>5</td>\n",
              "      <td>Female</td>\n",
              "      <td>29</td>\n",
              "      <td>1</td>\n",
              "      <td>41.0</td>\n",
              "      <td>1</td>\n",
              "      <td>&lt; 1 Year</td>\n",
              "      <td>No</td>\n",
              "      <td>27496.0</td>\n",
              "      <td>152.0</td>\n",
              "      <td>39</td>\n",
              "      <td>0</td>\n",
              "    </tr>\n",
              "  </tbody>\n",
              "</table>\n",
              "</div>\n",
              "      <button class=\"colab-df-convert\" onclick=\"convertToInteractive('df-d0698a1a-fb69-4413-83ab-4c0b669ee573')\"\n",
              "              title=\"Convert this dataframe to an interactive table.\"\n",
              "              style=\"display:none;\">\n",
              "        \n",
              "  <svg xmlns=\"http://www.w3.org/2000/svg\" height=\"24px\"viewBox=\"0 0 24 24\"\n",
              "       width=\"24px\">\n",
              "    <path d=\"M0 0h24v24H0V0z\" fill=\"none\"/>\n",
              "    <path d=\"M18.56 5.44l.94 2.06.94-2.06 2.06-.94-2.06-.94-.94-2.06-.94 2.06-2.06.94zm-11 1L8.5 8.5l.94-2.06 2.06-.94-2.06-.94L8.5 2.5l-.94 2.06-2.06.94zm10 10l.94 2.06.94-2.06 2.06-.94-2.06-.94-.94-2.06-.94 2.06-2.06.94z\"/><path d=\"M17.41 7.96l-1.37-1.37c-.4-.4-.92-.59-1.43-.59-.52 0-1.04.2-1.43.59L10.3 9.45l-7.72 7.72c-.78.78-.78 2.05 0 2.83L4 21.41c.39.39.9.59 1.41.59.51 0 1.02-.2 1.41-.59l7.78-7.78 2.81-2.81c.8-.78.8-2.07 0-2.86zM5.41 20L4 18.59l7.72-7.72 1.47 1.35L5.41 20z\"/>\n",
              "  </svg>\n",
              "      </button>\n",
              "      \n",
              "  <style>\n",
              "    .colab-df-container {\n",
              "      display:flex;\n",
              "      flex-wrap:wrap;\n",
              "      gap: 12px;\n",
              "    }\n",
              "\n",
              "    .colab-df-convert {\n",
              "      background-color: #E8F0FE;\n",
              "      border: none;\n",
              "      border-radius: 50%;\n",
              "      cursor: pointer;\n",
              "      display: none;\n",
              "      fill: #1967D2;\n",
              "      height: 32px;\n",
              "      padding: 0 0 0 0;\n",
              "      width: 32px;\n",
              "    }\n",
              "\n",
              "    .colab-df-convert:hover {\n",
              "      background-color: #E2EBFA;\n",
              "      box-shadow: 0px 1px 2px rgba(60, 64, 67, 0.3), 0px 1px 3px 1px rgba(60, 64, 67, 0.15);\n",
              "      fill: #174EA6;\n",
              "    }\n",
              "\n",
              "    [theme=dark] .colab-df-convert {\n",
              "      background-color: #3B4455;\n",
              "      fill: #D2E3FC;\n",
              "    }\n",
              "\n",
              "    [theme=dark] .colab-df-convert:hover {\n",
              "      background-color: #434B5C;\n",
              "      box-shadow: 0px 1px 3px 1px rgba(0, 0, 0, 0.15);\n",
              "      filter: drop-shadow(0px 1px 2px rgba(0, 0, 0, 0.3));\n",
              "      fill: #FFFFFF;\n",
              "    }\n",
              "  </style>\n",
              "\n",
              "      <script>\n",
              "        const buttonEl =\n",
              "          document.querySelector('#df-d0698a1a-fb69-4413-83ab-4c0b669ee573 button.colab-df-convert');\n",
              "        buttonEl.style.display =\n",
              "          google.colab.kernel.accessAllowed ? 'block' : 'none';\n",
              "\n",
              "        async function convertToInteractive(key) {\n",
              "          const element = document.querySelector('#df-d0698a1a-fb69-4413-83ab-4c0b669ee573');\n",
              "          const dataTable =\n",
              "            await google.colab.kernel.invokeFunction('convertToInteractive',\n",
              "                                                     [key], {});\n",
              "          if (!dataTable) return;\n",
              "\n",
              "          const docLinkHtml = 'Like what you see? Visit the ' +\n",
              "            '<a target=\"_blank\" href=https://colab.research.google.com/notebooks/data_table.ipynb>data table notebook</a>'\n",
              "            + ' to learn more about interactive tables.';\n",
              "          element.innerHTML = '';\n",
              "          dataTable['output_type'] = 'display_data';\n",
              "          await google.colab.output.renderOutput(dataTable, element);\n",
              "          const docLink = document.createElement('div');\n",
              "          docLink.innerHTML = docLinkHtml;\n",
              "          element.appendChild(docLink);\n",
              "        }\n",
              "      </script>\n",
              "    </div>\n",
              "  </div>\n",
              "  "
            ]
          },
          "metadata": {},
          "execution_count": 123
        }
      ]
    },
    {
      "cell_type": "code",
      "source": [
        "df1.info()"
      ],
      "metadata": {
        "colab": {
          "base_uri": "https://localhost:8080/"
        },
        "id": "XQdITOdz8FS2",
        "outputId": "baf8712e-f2f6-4129-8de9-6371138bada4"
      },
      "execution_count": null,
      "outputs": [
        {
          "output_type": "stream",
          "name": "stdout",
          "text": [
            "<class 'pandas.core.frame.DataFrame'>\n",
            "RangeIndex: 381109 entries, 0 to 381108\n",
            "Data columns (total 12 columns):\n",
            " #   Column                Non-Null Count   Dtype  \n",
            "---  ------                --------------   -----  \n",
            " 0   id                    381109 non-null  int64  \n",
            " 1   gender                381109 non-null  object \n",
            " 2   age                   381109 non-null  int64  \n",
            " 3   driving_license       381109 non-null  int64  \n",
            " 4   region_code           381109 non-null  float64\n",
            " 5   previously_insured    381109 non-null  int64  \n",
            " 6   vehicle_age           381109 non-null  object \n",
            " 7   vehicle_damage        381109 non-null  object \n",
            " 8   annual_premium        381109 non-null  float64\n",
            " 9   policy_sales_channel  381109 non-null  float64\n",
            " 10  vintage               381109 non-null  int64  \n",
            " 11  response              381109 non-null  int64  \n",
            "dtypes: float64(3), int64(6), object(3)\n",
            "memory usage: 34.9+ MB\n"
          ]
        }
      ]
    },
    {
      "cell_type": "code",
      "source": [
        "\n",
        "\n",
        "aux1 = df1['gender']\n",
        "aux2 = df1['vehicle_damage']\n",
        "aux3 = df1['vehicle_age']\n",
        "aux4 = df1['policy_sales_channel']\n",
        "\n",
        "list = [aux1 , aux2 , aux3, aux4 ]\n",
        "\n",
        "for i in list:\n",
        "    df1_counts = i.value_counts(normalize=True)\n",
        "    display(df1_counts)\n",
        "\n",
        "\n"
      ],
      "metadata": {
        "colab": {
          "base_uri": "https://localhost:8080/",
          "height": 386
        },
        "id": "kVLCfnC38FYK",
        "outputId": "63587527-be89-4ccb-f6be-b4513c0e9bbc"
      },
      "execution_count": null,
      "outputs": [
        {
          "output_type": "display_data",
          "data": {
            "text/plain": [
              "Male      0.540761\n",
              "Female    0.459239\n",
              "Name: gender, dtype: float64"
            ]
          },
          "metadata": {}
        },
        {
          "output_type": "display_data",
          "data": {
            "text/plain": [
              "Yes    0.504877\n",
              "No     0.495123\n",
              "Name: vehicle_damage, dtype: float64"
            ]
          },
          "metadata": {}
        },
        {
          "output_type": "display_data",
          "data": {
            "text/plain": [
              "1-2 Year     0.525613\n",
              "< 1 Year     0.432385\n",
              "> 2 Years    0.042001\n",
              "Name: vehicle_age, dtype: float64"
            ]
          },
          "metadata": {}
        },
        {
          "output_type": "display_data",
          "data": {
            "text/plain": [
              "152.0    0.353663\n",
              "26.0     0.209127\n",
              "124.0    0.194157\n",
              "160.0    0.057146\n",
              "156.0    0.027974\n",
              "           ...   \n",
              "149.0    0.000003\n",
              "43.0     0.000003\n",
              "144.0    0.000003\n",
              "143.0    0.000003\n",
              "41.0     0.000003\n",
              "Name: policy_sales_channel, Length: 155, dtype: float64"
            ]
          },
          "metadata": {}
        }
      ]
    },
    {
      "cell_type": "markdown",
      "source": [
        "### 1.1 Check NA / Duplicates"
      ],
      "metadata": {
        "id": "cYGI8J25z3eu"
      }
    },
    {
      "cell_type": "code",
      "source": [
        "df1.isna().sum()"
      ],
      "metadata": {
        "id": "Ol3FthA58FaY",
        "colab": {
          "base_uri": "https://localhost:8080/"
        },
        "outputId": "25290849-5b72-499b-e45b-74bf472c633b"
      },
      "execution_count": null,
      "outputs": [
        {
          "output_type": "execute_result",
          "data": {
            "text/plain": [
              "id                      0\n",
              "gender                  0\n",
              "age                     0\n",
              "driving_license         0\n",
              "region_code             0\n",
              "previously_insured      0\n",
              "vehicle_age             0\n",
              "vehicle_damage          0\n",
              "annual_premium          0\n",
              "policy_sales_channel    0\n",
              "vintage                 0\n",
              "response                0\n",
              "dtype: int64"
            ]
          },
          "metadata": {},
          "execution_count": 126
        }
      ]
    },
    {
      "cell_type": "code",
      "source": [
        "print(f\"df has {df1.duplicated().sum()} duplicated data\")"
      ],
      "metadata": {
        "colab": {
          "base_uri": "https://localhost:8080/"
        },
        "id": "ibRoMlwSnT96",
        "outputId": "968a18c8-07e3-4616-ee46-e82a21b4f81e"
      },
      "execution_count": null,
      "outputs": [
        {
          "output_type": "stream",
          "name": "stdout",
          "text": [
            "df has 0 duplicated data\n"
          ]
        }
      ]
    },
    {
      "cell_type": "markdown",
      "source": [
        "### 1.2 Informações colhidas com descrição\n",
        "\n",
        "1. Não há dados faltantes\n",
        "2. Age tem dados como float\n",
        "3. Não há variáveis textos\n",
        "4. Encodar gender para 0 e 1\n",
        "5. Encodar Vehicle_Age e Vehicle_Damage"
      ],
      "metadata": {
        "id": "VHAbekGWz97a"
      }
    },
    {
      "cell_type": "markdown",
      "source": [
        "## 2.0 Feature Engineering"
      ],
      "metadata": {
        "id": "pxW5fDnd7Am1"
      }
    },
    {
      "cell_type": "code",
      "source": [
        "df2 = df1.copy()\n",
        "\n",
        "# Vehicle Damage Number\n",
        "df2['vehicle_damage'] = df2['vehicle_damage'].apply( lambda x: 1 if x == 'Yes' else 0 )\n",
        "\n",
        "# Vehicle Age\n",
        "df2['vehicle_age'] =  df2['vehicle_age'].apply( lambda x: 'over_2_years' if x == '> 2 Years' else 'between_1_2_year' if x == '1-2 Year' else 'below_1_Year' )"
      ],
      "metadata": {
        "id": "JBBhkm8L7Ds1"
      },
      "execution_count": null,
      "outputs": []
    },
    {
      "cell_type": "markdown",
      "source": [
        "##3.0 EDA (Exploratory Data Analysis) "
      ],
      "metadata": {
        "id": "-iyvBWcF6fde"
      }
    },
    {
      "cell_type": "code",
      "source": [
        "df3 = df2.copy()\n",
        "num_attributes = df3.select_dtypes( include=['int64', 'float64'] )\n",
        "cat_attributes = df3.select_dtypes( exclude=['int64', 'float64', 'datetime64[ns]'])"
      ],
      "metadata": {
        "id": "7OMTxTnX8PVy"
      },
      "execution_count": null,
      "outputs": []
    },
    {
      "cell_type": "code",
      "source": [
        "# Central Tendency - Mean, Median\n",
        "ct1 = pd.DataFrame( num_attributes.apply( np.mean ) ).T\n",
        "ct2 = pd.DataFrame( num_attributes.apply( np.median ) ).T\n",
        "\n",
        "# dispersion - std, min, max, range, skew, kurtosis\n",
        "d1 = pd.DataFrame( num_attributes.apply( np.std ) ).T \n",
        "d2 = pd.DataFrame( num_attributes.apply( min ) ).T \n",
        "d3 = pd.DataFrame( num_attributes.apply( max ) ).T \n",
        "d4 = pd.DataFrame( num_attributes.apply( lambda x: x.max() - x.min() ) ).T \n",
        "d5 = pd.DataFrame( num_attributes.apply( lambda x: x.skew() ) ).T \n",
        "d6 = pd.DataFrame( num_attributes.apply( lambda x: x.kurtosis() ) ).T \n",
        "\n",
        "# concatenar\n",
        "m = pd.concat( [d2, d3, d4, ct1, ct2, d1, d5, d6] ).T.reset_index()\n",
        "m.columns = ['attributes', 'min', 'max', 'range', 'mean', 'median', 'std', 'skew', 'kurtosis']\n",
        "m"
      ],
      "metadata": {
        "colab": {
          "base_uri": "https://localhost:8080/"
        },
        "id": "XJOQVDjR8PZa",
        "outputId": "18ae0d89-30cd-432d-b3eb-974d09eb2619"
      },
      "execution_count": null,
      "outputs": [
        {
          "output_type": "execute_result",
          "data": {
            "text/plain": [
              "             attributes     min       max     range           mean    median  \\\n",
              "0                    id     1.0  381109.0  381108.0  190555.000000  190555.0   \n",
              "1                   age    20.0      85.0      65.0      38.822584      36.0   \n",
              "2       driving_license     0.0       1.0       1.0       0.997869       1.0   \n",
              "3           region_code     0.0      52.0      52.0      26.388807      28.0   \n",
              "4    previously_insured     0.0       1.0       1.0       0.458210       0.0   \n",
              "5        vehicle_damage     0.0       1.0       1.0       0.504877       1.0   \n",
              "6        annual_premium  2630.0  540165.0  537535.0   30564.389581   31669.0   \n",
              "7  policy_sales_channel     1.0     163.0     162.0     112.034295     133.0   \n",
              "8               vintage    10.0     299.0     289.0     154.347397     154.0   \n",
              "9              response     0.0       1.0       1.0       0.122563       0.0   \n",
              "\n",
              "             std          skew    kurtosis  \n",
              "0  110016.691870  9.443274e-16   -1.200000  \n",
              "1      15.511591  6.725390e-01   -0.565655  \n",
              "2       0.046109 -2.159518e+01  464.354302  \n",
              "3      13.229871 -1.152664e-01   -0.867857  \n",
              "4       0.498251  1.677471e-01   -1.971871  \n",
              "5       0.499976 -1.950724e-02   -1.999630  \n",
              "6   17213.132474  1.766087e+00   34.004569  \n",
              "7      54.203924 -9.000081e-01   -0.970810  \n",
              "8      83.671194  3.029517e-03   -1.200688  \n",
              "9       0.327935  2.301906e+00    3.298788  "
            ],
            "text/html": [
              "\n",
              "  <div id=\"df-29742c8e-9a3c-4095-b414-447092b82677\">\n",
              "    <div class=\"colab-df-container\">\n",
              "      <div>\n",
              "<style scoped>\n",
              "    .dataframe tbody tr th:only-of-type {\n",
              "        vertical-align: middle;\n",
              "    }\n",
              "\n",
              "    .dataframe tbody tr th {\n",
              "        vertical-align: top;\n",
              "    }\n",
              "\n",
              "    .dataframe thead th {\n",
              "        text-align: right;\n",
              "    }\n",
              "</style>\n",
              "<table border=\"1\" class=\"dataframe\">\n",
              "  <thead>\n",
              "    <tr style=\"text-align: right;\">\n",
              "      <th></th>\n",
              "      <th>attributes</th>\n",
              "      <th>min</th>\n",
              "      <th>max</th>\n",
              "      <th>range</th>\n",
              "      <th>mean</th>\n",
              "      <th>median</th>\n",
              "      <th>std</th>\n",
              "      <th>skew</th>\n",
              "      <th>kurtosis</th>\n",
              "    </tr>\n",
              "  </thead>\n",
              "  <tbody>\n",
              "    <tr>\n",
              "      <th>0</th>\n",
              "      <td>id</td>\n",
              "      <td>1.0</td>\n",
              "      <td>381109.0</td>\n",
              "      <td>381108.0</td>\n",
              "      <td>190555.000000</td>\n",
              "      <td>190555.0</td>\n",
              "      <td>110016.691870</td>\n",
              "      <td>9.443274e-16</td>\n",
              "      <td>-1.200000</td>\n",
              "    </tr>\n",
              "    <tr>\n",
              "      <th>1</th>\n",
              "      <td>age</td>\n",
              "      <td>20.0</td>\n",
              "      <td>85.0</td>\n",
              "      <td>65.0</td>\n",
              "      <td>38.822584</td>\n",
              "      <td>36.0</td>\n",
              "      <td>15.511591</td>\n",
              "      <td>6.725390e-01</td>\n",
              "      <td>-0.565655</td>\n",
              "    </tr>\n",
              "    <tr>\n",
              "      <th>2</th>\n",
              "      <td>driving_license</td>\n",
              "      <td>0.0</td>\n",
              "      <td>1.0</td>\n",
              "      <td>1.0</td>\n",
              "      <td>0.997869</td>\n",
              "      <td>1.0</td>\n",
              "      <td>0.046109</td>\n",
              "      <td>-2.159518e+01</td>\n",
              "      <td>464.354302</td>\n",
              "    </tr>\n",
              "    <tr>\n",
              "      <th>3</th>\n",
              "      <td>region_code</td>\n",
              "      <td>0.0</td>\n",
              "      <td>52.0</td>\n",
              "      <td>52.0</td>\n",
              "      <td>26.388807</td>\n",
              "      <td>28.0</td>\n",
              "      <td>13.229871</td>\n",
              "      <td>-1.152664e-01</td>\n",
              "      <td>-0.867857</td>\n",
              "    </tr>\n",
              "    <tr>\n",
              "      <th>4</th>\n",
              "      <td>previously_insured</td>\n",
              "      <td>0.0</td>\n",
              "      <td>1.0</td>\n",
              "      <td>1.0</td>\n",
              "      <td>0.458210</td>\n",
              "      <td>0.0</td>\n",
              "      <td>0.498251</td>\n",
              "      <td>1.677471e-01</td>\n",
              "      <td>-1.971871</td>\n",
              "    </tr>\n",
              "    <tr>\n",
              "      <th>5</th>\n",
              "      <td>vehicle_damage</td>\n",
              "      <td>0.0</td>\n",
              "      <td>1.0</td>\n",
              "      <td>1.0</td>\n",
              "      <td>0.504877</td>\n",
              "      <td>1.0</td>\n",
              "      <td>0.499976</td>\n",
              "      <td>-1.950724e-02</td>\n",
              "      <td>-1.999630</td>\n",
              "    </tr>\n",
              "    <tr>\n",
              "      <th>6</th>\n",
              "      <td>annual_premium</td>\n",
              "      <td>2630.0</td>\n",
              "      <td>540165.0</td>\n",
              "      <td>537535.0</td>\n",
              "      <td>30564.389581</td>\n",
              "      <td>31669.0</td>\n",
              "      <td>17213.132474</td>\n",
              "      <td>1.766087e+00</td>\n",
              "      <td>34.004569</td>\n",
              "    </tr>\n",
              "    <tr>\n",
              "      <th>7</th>\n",
              "      <td>policy_sales_channel</td>\n",
              "      <td>1.0</td>\n",
              "      <td>163.0</td>\n",
              "      <td>162.0</td>\n",
              "      <td>112.034295</td>\n",
              "      <td>133.0</td>\n",
              "      <td>54.203924</td>\n",
              "      <td>-9.000081e-01</td>\n",
              "      <td>-0.970810</td>\n",
              "    </tr>\n",
              "    <tr>\n",
              "      <th>8</th>\n",
              "      <td>vintage</td>\n",
              "      <td>10.0</td>\n",
              "      <td>299.0</td>\n",
              "      <td>289.0</td>\n",
              "      <td>154.347397</td>\n",
              "      <td>154.0</td>\n",
              "      <td>83.671194</td>\n",
              "      <td>3.029517e-03</td>\n",
              "      <td>-1.200688</td>\n",
              "    </tr>\n",
              "    <tr>\n",
              "      <th>9</th>\n",
              "      <td>response</td>\n",
              "      <td>0.0</td>\n",
              "      <td>1.0</td>\n",
              "      <td>1.0</td>\n",
              "      <td>0.122563</td>\n",
              "      <td>0.0</td>\n",
              "      <td>0.327935</td>\n",
              "      <td>2.301906e+00</td>\n",
              "      <td>3.298788</td>\n",
              "    </tr>\n",
              "  </tbody>\n",
              "</table>\n",
              "</div>\n",
              "      <button class=\"colab-df-convert\" onclick=\"convertToInteractive('df-29742c8e-9a3c-4095-b414-447092b82677')\"\n",
              "              title=\"Convert this dataframe to an interactive table.\"\n",
              "              style=\"display:none;\">\n",
              "        \n",
              "  <svg xmlns=\"http://www.w3.org/2000/svg\" height=\"24px\"viewBox=\"0 0 24 24\"\n",
              "       width=\"24px\">\n",
              "    <path d=\"M0 0h24v24H0V0z\" fill=\"none\"/>\n",
              "    <path d=\"M18.56 5.44l.94 2.06.94-2.06 2.06-.94-2.06-.94-.94-2.06-.94 2.06-2.06.94zm-11 1L8.5 8.5l.94-2.06 2.06-.94-2.06-.94L8.5 2.5l-.94 2.06-2.06.94zm10 10l.94 2.06.94-2.06 2.06-.94-2.06-.94-.94-2.06-.94 2.06-2.06.94z\"/><path d=\"M17.41 7.96l-1.37-1.37c-.4-.4-.92-.59-1.43-.59-.52 0-1.04.2-1.43.59L10.3 9.45l-7.72 7.72c-.78.78-.78 2.05 0 2.83L4 21.41c.39.39.9.59 1.41.59.51 0 1.02-.2 1.41-.59l7.78-7.78 2.81-2.81c.8-.78.8-2.07 0-2.86zM5.41 20L4 18.59l7.72-7.72 1.47 1.35L5.41 20z\"/>\n",
              "  </svg>\n",
              "      </button>\n",
              "      \n",
              "  <style>\n",
              "    .colab-df-container {\n",
              "      display:flex;\n",
              "      flex-wrap:wrap;\n",
              "      gap: 12px;\n",
              "    }\n",
              "\n",
              "    .colab-df-convert {\n",
              "      background-color: #E8F0FE;\n",
              "      border: none;\n",
              "      border-radius: 50%;\n",
              "      cursor: pointer;\n",
              "      display: none;\n",
              "      fill: #1967D2;\n",
              "      height: 32px;\n",
              "      padding: 0 0 0 0;\n",
              "      width: 32px;\n",
              "    }\n",
              "\n",
              "    .colab-df-convert:hover {\n",
              "      background-color: #E2EBFA;\n",
              "      box-shadow: 0px 1px 2px rgba(60, 64, 67, 0.3), 0px 1px 3px 1px rgba(60, 64, 67, 0.15);\n",
              "      fill: #174EA6;\n",
              "    }\n",
              "\n",
              "    [theme=dark] .colab-df-convert {\n",
              "      background-color: #3B4455;\n",
              "      fill: #D2E3FC;\n",
              "    }\n",
              "\n",
              "    [theme=dark] .colab-df-convert:hover {\n",
              "      background-color: #434B5C;\n",
              "      box-shadow: 0px 1px 3px 1px rgba(0, 0, 0, 0.15);\n",
              "      filter: drop-shadow(0px 1px 2px rgba(0, 0, 0, 0.3));\n",
              "      fill: #FFFFFF;\n",
              "    }\n",
              "  </style>\n",
              "\n",
              "      <script>\n",
              "        const buttonEl =\n",
              "          document.querySelector('#df-29742c8e-9a3c-4095-b414-447092b82677 button.colab-df-convert');\n",
              "        buttonEl.style.display =\n",
              "          google.colab.kernel.accessAllowed ? 'block' : 'none';\n",
              "\n",
              "        async function convertToInteractive(key) {\n",
              "          const element = document.querySelector('#df-29742c8e-9a3c-4095-b414-447092b82677');\n",
              "          const dataTable =\n",
              "            await google.colab.kernel.invokeFunction('convertToInteractive',\n",
              "                                                     [key], {});\n",
              "          if (!dataTable) return;\n",
              "\n",
              "          const docLinkHtml = 'Like what you see? Visit the ' +\n",
              "            '<a target=\"_blank\" href=https://colab.research.google.com/notebooks/data_table.ipynb>data table notebook</a>'\n",
              "            + ' to learn more about interactive tables.';\n",
              "          element.innerHTML = '';\n",
              "          dataTable['output_type'] = 'display_data';\n",
              "          await google.colab.output.renderOutput(dataTable, element);\n",
              "          const docLink = document.createElement('div');\n",
              "          docLink.innerHTML = docLinkHtml;\n",
              "          element.appendChild(docLink);\n",
              "        }\n",
              "      </script>\n",
              "    </div>\n",
              "  </div>\n",
              "  "
            ]
          },
          "metadata": {},
          "execution_count": 130
        }
      ]
    },
    {
      "cell_type": "code",
      "source": [
        "#num_var = [\"age\", \"annual_premium\", \"vintage\"]\n",
        "#cat_var = [\"gender\", \"region_code\", \"previously_insured\", \"vehicle_age\", \"vehicle_damage\",\"policy_sales_channel\" ]\n",
        "#target = \"response\""
      ],
      "metadata": {
        "id": "yjCjjPKI6fkO"
      },
      "execution_count": null,
      "outputs": []
    },
    {
      "cell_type": "markdown",
      "source": [
        "### 3.1 Univariate Analysis"
      ],
      "metadata": {
        "id": "-JmCgPdq9_sv"
      }
    },
    {
      "cell_type": "markdown",
      "source": [
        "#### 3.1.1 Age"
      ],
      "metadata": {
        "id": "DJndbs48-Ebr"
      }
    },
    {
      "cell_type": "code",
      "source": [
        "sns.boxplot( x='response', y='age', data=df3 )\n"
      ],
      "metadata": {
        "colab": {
          "base_uri": "https://localhost:8080/"
        },
        "id": "W7oU9HBv-_Fy",
        "outputId": "69a69d3a-088e-4f9e-b7aa-b484e873b177"
      },
      "execution_count": null,
      "outputs": [
        {
          "output_type": "execute_result",
          "data": {
            "text/plain": [
              "<matplotlib.axes._subplots.AxesSubplot at 0x7f095b030be0>"
            ]
          },
          "metadata": {},
          "execution_count": 132
        },
        {
          "output_type": "display_data",
          "data": {
            "text/plain": [
              "<Figure size 432x288 with 1 Axes>"
            ],
            "image/png": "[encoded data removed]"
          },
          "metadata": {
            "needs_background": "light"
          }
        }
      ]
    },
    {
      "cell_type": "code",
      "source": [
        "aux00 = df3.loc[df3['response'] == 0, 'age']\n",
        "sns.histplot( aux00 )"
      ],
      "metadata": {
        "colab": {
          "base_uri": "https://localhost:8080/"
        },
        "id": "ZSgMDxUG_UI2",
        "outputId": "91cb51d1-7dcd-48ec-f20c-1f4bc58f2061"
      },
      "execution_count": null,
      "outputs": [
        {
          "output_type": "execute_result",
          "data": {
            "text/plain": [
              "<matplotlib.axes._subplots.AxesSubplot at 0x7f09402111c0>"
            ]
          },
          "metadata": {},
          "execution_count": 133
        },
        {
          "output_type": "display_data",
          "data": {
            "text/plain": [
              "<Figure size 432x288 with 1 Axes>"
            ],
            "image/png": "[encoded data removed]"
          },
          "metadata": {
            "needs_background": "light"
          }
        }
      ]
    },
    {
      "cell_type": "code",
      "source": [
        "aux00 = df3.loc[df3['response'] == 1, 'age']\n",
        "sns.histplot( aux00 )"
      ],
      "metadata": {
        "colab": {
          "base_uri": "https://localhost:8080/"
        },
        "id": "X7i5xFTA_fHb",
        "outputId": "8740f933-2b1b-43b6-f95d-8370ce2d4bff"
      },
      "execution_count": null,
      "outputs": [
        {
          "output_type": "execute_result",
          "data": {
            "text/plain": [
              "<matplotlib.axes._subplots.AxesSubplot at 0x7f0958261610>"
            ]
          },
          "metadata": {},
          "execution_count": 134
        },
        {
          "output_type": "display_data",
          "data": {
            "text/plain": [
              "<Figure size 432x288 with 1 Axes>"
            ],
            "image/png": "[encoded data removed]"
          },
          "metadata": {
            "needs_background": "light"
          }
        }
      ]
    },
    {
      "cell_type": "markdown",
      "source": [
        "#### 3.1.2 Anual Income"
      ],
      "metadata": {
        "id": "L0-FMYgV-IFL"
      }
    },
    {
      "cell_type": "code",
      "source": [
        "sns.boxplot( x='response', y='annual_premium', data=df3 )"
      ],
      "metadata": {
        "colab": {
          "base_uri": "https://localhost:8080/"
        },
        "id": "15xF6W5I_lHf",
        "outputId": "902e2606-1428-49d1-c47c-3e9bced7b028"
      },
      "execution_count": null,
      "outputs": [
        {
          "output_type": "execute_result",
          "data": {
            "text/plain": [
              "<matplotlib.axes._subplots.AxesSubplot at 0x7f095804e280>"
            ]
          },
          "metadata": {},
          "execution_count": 135
        },
        {
          "output_type": "display_data",
          "data": {
            "text/plain": [
              "<Figure size 432x288 with 1 Axes>"
            ],
            "image/png": "[encoded data removed]"
          },
          "metadata": {
            "needs_background": "light"
          }
        }
      ]
    },
    {
      "cell_type": "code",
      "source": [
        "df3 = df3[(df3['annual_premium'] > 10000) & (df3['annual_premium'] < 100000)]"
      ],
      "metadata": {
        "id": "x-8f1sYy_lJ8"
      },
      "execution_count": null,
      "outputs": []
    },
    {
      "cell_type": "code",
      "source": [
        "aux00 = df3.loc[df3['response'] == 0, 'annual_premium']\n",
        "sns.histplot( aux00 )"
      ],
      "metadata": {
        "colab": {
          "base_uri": "https://localhost:8080/"
        },
        "id": "YM8PO0oS_lMZ",
        "outputId": "4fa5dc0d-0e9c-4148-f98f-d0b172f652a1"
      },
      "execution_count": null,
      "outputs": [
        {
          "output_type": "execute_result",
          "data": {
            "text/plain": [
              "<matplotlib.axes._subplots.AxesSubplot at 0x7f0958015d60>"
            ]
          },
          "metadata": {},
          "execution_count": 137
        },
        {
          "output_type": "display_data",
          "data": {
            "text/plain": [
              "<Figure size 432x288 with 1 Axes>"
            ],
            "image/png": "[encoded data removed]"
          },
          "metadata": {
            "needs_background": "light"
          }
        }
      ]
    },
    {
      "cell_type": "code",
      "source": [
        "aux00 = df3.loc[df3['response'] == 1, 'annual_premium']\n",
        "sns.histplot( aux00 )"
      ],
      "metadata": {
        "colab": {
          "base_uri": "https://localhost:8080/"
        },
        "id": "Zyf0Mo2PAH87",
        "outputId": "d1df9af0-032a-467b-ec02-0d751e3f6dcb"
      },
      "execution_count": null,
      "outputs": [
        {
          "output_type": "execute_result",
          "data": {
            "text/plain": [
              "<matplotlib.axes._subplots.AxesSubplot at 0x7f0957dc3c40>"
            ]
          },
          "metadata": {},
          "execution_count": 138
        },
        {
          "output_type": "display_data",
          "data": {
            "text/plain": [
              "<Figure size 432x288 with 1 Axes>"
            ],
            "image/png": "[encoded data removed]"
          },
          "metadata": {
            "needs_background": "light"
          }
        }
      ]
    },
    {
      "cell_type": "code",
      "source": [
        "sns.boxplot( x='response', y='annual_premium', data=df3 )"
      ],
      "metadata": {
        "colab": {
          "base_uri": "https://localhost:8080/"
        },
        "id": "0g7PAeNuAXps",
        "outputId": "f3da8f95-9d5b-45b4-9881-1223d79395c6"
      },
      "execution_count": null,
      "outputs": [
        {
          "output_type": "execute_result",
          "data": {
            "text/plain": [
              "<matplotlib.axes._subplots.AxesSubplot at 0x7f0957c0aca0>"
            ]
          },
          "metadata": {},
          "execution_count": 139
        },
        {
          "output_type": "display_data",
          "data": {
            "text/plain": [
              "<Figure size 432x288 with 1 Axes>"
            ],
            "image/png": "[encoded data removed]"
          },
          "metadata": {
            "needs_background": "light"
          }
        }
      ]
    },
    {
      "cell_type": "markdown",
      "source": [
        "#### 3.1.3 Driving License"
      ],
      "metadata": {
        "id": "YWI1IiF0-IHi"
      }
    },
    {
      "cell_type": "code",
      "source": [
        "aux = df3[['driving_license', 'response']].groupby( 'response' ).sum().reset_index()\n",
        "sns.barplot( x='response', y='driving_license', data=aux )"
      ],
      "metadata": {
        "colab": {
          "base_uri": "https://localhost:8080/"
        },
        "id": "wM8ku1CVAhC7",
        "outputId": "e3d61ae8-ae54-4c50-944d-f1989aecbc63"
      },
      "execution_count": null,
      "outputs": [
        {
          "output_type": "execute_result",
          "data": {
            "text/plain": [
              "<matplotlib.axes._subplots.AxesSubplot at 0x7f0958158d30>"
            ]
          },
          "metadata": {},
          "execution_count": 140
        },
        {
          "output_type": "display_data",
          "data": {
            "text/plain": [
              "<Figure size 432x288 with 1 Axes>"
            ],
            "image/png": "[encoded data removed]"
          },
          "metadata": {
            "needs_background": "light"
          }
        }
      ]
    },
    {
      "cell_type": "markdown",
      "source": [
        "#### 3.1.4 Region Code"
      ],
      "metadata": {
        "id": "LYnbIH3_-IKD"
      }
    },
    {
      "cell_type": "code",
      "source": [
        "aux0 = df3[['id', 'region_code', 'response']].groupby( ['region_code', 'response'] ).count().reset_index()\n",
        "#aux0 = aux0[(aux0['id'] > 1000) & (aux0['id'] < 20000)]\n",
        "\n",
        "sns.scatterplot( x='region_code', y='id', hue='response', data=aux0 )"
      ],
      "metadata": {
        "colab": {
          "base_uri": "https://localhost:8080/"
        },
        "id": "ljuYfifKAjmm",
        "outputId": "7b061686-a8b8-4bd0-92c5-d0aa6b508fca"
      },
      "execution_count": null,
      "outputs": [
        {
          "output_type": "execute_result",
          "data": {
            "text/plain": [
              "<matplotlib.axes._subplots.AxesSubplot at 0x7f0957b34ca0>"
            ]
          },
          "metadata": {},
          "execution_count": 141
        },
        {
          "output_type": "display_data",
          "data": {
            "text/plain": [
              "<Figure size 432x288 with 1 Axes>"
            ],
            "image/png": "[encoded data removed]"
          },
          "metadata": {
            "needs_background": "light"
          }
        }
      ]
    },
    {
      "cell_type": "markdown",
      "source": [
        "#### 3.1.5 Previously Insured"
      ],
      "metadata": {
        "id": "wSHWLvv2-IM6"
      }
    },
    {
      "cell_type": "code",
      "source": [
        "pd.crosstab(df3['previously_insured'], df3['response'] ).apply( lambda x: x / x.sum(), axis=1 )\n"
      ],
      "metadata": {
        "colab": {
          "base_uri": "https://localhost:8080/"
        },
        "id": "QqS4mswoAnjv",
        "outputId": "d6b4660e-133c-41b8-a86b-90bd113ef275"
      },
      "execution_count": null,
      "outputs": [
        {
          "output_type": "execute_result",
          "data": {
            "text/plain": [
              "response                   0         1\n",
              "previously_insured                    \n",
              "0                   0.769438  0.230562\n",
              "1                   0.999191  0.000809"
            ],
            "text/html": [
              "\n",
              "  <div id=\"df-adf2423d-6a47-4f5b-bc64-48087de404b4\">\n",
              "    <div class=\"colab-df-container\">\n",
              "      <div>\n",
              "<style scoped>\n",
              "    .dataframe tbody tr th:only-of-type {\n",
              "        vertical-align: middle;\n",
              "    }\n",
              "\n",
              "    .dataframe tbody tr th {\n",
              "        vertical-align: top;\n",
              "    }\n",
              "\n",
              "    .dataframe thead th {\n",
              "        text-align: right;\n",
              "    }\n",
              "</style>\n",
              "<table border=\"1\" class=\"dataframe\">\n",
              "  <thead>\n",
              "    <tr style=\"text-align: right;\">\n",
              "      <th>response</th>\n",
              "      <th>0</th>\n",
              "      <th>1</th>\n",
              "    </tr>\n",
              "    <tr>\n",
              "      <th>previously_insured</th>\n",
              "      <th></th>\n",
              "      <th></th>\n",
              "    </tr>\n",
              "  </thead>\n",
              "  <tbody>\n",
              "    <tr>\n",
              "      <th>0</th>\n",
              "      <td>0.769438</td>\n",
              "      <td>0.230562</td>\n",
              "    </tr>\n",
              "    <tr>\n",
              "      <th>1</th>\n",
              "      <td>0.999191</td>\n",
              "      <td>0.000809</td>\n",
              "    </tr>\n",
              "  </tbody>\n",
              "</table>\n",
              "</div>\n",
              "      <button class=\"colab-df-convert\" onclick=\"convertToInteractive('df-adf2423d-6a47-4f5b-bc64-48087de404b4')\"\n",
              "              title=\"Convert this dataframe to an interactive table.\"\n",
              "              style=\"display:none;\">\n",
              "        \n",
              "  <svg xmlns=\"http://www.w3.org/2000/svg\" height=\"24px\"viewBox=\"0 0 24 24\"\n",
              "       width=\"24px\">\n",
              "    <path d=\"M0 0h24v24H0V0z\" fill=\"none\"/>\n",
              "    <path d=\"M18.56 5.44l.94 2.06.94-2.06 2.06-.94-2.06-.94-.94-2.06-.94 2.06-2.06.94zm-11 1L8.5 8.5l.94-2.06 2.06-.94-2.06-.94L8.5 2.5l-.94 2.06-2.06.94zm10 10l.94 2.06.94-2.06 2.06-.94-2.06-.94-.94-2.06-.94 2.06-2.06.94z\"/><path d=\"M17.41 7.96l-1.37-1.37c-.4-.4-.92-.59-1.43-.59-.52 0-1.04.2-1.43.59L10.3 9.45l-7.72 7.72c-.78.78-.78 2.05 0 2.83L4 21.41c.39.39.9.59 1.41.59.51 0 1.02-.2 1.41-.59l7.78-7.78 2.81-2.81c.8-.78.8-2.07 0-2.86zM5.41 20L4 18.59l7.72-7.72 1.47 1.35L5.41 20z\"/>\n",
              "  </svg>\n",
              "      </button>\n",
              "      \n",
              "  <style>\n",
              "    .colab-df-container {\n",
              "      display:flex;\n",
              "      flex-wrap:wrap;\n",
              "      gap: 12px;\n",
              "    }\n",
              "\n",
              "    .colab-df-convert {\n",
              "      background-color: #E8F0FE;\n",
              "      border: none;\n",
              "      border-radius: 50%;\n",
              "      cursor: pointer;\n",
              "      display: none;\n",
              "      fill: #1967D2;\n",
              "      height: 32px;\n",
              "      padding: 0 0 0 0;\n",
              "      width: 32px;\n",
              "    }\n",
              "\n",
              "    .colab-df-convert:hover {\n",
              "      background-color: #E2EBFA;\n",
              "      box-shadow: 0px 1px 2px rgba(60, 64, 67, 0.3), 0px 1px 3px 1px rgba(60, 64, 67, 0.15);\n",
              "      fill: #174EA6;\n",
              "    }\n",
              "\n",
              "    [theme=dark] .colab-df-convert {\n",
              "      background-color: #3B4455;\n",
              "      fill: #D2E3FC;\n",
              "    }\n",
              "\n",
              "    [theme=dark] .colab-df-convert:hover {\n",
              "      background-color: #434B5C;\n",
              "      box-shadow: 0px 1px 3px 1px rgba(0, 0, 0, 0.15);\n",
              "      filter: drop-shadow(0px 1px 2px rgba(0, 0, 0, 0.3));\n",
              "      fill: #FFFFFF;\n",
              "    }\n",
              "  </style>\n",
              "\n",
              "      <script>\n",
              "        const buttonEl =\n",
              "          document.querySelector('#df-adf2423d-6a47-4f5b-bc64-48087de404b4 button.colab-df-convert');\n",
              "        buttonEl.style.display =\n",
              "          google.colab.kernel.accessAllowed ? 'block' : 'none';\n",
              "\n",
              "        async function convertToInteractive(key) {\n",
              "          const element = document.querySelector('#df-adf2423d-6a47-4f5b-bc64-48087de404b4');\n",
              "          const dataTable =\n",
              "            await google.colab.kernel.invokeFunction('convertToInteractive',\n",
              "                                                     [key], {});\n",
              "          if (!dataTable) return;\n",
              "\n",
              "          const docLinkHtml = 'Like what you see? Visit the ' +\n",
              "            '<a target=\"_blank\" href=https://colab.research.google.com/notebooks/data_table.ipynb>data table notebook</a>'\n",
              "            + ' to learn more about interactive tables.';\n",
              "          element.innerHTML = '';\n",
              "          dataTable['output_type'] = 'display_data';\n",
              "          await google.colab.output.renderOutput(dataTable, element);\n",
              "          const docLink = document.createElement('div');\n",
              "          docLink.innerHTML = docLinkHtml;\n",
              "          element.appendChild(docLink);\n",
              "        }\n",
              "      </script>\n",
              "    </div>\n",
              "  </div>\n",
              "  "
            ]
          },
          "metadata": {},
          "execution_count": 142
        }
      ]
    },
    {
      "cell_type": "markdown",
      "source": [
        "#### 3.1.6 Vehicle Age"
      ],
      "metadata": {
        "id": "7wnYTT-G-IPX"
      }
    },
    {
      "cell_type": "code",
      "source": [
        "df3[['id','vehicle_age', 'response']].groupby( ['vehicle_age', 'response'] ).count().reset_index()\n"
      ],
      "metadata": {
        "colab": {
          "base_uri": "https://localhost:8080/"
        },
        "id": "_4za3l2WApzX",
        "outputId": "77b39d86-80d5-410b-a4ca-43b544338640"
      },
      "execution_count": null,
      "outputs": [
        {
          "output_type": "execute_result",
          "data": {
            "text/plain": [
              "        vehicle_age  response      id\n",
              "0      below_1_Year         0  137861\n",
              "1      below_1_Year         1    5994\n",
              "2  between_1_2_year         0  130381\n",
              "3  between_1_2_year         1   28017\n",
              "4      over_2_years         0    9126\n",
              "5      over_2_years         1    4070"
            ],
            "text/html": [
              "\n",
              "  <div id=\"df-9b00588a-bb0e-43a9-8532-f40302df9994\">\n",
              "    <div class=\"colab-df-container\">\n",
              "      <div>\n",
              "<style scoped>\n",
              "    .dataframe tbody tr th:only-of-type {\n",
              "        vertical-align: middle;\n",
              "    }\n",
              "\n",
              "    .dataframe tbody tr th {\n",
              "        vertical-align: top;\n",
              "    }\n",
              "\n",
              "    .dataframe thead th {\n",
              "        text-align: right;\n",
              "    }\n",
              "</style>\n",
              "<table border=\"1\" class=\"dataframe\">\n",
              "  <thead>\n",
              "    <tr style=\"text-align: right;\">\n",
              "      <th></th>\n",
              "      <th>vehicle_age</th>\n",
              "      <th>response</th>\n",
              "      <th>id</th>\n",
              "    </tr>\n",
              "  </thead>\n",
              "  <tbody>\n",
              "    <tr>\n",
              "      <th>0</th>\n",
              "      <td>below_1_Year</td>\n",
              "      <td>0</td>\n",
              "      <td>137861</td>\n",
              "    </tr>\n",
              "    <tr>\n",
              "      <th>1</th>\n",
              "      <td>below_1_Year</td>\n",
              "      <td>1</td>\n",
              "      <td>5994</td>\n",
              "    </tr>\n",
              "    <tr>\n",
              "      <th>2</th>\n",
              "      <td>between_1_2_year</td>\n",
              "      <td>0</td>\n",
              "      <td>130381</td>\n",
              "    </tr>\n",
              "    <tr>\n",
              "      <th>3</th>\n",
              "      <td>between_1_2_year</td>\n",
              "      <td>1</td>\n",
              "      <td>28017</td>\n",
              "    </tr>\n",
              "    <tr>\n",
              "      <th>4</th>\n",
              "      <td>over_2_years</td>\n",
              "      <td>0</td>\n",
              "      <td>9126</td>\n",
              "    </tr>\n",
              "    <tr>\n",
              "      <th>5</th>\n",
              "      <td>over_2_years</td>\n",
              "      <td>1</td>\n",
              "      <td>4070</td>\n",
              "    </tr>\n",
              "  </tbody>\n",
              "</table>\n",
              "</div>\n",
              "      <button class=\"colab-df-convert\" onclick=\"convertToInteractive('df-9b00588a-bb0e-43a9-8532-f40302df9994')\"\n",
              "              title=\"Convert this dataframe to an interactive table.\"\n",
              "              style=\"display:none;\">\n",
              "        \n",
              "  <svg xmlns=\"http://www.w3.org/2000/svg\" height=\"24px\"viewBox=\"0 0 24 24\"\n",
              "       width=\"24px\">\n",
              "    <path d=\"M0 0h24v24H0V0z\" fill=\"none\"/>\n",
              "    <path d=\"M18.56 5.44l.94 2.06.94-2.06 2.06-.94-2.06-.94-.94-2.06-.94 2.06-2.06.94zm-11 1L8.5 8.5l.94-2.06 2.06-.94-2.06-.94L8.5 2.5l-.94 2.06-2.06.94zm10 10l.94 2.06.94-2.06 2.06-.94-2.06-.94-.94-2.06-.94 2.06-2.06.94z\"/><path d=\"M17.41 7.96l-1.37-1.37c-.4-.4-.92-.59-1.43-.59-.52 0-1.04.2-1.43.59L10.3 9.45l-7.72 7.72c-.78.78-.78 2.05 0 2.83L4 21.41c.39.39.9.59 1.41.59.51 0 1.02-.2 1.41-.59l7.78-7.78 2.81-2.81c.8-.78.8-2.07 0-2.86zM5.41 20L4 18.59l7.72-7.72 1.47 1.35L5.41 20z\"/>\n",
              "  </svg>\n",
              "      </button>\n",
              "      \n",
              "  <style>\n",
              "    .colab-df-container {\n",
              "      display:flex;\n",
              "      flex-wrap:wrap;\n",
              "      gap: 12px;\n",
              "    }\n",
              "\n",
              "    .colab-df-convert {\n",
              "      background-color: #E8F0FE;\n",
              "      border: none;\n",
              "      border-radius: 50%;\n",
              "      cursor: pointer;\n",
              "      display: none;\n",
              "      fill: #1967D2;\n",
              "      height: 32px;\n",
              "      padding: 0 0 0 0;\n",
              "      width: 32px;\n",
              "    }\n",
              "\n",
              "    .colab-df-convert:hover {\n",
              "      background-color: #E2EBFA;\n",
              "      box-shadow: 0px 1px 2px rgba(60, 64, 67, 0.3), 0px 1px 3px 1px rgba(60, 64, 67, 0.15);\n",
              "      fill: #174EA6;\n",
              "    }\n",
              "\n",
              "    [theme=dark] .colab-df-convert {\n",
              "      background-color: #3B4455;\n",
              "      fill: #D2E3FC;\n",
              "    }\n",
              "\n",
              "    [theme=dark] .colab-df-convert:hover {\n",
              "      background-color: #434B5C;\n",
              "      box-shadow: 0px 1px 3px 1px rgba(0, 0, 0, 0.15);\n",
              "      filter: drop-shadow(0px 1px 2px rgba(0, 0, 0, 0.3));\n",
              "      fill: #FFFFFF;\n",
              "    }\n",
              "  </style>\n",
              "\n",
              "      <script>\n",
              "        const buttonEl =\n",
              "          document.querySelector('#df-9b00588a-bb0e-43a9-8532-f40302df9994 button.colab-df-convert');\n",
              "        buttonEl.style.display =\n",
              "          google.colab.kernel.accessAllowed ? 'block' : 'none';\n",
              "\n",
              "        async function convertToInteractive(key) {\n",
              "          const element = document.querySelector('#df-9b00588a-bb0e-43a9-8532-f40302df9994');\n",
              "          const dataTable =\n",
              "            await google.colab.kernel.invokeFunction('convertToInteractive',\n",
              "                                                     [key], {});\n",
              "          if (!dataTable) return;\n",
              "\n",
              "          const docLinkHtml = 'Like what you see? Visit the ' +\n",
              "            '<a target=\"_blank\" href=https://colab.research.google.com/notebooks/data_table.ipynb>data table notebook</a>'\n",
              "            + ' to learn more about interactive tables.';\n",
              "          element.innerHTML = '';\n",
              "          dataTable['output_type'] = 'display_data';\n",
              "          await google.colab.output.renderOutput(dataTable, element);\n",
              "          const docLink = document.createElement('div');\n",
              "          docLink.innerHTML = docLinkHtml;\n",
              "          element.appendChild(docLink);\n",
              "        }\n",
              "      </script>\n",
              "    </div>\n",
              "  </div>\n",
              "  "
            ]
          },
          "metadata": {},
          "execution_count": 143
        }
      ]
    },
    {
      "cell_type": "markdown",
      "source": [
        "#### 3.1.7 Vehicle Damage"
      ],
      "metadata": {
        "id": "EswfeD0h-ISn"
      }
    },
    {
      "cell_type": "code",
      "source": [
        "aux = df3[['vehicle_damage', 'response']].groupby( 'response' ).sum().reset_index()\n",
        "sns.barplot( x='response', y='vehicle_damage', data=aux );"
      ],
      "metadata": {
        "colab": {
          "base_uri": "https://localhost:8080/"
        },
        "id": "m2LXXpeBArnv",
        "outputId": "a42d9743-bacb-41e3-91ff-2c83a91c2b66"
      },
      "execution_count": null,
      "outputs": [
        {
          "output_type": "display_data",
          "data": {
            "text/plain": [
              "<Figure size 432x288 with 1 Axes>"
            ],
            "image/png": "[encoded data removed]"
          },
          "metadata": {
            "needs_background": "light"
          }
        }
      ]
    },
    {
      "cell_type": "markdown",
      "source": [
        "#### 3.1.8 Policy Sales Channel \n"
      ],
      "metadata": {
        "id": "v0O8LXO6-IV1"
      }
    },
    {
      "cell_type": "code",
      "source": [
        "aux = df3[['policy_sales_channel', 'response']].groupby( 'policy_sales_channel' ).sum().reset_index()\n",
        "sns.barplot( x='response', y='policy_sales_channel', data=aux );"
      ],
      "metadata": {
        "colab": {
          "base_uri": "https://localhost:8080/"
        },
        "id": "M8IQ4xvFAtXW",
        "outputId": "9112f4b8-4da3-4c89-8782-2f1309fe86d8"
      },
      "execution_count": null,
      "outputs": [
        {
          "output_type": "display_data",
          "data": {
            "text/plain": [
              "<Figure size 432x288 with 1 Axes>"
            ],
            "image/png": "[encoded data removed]"
          },
          "metadata": {
            "needs_background": "light"
          }
        }
      ]
    },
    {
      "cell_type": "code",
      "source": [
        "aux01 = df3[['policy_sales_channel', 'response']].groupby( 'policy_sales_channel' ).sum().reset_index()\n",
        "aux02 = df3[['id', 'policy_sales_channel']].groupby( 'policy_sales_channel' ).size().reset_index().rename( columns={0:'total_responses'})\n",
        "\n",
        "aux = pd.merge( aux01, aux02, how='inner', on='policy_sales_channel' )\n",
        "aux"
      ],
      "metadata": {
        "colab": {
          "base_uri": "https://localhost:8080/"
        },
        "id": "Jej1ENjtAvMF",
        "outputId": "b5f1a3a5-4146-4205-b11c-7b7cc758274d"
      },
      "execution_count": null,
      "outputs": [
        {
          "output_type": "execute_result",
          "data": {
            "text/plain": [
              "     policy_sales_channel  response  total_responses\n",
              "0                     1.0         0               10\n",
              "1                     2.0         0                1\n",
              "2                     3.0       136              434\n",
              "3                     4.0        90              442\n",
              "4                     6.0         0                2\n",
              "..                    ...       ...              ...\n",
              "143                 157.0       706             2353\n",
              "144                 158.0        45              148\n",
              "145                 159.0         1               21\n",
              "146                 160.0       303            16225\n",
              "147                 163.0       621             2004\n",
              "\n",
              "[148 rows x 3 columns]"
            ],
            "text/html": [
              "\n",
              "  <div id=\"df-f0eb34f6-b768-4a4c-800e-c8756ba5ae4f\">\n",
              "    <div class=\"colab-df-container\">\n",
              "      <div>\n",
              "<style scoped>\n",
              "    .dataframe tbody tr th:only-of-type {\n",
              "        vertical-align: middle;\n",
              "    }\n",
              "\n",
              "    .dataframe tbody tr th {\n",
              "        vertical-align: top;\n",
              "    }\n",
              "\n",
              "    .dataframe thead th {\n",
              "        text-align: right;\n",
              "    }\n",
              "</style>\n",
              "<table border=\"1\" class=\"dataframe\">\n",
              "  <thead>\n",
              "    <tr style=\"text-align: right;\">\n",
              "      <th></th>\n",
              "      <th>policy_sales_channel</th>\n",
              "      <th>response</th>\n",
              "      <th>total_responses</th>\n",
              "    </tr>\n",
              "  </thead>\n",
              "  <tbody>\n",
              "    <tr>\n",
              "      <th>0</th>\n",
              "      <td>1.0</td>\n",
              "      <td>0</td>\n",
              "      <td>10</td>\n",
              "    </tr>\n",
              "    <tr>\n",
              "      <th>1</th>\n",
              "      <td>2.0</td>\n",
              "      <td>0</td>\n",
              "      <td>1</td>\n",
              "    </tr>\n",
              "    <tr>\n",
              "      <th>2</th>\n",
              "      <td>3.0</td>\n",
              "      <td>136</td>\n",
              "      <td>434</td>\n",
              "    </tr>\n",
              "    <tr>\n",
              "      <th>3</th>\n",
              "      <td>4.0</td>\n",
              "      <td>90</td>\n",
              "      <td>442</td>\n",
              "    </tr>\n",
              "    <tr>\n",
              "      <th>4</th>\n",
              "      <td>6.0</td>\n",
              "      <td>0</td>\n",
              "      <td>2</td>\n",
              "    </tr>\n",
              "    <tr>\n",
              "      <th>...</th>\n",
              "      <td>...</td>\n",
              "      <td>...</td>\n",
              "      <td>...</td>\n",
              "    </tr>\n",
              "    <tr>\n",
              "      <th>143</th>\n",
              "      <td>157.0</td>\n",
              "      <td>706</td>\n",
              "      <td>2353</td>\n",
              "    </tr>\n",
              "    <tr>\n",
              "      <th>144</th>\n",
              "      <td>158.0</td>\n",
              "      <td>45</td>\n",
              "      <td>148</td>\n",
              "    </tr>\n",
              "    <tr>\n",
              "      <th>145</th>\n",
              "      <td>159.0</td>\n",
              "      <td>1</td>\n",
              "      <td>21</td>\n",
              "    </tr>\n",
              "    <tr>\n",
              "      <th>146</th>\n",
              "      <td>160.0</td>\n",
              "      <td>303</td>\n",
              "      <td>16225</td>\n",
              "    </tr>\n",
              "    <tr>\n",
              "      <th>147</th>\n",
              "      <td>163.0</td>\n",
              "      <td>621</td>\n",
              "      <td>2004</td>\n",
              "    </tr>\n",
              "  </tbody>\n",
              "</table>\n",
              "<p>148 rows × 3 columns</p>\n",
              "</div>\n",
              "      <button class=\"colab-df-convert\" onclick=\"convertToInteractive('df-f0eb34f6-b768-4a4c-800e-c8756ba5ae4f')\"\n",
              "              title=\"Convert this dataframe to an interactive table.\"\n",
              "              style=\"display:none;\">\n",
              "        \n",
              "  <svg xmlns=\"http://www.w3.org/2000/svg\" height=\"24px\"viewBox=\"0 0 24 24\"\n",
              "       width=\"24px\">\n",
              "    <path d=\"M0 0h24v24H0V0z\" fill=\"none\"/>\n",
              "    <path d=\"M18.56 5.44l.94 2.06.94-2.06 2.06-.94-2.06-.94-.94-2.06-.94 2.06-2.06.94zm-11 1L8.5 8.5l.94-2.06 2.06-.94-2.06-.94L8.5 2.5l-.94 2.06-2.06.94zm10 10l.94 2.06.94-2.06 2.06-.94-2.06-.94-.94-2.06-.94 2.06-2.06.94z\"/><path d=\"M17.41 7.96l-1.37-1.37c-.4-.4-.92-.59-1.43-.59-.52 0-1.04.2-1.43.59L10.3 9.45l-7.72 7.72c-.78.78-.78 2.05 0 2.83L4 21.41c.39.39.9.59 1.41.59.51 0 1.02-.2 1.41-.59l7.78-7.78 2.81-2.81c.8-.78.8-2.07 0-2.86zM5.41 20L4 18.59l7.72-7.72 1.47 1.35L5.41 20z\"/>\n",
              "  </svg>\n",
              "      </button>\n",
              "      \n",
              "  <style>\n",
              "    .colab-df-container {\n",
              "      display:flex;\n",
              "      flex-wrap:wrap;\n",
              "      gap: 12px;\n",
              "    }\n",
              "\n",
              "    .colab-df-convert {\n",
              "      background-color: #E8F0FE;\n",
              "      border: none;\n",
              "      border-radius: 50%;\n",
              "      cursor: pointer;\n",
              "      display: none;\n",
              "      fill: #1967D2;\n",
              "      height: 32px;\n",
              "      padding: 0 0 0 0;\n",
              "      width: 32px;\n",
              "    }\n",
              "\n",
              "    .colab-df-convert:hover {\n",
              "      background-color: #E2EBFA;\n",
              "      box-shadow: 0px 1px 2px rgba(60, 64, 67, 0.3), 0px 1px 3px 1px rgba(60, 64, 67, 0.15);\n",
              "      fill: #174EA6;\n",
              "    }\n",
              "\n",
              "    [theme=dark] .colab-df-convert {\n",
              "      background-color: #3B4455;\n",
              "      fill: #D2E3FC;\n",
              "    }\n",
              "\n",
              "    [theme=dark] .colab-df-convert:hover {\n",
              "      background-color: #434B5C;\n",
              "      box-shadow: 0px 1px 3px 1px rgba(0, 0, 0, 0.15);\n",
              "      filter: drop-shadow(0px 1px 2px rgba(0, 0, 0, 0.3));\n",
              "      fill: #FFFFFF;\n",
              "    }\n",
              "  </style>\n",
              "\n",
              "      <script>\n",
              "        const buttonEl =\n",
              "          document.querySelector('#df-f0eb34f6-b768-4a4c-800e-c8756ba5ae4f button.colab-df-convert');\n",
              "        buttonEl.style.display =\n",
              "          google.colab.kernel.accessAllowed ? 'block' : 'none';\n",
              "\n",
              "        async function convertToInteractive(key) {\n",
              "          const element = document.querySelector('#df-f0eb34f6-b768-4a4c-800e-c8756ba5ae4f');\n",
              "          const dataTable =\n",
              "            await google.colab.kernel.invokeFunction('convertToInteractive',\n",
              "                                                     [key], {});\n",
              "          if (!dataTable) return;\n",
              "\n",
              "          const docLinkHtml = 'Like what you see? Visit the ' +\n",
              "            '<a target=\"_blank\" href=https://colab.research.google.com/notebooks/data_table.ipynb>data table notebook</a>'\n",
              "            + ' to learn more about interactive tables.';\n",
              "          element.innerHTML = '';\n",
              "          dataTable['output_type'] = 'display_data';\n",
              "          await google.colab.output.renderOutput(dataTable, element);\n",
              "          const docLink = document.createElement('div');\n",
              "          docLink.innerHTML = docLinkHtml;\n",
              "          element.appendChild(docLink);\n",
              "        }\n",
              "      </script>\n",
              "    </div>\n",
              "  </div>\n",
              "  "
            ]
          },
          "metadata": {},
          "execution_count": 146
        }
      ]
    },
    {
      "cell_type": "markdown",
      "source": [
        "#### 3.1.9 Vintage"
      ],
      "metadata": {
        "id": "fA2ZUN03-IYy"
      }
    },
    {
      "cell_type": "code",
      "source": [
        "aux = df3.loc[df3['response'] == 0, 'vintage']\n",
        "sns.histplot( aux )"
      ],
      "metadata": {
        "id": "Q3Rbvo0VpsM3",
        "colab": {
          "base_uri": "https://localhost:8080/"
        },
        "outputId": "585b1f25-3438-46d4-eb75-d67048a5f4ec"
      },
      "execution_count": null,
      "outputs": [
        {
          "output_type": "execute_result",
          "data": {
            "text/plain": [
              "<matplotlib.axes._subplots.AxesSubplot at 0x7f09579df4f0>"
            ]
          },
          "metadata": {},
          "execution_count": 147
        },
        {
          "output_type": "display_data",
          "data": {
            "text/plain": [
              "<Figure size 432x288 with 1 Axes>"
            ],
            "image/png": "[encoded data removed]"
          },
          "metadata": {
            "needs_background": "light"
          }
        }
      ]
    },
    {
      "cell_type": "code",
      "source": [
        "aux = df3.loc[df3['response'] == 1, 'vintage']\n",
        "sns.histplot( aux )"
      ],
      "metadata": {
        "id": "m062Vbj0psPU",
        "colab": {
          "base_uri": "https://localhost:8080/"
        },
        "outputId": "e31e4640-586b-43ef-f403-e0706624f22f"
      },
      "execution_count": null,
      "outputs": [
        {
          "output_type": "execute_result",
          "data": {
            "text/plain": [
              "<matplotlib.axes._subplots.AxesSubplot at 0x7f09577aa5e0>"
            ]
          },
          "metadata": {},
          "execution_count": 148
        },
        {
          "output_type": "display_data",
          "data": {
            "text/plain": [
              "<Figure size 432x288 with 1 Axes>"
            ],
            "image/png": "[encoded data removed]"
          },
          "metadata": {
            "needs_background": "light"
          }
        }
      ]
    },
    {
      "cell_type": "code",
      "source": [
        "df = pd.pivot_table( index='vintage', columns='response', values='id', data=df3).reset_index()\n",
        "df.columns = ['vintage', 'no_response', 'yes_response']"
      ],
      "metadata": {
        "id": "2mBDbPFBpsSK"
      },
      "execution_count": null,
      "outputs": []
    },
    {
      "cell_type": "code",
      "source": [
        "df.plot( x='vintage', kind='bar', stacked=True)"
      ],
      "metadata": {
        "colab": {
          "base_uri": "https://localhost:8080/"
        },
        "id": "RpVE04YABLuE",
        "outputId": "738753e0-5c4a-48bd-d25a-d4885a01b9f2"
      },
      "execution_count": null,
      "outputs": [
        {
          "output_type": "execute_result",
          "data": {
            "text/plain": [
              "<matplotlib.axes._subplots.AxesSubplot at 0x7f0957657d90>"
            ]
          },
          "metadata": {},
          "execution_count": 150
        },
        {
          "output_type": "display_data",
          "data": {
            "text/plain": [
              "<Figure size 432x288 with 1 Axes>"
            ],
            "image/png": "[encoded data removed]"
          },
          "metadata": {
            "needs_background": "light"
          }
        }
      ]
    },
    {
      "cell_type": "markdown",
      "source": [
        "### 3.2 Bivariate Analysis"
      ],
      "metadata": {
        "id": "eKzMLTGOG-9Q"
      }
    },
    {
      "cell_type": "markdown",
      "source": [
        "H1: Women are more likely to purchase car insurance.\n",
        "\n",
        "The hypothesis is FALSE, the interest among men is greater."
      ],
      "metadata": {
        "id": "l59LHGICekLj"
      }
    },
    {
      "cell_type": "code",
      "source": [
        "# Analyse just interested customers by age\n",
        "plt.figure(figsize=(15,6))\n",
        "aux_age2 = df3[['gender', 'response']].groupby('gender').sum().reset_index()\n",
        "eda_age2 = sns.barplot( x='gender', y='response', data=aux_age2 )\n",
        "eda_age2.set_title('Interesse por idade')\n",
        "eda_age2.set_xlabel('Idade')\n",
        "eda_age2.set_ylabel('Interesse')\n",
        "plt.xticks( rotation=90 );"
      ],
      "metadata": {
        "colab": {
          "base_uri": "https://localhost:8080/"
        },
        "id": "HzYrB07-erzr",
        "outputId": "d7df1900-b834-474f-a60c-dfeac04779b1"
      },
      "execution_count": null,
      "outputs": [
        {
          "output_type": "display_data",
          "data": {
            "text/plain": [
              "<Figure size 1080x432 with 1 Axes>"
            ],
            "image/png": "[encoded data removed]"
          },
          "metadata": {
            "needs_background": "light"
          }
        }
      ]
    },
    {
      "cell_type": "markdown",
      "source": [
        "H2: The greater the age, the greater the possibility of taking out auto insurance.\n",
        "\n",
        "The hypothesis is false."
      ],
      "metadata": {
        "id": "g0l-nSage6t0"
      }
    },
    {
      "cell_type": "code",
      "source": [
        "# Analyse just interested customers by age\n",
        "plt.figure(figsize=(15,6))\n",
        "aux_age2 = df3[['age', 'response']].groupby('age').sum().reset_index()\n",
        "eda_age2 = sns.barplot( x='age', y='response', data=aux_age2 )\n",
        "eda_age2.set_title('Interesse por idade')\n",
        "eda_age2.set_xlabel('Idade')\n",
        "eda_age2.set_ylabel('Interesse')\n",
        "plt.xticks( rotation=90 );"
      ],
      "metadata": {
        "colab": {
          "base_uri": "https://localhost:8080/"
        },
        "id": "BdKUD7Jze63o",
        "outputId": "70c2016c-b86d-46a1-b5f1-b9d44d4d7dcc"
      },
      "execution_count": null,
      "outputs": [
        {
          "output_type": "display_data",
          "data": {
            "text/plain": [
              "<Figure size 1080x432 with 1 Axes>"
            ],
            "image/png": "[encoded data removed]"
          },
          "metadata": {
            "needs_background": "light"
          }
        }
      ]
    },
    {
      "cell_type": "markdown",
      "source": [
        "H3: Residence influences the decision to take out auto insurance.\n",
        "\n",
        "The hypothesis is TRUE. Some regions have a higher concentration of auto insurance interests."
      ],
      "metadata": {
        "id": "1sz3HkEQe6_l"
      }
    },
    {
      "cell_type": "code",
      "source": [
        "aux = df3[(df3['region_code'] != 28) & (df3['response'] == 1)]\n",
        "fig3 = plt.subplots(figsize = (15,4))\n",
        "sns.countplot(x = 'region_code', data = aux);\n",
        "plt.xlabel(\"Região\")\n",
        "plt.ylabel(\"Clientes com interesse no seguro\")\n",
        "plt.show(fig3)"
      ],
      "metadata": {
        "colab": {
          "base_uri": "https://localhost:8080/"
        },
        "id": "k4VUN2gKe7G0",
        "outputId": "d5b2044a-33ef-4b3e-e4d3-310e40ac0bb3"
      },
      "execution_count": null,
      "outputs": [
        {
          "output_type": "display_data",
          "data": {
            "text/plain": [
              "<Figure size 1080x288 with 1 Axes>"
            ],
            "image/png": "[encoded data removed]"
          },
          "metadata": {
            "needs_background": "light"
          }
        }
      ]
    },
    {
      "cell_type": "markdown",
      "source": [
        "H4: People who have had damage to their car are more likely to take out car insurance.\n",
        "\n",
        "The hypothesis is TRUE. When car damage occurred, there is car insurance interest."
      ],
      "metadata": {
        "id": "0lHZS8yMe7Oh"
      }
    },
    {
      "cell_type": "code",
      "source": [
        "fig = plt.subplots(figsize = (15,4))\n",
        "sns.countplot(x = 'vehicle_damage', data = df3[df3['response'] == 1]);\n"
      ],
      "metadata": {
        "colab": {
          "base_uri": "https://localhost:8080/"
        },
        "id": "bkTuMr-ge7WT",
        "outputId": "81b15bbf-eaac-4248-bd8a-ed1904aec265"
      },
      "execution_count": null,
      "outputs": [
        {
          "output_type": "display_data",
          "data": {
            "text/plain": [
              "<Figure size 1080x288 with 1 Axes>"
            ],
            "image/png": "[encoded data removed]"
          },
          "metadata": {
            "needs_background": "light"
          }
        }
      ]
    },
    {
      "cell_type": "markdown",
      "source": [
        "H5: Customers with higher health insurance expenses are more likely to purchase a new product.\n",
        "\n",
        "The hypothesis is FALSE. There is a concentration of positive answers around of mean of annual premiums paid."
      ],
      "metadata": {
        "id": "R-NmSB19e7d8"
      }
    },
    {
      "cell_type": "code",
      "source": [
        "# annual_premium\n",
        "h5 = df3.loc[(df3['annual_premium'] > 10000) & (df3['annual_premium'] < 80000)]\n",
        "h5 = h5.loc[h5['response'] == 1, 'annual_premium']\n",
        "\n",
        "fig = plt.subplots(figsize = (15,5))\n",
        "sns.histplot(h5, bins = 75);"
      ],
      "metadata": {
        "colab": {
          "base_uri": "https://localhost:8080/"
        },
        "id": "RuMZNE23e7mY",
        "outputId": "9b7bdfce-0876-42d0-c5ec-cd7439fa2643"
      },
      "execution_count": null,
      "outputs": [
        {
          "output_type": "display_data",
          "data": {
            "text/plain": [
              "<Figure size 1080x360 with 1 Axes>"
            ],
            "image/png": "[encoded data removed]"
          },
          "metadata": {
            "needs_background": "light"
          }
        }
      ]
    },
    {
      "cell_type": "markdown",
      "source": [
        "### 3.3 Insights"
      ],
      "metadata": {
        "id": "4l_0ei7yeWdV"
      }
    },
    {
      "cell_type": "markdown",
      "source": [
        "1. Idade dos clientes com mais propensão se concentra entre 40 a 50 anos.\n",
        "2. Região é um fator importante para explicar interesse\n",
        "3. Pessoas com gastos com seguro maior não necessariamente têm mais chance de comprar um novo seguro\n",
        "\n",
        "Esses insights são importantes para a abordagem do time de vendas e para a escolha da melhor estratégia de seleção de features."
      ],
      "metadata": {
        "id": "XyRKzUqzjxbq"
      }
    },
    {
      "cell_type": "markdown",
      "source": [
        "## 4.0 Data Preparation\n",
        "\n"
      ],
      "metadata": {
        "id": "RSTLCqtA6fq3"
      }
    },
    {
      "cell_type": "code",
      "source": [
        "X = df3.drop( 'response', axis=1 )\n",
        "y = df3['response'].copy() \n",
        "\n",
        "x_train, x_validation, y_train, y_validation = ms.train_test_split( X, y, test_size= 0.20 )\n",
        "\n",
        "df4 = pd.concat( [x_train, y_train], axis=1 )"
      ],
      "metadata": {
        "id": "twyl0ClqaW1Q"
      },
      "execution_count": null,
      "outputs": []
    },
    {
      "cell_type": "code",
      "source": [],
      "metadata": {
        "id": "X3DNrsqyDjXY"
      },
      "execution_count": null,
      "outputs": []
    },
    {
      "cell_type": "markdown",
      "source": [
        "### 4.1 Standardization"
      ],
      "metadata": {
        "id": "9ib9PJaZYlMM"
      }
    },
    {
      "cell_type": "code",
      "source": [
        "ss = pp.StandardScaler()\n",
        "\n",
        "# anual premium - StandarScaler\n",
        "df4['annual_premium'] = ss.fit_transform( df4[['annual_premium']].values )\n"
      ],
      "metadata": {
        "id": "HO_i6HIUZQG7"
      },
      "execution_count": null,
      "outputs": []
    },
    {
      "cell_type": "markdown",
      "source": [
        "### 4.2. Reescaling"
      ],
      "metadata": {
        "id": "rqx7MkkmYn8u"
      }
    },
    {
      "cell_type": "code",
      "source": [
        "mms_age = pp.MinMaxScaler()\n",
        "mms_vintage = pp.MinMaxScaler()\n",
        "\n",
        "# Age - MinMaxScaler\n",
        "df4['age'] = mms_age.fit_transform( df4[['age']].values )\n",
        "\n",
        "\n",
        "# Vintage - MinMaxScaler\n",
        "df4['vintage'] = mms_vintage.fit_transform( df4[['vintage']].values )\n"
      ],
      "metadata": {
        "id": "jTkNxD4DZTQW"
      },
      "execution_count": null,
      "outputs": []
    },
    {
      "cell_type": "markdown",
      "source": [
        "### 4.3 Encoding"
      ],
      "metadata": {
        "id": "x5cnuBOpYrl8"
      }
    },
    {
      "cell_type": "markdown",
      "source": [],
      "metadata": {
        "id": "u7k0MZX2ZVXW"
      }
    },
    {
      "cell_type": "code",
      "source": [
        "# gender - One Hot Encoding / Target Encoding\n",
        "target_encode_gender = df4.groupby( 'gender' )['response'].mean()\n",
        "df4.loc[:, 'gender'] = df4['gender'].map( target_encode_gender )\n",
        "\n",
        "\n",
        "# region_code - Target Encoding / Frequency Encoding\n",
        "target_encode_region_code = df4.groupby( 'region_code' )['response'].mean()\n",
        "df4.loc[:, 'region_code'] = df4['region_code'].map( target_encode_region_code )\n",
        "\n",
        "# vehicle_age - One Hot Encoding / Frequency Encoding\n",
        "df4 = pd.get_dummies( df4, prefix='vehicle_age', columns=['vehicle_age'] )\n",
        "\n",
        "# policy_sales_channel - Target Encoding / Frequency Encoding\n",
        "fe_policy_sales_channel = df4.groupby( 'policy_sales_channel' ).size() / len( df4 ) \n",
        "df4.loc[:, 'policy_sales_channel'] = df4['policy_sales_channel'].map( fe_policy_sales_channel )\n"
      ],
      "metadata": {
        "id": "45jDIWIaZVrT"
      },
      "execution_count": null,
      "outputs": []
    },
    {
      "cell_type": "markdown",
      "source": [
        "### 4.4 Validation Preparation"
      ],
      "metadata": {
        "id": "iRrQJT9uZIwQ"
      }
    },
    {
      "cell_type": "code",
      "source": [
        "# gender\n",
        "x_validation.loc[:, 'gender'] =  x_validation.loc[:, 'gender'].map( target_encode_gender )\n",
        "\n",
        "# age\n",
        "x_validation.loc[:, 'age'] = mms_age.transform( x_validation[['age']].values )\n",
        "\n",
        "# region_code\n",
        "x_validation.loc[:, 'region_code'] = x_validation.loc[:, 'region_code'].map( target_encode_region_code )\n",
        "\n",
        "# vehicle_age\n",
        "x_validation = pd.get_dummies( x_validation, prefix='vehicle_age', columns=['vehicle_age'] )\n",
        "\n",
        "# annual_premium\n",
        "x_validation.loc[:, 'annual_premium'] = ss.transform( x_validation[['annual_premium']].values )\n",
        "\n",
        "# policy_sales_channel\n",
        "x_validation.loc[:, 'policy_sales_channel'] = x_validation['policy_sales_channel'].map( fe_policy_sales_channel )\n",
        "\n",
        "# vintage\n",
        "x_validation.loc[:, 'vintage'] = mms_vintage.transform( x_validation[['vintage']].values )\n",
        "\n",
        "# fillna\n",
        "x_validation = x_validation.fillna( 0 )"
      ],
      "metadata": {
        "id": "HoaPxRDmZCuT"
      },
      "execution_count": null,
      "outputs": []
    },
    {
      "cell_type": "markdown",
      "source": [
        "## 5.0 Feature Selection"
      ],
      "metadata": {
        "id": "GQ2zp7PEanW0"
      }
    },
    {
      "cell_type": "code",
      "source": [
        "df5 = df4.copy()"
      ],
      "metadata": {
        "id": "ESFqzFiva3yG"
      },
      "execution_count": null,
      "outputs": []
    },
    {
      "cell_type": "code",
      "source": [
        "x_train_n = df5.drop( ['id', 'response'], axis=1 ).values\n",
        "y_train_n = y_train.values.ravel()\n"
      ],
      "metadata": {
        "id": "t7cEHW46bLD8"
      },
      "execution_count": null,
      "outputs": []
    },
    {
      "cell_type": "code",
      "source": [
        "# Define model\n",
        "#et = en.ExtraTreesClassifier( n_jobs=-1 )\n",
        "\n",
        "# Define boruta\n",
        "#boruta = bt.BorutaPy( et, n_estimators='auto', verbose=2, random_state=42 ).fit( x_train_n, y_train_n  )"
      ],
      "metadata": {
        "id": "SOBthxA0NMH9"
      },
      "execution_count": null,
      "outputs": []
    },
    {
      "cell_type": "code",
      "source": [
        "#cols_selected = boruta.support_.tolist()\n",
        "\n",
        "# best features\n",
        "#x_train_fs = df5.drop( ['id', 'response'], axis=1 )\n",
        "#cols_selected_boruta = x_train_fs.iloc[:, cols_selected].columns.to_list()\n",
        "#cols_selected_boruta\n",
        "# not selected boruta\n",
        "#cols_not_selected_boruta = list( np.setdiff1d( x_train_fs.columns, cols_selected_boruta ) )"
      ],
      "metadata": {
        "id": "HQVoWYh4bLe3"
      },
      "execution_count": null,
      "outputs": []
    },
    {
      "cell_type": "code",
      "source": [
        "# model definition\n",
        "#forest = en.ExtraTreesClassifier( n_estimators=250, random_state=0, n_jobs=-1 )\n",
        "\n",
        "# data preparation\n",
        "#x_train_n = df5.drop( ['id', 'response'], axis=1 )\n",
        "#y_train_n = y_train.values\n",
        "#forest.fit( x_train_n, y_train_n )"
      ],
      "metadata": {
        "id": "F2hb3YBAarX1"
      },
      "execution_count": null,
      "outputs": []
    },
    {
      "cell_type": "code",
      "source": [
        "#importances = forest.feature_importances_\n",
        "#std = np.std([tree.feature_importances_ for tree in forest.estimators_], axis=0)\n",
        "##indices = np.argsort(importances)[::-1]\n",
        "\n",
        "# Print the feature ranking\n",
        "#print(\"Feature ranking:\")\n",
        "#df = pd.DataFrame()\n",
        "#for i, j in zip( x_train_n, forest.feature_importances_ ):\n",
        "#    aux = pd.DataFrame( {'feature': i, 'importance': j}, index=[0] )\n",
        " #   df = pd.concat( [df, aux], axis=0 )\n",
        "    \n",
        "#print( df.sort_values( 'importance', ascending=False ) )\n",
        "\n",
        "# Plot the impurity-based feature importances of the forest\n",
        "#plt.figure()\n",
        "#plt.title(\"Feature importances\")\n",
        "#plt.bar(range(x_train_n.shape[1]), importances[indices], color=\"r\", yerr=std[indices], align=\"center\")\n",
        "#plt.xticks(range(x_train_n.shape[1]), indices)\n",
        "#plt.xlim([-1, x_train_n.shape[1]])\n",
        "#plt.show()"
      ],
      "metadata": {
        "id": "v1KkYlY7ayu0"
      },
      "execution_count": null,
      "outputs": []
    },
    {
      "cell_type": "markdown",
      "source": [
        "## 6.0 Machine Learning Modelling\n"
      ],
      "metadata": {
        "id": "dEROc2_AczIp"
      }
    },
    {
      "cell_type": "code",
      "source": [
        "df6 = df5.copy()"
      ],
      "metadata": {
        "id": "kLOUOOmmnLjQ"
      },
      "execution_count": null,
      "outputs": []
    },
    {
      "cell_type": "code",
      "source": [
        "cols_selected = ['annual_premium', 'vintage', 'age', 'region_code', 'vehicle_damage', 'policy_sales_channel', \n",
        "                 'vehicle_damage','previously_insured']"
      ],
      "metadata": {
        "id": "jyh2i5wDdbGQ"
      },
      "execution_count": null,
      "outputs": []
    },
    {
      "cell_type": "code",
      "source": [
        "x_train = df5[ cols_selected ]\n",
        "\n",
        "x_val = x_validation[ cols_selected ]\n",
        "y_val = y_validation"
      ],
      "metadata": {
        "id": "4sh7-0vcdvr_"
      },
      "execution_count": null,
      "outputs": []
    },
    {
      "cell_type": "markdown",
      "source": [
        "### 6.1 KNN Classifier\n"
      ],
      "metadata": {
        "id": "rpIWvxO1c2g6"
      }
    },
    {
      "cell_type": "code",
      "source": [],
      "metadata": {
        "id": "R15hNzEFnVsJ"
      },
      "execution_count": null,
      "outputs": []
    },
    {
      "cell_type": "code",
      "source": [
        "# model definition\n",
        "knn_model = nh.KNeighborsClassifier( n_neighbors=7 )\n",
        "\n",
        "# model training\n",
        "knn_model.fit( x_train, y_train )\n",
        "\n",
        "# model prediction\n",
        "yhat_knn = knn_model.predict_proba( x_val )"
      ],
      "metadata": {
        "id": "mXzWPAAgdylP"
      },
      "execution_count": null,
      "outputs": []
    },
    {
      "cell_type": "code",
      "source": [
        "fig, axs = plt.subplots(ncols = 2, figsize = (15, 5))\n",
        "# Accumulative Gain\n",
        "skplt.metrics.plot_cumulative_gain( y_val, yhat_knn, ax = axs[0])\n",
        "\n",
        "# Lift\n",
        "skplt.metrics.plot_lift_curve(y_val, yhat_knn, ax = axs[1]);"
      ],
      "metadata": {
        "colab": {
          "base_uri": "https://localhost:8080/"
        },
        "id": "WsuGV24yd0fF",
        "outputId": "7b4c1764-172f-4f39-95fe-96b7aafa9e2e"
      },
      "execution_count": null,
      "outputs": [
        {
          "output_type": "display_data",
          "data": {
            "text/plain": [
              "<Figure size 1080x360 with 2 Axes>"
            ],
            "image/png": "[encoded data removed]"
          },
          "metadata": {
            "needs_background": "light"
          }
        }
      ]
    },
    {
      "cell_type": "code",
      "source": [
        "# Performance\n",
        "# compute precision at k\n",
        "knn_precision_at_k = round(precision_at_k(df6, x_validation, y_validation, yhat_knn, 25000), 3)\n",
        "print('KNN Model - Precision at K: {}'.format(knn_precision_at_k))\n",
        "\n",
        "# compute Recall at k\n",
        "knn_recall_at_k = round(recall_at_k(df6, x_validation, y_validation, yhat_knn, 25000), 3)\n",
        "print('KNN Model - Recall at K: {}'.format(knn_recall_at_k))"
      ],
      "metadata": {
        "colab": {
          "base_uri": "https://localhost:8080/"
        },
        "id": "BqC-wqj3d9Sg",
        "outputId": "0c71070d-493c-4778-e757-a4b5c471e9a4"
      },
      "execution_count": null,
      "outputs": [
        {
          "output_type": "stream",
          "name": "stdout",
          "text": [
            "KNN Model - Precision at K: 0.264\n",
            "KNN Model - Recall at K: 0.87\n"
          ]
        }
      ]
    },
    {
      "cell_type": "markdown",
      "source": [
        "#### 6.1.1 KNN - Cross Validation"
      ],
      "metadata": {
        "id": "IkwgbkNZnzGZ"
      }
    },
    {
      "cell_type": "code",
      "source": [
        "knn_cv  = cross_validation (df6, 5, 'KNN CV', knn_model, x_train, y_train, 25000)\n"
      ],
      "metadata": {
        "colab": {
          "base_uri": "https://localhost:8080/"
        },
        "id": "goTp8Cs9nzPD",
        "outputId": "e96a49bc-d42b-436a-d8eb-387468a534ff"
      },
      "execution_count": null,
      "outputs": [
        {
          "output_type": "stream",
          "name": "stderr",
          "text": [
            "<ipython-input-122-6a9237e0e14e>:82: SettingWithCopyWarning: \n",
            "A value is trying to be set on a copy of a slice from a DataFrame.\n",
            "Try using .loc[row_indexer,col_indexer] = value instead\n",
            "\n",
            "See the caveats in the documentation: https://pandas.pydata.org/pandas-docs/stable/user_guide/indexing.html#returning-a-view-versus-a-copy\n",
            "  x_val_fold['response'] = y_val_fold\n",
            "<ipython-input-122-6a9237e0e14e>:82: SettingWithCopyWarning: \n",
            "A value is trying to be set on a copy of a slice from a DataFrame.\n",
            "Try using .loc[row_indexer,col_indexer] = value instead\n",
            "\n",
            "See the caveats in the documentation: https://pandas.pydata.org/pandas-docs/stable/user_guide/indexing.html#returning-a-view-versus-a-copy\n",
            "  x_val_fold['response'] = y_val_fold\n",
            "<ipython-input-122-6a9237e0e14e>:82: SettingWithCopyWarning: \n",
            "A value is trying to be set on a copy of a slice from a DataFrame.\n",
            "Try using .loc[row_indexer,col_indexer] = value instead\n",
            "\n",
            "See the caveats in the documentation: https://pandas.pydata.org/pandas-docs/stable/user_guide/indexing.html#returning-a-view-versus-a-copy\n",
            "  x_val_fold['response'] = y_val_fold\n",
            "<ipython-input-122-6a9237e0e14e>:82: SettingWithCopyWarning: \n",
            "A value is trying to be set on a copy of a slice from a DataFrame.\n",
            "Try using .loc[row_indexer,col_indexer] = value instead\n",
            "\n",
            "See the caveats in the documentation: https://pandas.pydata.org/pandas-docs/stable/user_guide/indexing.html#returning-a-view-versus-a-copy\n",
            "  x_val_fold['response'] = y_val_fold\n",
            "<ipython-input-122-6a9237e0e14e>:82: SettingWithCopyWarning: \n",
            "A value is trying to be set on a copy of a slice from a DataFrame.\n",
            "Try using .loc[row_indexer,col_indexer] = value instead\n",
            "\n",
            "See the caveats in the documentation: https://pandas.pydata.org/pandas-docs/stable/user_guide/indexing.html#returning-a-view-versus-a-copy\n",
            "  x_val_fold['response'] = y_val_fold\n"
          ]
        }
      ]
    },
    {
      "cell_type": "code",
      "source": [
        "knn_cv"
      ],
      "metadata": {
        "colab": {
          "base_uri": "https://localhost:8080/"
        },
        "id": "PYyzcT1hE6Ti",
        "outputId": "dd586f95-31ad-4430-996a-b4563c1d25b6"
      },
      "execution_count": null,
      "outputs": [
        {
          "output_type": "execute_result",
          "data": {
            "text/plain": [
              "{'Model Name': 'KNN CV',\n",
              " 'Precision_at_k': '0.218 +/- 0.001',\n",
              " 'Recall_at_k': '0.894 +/- 0.004'}"
            ]
          },
          "metadata": {},
          "execution_count": 174
        }
      ]
    },
    {
      "cell_type": "code",
      "source": [
        "rp_knn_cv = pd.DataFrame.from_dict(knn_cv, orient='index').T\n",
        "rp_knn_cv"
      ],
      "metadata": {
        "colab": {
          "base_uri": "https://localhost:8080/"
        },
        "id": "vUEs4VbcoLMF",
        "outputId": "067616e5-5f4a-49be-a408-0c833c94a11e"
      },
      "execution_count": null,
      "outputs": [
        {
          "output_type": "execute_result",
          "data": {
            "text/plain": [
              "  Model Name   Precision_at_k      Recall_at_k\n",
              "0     KNN CV  0.218 +/- 0.001  0.894 +/- 0.004"
            ],
            "text/html": [
              "\n",
              "  <div id=\"df-43d513e2-bae3-4bea-a5df-3f0460b2a601\">\n",
              "    <div class=\"colab-df-container\">\n",
              "      <div>\n",
              "<style scoped>\n",
              "    .dataframe tbody tr th:only-of-type {\n",
              "        vertical-align: middle;\n",
              "    }\n",
              "\n",
              "    .dataframe tbody tr th {\n",
              "        vertical-align: top;\n",
              "    }\n",
              "\n",
              "    .dataframe thead th {\n",
              "        text-align: right;\n",
              "    }\n",
              "</style>\n",
              "<table border=\"1\" class=\"dataframe\">\n",
              "  <thead>\n",
              "    <tr style=\"text-align: right;\">\n",
              "      <th></th>\n",
              "      <th>Model Name</th>\n",
              "      <th>Precision_at_k</th>\n",
              "      <th>Recall_at_k</th>\n",
              "    </tr>\n",
              "  </thead>\n",
              "  <tbody>\n",
              "    <tr>\n",
              "      <th>0</th>\n",
              "      <td>KNN CV</td>\n",
              "      <td>0.218 +/- 0.001</td>\n",
              "      <td>0.894 +/- 0.004</td>\n",
              "    </tr>\n",
              "  </tbody>\n",
              "</table>\n",
              "</div>\n",
              "      <button class=\"colab-df-convert\" onclick=\"convertToInteractive('df-43d513e2-bae3-4bea-a5df-3f0460b2a601')\"\n",
              "              title=\"Convert this dataframe to an interactive table.\"\n",
              "              style=\"display:none;\">\n",
              "        \n",
              "  <svg xmlns=\"http://www.w3.org/2000/svg\" height=\"24px\"viewBox=\"0 0 24 24\"\n",
              "       width=\"24px\">\n",
              "    <path d=\"M0 0h24v24H0V0z\" fill=\"none\"/>\n",
              "    <path d=\"M18.56 5.44l.94 2.06.94-2.06 2.06-.94-2.06-.94-.94-2.06-.94 2.06-2.06.94zm-11 1L8.5 8.5l.94-2.06 2.06-.94-2.06-.94L8.5 2.5l-.94 2.06-2.06.94zm10 10l.94 2.06.94-2.06 2.06-.94-2.06-.94-.94-2.06-.94 2.06-2.06.94z\"/><path d=\"M17.41 7.96l-1.37-1.37c-.4-.4-.92-.59-1.43-.59-.52 0-1.04.2-1.43.59L10.3 9.45l-7.72 7.72c-.78.78-.78 2.05 0 2.83L4 21.41c.39.39.9.59 1.41.59.51 0 1.02-.2 1.41-.59l7.78-7.78 2.81-2.81c.8-.78.8-2.07 0-2.86zM5.41 20L4 18.59l7.72-7.72 1.47 1.35L5.41 20z\"/>\n",
              "  </svg>\n",
              "      </button>\n",
              "      \n",
              "  <style>\n",
              "    .colab-df-container {\n",
              "      display:flex;\n",
              "      flex-wrap:wrap;\n",
              "      gap: 12px;\n",
              "    }\n",
              "\n",
              "    .colab-df-convert {\n",
              "      background-color: #E8F0FE;\n",
              "      border: none;\n",
              "      border-radius: 50%;\n",
              "      cursor: pointer;\n",
              "      display: none;\n",
              "      fill: #1967D2;\n",
              "      height: 32px;\n",
              "      padding: 0 0 0 0;\n",
              "      width: 32px;\n",
              "    }\n",
              "\n",
              "    .colab-df-convert:hover {\n",
              "      background-color: #E2EBFA;\n",
              "      box-shadow: 0px 1px 2px rgba(60, 64, 67, 0.3), 0px 1px 3px 1px rgba(60, 64, 67, 0.15);\n",
              "      fill: #174EA6;\n",
              "    }\n",
              "\n",
              "    [theme=dark] .colab-df-convert {\n",
              "      background-color: #3B4455;\n",
              "      fill: #D2E3FC;\n",
              "    }\n",
              "\n",
              "    [theme=dark] .colab-df-convert:hover {\n",
              "      background-color: #434B5C;\n",
              "      box-shadow: 0px 1px 3px 1px rgba(0, 0, 0, 0.15);\n",
              "      filter: drop-shadow(0px 1px 2px rgba(0, 0, 0, 0.3));\n",
              "      fill: #FFFFFF;\n",
              "    }\n",
              "  </style>\n",
              "\n",
              "      <script>\n",
              "        const buttonEl =\n",
              "          document.querySelector('#df-43d513e2-bae3-4bea-a5df-3f0460b2a601 button.colab-df-convert');\n",
              "        buttonEl.style.display =\n",
              "          google.colab.kernel.accessAllowed ? 'block' : 'none';\n",
              "\n",
              "        async function convertToInteractive(key) {\n",
              "          const element = document.querySelector('#df-43d513e2-bae3-4bea-a5df-3f0460b2a601');\n",
              "          const dataTable =\n",
              "            await google.colab.kernel.invokeFunction('convertToInteractive',\n",
              "                                                     [key], {});\n",
              "          if (!dataTable) return;\n",
              "\n",
              "          const docLinkHtml = 'Like what you see? Visit the ' +\n",
              "            '<a target=\"_blank\" href=https://colab.research.google.com/notebooks/data_table.ipynb>data table notebook</a>'\n",
              "            + ' to learn more about interactive tables.';\n",
              "          element.innerHTML = '';\n",
              "          dataTable['output_type'] = 'display_data';\n",
              "          await google.colab.output.renderOutput(dataTable, element);\n",
              "          const docLink = document.createElement('div');\n",
              "          docLink.innerHTML = docLinkHtml;\n",
              "          element.appendChild(docLink);\n",
              "        }\n",
              "      </script>\n",
              "    </div>\n",
              "  </div>\n",
              "  "
            ]
          },
          "metadata": {},
          "execution_count": 175
        }
      ]
    },
    {
      "cell_type": "code",
      "source": [],
      "metadata": {
        "id": "wm7u1CeroLO_"
      },
      "execution_count": null,
      "outputs": []
    },
    {
      "cell_type": "markdown",
      "source": [
        "### 6.2 Logistic Regression"
      ],
      "metadata": {
        "id": "1bhR_Np3c4x5"
      }
    },
    {
      "cell_type": "code",
      "source": [
        "# model definition\n",
        "lr_model = lm.LogisticRegression( random_state=42 ) \n",
        "\n",
        "# model training\n",
        "lr_model.fit( x_train, y_train )\n",
        "\n",
        "# model prediction\n",
        "yhat_lr = lr_model.predict_proba( x_val )"
      ],
      "metadata": {
        "id": "tcq9s4c5d5dl"
      },
      "execution_count": null,
      "outputs": []
    },
    {
      "cell_type": "code",
      "source": [
        "\n",
        "fig, axs = plt.subplots(ncols = 2, figsize = (15, 5))\n",
        "# Accumulative Gain\n",
        "skplt.metrics.plot_cumulative_gain( y_val, yhat_lr, ax = axs[0])\n",
        "\n",
        "# Lift\n",
        "skplt.metrics.plot_lift_curve(y_val, yhat_lr, ax = axs[1]);"
      ],
      "metadata": {
        "colab": {
          "base_uri": "https://localhost:8080/"
        },
        "id": "gxkbDdcZeC9q",
        "outputId": "6dc1cb7a-55b9-4dc6-cc15-bface6941c2b"
      },
      "execution_count": null,
      "outputs": [
        {
          "output_type": "display_data",
          "data": {
            "text/plain": [
              "<Figure size 1080x360 with 2 Axes>"
            ],
            "image/png": "[encoded data removed]"
          },
          "metadata": {
            "needs_background": "light"
          }
        }
      ]
    },
    {
      "cell_type": "code",
      "source": [
        "# Performance\n",
        "# compute precision at k\n",
        "lr_precision_at_k = round(precision_at_k(df6, x_validation, y_validation, yhat_lr, 25000), 3)\n",
        "print('LRegression Model - Precision at K: {}'.format(lr_precision_at_k))\n",
        "\n",
        "# compute Recall at k\n",
        "lr_recall_at_k = round(recall_at_k(df6, x_validation, y_validation, yhat_lr, 25000), 3)\n",
        "print('LRegression Model - Recall at K: {}'.format(lr_recall_at_k))"
      ],
      "metadata": {
        "colab": {
          "base_uri": "https://localhost:8080/"
        },
        "id": "5YQnqDFgGWVw",
        "outputId": "8ad33ea1-e7c5-4687-912c-76942e0377e7"
      },
      "execution_count": null,
      "outputs": [
        {
          "output_type": "stream",
          "name": "stdout",
          "text": [
            "LRegression Model - Precision at K: 0.272\n",
            "LRegression Model - Recall at K: 0.898\n"
          ]
        }
      ]
    },
    {
      "cell_type": "markdown",
      "source": [
        "#### 6.2.1 Logistic Regression - Cross Validation"
      ],
      "metadata": {
        "id": "r3-X7HYEF8n-"
      }
    },
    {
      "cell_type": "code",
      "source": [
        "lr_cv  = cross_validation (df6, 5, 'LRegression CV', lr_model, x_train, y_train, 20000)\n"
      ],
      "metadata": {
        "colab": {
          "base_uri": "https://localhost:8080/"
        },
        "id": "CVhfrNg7F8Dd",
        "outputId": "d1413376-5bca-400c-a84b-d1d975f06bd2"
      },
      "execution_count": null,
      "outputs": [
        {
          "output_type": "stream",
          "name": "stderr",
          "text": [
            "<ipython-input-122-6a9237e0e14e>:82: SettingWithCopyWarning: \n",
            "A value is trying to be set on a copy of a slice from a DataFrame.\n",
            "Try using .loc[row_indexer,col_indexer] = value instead\n",
            "\n",
            "See the caveats in the documentation: https://pandas.pydata.org/pandas-docs/stable/user_guide/indexing.html#returning-a-view-versus-a-copy\n",
            "  x_val_fold['response'] = y_val_fold\n",
            "<ipython-input-122-6a9237e0e14e>:82: SettingWithCopyWarning: \n",
            "A value is trying to be set on a copy of a slice from a DataFrame.\n",
            "Try using .loc[row_indexer,col_indexer] = value instead\n",
            "\n",
            "See the caveats in the documentation: https://pandas.pydata.org/pandas-docs/stable/user_guide/indexing.html#returning-a-view-versus-a-copy\n",
            "  x_val_fold['response'] = y_val_fold\n",
            "<ipython-input-122-6a9237e0e14e>:82: SettingWithCopyWarning: \n",
            "A value is trying to be set on a copy of a slice from a DataFrame.\n",
            "Try using .loc[row_indexer,col_indexer] = value instead\n",
            "\n",
            "See the caveats in the documentation: https://pandas.pydata.org/pandas-docs/stable/user_guide/indexing.html#returning-a-view-versus-a-copy\n",
            "  x_val_fold['response'] = y_val_fold\n",
            "<ipython-input-122-6a9237e0e14e>:82: SettingWithCopyWarning: \n",
            "A value is trying to be set on a copy of a slice from a DataFrame.\n",
            "Try using .loc[row_indexer,col_indexer] = value instead\n",
            "\n",
            "See the caveats in the documentation: https://pandas.pydata.org/pandas-docs/stable/user_guide/indexing.html#returning-a-view-versus-a-copy\n",
            "  x_val_fold['response'] = y_val_fold\n",
            "<ipython-input-122-6a9237e0e14e>:82: SettingWithCopyWarning: \n",
            "A value is trying to be set on a copy of a slice from a DataFrame.\n",
            "Try using .loc[row_indexer,col_indexer] = value instead\n",
            "\n",
            "See the caveats in the documentation: https://pandas.pydata.org/pandas-docs/stable/user_guide/indexing.html#returning-a-view-versus-a-copy\n",
            "  x_val_fold['response'] = y_val_fold\n"
          ]
        }
      ]
    },
    {
      "cell_type": "code",
      "source": [
        "lr_cv "
      ],
      "metadata": {
        "colab": {
          "base_uri": "https://localhost:8080/"
        },
        "id": "XUz5-gXNF8LW",
        "outputId": "1541bb11-8d24-40d6-c941-38e5a0393cca"
      },
      "execution_count": null,
      "outputs": [
        {
          "output_type": "execute_result",
          "data": {
            "text/plain": [
              "{'Model Name': 'LRegression CV',\n",
              " 'Precision_at_k': '0.275 +/- 0.001',\n",
              " 'Recall_at_k': '0.903 +/- 0.004'}"
            ]
          },
          "metadata": {},
          "execution_count": 180
        }
      ]
    },
    {
      "cell_type": "code",
      "source": [
        "rp_lr_cv = pd.DataFrame.from_dict(lr_cv, orient='index').T\n",
        "rp_lr_cv"
      ],
      "metadata": {
        "colab": {
          "base_uri": "https://localhost:8080/"
        },
        "id": "21mQndcXF8OH",
        "outputId": "bd1e311e-bc04-4a6f-f8ac-f13c8155f3b9"
      },
      "execution_count": null,
      "outputs": [
        {
          "output_type": "execute_result",
          "data": {
            "text/plain": [
              "       Model Name   Precision_at_k      Recall_at_k\n",
              "0  LRegression CV  0.275 +/- 0.001  0.903 +/- 0.004"
            ],
            "text/html": [
              "\n",
              "  <div id=\"df-85e86cc4-d053-4763-9ebf-07f8d342cc38\">\n",
              "    <div class=\"colab-df-container\">\n",
              "      <div>\n",
              "<style scoped>\n",
              "    .dataframe tbody tr th:only-of-type {\n",
              "        vertical-align: middle;\n",
              "    }\n",
              "\n",
              "    .dataframe tbody tr th {\n",
              "        vertical-align: top;\n",
              "    }\n",
              "\n",
              "    .dataframe thead th {\n",
              "        text-align: right;\n",
              "    }\n",
              "</style>\n",
              "<table border=\"1\" class=\"dataframe\">\n",
              "  <thead>\n",
              "    <tr style=\"text-align: right;\">\n",
              "      <th></th>\n",
              "      <th>Model Name</th>\n",
              "      <th>Precision_at_k</th>\n",
              "      <th>Recall_at_k</th>\n",
              "    </tr>\n",
              "  </thead>\n",
              "  <tbody>\n",
              "    <tr>\n",
              "      <th>0</th>\n",
              "      <td>LRegression CV</td>\n",
              "      <td>0.275 +/- 0.001</td>\n",
              "      <td>0.903 +/- 0.004</td>\n",
              "    </tr>\n",
              "  </tbody>\n",
              "</table>\n",
              "</div>\n",
              "      <button class=\"colab-df-convert\" onclick=\"convertToInteractive('df-85e86cc4-d053-4763-9ebf-07f8d342cc38')\"\n",
              "              title=\"Convert this dataframe to an interactive table.\"\n",
              "              style=\"display:none;\">\n",
              "        \n",
              "  <svg xmlns=\"http://www.w3.org/2000/svg\" height=\"24px\"viewBox=\"0 0 24 24\"\n",
              "       width=\"24px\">\n",
              "    <path d=\"M0 0h24v24H0V0z\" fill=\"none\"/>\n",
              "    <path d=\"M18.56 5.44l.94 2.06.94-2.06 2.06-.94-2.06-.94-.94-2.06-.94 2.06-2.06.94zm-11 1L8.5 8.5l.94-2.06 2.06-.94-2.06-.94L8.5 2.5l-.94 2.06-2.06.94zm10 10l.94 2.06.94-2.06 2.06-.94-2.06-.94-.94-2.06-.94 2.06-2.06.94z\"/><path d=\"M17.41 7.96l-1.37-1.37c-.4-.4-.92-.59-1.43-.59-.52 0-1.04.2-1.43.59L10.3 9.45l-7.72 7.72c-.78.78-.78 2.05 0 2.83L4 21.41c.39.39.9.59 1.41.59.51 0 1.02-.2 1.41-.59l7.78-7.78 2.81-2.81c.8-.78.8-2.07 0-2.86zM5.41 20L4 18.59l7.72-7.72 1.47 1.35L5.41 20z\"/>\n",
              "  </svg>\n",
              "      </button>\n",
              "      \n",
              "  <style>\n",
              "    .colab-df-container {\n",
              "      display:flex;\n",
              "      flex-wrap:wrap;\n",
              "      gap: 12px;\n",
              "    }\n",
              "\n",
              "    .colab-df-convert {\n",
              "      background-color: #E8F0FE;\n",
              "      border: none;\n",
              "      border-radius: 50%;\n",
              "      cursor: pointer;\n",
              "      display: none;\n",
              "      fill: #1967D2;\n",
              "      height: 32px;\n",
              "      padding: 0 0 0 0;\n",
              "      width: 32px;\n",
              "    }\n",
              "\n",
              "    .colab-df-convert:hover {\n",
              "      background-color: #E2EBFA;\n",
              "      box-shadow: 0px 1px 2px rgba(60, 64, 67, 0.3), 0px 1px 3px 1px rgba(60, 64, 67, 0.15);\n",
              "      fill: #174EA6;\n",
              "    }\n",
              "\n",
              "    [theme=dark] .colab-df-convert {\n",
              "      background-color: #3B4455;\n",
              "      fill: #D2E3FC;\n",
              "    }\n",
              "\n",
              "    [theme=dark] .colab-df-convert:hover {\n",
              "      background-color: #434B5C;\n",
              "      box-shadow: 0px 1px 3px 1px rgba(0, 0, 0, 0.15);\n",
              "      filter: drop-shadow(0px 1px 2px rgba(0, 0, 0, 0.3));\n",
              "      fill: #FFFFFF;\n",
              "    }\n",
              "  </style>\n",
              "\n",
              "      <script>\n",
              "        const buttonEl =\n",
              "          document.querySelector('#df-85e86cc4-d053-4763-9ebf-07f8d342cc38 button.colab-df-convert');\n",
              "        buttonEl.style.display =\n",
              "          google.colab.kernel.accessAllowed ? 'block' : 'none';\n",
              "\n",
              "        async function convertToInteractive(key) {\n",
              "          const element = document.querySelector('#df-85e86cc4-d053-4763-9ebf-07f8d342cc38');\n",
              "          const dataTable =\n",
              "            await google.colab.kernel.invokeFunction('convertToInteractive',\n",
              "                                                     [key], {});\n",
              "          if (!dataTable) return;\n",
              "\n",
              "          const docLinkHtml = 'Like what you see? Visit the ' +\n",
              "            '<a target=\"_blank\" href=https://colab.research.google.com/notebooks/data_table.ipynb>data table notebook</a>'\n",
              "            + ' to learn more about interactive tables.';\n",
              "          element.innerHTML = '';\n",
              "          dataTable['output_type'] = 'display_data';\n",
              "          await google.colab.output.renderOutput(dataTable, element);\n",
              "          const docLink = document.createElement('div');\n",
              "          docLink.innerHTML = docLinkHtml;\n",
              "          element.appendChild(docLink);\n",
              "        }\n",
              "      </script>\n",
              "    </div>\n",
              "  </div>\n",
              "  "
            ]
          },
          "metadata": {},
          "execution_count": 181
        }
      ]
    },
    {
      "cell_type": "code",
      "source": [],
      "metadata": {
        "id": "DAU1rWHyF8RF"
      },
      "execution_count": null,
      "outputs": []
    },
    {
      "cell_type": "markdown",
      "source": [
        "### 6.3 Extra Trees Classifier"
      ],
      "metadata": {
        "id": "6RdMWJwsc42Y"
      }
    },
    {
      "cell_type": "code",
      "source": [
        "# model definition\n",
        "#et = en.ExtraTreesClassifier( n_estimators=1000, n_jobs=-1, random_state=42 ) \n",
        "\n",
        "# model training\n",
        "#et.fit( x_train, y_train )\n",
        "\n",
        "# model prediction\n",
        "#yhat_et = et.predict_proba( x_val )"
      ],
      "metadata": {
        "id": "Zrgcw91OeG7U"
      },
      "execution_count": null,
      "outputs": []
    },
    {
      "cell_type": "code",
      "source": [
        "#fig, axs = plt.subplots(ncols = 2, figsize = (15, 5))\n",
        "# Accumulative Gain\n",
        "#skplt.metrics.plot_cumulative_gain( y_val, yhat_et, ax = axs[0])\n",
        "\n",
        "# Lift\n",
        "#skplt.metrics.plot_lift_curve(y_val, yhat_et, ax = axs[1]);"
      ],
      "metadata": {
        "id": "ruw3wwdPeG95"
      },
      "execution_count": null,
      "outputs": []
    },
    {
      "cell_type": "code",
      "source": [
        "# Performance\n",
        "\n",
        "# compute precision at k\n",
        "#et_precision_at_k = round(precision_at_k(df6, x_validation, y_validation, yhat_et, 25000), 3)\n",
        "#print('ETrees Model - Precision at K: {}'.format(et_precision_at_k))\n",
        "\n",
        "# compute Recall at k\n",
        "#et_recall_at_k = round(recall_at_k(df6, x_validation, y_validation, yhat_et, 25000), 3)\n",
        "#print('ETrees Model - Recall at K: {}'.format(et_recall_at_k))"
      ],
      "metadata": {
        "id": "9j9bxGjjFy_P"
      },
      "execution_count": null,
      "outputs": []
    },
    {
      "cell_type": "markdown",
      "source": [
        "#### 6.3.1 Extra Tress - Cross Validation"
      ],
      "metadata": {
        "id": "FReXPKU-Gcw7"
      }
    },
    {
      "cell_type": "code",
      "source": [
        "#et_cv  = cross_validation (df6, 5, 'ETrees CV', et, x_train, y_train, 20000)"
      ],
      "metadata": {
        "id": "eQKs6IzXFzHg"
      },
      "execution_count": null,
      "outputs": []
    },
    {
      "cell_type": "code",
      "source": [
        "#rp_et_cv = pd.DataFrame.from_dict(et_cv, orient='index').T"
      ],
      "metadata": {
        "id": "swiipvekGfvg"
      },
      "execution_count": null,
      "outputs": []
    },
    {
      "cell_type": "code",
      "source": [],
      "metadata": {
        "id": "X4hNlvm5Gfya"
      },
      "execution_count": null,
      "outputs": []
    },
    {
      "cell_type": "markdown",
      "source": [
        "### 6.4 Random Forest"
      ],
      "metadata": {
        "id": "PUZ-BqsTc46o"
      }
    },
    {
      "cell_type": "code",
      "source": [
        "# model definition\n",
        "#rf = en.RandomForestClassifier( n_estimators=1000, n_jobs=-1, random_state=42 ) \n",
        "\n",
        "# model training\n",
        "#rf.fit( x_train, y_train )\n",
        "\n",
        "# model prediction\n",
        "#yhat_rf = et.predict_proba( x_val )"
      ],
      "metadata": {
        "id": "STdBa17WeSzj"
      },
      "execution_count": null,
      "outputs": []
    },
    {
      "cell_type": "code",
      "source": [
        "\n",
        "# Accumulative Gain\n",
        "#fig, axs = plt.subplots(ncols= 2, figsize = (15,5))\n",
        "#skplt.metrics.plot_cumulative_gain(y_val, yhat_rf, ax = axs[0])\n",
        "\n",
        "# Lift\n",
        "#skplt.metrics.plot_lift_curve(y_val, yhat_rf, ax = axs[1]);"
      ],
      "metadata": {
        "id": "X3HVEjyOeUdO"
      },
      "execution_count": null,
      "outputs": []
    },
    {
      "cell_type": "code",
      "source": [
        "# Performance\n",
        "\n",
        "# compute precision at k\n",
        "#rfc_precision_at_k = round(precision_at_k(, x_validation, y_validation, yhat_rf, 25000), 3)\n",
        "#print('RFC Model - Precision at K: {}'.format(rfc_precision_at_k))\n",
        "\n",
        "# compute Recall at k\n",
        "##rfc_recall_at_k = round(recall_at_k(, x_validation, y_validation, yhat_rf, 25000), 3)\n",
        "#print('RFC Model - Recall at K: {}'.format(rfc_recall_at_k))"
      ],
      "metadata": {
        "id": "4H2TDH1GGtcK"
      },
      "execution_count": null,
      "outputs": []
    },
    {
      "cell_type": "markdown",
      "source": [
        "#### 6.4.1 Random Forest - Cross Validation"
      ],
      "metadata": {
        "id": "mQf5skHpHLA0"
      }
    },
    {
      "cell_type": "code",
      "source": [
        "#rfc_cv  = cross_validation (, 5, 'RForest CV', rf, x_train, y_train, 20000)"
      ],
      "metadata": {
        "id": "a0r6WgnEGv6C"
      },
      "execution_count": null,
      "outputs": []
    },
    {
      "cell_type": "code",
      "source": [
        "#rp_rfc_cv = pd.DataFrame.from_dict(rfc_cv, orient='index').T"
      ],
      "metadata": {
        "id": "mCspigosGwX0"
      },
      "execution_count": null,
      "outputs": []
    },
    {
      "cell_type": "markdown",
      "source": [
        "### 6.5 XGBoost Classifier"
      ],
      "metadata": {
        "id": "QYOiIa0vG2Ws"
      }
    },
    {
      "cell_type": "code",
      "source": [
        "x_train"
      ],
      "metadata": {
        "colab": {
          "base_uri": "https://localhost:8080/",
          "height": 481
        },
        "id": "7jLZ9D8UODDF",
        "outputId": "d836a058-f250-4113-c621-64415d91f475"
      },
      "execution_count": null,
      "outputs": [
        {
          "output_type": "execute_result",
          "data": {
            "text/plain": [
              "        annual_premium   vintage       age  region_code  vehicle_damage  \\\n",
              "75625         0.663898  0.868512  0.353846     0.188286               0   \n",
              "7415         -0.260028  0.352941  0.061538     0.082447               0   \n",
              "295111        0.475517  0.833910  0.384615     0.077218               0   \n",
              "201551       -0.707068  0.643599  0.461538     0.188286               1   \n",
              "89216         1.752931  0.647059  0.076923     0.188286               1   \n",
              "...                ...       ...       ...          ...             ...   \n",
              "322232        2.610047  0.795848  0.384615     0.188286               0   \n",
              "339832       -0.815497  0.948097  0.030769     0.100533               0   \n",
              "12056        -0.795418  0.391003  0.046154     0.102169               0   \n",
              "128635       -1.347053  0.141869  0.015385     0.085973               0   \n",
              "335666       -0.452516  0.207612  0.030769     0.065578               0   \n",
              "\n",
              "        policy_sales_channel  vehicle_damage  previously_insured  \n",
              "75625               0.212527               0                   0  \n",
              "7415                0.387389               0                   1  \n",
              "295111              0.195955               0                   1  \n",
              "201551              0.195955               1                   0  \n",
              "89216               0.212527               1                   0  \n",
              "...                      ...             ...                 ...  \n",
              "322232              0.195955               0                   1  \n",
              "339832              0.387389               0                   1  \n",
              "12056               0.387389               0                   1  \n",
              "128635              0.387389               0                   0  \n",
              "335666              0.387389               0                   1  \n",
              "\n",
              "[252359 rows x 8 columns]"
            ],
            "text/html": [
              "\n",
              "  <div id=\"df-8397ed36-ef1a-467d-b164-715eb32b4287\">\n",
              "    <div class=\"colab-df-container\">\n",
              "      <div>\n",
              "<style scoped>\n",
              "    .dataframe tbody tr th:only-of-type {\n",
              "        vertical-align: middle;\n",
              "    }\n",
              "\n",
              "    .dataframe tbody tr th {\n",
              "        vertical-align: top;\n",
              "    }\n",
              "\n",
              "    .dataframe thead th {\n",
              "        text-align: right;\n",
              "    }\n",
              "</style>\n",
              "<table border=\"1\" class=\"dataframe\">\n",
              "  <thead>\n",
              "    <tr style=\"text-align: right;\">\n",
              "      <th></th>\n",
              "      <th>annual_premium</th>\n",
              "      <th>vintage</th>\n",
              "      <th>age</th>\n",
              "      <th>region_code</th>\n",
              "      <th>vehicle_damage</th>\n",
              "      <th>policy_sales_channel</th>\n",
              "      <th>vehicle_damage</th>\n",
              "      <th>previously_insured</th>\n",
              "    </tr>\n",
              "  </thead>\n",
              "  <tbody>\n",
              "    <tr>\n",
              "      <th>75625</th>\n",
              "      <td>0.663898</td>\n",
              "      <td>0.868512</td>\n",
              "      <td>0.353846</td>\n",
              "      <td>0.188286</td>\n",
              "      <td>0</td>\n",
              "      <td>0.212527</td>\n",
              "      <td>0</td>\n",
              "      <td>0</td>\n",
              "    </tr>\n",
              "    <tr>\n",
              "      <th>7415</th>\n",
              "      <td>-0.260028</td>\n",
              "      <td>0.352941</td>\n",
              "      <td>0.061538</td>\n",
              "      <td>0.082447</td>\n",
              "      <td>0</td>\n",
              "      <td>0.387389</td>\n",
              "      <td>0</td>\n",
              "      <td>1</td>\n",
              "    </tr>\n",
              "    <tr>\n",
              "      <th>295111</th>\n",
              "      <td>0.475517</td>\n",
              "      <td>0.833910</td>\n",
              "      <td>0.384615</td>\n",
              "      <td>0.077218</td>\n",
              "      <td>0</td>\n",
              "      <td>0.195955</td>\n",
              "      <td>0</td>\n",
              "      <td>1</td>\n",
              "    </tr>\n",
              "    <tr>\n",
              "      <th>201551</th>\n",
              "      <td>-0.707068</td>\n",
              "      <td>0.643599</td>\n",
              "      <td>0.461538</td>\n",
              "      <td>0.188286</td>\n",
              "      <td>1</td>\n",
              "      <td>0.195955</td>\n",
              "      <td>1</td>\n",
              "      <td>0</td>\n",
              "    </tr>\n",
              "    <tr>\n",
              "      <th>89216</th>\n",
              "      <td>1.752931</td>\n",
              "      <td>0.647059</td>\n",
              "      <td>0.076923</td>\n",
              "      <td>0.188286</td>\n",
              "      <td>1</td>\n",
              "      <td>0.212527</td>\n",
              "      <td>1</td>\n",
              "      <td>0</td>\n",
              "    </tr>\n",
              "    <tr>\n",
              "      <th>...</th>\n",
              "      <td>...</td>\n",
              "      <td>...</td>\n",
              "      <td>...</td>\n",
              "      <td>...</td>\n",
              "      <td>...</td>\n",
              "      <td>...</td>\n",
              "      <td>...</td>\n",
              "      <td>...</td>\n",
              "    </tr>\n",
              "    <tr>\n",
              "      <th>322232</th>\n",
              "      <td>2.610047</td>\n",
              "      <td>0.795848</td>\n",
              "      <td>0.384615</td>\n",
              "      <td>0.188286</td>\n",
              "      <td>0</td>\n",
              "      <td>0.195955</td>\n",
              "      <td>0</td>\n",
              "      <td>1</td>\n",
              "    </tr>\n",
              "    <tr>\n",
              "      <th>339832</th>\n",
              "      <td>-0.815497</td>\n",
              "      <td>0.948097</td>\n",
              "      <td>0.030769</td>\n",
              "      <td>0.100533</td>\n",
              "      <td>0</td>\n",
              "      <td>0.387389</td>\n",
              "      <td>0</td>\n",
              "      <td>1</td>\n",
              "    </tr>\n",
              "    <tr>\n",
              "      <th>12056</th>\n",
              "      <td>-0.795418</td>\n",
              "      <td>0.391003</td>\n",
              "      <td>0.046154</td>\n",
              "      <td>0.102169</td>\n",
              "      <td>0</td>\n",
              "      <td>0.387389</td>\n",
              "      <td>0</td>\n",
              "      <td>1</td>\n",
              "    </tr>\n",
              "    <tr>\n",
              "      <th>128635</th>\n",
              "      <td>-1.347053</td>\n",
              "      <td>0.141869</td>\n",
              "      <td>0.015385</td>\n",
              "      <td>0.085973</td>\n",
              "      <td>0</td>\n",
              "      <td>0.387389</td>\n",
              "      <td>0</td>\n",
              "      <td>0</td>\n",
              "    </tr>\n",
              "    <tr>\n",
              "      <th>335666</th>\n",
              "      <td>-0.452516</td>\n",
              "      <td>0.207612</td>\n",
              "      <td>0.030769</td>\n",
              "      <td>0.065578</td>\n",
              "      <td>0</td>\n",
              "      <td>0.387389</td>\n",
              "      <td>0</td>\n",
              "      <td>1</td>\n",
              "    </tr>\n",
              "  </tbody>\n",
              "</table>\n",
              "<p>252359 rows × 8 columns</p>\n",
              "</div>\n",
              "      <button class=\"colab-df-convert\" onclick=\"convertToInteractive('df-8397ed36-ef1a-467d-b164-715eb32b4287')\"\n",
              "              title=\"Convert this dataframe to an interactive table.\"\n",
              "              style=\"display:none;\">\n",
              "        \n",
              "  <svg xmlns=\"http://www.w3.org/2000/svg\" height=\"24px\"viewBox=\"0 0 24 24\"\n",
              "       width=\"24px\">\n",
              "    <path d=\"M0 0h24v24H0V0z\" fill=\"none\"/>\n",
              "    <path d=\"M18.56 5.44l.94 2.06.94-2.06 2.06-.94-2.06-.94-.94-2.06-.94 2.06-2.06.94zm-11 1L8.5 8.5l.94-2.06 2.06-.94-2.06-.94L8.5 2.5l-.94 2.06-2.06.94zm10 10l.94 2.06.94-2.06 2.06-.94-2.06-.94-.94-2.06-.94 2.06-2.06.94z\"/><path d=\"M17.41 7.96l-1.37-1.37c-.4-.4-.92-.59-1.43-.59-.52 0-1.04.2-1.43.59L10.3 9.45l-7.72 7.72c-.78.78-.78 2.05 0 2.83L4 21.41c.39.39.9.59 1.41.59.51 0 1.02-.2 1.41-.59l7.78-7.78 2.81-2.81c.8-.78.8-2.07 0-2.86zM5.41 20L4 18.59l7.72-7.72 1.47 1.35L5.41 20z\"/>\n",
              "  </svg>\n",
              "      </button>\n",
              "      \n",
              "  <style>\n",
              "    .colab-df-container {\n",
              "      display:flex;\n",
              "      flex-wrap:wrap;\n",
              "      gap: 12px;\n",
              "    }\n",
              "\n",
              "    .colab-df-convert {\n",
              "      background-color: #E8F0FE;\n",
              "      border: none;\n",
              "      border-radius: 50%;\n",
              "      cursor: pointer;\n",
              "      display: none;\n",
              "      fill: #1967D2;\n",
              "      height: 32px;\n",
              "      padding: 0 0 0 0;\n",
              "      width: 32px;\n",
              "    }\n",
              "\n",
              "    .colab-df-convert:hover {\n",
              "      background-color: #E2EBFA;\n",
              "      box-shadow: 0px 1px 2px rgba(60, 64, 67, 0.3), 0px 1px 3px 1px rgba(60, 64, 67, 0.15);\n",
              "      fill: #174EA6;\n",
              "    }\n",
              "\n",
              "    [theme=dark] .colab-df-convert {\n",
              "      background-color: #3B4455;\n",
              "      fill: #D2E3FC;\n",
              "    }\n",
              "\n",
              "    [theme=dark] .colab-df-convert:hover {\n",
              "      background-color: #434B5C;\n",
              "      box-shadow: 0px 1px 3px 1px rgba(0, 0, 0, 0.15);\n",
              "      filter: drop-shadow(0px 1px 2px rgba(0, 0, 0, 0.3));\n",
              "      fill: #FFFFFF;\n",
              "    }\n",
              "  </style>\n",
              "\n",
              "      <script>\n",
              "        const buttonEl =\n",
              "          document.querySelector('#df-8397ed36-ef1a-467d-b164-715eb32b4287 button.colab-df-convert');\n",
              "        buttonEl.style.display =\n",
              "          google.colab.kernel.accessAllowed ? 'block' : 'none';\n",
              "\n",
              "        async function convertToInteractive(key) {\n",
              "          const element = document.querySelector('#df-8397ed36-ef1a-467d-b164-715eb32b4287');\n",
              "          const dataTable =\n",
              "            await google.colab.kernel.invokeFunction('convertToInteractive',\n",
              "                                                     [key], {});\n",
              "          if (!dataTable) return;\n",
              "\n",
              "          const docLinkHtml = 'Like what you see? Visit the ' +\n",
              "            '<a target=\"_blank\" href=https://colab.research.google.com/notebooks/data_table.ipynb>data table notebook</a>'\n",
              "            + ' to learn more about interactive tables.';\n",
              "          element.innerHTML = '';\n",
              "          dataTable['output_type'] = 'display_data';\n",
              "          await google.colab.output.renderOutput(dataTable, element);\n",
              "          const docLink = document.createElement('div');\n",
              "          docLink.innerHTML = docLinkHtml;\n",
              "          element.appendChild(docLink);\n",
              "        }\n",
              "      </script>\n",
              "    </div>\n",
              "  </div>\n",
              "  "
            ]
          },
          "metadata": {},
          "execution_count": 192
        }
      ]
    },
    {
      "cell_type": "code",
      "source": [
        "x_train = x_train.T.drop_duplicates().T\n",
        "x_val = x_val.T.drop_duplicates().T"
      ],
      "metadata": {
        "id": "Vijh7sVyNzIc"
      },
      "execution_count": null,
      "outputs": []
    },
    {
      "cell_type": "code",
      "source": [
        "x_val"
      ],
      "metadata": {
        "colab": {
          "base_uri": "https://localhost:8080/",
          "height": 417
        },
        "id": "AfMEW1v8P05e",
        "outputId": "e45e0ed2-5e30-43b0-af37-05e512a235b7"
      },
      "execution_count": null,
      "outputs": [
        {
          "output_type": "execute_result",
          "data": {
            "text/plain": [
              "        annual_premium   vintage       age  region_code  vehicle_damage  \\\n",
              "284980        0.423767  0.498270  0.400000     0.188286             1.0   \n",
              "72057         0.009492  0.031142  0.076923     0.071837             0.0   \n",
              "163907       -0.793866  0.100346  0.184615     0.188286             1.0   \n",
              "347986        0.649660  0.698962  0.046154     0.077218             0.0   \n",
              "16865        -0.869894  0.553633  0.507692     0.199822             0.0   \n",
              "...                ...       ...       ...          ...             ...   \n",
              "310236       -1.545200  0.837370  0.092308     0.118807             0.0   \n",
              "312966        0.424679  0.512111  0.507692     0.129487             1.0   \n",
              "169471       -0.705334  0.733564  0.430769     0.147444             1.0   \n",
              "138741       -0.297996  0.245675  0.415385     0.188286             1.0   \n",
              "56353         1.788891  0.598616  0.446154     0.092652             1.0   \n",
              "\n",
              "        policy_sales_channel  previously_insured  \n",
              "284980              0.195955                 0.0  \n",
              "72057               0.387389                 0.0  \n",
              "163907              0.195955                 0.0  \n",
              "347986              0.387389                 1.0  \n",
              "16865               0.212527                 0.0  \n",
              "...                      ...                 ...  \n",
              "310236              0.387389                 1.0  \n",
              "312966              0.195955                 0.0  \n",
              "169471              0.000452                 0.0  \n",
              "138741              0.027069                 0.0  \n",
              "56353               0.387389                 0.0  \n",
              "\n",
              "[63090 rows x 7 columns]"
            ],
            "text/html": [
              "\n",
              "  <div id=\"df-8bec9f84-0e75-4bae-b887-8d98baffc8a9\">\n",
              "    <div class=\"colab-df-container\">\n",
              "      <div>\n",
              "<style scoped>\n",
              "    .dataframe tbody tr th:only-of-type {\n",
              "        vertical-align: middle;\n",
              "    }\n",
              "\n",
              "    .dataframe tbody tr th {\n",
              "        vertical-align: top;\n",
              "    }\n",
              "\n",
              "    .dataframe thead th {\n",
              "        text-align: right;\n",
              "    }\n",
              "</style>\n",
              "<table border=\"1\" class=\"dataframe\">\n",
              "  <thead>\n",
              "    <tr style=\"text-align: right;\">\n",
              "      <th></th>\n",
              "      <th>annual_premium</th>\n",
              "      <th>vintage</th>\n",
              "      <th>age</th>\n",
              "      <th>region_code</th>\n",
              "      <th>vehicle_damage</th>\n",
              "      <th>policy_sales_channel</th>\n",
              "      <th>previously_insured</th>\n",
              "    </tr>\n",
              "  </thead>\n",
              "  <tbody>\n",
              "    <tr>\n",
              "      <th>284980</th>\n",
              "      <td>0.423767</td>\n",
              "      <td>0.498270</td>\n",
              "      <td>0.400000</td>\n",
              "      <td>0.188286</td>\n",
              "      <td>1.0</td>\n",
              "      <td>0.195955</td>\n",
              "      <td>0.0</td>\n",
              "    </tr>\n",
              "    <tr>\n",
              "      <th>72057</th>\n",
              "      <td>0.009492</td>\n",
              "      <td>0.031142</td>\n",
              "      <td>0.076923</td>\n",
              "      <td>0.071837</td>\n",
              "      <td>0.0</td>\n",
              "      <td>0.387389</td>\n",
              "      <td>0.0</td>\n",
              "    </tr>\n",
              "    <tr>\n",
              "      <th>163907</th>\n",
              "      <td>-0.793866</td>\n",
              "      <td>0.100346</td>\n",
              "      <td>0.184615</td>\n",
              "      <td>0.188286</td>\n",
              "      <td>1.0</td>\n",
              "      <td>0.195955</td>\n",
              "      <td>0.0</td>\n",
              "    </tr>\n",
              "    <tr>\n",
              "      <th>347986</th>\n",
              "      <td>0.649660</td>\n",
              "      <td>0.698962</td>\n",
              "      <td>0.046154</td>\n",
              "      <td>0.077218</td>\n",
              "      <td>0.0</td>\n",
              "      <td>0.387389</td>\n",
              "      <td>1.0</td>\n",
              "    </tr>\n",
              "    <tr>\n",
              "      <th>16865</th>\n",
              "      <td>-0.869894</td>\n",
              "      <td>0.553633</td>\n",
              "      <td>0.507692</td>\n",
              "      <td>0.199822</td>\n",
              "      <td>0.0</td>\n",
              "      <td>0.212527</td>\n",
              "      <td>0.0</td>\n",
              "    </tr>\n",
              "    <tr>\n",
              "      <th>...</th>\n",
              "      <td>...</td>\n",
              "      <td>...</td>\n",
              "      <td>...</td>\n",
              "      <td>...</td>\n",
              "      <td>...</td>\n",
              "      <td>...</td>\n",
              "      <td>...</td>\n",
              "    </tr>\n",
              "    <tr>\n",
              "      <th>310236</th>\n",
              "      <td>-1.545200</td>\n",
              "      <td>0.837370</td>\n",
              "      <td>0.092308</td>\n",
              "      <td>0.118807</td>\n",
              "      <td>0.0</td>\n",
              "      <td>0.387389</td>\n",
              "      <td>1.0</td>\n",
              "    </tr>\n",
              "    <tr>\n",
              "      <th>312966</th>\n",
              "      <td>0.424679</td>\n",
              "      <td>0.512111</td>\n",
              "      <td>0.507692</td>\n",
              "      <td>0.129487</td>\n",
              "      <td>1.0</td>\n",
              "      <td>0.195955</td>\n",
              "      <td>0.0</td>\n",
              "    </tr>\n",
              "    <tr>\n",
              "      <th>169471</th>\n",
              "      <td>-0.705334</td>\n",
              "      <td>0.733564</td>\n",
              "      <td>0.430769</td>\n",
              "      <td>0.147444</td>\n",
              "      <td>1.0</td>\n",
              "      <td>0.000452</td>\n",
              "      <td>0.0</td>\n",
              "    </tr>\n",
              "    <tr>\n",
              "      <th>138741</th>\n",
              "      <td>-0.297996</td>\n",
              "      <td>0.245675</td>\n",
              "      <td>0.415385</td>\n",
              "      <td>0.188286</td>\n",
              "      <td>1.0</td>\n",
              "      <td>0.027069</td>\n",
              "      <td>0.0</td>\n",
              "    </tr>\n",
              "    <tr>\n",
              "      <th>56353</th>\n",
              "      <td>1.788891</td>\n",
              "      <td>0.598616</td>\n",
              "      <td>0.446154</td>\n",
              "      <td>0.092652</td>\n",
              "      <td>1.0</td>\n",
              "      <td>0.387389</td>\n",
              "      <td>0.0</td>\n",
              "    </tr>\n",
              "  </tbody>\n",
              "</table>\n",
              "<p>63090 rows × 7 columns</p>\n",
              "</div>\n",
              "      <button class=\"colab-df-convert\" onclick=\"convertToInteractive('df-8bec9f84-0e75-4bae-b887-8d98baffc8a9')\"\n",
              "              title=\"Convert this dataframe to an interactive table.\"\n",
              "              style=\"display:none;\">\n",
              "        \n",
              "  <svg xmlns=\"http://www.w3.org/2000/svg\" height=\"24px\"viewBox=\"0 0 24 24\"\n",
              "       width=\"24px\">\n",
              "    <path d=\"M0 0h24v24H0V0z\" fill=\"none\"/>\n",
              "    <path d=\"M18.56 5.44l.94 2.06.94-2.06 2.06-.94-2.06-.94-.94-2.06-.94 2.06-2.06.94zm-11 1L8.5 8.5l.94-2.06 2.06-.94-2.06-.94L8.5 2.5l-.94 2.06-2.06.94zm10 10l.94 2.06.94-2.06 2.06-.94-2.06-.94-.94-2.06-.94 2.06-2.06.94z\"/><path d=\"M17.41 7.96l-1.37-1.37c-.4-.4-.92-.59-1.43-.59-.52 0-1.04.2-1.43.59L10.3 9.45l-7.72 7.72c-.78.78-.78 2.05 0 2.83L4 21.41c.39.39.9.59 1.41.59.51 0 1.02-.2 1.41-.59l7.78-7.78 2.81-2.81c.8-.78.8-2.07 0-2.86zM5.41 20L4 18.59l7.72-7.72 1.47 1.35L5.41 20z\"/>\n",
              "  </svg>\n",
              "      </button>\n",
              "      \n",
              "  <style>\n",
              "    .colab-df-container {\n",
              "      display:flex;\n",
              "      flex-wrap:wrap;\n",
              "      gap: 12px;\n",
              "    }\n",
              "\n",
              "    .colab-df-convert {\n",
              "      background-color: #E8F0FE;\n",
              "      border: none;\n",
              "      border-radius: 50%;\n",
              "      cursor: pointer;\n",
              "      display: none;\n",
              "      fill: #1967D2;\n",
              "      height: 32px;\n",
              "      padding: 0 0 0 0;\n",
              "      width: 32px;\n",
              "    }\n",
              "\n",
              "    .colab-df-convert:hover {\n",
              "      background-color: #E2EBFA;\n",
              "      box-shadow: 0px 1px 2px rgba(60, 64, 67, 0.3), 0px 1px 3px 1px rgba(60, 64, 67, 0.15);\n",
              "      fill: #174EA6;\n",
              "    }\n",
              "\n",
              "    [theme=dark] .colab-df-convert {\n",
              "      background-color: #3B4455;\n",
              "      fill: #D2E3FC;\n",
              "    }\n",
              "\n",
              "    [theme=dark] .colab-df-convert:hover {\n",
              "      background-color: #434B5C;\n",
              "      box-shadow: 0px 1px 3px 1px rgba(0, 0, 0, 0.15);\n",
              "      filter: drop-shadow(0px 1px 2px rgba(0, 0, 0, 0.3));\n",
              "      fill: #FFFFFF;\n",
              "    }\n",
              "  </style>\n",
              "\n",
              "      <script>\n",
              "        const buttonEl =\n",
              "          document.querySelector('#df-8bec9f84-0e75-4bae-b887-8d98baffc8a9 button.colab-df-convert');\n",
              "        buttonEl.style.display =\n",
              "          google.colab.kernel.accessAllowed ? 'block' : 'none';\n",
              "\n",
              "        async function convertToInteractive(key) {\n",
              "          const element = document.querySelector('#df-8bec9f84-0e75-4bae-b887-8d98baffc8a9');\n",
              "          const dataTable =\n",
              "            await google.colab.kernel.invokeFunction('convertToInteractive',\n",
              "                                                     [key], {});\n",
              "          if (!dataTable) return;\n",
              "\n",
              "          const docLinkHtml = 'Like what you see? Visit the ' +\n",
              "            '<a target=\"_blank\" href=https://colab.research.google.com/notebooks/data_table.ipynb>data table notebook</a>'\n",
              "            + ' to learn more about interactive tables.';\n",
              "          element.innerHTML = '';\n",
              "          dataTable['output_type'] = 'display_data';\n",
              "          await google.colab.output.renderOutput(dataTable, element);\n",
              "          const docLink = document.createElement('div');\n",
              "          docLink.innerHTML = docLinkHtml;\n",
              "          element.appendChild(docLink);\n",
              "        }\n",
              "      </script>\n",
              "    </div>\n",
              "  </div>\n",
              "  "
            ]
          },
          "metadata": {},
          "execution_count": 194
        }
      ]
    },
    {
      "cell_type": "code",
      "source": [
        "xgb_model = xgb.XGBClassifier(objective = 'binary:logistic', eval_metric = 'error')\n",
        "\n",
        "xgb_model.fit(x_train,y_train)\n",
        "\n",
        "yhat_xgb = xgb_model.predict_proba(x_val)"
      ],
      "metadata": {
        "id": "UA2oN6URG2hX"
      },
      "execution_count": null,
      "outputs": []
    },
    {
      "cell_type": "code",
      "source": [
        "fig, axs = plt.subplots(ncols = 2, figsize = (15, 5))\n",
        "skplt.metrics.plot_cumulative_gain(y_val, yhat_xgb, ax = axs[0])\n",
        "\n",
        "# Left\n",
        "skplt.metrics.plot_lift_curve(y_val, yhat_xgb, ax = axs[1]);"
      ],
      "metadata": {
        "colab": {
          "base_uri": "https://localhost:8080/",
          "height": 350
        },
        "id": "BGGQ9lvtHRwS",
        "outputId": "d0c429a8-5cd8-4e67-e0c0-44c0a695d708"
      },
      "execution_count": null,
      "outputs": [
        {
          "output_type": "display_data",
          "data": {
            "text/plain": [
              "<Figure size 1080x360 with 2 Axes>"
            ],
            "image/png": "[encoded data removed]"
          },
          "metadata": {
            "needs_background": "light"
          }
        }
      ]
    },
    {
      "cell_type": "code",
      "source": [
        "# Performance\n",
        "\n",
        "# compute precision at k\n",
        "xgb_precision_at_k = round(precision_at_k(df6, x_validation, y_validation, yhat_xgb, 25000), 3)\n",
        "print('RFC Model - Precision at K: {}'.format(xgb_precision_at_k))\n",
        "\n",
        "# compute Recall at k\n",
        "xgb_recall_at_k = round(recall_at_k(df6, x_validation, y_validation, yhat_xgb, 25000), 3)\n",
        "print('RFC Model - Recall at K: {}'.format(xgb_recall_at_k))"
      ],
      "metadata": {
        "colab": {
          "base_uri": "https://localhost:8080/"
        },
        "id": "qgNObNM2HRzK",
        "outputId": "54080795-2577-4efb-ba7a-930862f59969"
      },
      "execution_count": null,
      "outputs": [
        {
          "output_type": "stream",
          "name": "stdout",
          "text": [
            "RFC Model - Precision at K: 0.283\n",
            "RFC Model - Recall at K: 0.933\n"
          ]
        }
      ]
    },
    {
      "cell_type": "code",
      "source": [],
      "metadata": {
        "id": "4pAVk497HR11"
      },
      "execution_count": null,
      "outputs": []
    },
    {
      "cell_type": "markdown",
      "source": [
        "#### 6.5.1 XGBoost - Cross Validation"
      ],
      "metadata": {
        "id": "70U976bhG2pb"
      }
    },
    {
      "cell_type": "code",
      "source": [
        "xgb_cv  = cross_validation (df6, 5, 'XGB CV', xgb_model, x_train, y_train, 20000)"
      ],
      "metadata": {
        "colab": {
          "base_uri": "https://localhost:8080/"
        },
        "id": "pPwnJ6IIG2xi",
        "outputId": "212168f2-c8c2-4d89-fbba-9d54405ac682"
      },
      "execution_count": null,
      "outputs": [
        {
          "output_type": "stream",
          "name": "stderr",
          "text": [
            "<ipython-input-122-6a9237e0e14e>:82: SettingWithCopyWarning: \n",
            "A value is trying to be set on a copy of a slice from a DataFrame.\n",
            "Try using .loc[row_indexer,col_indexer] = value instead\n",
            "\n",
            "See the caveats in the documentation: https://pandas.pydata.org/pandas-docs/stable/user_guide/indexing.html#returning-a-view-versus-a-copy\n",
            "  x_val_fold['response'] = y_val_fold\n"
          ]
        }
      ]
    },
    {
      "cell_type": "code",
      "source": [
        "rp_xgb_cv = pd.DataFrame.from_dict(xgb_cv, orient='index').T"
      ],
      "metadata": {
        "id": "bvQtTR0-G24N"
      },
      "execution_count": null,
      "outputs": []
    },
    {
      "cell_type": "markdown",
      "source": [],
      "metadata": {
        "id": "gSidz4t4G3DN"
      }
    },
    {
      "cell_type": "markdown",
      "source": [
        "### 6.6 Model Selection"
      ],
      "metadata": {
        "id": "6O8Sr0xTh1k8"
      }
    },
    {
      "cell_type": "markdown",
      "source": [
        "#### 6.6.1 Single Performance"
      ],
      "metadata": {
        "id": "Zfa5XUEhHzyP"
      }
    },
    {
      "cell_type": "code",
      "source": [
        "m_perf_dict = {\n",
        "'Model Name'      : ['KNN', 'LRegression','XGB'],# 'Etrees', 'RForest', 'XGB'],\n",
        "'Precision_at_k': [knn_precision_at_k, lr_precision_at_k, xgb_precision_at_k],#, et_precision_at_k, rfc_precision_at_k],\n",
        "'Recall_at_k': [knn_recall_at_k, lr_recall_at_k, xgb_recall_at_k]}# et_recall_at_k, rfc_recall_at_k, xgb_recall_at_k]}\n",
        "\n",
        "m_performance_sp = pd.DataFrame(m_perf_dict).sort_values('Recall_at_k', ascending = False).reset_index(drop = True)\n",
        "m_performance_sp"
      ],
      "metadata": {
        "colab": {
          "base_uri": "https://localhost:8080/",
          "height": 169
        },
        "id": "uP7Dx0eVHr3X",
        "outputId": "767ef718-ce5a-43f1-a8e2-77c23b7d8b4b"
      },
      "execution_count": null,
      "outputs": [
        {
          "output_type": "execute_result",
          "data": {
            "text/plain": [
              "    Model Name  Precision_at_k  Recall_at_k\n",
              "0          XGB           0.283        0.933\n",
              "1  LRegression           0.272        0.898\n",
              "2          KNN           0.264        0.870"
            ],
            "text/html": [
              "\n",
              "  <div id=\"df-ac7818c2-6699-47e9-8113-9b6eb6cb69fe\">\n",
              "    <div class=\"colab-df-container\">\n",
              "      <div>\n",
              "<style scoped>\n",
              "    .dataframe tbody tr th:only-of-type {\n",
              "        vertical-align: middle;\n",
              "    }\n",
              "\n",
              "    .dataframe tbody tr th {\n",
              "        vertical-align: top;\n",
              "    }\n",
              "\n",
              "    .dataframe thead th {\n",
              "        text-align: right;\n",
              "    }\n",
              "</style>\n",
              "<table border=\"1\" class=\"dataframe\">\n",
              "  <thead>\n",
              "    <tr style=\"text-align: right;\">\n",
              "      <th></th>\n",
              "      <th>Model Name</th>\n",
              "      <th>Precision_at_k</th>\n",
              "      <th>Recall_at_k</th>\n",
              "    </tr>\n",
              "  </thead>\n",
              "  <tbody>\n",
              "    <tr>\n",
              "      <th>0</th>\n",
              "      <td>XGB</td>\n",
              "      <td>0.283</td>\n",
              "      <td>0.933</td>\n",
              "    </tr>\n",
              "    <tr>\n",
              "      <th>1</th>\n",
              "      <td>LRegression</td>\n",
              "      <td>0.272</td>\n",
              "      <td>0.898</td>\n",
              "    </tr>\n",
              "    <tr>\n",
              "      <th>2</th>\n",
              "      <td>KNN</td>\n",
              "      <td>0.264</td>\n",
              "      <td>0.870</td>\n",
              "    </tr>\n",
              "  </tbody>\n",
              "</table>\n",
              "</div>\n",
              "      <button class=\"colab-df-convert\" onclick=\"convertToInteractive('df-ac7818c2-6699-47e9-8113-9b6eb6cb69fe')\"\n",
              "              title=\"Convert this dataframe to an interactive table.\"\n",
              "              style=\"display:none;\">\n",
              "        \n",
              "  <svg xmlns=\"http://www.w3.org/2000/svg\" height=\"24px\"viewBox=\"0 0 24 24\"\n",
              "       width=\"24px\">\n",
              "    <path d=\"M0 0h24v24H0V0z\" fill=\"none\"/>\n",
              "    <path d=\"M18.56 5.44l.94 2.06.94-2.06 2.06-.94-2.06-.94-.94-2.06-.94 2.06-2.06.94zm-11 1L8.5 8.5l.94-2.06 2.06-.94-2.06-.94L8.5 2.5l-.94 2.06-2.06.94zm10 10l.94 2.06.94-2.06 2.06-.94-2.06-.94-.94-2.06-.94 2.06-2.06.94z\"/><path d=\"M17.41 7.96l-1.37-1.37c-.4-.4-.92-.59-1.43-.59-.52 0-1.04.2-1.43.59L10.3 9.45l-7.72 7.72c-.78.78-.78 2.05 0 2.83L4 21.41c.39.39.9.59 1.41.59.51 0 1.02-.2 1.41-.59l7.78-7.78 2.81-2.81c.8-.78.8-2.07 0-2.86zM5.41 20L4 18.59l7.72-7.72 1.47 1.35L5.41 20z\"/>\n",
              "  </svg>\n",
              "      </button>\n",
              "      \n",
              "  <style>\n",
              "    .colab-df-container {\n",
              "      display:flex;\n",
              "      flex-wrap:wrap;\n",
              "      gap: 12px;\n",
              "    }\n",
              "\n",
              "    .colab-df-convert {\n",
              "      background-color: #E8F0FE;\n",
              "      border: none;\n",
              "      border-radius: 50%;\n",
              "      cursor: pointer;\n",
              "      display: none;\n",
              "      fill: #1967D2;\n",
              "      height: 32px;\n",
              "      padding: 0 0 0 0;\n",
              "      width: 32px;\n",
              "    }\n",
              "\n",
              "    .colab-df-convert:hover {\n",
              "      background-color: #E2EBFA;\n",
              "      box-shadow: 0px 1px 2px rgba(60, 64, 67, 0.3), 0px 1px 3px 1px rgba(60, 64, 67, 0.15);\n",
              "      fill: #174EA6;\n",
              "    }\n",
              "\n",
              "    [theme=dark] .colab-df-convert {\n",
              "      background-color: #3B4455;\n",
              "      fill: #D2E3FC;\n",
              "    }\n",
              "\n",
              "    [theme=dark] .colab-df-convert:hover {\n",
              "      background-color: #434B5C;\n",
              "      box-shadow: 0px 1px 3px 1px rgba(0, 0, 0, 0.15);\n",
              "      filter: drop-shadow(0px 1px 2px rgba(0, 0, 0, 0.3));\n",
              "      fill: #FFFFFF;\n",
              "    }\n",
              "  </style>\n",
              "\n",
              "      <script>\n",
              "        const buttonEl =\n",
              "          document.querySelector('#df-ac7818c2-6699-47e9-8113-9b6eb6cb69fe button.colab-df-convert');\n",
              "        buttonEl.style.display =\n",
              "          google.colab.kernel.accessAllowed ? 'block' : 'none';\n",
              "\n",
              "        async function convertToInteractive(key) {\n",
              "          const element = document.querySelector('#df-ac7818c2-6699-47e9-8113-9b6eb6cb69fe');\n",
              "          const dataTable =\n",
              "            await google.colab.kernel.invokeFunction('convertToInteractive',\n",
              "                                                     [key], {});\n",
              "          if (!dataTable) return;\n",
              "\n",
              "          const docLinkHtml = 'Like what you see? Visit the ' +\n",
              "            '<a target=\"_blank\" href=https://colab.research.google.com/notebooks/data_table.ipynb>data table notebook</a>'\n",
              "            + ' to learn more about interactive tables.';\n",
              "          element.innerHTML = '';\n",
              "          dataTable['output_type'] = 'display_data';\n",
              "          await google.colab.output.renderOutput(dataTable, element);\n",
              "          const docLink = document.createElement('div');\n",
              "          docLink.innerHTML = docLinkHtml;\n",
              "          element.appendChild(docLink);\n",
              "        }\n",
              "      </script>\n",
              "    </div>\n",
              "  </div>\n",
              "  "
            ]
          },
          "metadata": {},
          "execution_count": 200
        }
      ]
    },
    {
      "cell_type": "code",
      "source": [],
      "metadata": {
        "id": "TGFk2z41HuFp"
      },
      "execution_count": null,
      "outputs": []
    },
    {
      "cell_type": "markdown",
      "source": [
        "#### 6.6.2 Real Performance - Cross Validation"
      ],
      "metadata": {
        "id": "4SUZSBGiHubf"
      }
    },
    {
      "cell_type": "code",
      "source": [
        "#models_performance_cv = pd.concat([rp_knn_cv, rp_lr_cv, rp_et_cv, rp_rfc_cv, rp_xgb_cv]).sort_values('Recall_at_k', ascending = False).reset_index(drop = True)\n",
        "models_performance_cv = pd.concat([rp_knn_cv, rp_lr_cv, rp_xgb_cv]).sort_values('Recall_at_k', ascending = False).reset_index(drop = True)\n",
        "models_performance_cv\n"
      ],
      "metadata": {
        "colab": {
          "base_uri": "https://localhost:8080/",
          "height": 169
        },
        "id": "OvxHggOnHr6F",
        "outputId": "08d9702d-06c2-4b2d-a2f7-6bc8e15e3059"
      },
      "execution_count": null,
      "outputs": [
        {
          "output_type": "execute_result",
          "data": {
            "text/plain": [
              "       Model Name   Precision_at_k      Recall_at_k\n",
              "0          XGB CV  0.285 +/- 0.002  0.935 +/- 0.006\n",
              "1  LRegression CV  0.275 +/- 0.001  0.903 +/- 0.004\n",
              "2          KNN CV  0.218 +/- 0.001  0.894 +/- 0.004"
            ],
            "text/html": [
              "\n",
              "  <div id=\"df-b1b64b0d-72a5-4de5-bc5b-6f9729dc7b87\">\n",
              "    <div class=\"colab-df-container\">\n",
              "      <div>\n",
              "<style scoped>\n",
              "    .dataframe tbody tr th:only-of-type {\n",
              "        vertical-align: middle;\n",
              "    }\n",
              "\n",
              "    .dataframe tbody tr th {\n",
              "        vertical-align: top;\n",
              "    }\n",
              "\n",
              "    .dataframe thead th {\n",
              "        text-align: right;\n",
              "    }\n",
              "</style>\n",
              "<table border=\"1\" class=\"dataframe\">\n",
              "  <thead>\n",
              "    <tr style=\"text-align: right;\">\n",
              "      <th></th>\n",
              "      <th>Model Name</th>\n",
              "      <th>Precision_at_k</th>\n",
              "      <th>Recall_at_k</th>\n",
              "    </tr>\n",
              "  </thead>\n",
              "  <tbody>\n",
              "    <tr>\n",
              "      <th>0</th>\n",
              "      <td>XGB CV</td>\n",
              "      <td>0.285 +/- 0.002</td>\n",
              "      <td>0.935 +/- 0.006</td>\n",
              "    </tr>\n",
              "    <tr>\n",
              "      <th>1</th>\n",
              "      <td>LRegression CV</td>\n",
              "      <td>0.275 +/- 0.001</td>\n",
              "      <td>0.903 +/- 0.004</td>\n",
              "    </tr>\n",
              "    <tr>\n",
              "      <th>2</th>\n",
              "      <td>KNN CV</td>\n",
              "      <td>0.218 +/- 0.001</td>\n",
              "      <td>0.894 +/- 0.004</td>\n",
              "    </tr>\n",
              "  </tbody>\n",
              "</table>\n",
              "</div>\n",
              "      <button class=\"colab-df-convert\" onclick=\"convertToInteractive('df-b1b64b0d-72a5-4de5-bc5b-6f9729dc7b87')\"\n",
              "              title=\"Convert this dataframe to an interactive table.\"\n",
              "              style=\"display:none;\">\n",
              "        \n",
              "  <svg xmlns=\"http://www.w3.org/2000/svg\" height=\"24px\"viewBox=\"0 0 24 24\"\n",
              "       width=\"24px\">\n",
              "    <path d=\"M0 0h24v24H0V0z\" fill=\"none\"/>\n",
              "    <path d=\"M18.56 5.44l.94 2.06.94-2.06 2.06-.94-2.06-.94-.94-2.06-.94 2.06-2.06.94zm-11 1L8.5 8.5l.94-2.06 2.06-.94-2.06-.94L8.5 2.5l-.94 2.06-2.06.94zm10 10l.94 2.06.94-2.06 2.06-.94-2.06-.94-.94-2.06-.94 2.06-2.06.94z\"/><path d=\"M17.41 7.96l-1.37-1.37c-.4-.4-.92-.59-1.43-.59-.52 0-1.04.2-1.43.59L10.3 9.45l-7.72 7.72c-.78.78-.78 2.05 0 2.83L4 21.41c.39.39.9.59 1.41.59.51 0 1.02-.2 1.41-.59l7.78-7.78 2.81-2.81c.8-.78.8-2.07 0-2.86zM5.41 20L4 18.59l7.72-7.72 1.47 1.35L5.41 20z\"/>\n",
              "  </svg>\n",
              "      </button>\n",
              "      \n",
              "  <style>\n",
              "    .colab-df-container {\n",
              "      display:flex;\n",
              "      flex-wrap:wrap;\n",
              "      gap: 12px;\n",
              "    }\n",
              "\n",
              "    .colab-df-convert {\n",
              "      background-color: #E8F0FE;\n",
              "      border: none;\n",
              "      border-radius: 50%;\n",
              "      cursor: pointer;\n",
              "      display: none;\n",
              "      fill: #1967D2;\n",
              "      height: 32px;\n",
              "      padding: 0 0 0 0;\n",
              "      width: 32px;\n",
              "    }\n",
              "\n",
              "    .colab-df-convert:hover {\n",
              "      background-color: #E2EBFA;\n",
              "      box-shadow: 0px 1px 2px rgba(60, 64, 67, 0.3), 0px 1px 3px 1px rgba(60, 64, 67, 0.15);\n",
              "      fill: #174EA6;\n",
              "    }\n",
              "\n",
              "    [theme=dark] .colab-df-convert {\n",
              "      background-color: #3B4455;\n",
              "      fill: #D2E3FC;\n",
              "    }\n",
              "\n",
              "    [theme=dark] .colab-df-convert:hover {\n",
              "      background-color: #434B5C;\n",
              "      box-shadow: 0px 1px 3px 1px rgba(0, 0, 0, 0.15);\n",
              "      filter: drop-shadow(0px 1px 2px rgba(0, 0, 0, 0.3));\n",
              "      fill: #FFFFFF;\n",
              "    }\n",
              "  </style>\n",
              "\n",
              "      <script>\n",
              "        const buttonEl =\n",
              "          document.querySelector('#df-b1b64b0d-72a5-4de5-bc5b-6f9729dc7b87 button.colab-df-convert');\n",
              "        buttonEl.style.display =\n",
              "          google.colab.kernel.accessAllowed ? 'block' : 'none';\n",
              "\n",
              "        async function convertToInteractive(key) {\n",
              "          const element = document.querySelector('#df-b1b64b0d-72a5-4de5-bc5b-6f9729dc7b87');\n",
              "          const dataTable =\n",
              "            await google.colab.kernel.invokeFunction('convertToInteractive',\n",
              "                                                     [key], {});\n",
              "          if (!dataTable) return;\n",
              "\n",
              "          const docLinkHtml = 'Like what you see? Visit the ' +\n",
              "            '<a target=\"_blank\" href=https://colab.research.google.com/notebooks/data_table.ipynb>data table notebook</a>'\n",
              "            + ' to learn more about interactive tables.';\n",
              "          element.innerHTML = '';\n",
              "          dataTable['output_type'] = 'display_data';\n",
              "          await google.colab.output.renderOutput(dataTable, element);\n",
              "          const docLink = document.createElement('div');\n",
              "          docLink.innerHTML = docLinkHtml;\n",
              "          element.appendChild(docLink);\n",
              "        }\n",
              "      </script>\n",
              "    </div>\n",
              "  </div>\n",
              "  "
            ]
          },
          "metadata": {},
          "execution_count": 201
        }
      ]
    },
    {
      "cell_type": "markdown",
      "source": [
        "## 7.0 Hyperparameter fine tuning"
      ],
      "metadata": {
        "id": "6n41_oI4H75j"
      }
    },
    {
      "cell_type": "code",
      "source": [
        "df7 = df6.copy()"
      ],
      "metadata": {
        "id": "BSn0eGW1IDq5"
      },
      "execution_count": null,
      "outputs": []
    },
    {
      "cell_type": "markdown",
      "source": [
        "### 7.1 Random Search"
      ],
      "metadata": {
        "id": "-5VCinfmza15"
      }
    },
    {
      "cell_type": "code",
      "source": [
        "param = { 'objective'        : ['binary:logistic'],\n",
        "          'eval_metric'      : ['error'],\n",
        "          'n_estimators'     : [500, 750, 1000], \n",
        "          'eta'              : [0.01, 0.05, 0.09],\n",
        "          'max_depth'        : [1, 5, 9],\n",
        "          'subsample'        : [0.1, 0.5, 0.9],\n",
        "          'colsample_bytree' : [0.1, 0.5, 0.9],\n",
        "          'min_child_weight' : [3, 12, 20] \n",
        "        }\n",
        "\n",
        "MAX_EVAL = 10"
      ],
      "metadata": {
        "id": "_vbFtmagIF3W"
      },
      "execution_count": null,
      "outputs": []
    },
    {
      "cell_type": "code",
      "source": [
        "\n",
        "final_result = pd.DataFrame({'Model Name':[], 'Precision_at_k': [], 'Recall_at_k': []})"
      ],
      "metadata": {
        "id": "2uvMAQC5IF59"
      },
      "execution_count": null,
      "outputs": []
    },
    {
      "cell_type": "code",
      "source": [
        "final_result"
      ],
      "metadata": {
        "colab": {
          "base_uri": "https://localhost:8080/",
          "height": 49
        },
        "id": "cfFhJBiNIF8h",
        "outputId": "4ccc87e1-fecc-47b7-d0bc-ebbef5fe3116"
      },
      "execution_count": null,
      "outputs": [
        {
          "output_type": "execute_result",
          "data": {
            "text/plain": [
              "Empty DataFrame\n",
              "Columns: [Model Name, Precision_at_k, Recall_at_k]\n",
              "Index: []"
            ],
            "text/html": [
              "\n",
              "  <div id=\"df-e240fc42-bff0-4575-9d03-390f576193fe\">\n",
              "    <div class=\"colab-df-container\">\n",
              "      <div>\n",
              "<style scoped>\n",
              "    .dataframe tbody tr th:only-of-type {\n",
              "        vertical-align: middle;\n",
              "    }\n",
              "\n",
              "    .dataframe tbody tr th {\n",
              "        vertical-align: top;\n",
              "    }\n",
              "\n",
              "    .dataframe thead th {\n",
              "        text-align: right;\n",
              "    }\n",
              "</style>\n",
              "<table border=\"1\" class=\"dataframe\">\n",
              "  <thead>\n",
              "    <tr style=\"text-align: right;\">\n",
              "      <th></th>\n",
              "      <th>Model Name</th>\n",
              "      <th>Precision_at_k</th>\n",
              "      <th>Recall_at_k</th>\n",
              "    </tr>\n",
              "  </thead>\n",
              "  <tbody>\n",
              "  </tbody>\n",
              "</table>\n",
              "</div>\n",
              "      <button class=\"colab-df-convert\" onclick=\"convertToInteractive('df-e240fc42-bff0-4575-9d03-390f576193fe')\"\n",
              "              title=\"Convert this dataframe to an interactive table.\"\n",
              "              style=\"display:none;\">\n",
              "        \n",
              "  <svg xmlns=\"http://www.w3.org/2000/svg\" height=\"24px\"viewBox=\"0 0 24 24\"\n",
              "       width=\"24px\">\n",
              "    <path d=\"M0 0h24v24H0V0z\" fill=\"none\"/>\n",
              "    <path d=\"M18.56 5.44l.94 2.06.94-2.06 2.06-.94-2.06-.94-.94-2.06-.94 2.06-2.06.94zm-11 1L8.5 8.5l.94-2.06 2.06-.94-2.06-.94L8.5 2.5l-.94 2.06-2.06.94zm10 10l.94 2.06.94-2.06 2.06-.94-2.06-.94-.94-2.06-.94 2.06-2.06.94z\"/><path d=\"M17.41 7.96l-1.37-1.37c-.4-.4-.92-.59-1.43-.59-.52 0-1.04.2-1.43.59L10.3 9.45l-7.72 7.72c-.78.78-.78 2.05 0 2.83L4 21.41c.39.39.9.59 1.41.59.51 0 1.02-.2 1.41-.59l7.78-7.78 2.81-2.81c.8-.78.8-2.07 0-2.86zM5.41 20L4 18.59l7.72-7.72 1.47 1.35L5.41 20z\"/>\n",
              "  </svg>\n",
              "      </button>\n",
              "      \n",
              "  <style>\n",
              "    .colab-df-container {\n",
              "      display:flex;\n",
              "      flex-wrap:wrap;\n",
              "      gap: 12px;\n",
              "    }\n",
              "\n",
              "    .colab-df-convert {\n",
              "      background-color: #E8F0FE;\n",
              "      border: none;\n",
              "      border-radius: 50%;\n",
              "      cursor: pointer;\n",
              "      display: none;\n",
              "      fill: #1967D2;\n",
              "      height: 32px;\n",
              "      padding: 0 0 0 0;\n",
              "      width: 32px;\n",
              "    }\n",
              "\n",
              "    .colab-df-convert:hover {\n",
              "      background-color: #E2EBFA;\n",
              "      box-shadow: 0px 1px 2px rgba(60, 64, 67, 0.3), 0px 1px 3px 1px rgba(60, 64, 67, 0.15);\n",
              "      fill: #174EA6;\n",
              "    }\n",
              "\n",
              "    [theme=dark] .colab-df-convert {\n",
              "      background-color: #3B4455;\n",
              "      fill: #D2E3FC;\n",
              "    }\n",
              "\n",
              "    [theme=dark] .colab-df-convert:hover {\n",
              "      background-color: #434B5C;\n",
              "      box-shadow: 0px 1px 3px 1px rgba(0, 0, 0, 0.15);\n",
              "      filter: drop-shadow(0px 1px 2px rgba(0, 0, 0, 0.3));\n",
              "      fill: #FFFFFF;\n",
              "    }\n",
              "  </style>\n",
              "\n",
              "      <script>\n",
              "        const buttonEl =\n",
              "          document.querySelector('#df-e240fc42-bff0-4575-9d03-390f576193fe button.colab-df-convert');\n",
              "        buttonEl.style.display =\n",
              "          google.colab.kernel.accessAllowed ? 'block' : 'none';\n",
              "\n",
              "        async function convertToInteractive(key) {\n",
              "          const element = document.querySelector('#df-e240fc42-bff0-4575-9d03-390f576193fe');\n",
              "          const dataTable =\n",
              "            await google.colab.kernel.invokeFunction('convertToInteractive',\n",
              "                                                     [key], {});\n",
              "          if (!dataTable) return;\n",
              "\n",
              "          const docLinkHtml = 'Like what you see? Visit the ' +\n",
              "            '<a target=\"_blank\" href=https://colab.research.google.com/notebooks/data_table.ipynb>data table notebook</a>'\n",
              "            + ' to learn more about interactive tables.';\n",
              "          element.innerHTML = '';\n",
              "          dataTable['output_type'] = 'display_data';\n",
              "          await google.colab.output.renderOutput(dataTable, element);\n",
              "          const docLink = document.createElement('div');\n",
              "          docLink.innerHTML = docLinkHtml;\n",
              "          element.appendChild(docLink);\n",
              "        }\n",
              "      </script>\n",
              "    </div>\n",
              "  </div>\n",
              "  "
            ]
          },
          "metadata": {},
          "execution_count": 205
        }
      ]
    },
    {
      "cell_type": "code",
      "source": [
        "# for i in range (MAX_EVAL):\n",
        "#    hp = {w: random.sample(v, 1) [0] for w, v in param.items()}\n",
        "#    print ('Step ' + str(i + 1) + '/' + str(MAX_EVAL))\n",
        "#    print (hp)\n",
        "     \n",
        "#model_xgb = xgb.XGBClassifier(\n",
        "#                 objective = hp['objective'],\n",
        "#                 eval_metric = hp['eval_metric'],\n",
        "#                 n_estimators = hp['n_estimators'], \n",
        "#                 eta = hp['eta'], \n",
        "#                 max_depth = hp['max_depth'], \n",
        "#                 subsample = hp['subsample'],\n",
        "#                 colsample_bytree = hp['colsample_bytree'],\n",
        "#                 min_child_weight = hp['min_child_weight'])\n",
        "     \n",
        "#result = cross_validation (df8, 5, 'XGBoost FT', model_xgb, x_train, y_train, 20000)\n",
        "#result = pd.DataFrame.from_dict(result, orient='index').T\n",
        "#final_result = pd.concat([final_result, result])\n",
        "     \n",
        "# final_result = pd.DataFrame(final_result)"
      ],
      "metadata": {
        "id": "XGmknQKaIF_S"
      },
      "execution_count": null,
      "outputs": []
    },
    {
      "cell_type": "code",
      "source": [
        "# final_result.reset_index(drop = True)\n"
      ],
      "metadata": {
        "id": "B2w3QSSEIGBt"
      },
      "execution_count": null,
      "outputs": []
    },
    {
      "cell_type": "code",
      "source": [
        "# final_res = final_result.sort_values('Recall_at_k', ascending = False)\n",
        "# final_res "
      ],
      "metadata": {
        "id": "eSuuEL16IGEa"
      },
      "execution_count": null,
      "outputs": []
    },
    {
      "cell_type": "markdown",
      "source": [
        "### 7.2 Final Model"
      ],
      "metadata": {
        "id": "EjBTIZX_zgke"
      }
    },
    {
      "cell_type": "code",
      "source": [
        "\n",
        "xgb_param_tuned = {'objective': 'binary:logistic', \n",
        "                   'eval_metric': 'error', \n",
        "                   'n_estimators': 750, \n",
        "                   'eta': 0.05, \n",
        "                   'max_depth': 5, \n",
        "                   'subsample': 0.5, \n",
        "                   'colsample_bytree': 0.9, \n",
        "                   'min_child_weight': 20\n",
        "                  }"
      ],
      "metadata": {
        "id": "kyMzOSpXIGGn"
      },
      "execution_count": null,
      "outputs": []
    },
    {
      "cell_type": "code",
      "source": [
        "model_xgb_tuned = xgb.XGBClassifier (\n",
        "    objective = xgb_param_tuned['objective'],\n",
        "    eval_metric = xgb_param_tuned['eval_metric'],\n",
        "    n_estimators = xgb_param_tuned['n_estimators'], \n",
        "    eta = xgb_param_tuned['eta'], \n",
        "    max_depth = xgb_param_tuned['max_depth'], \n",
        "    subsample = xgb_param_tuned['subsample'],\n",
        "    colsample_bytree = xgb_param_tuned['colsample_bytree'],\n",
        "    min_child_weight = xgb_param_tuned['min_child_weight'])\n",
        "\n",
        "model_xgb_tuned.fit(x_train, y_train)\n",
        "\n",
        "yhat_xgb_tuned = model_xgb_tuned.predict_proba(x_val)"
      ],
      "metadata": {
        "id": "R_as8SMFIGJl"
      },
      "execution_count": null,
      "outputs": []
    },
    {
      "cell_type": "code",
      "source": [
        "yhat_xgb_tuned.shape"
      ],
      "metadata": {
        "colab": {
          "base_uri": "https://localhost:8080/"
        },
        "id": "yFxl97mLIGM0",
        "outputId": "e9c164d8-800f-4729-c148-5c89f24f466c"
      },
      "execution_count": null,
      "outputs": [
        {
          "output_type": "execute_result",
          "data": {
            "text/plain": [
              "(63090, 2)"
            ]
          },
          "metadata": {},
          "execution_count": 211
        }
      ]
    },
    {
      "cell_type": "code",
      "source": [
        "# Accumulative Gain\n",
        "fig, axs = plt.subplots(ncols = 2, figsize = (15,5))\n",
        "skplt.metrics.plot_cumulative_gain(y_val, yhat_xgb_tuned, ax = axs[0])\n",
        "skplt.metrics.plot_lift_curve(y_val, yhat_xgb_tuned, ax = axs[1]);"
      ],
      "metadata": {
        "colab": {
          "base_uri": "https://localhost:8080/",
          "height": 350
        },
        "id": "f7AEpIPLIUT2",
        "outputId": "cf3ca4f9-a2a6-4458-f714-5f0466fa4905"
      },
      "execution_count": null,
      "outputs": [
        {
          "output_type": "display_data",
          "data": {
            "text/plain": [
              "<Figure size 1080x360 with 2 Axes>"
            ],
            "image/png": "[encoded data removed]"
          },
          "metadata": {
            "needs_background": "light"
          }
        }
      ]
    },
    {
      "cell_type": "code",
      "source": [
        "# Compute Recall at k\n",
        "xgb_recall_at_20000 = round(recall_at_k(df7, x_validation, y_validation, yhat_xgb, 20000), 3)\n",
        "print('XGB Model - Recall at K: {}'.format(xgb_recall_at_k))"
      ],
      "metadata": {
        "colab": {
          "base_uri": "https://localhost:8080/"
        },
        "id": "DEjxMFIQIUWc",
        "outputId": "4b7ed69e-8a4b-407c-c3db-752e24eb7cdc"
      },
      "execution_count": null,
      "outputs": [
        {
          "output_type": "stream",
          "name": "stdout",
          "text": [
            "XGB Model - Recall at K: 0.933\n"
          ]
        }
      ]
    },
    {
      "cell_type": "markdown",
      "source": [
        "## 8.0 Error Interpretation"
      ],
      "metadata": {
        "id": "8geg_iCUzrsa"
      }
    },
    {
      "cell_type": "code",
      "source": [
        "df8 = df7.copy()"
      ],
      "metadata": {
        "id": "XLz9NRm935mB"
      },
      "execution_count": null,
      "outputs": []
    },
    {
      "cell_type": "markdown",
      "source": [
        "### 8.1 Machine Learning - Test Dataset"
      ],
      "metadata": {
        "id": "jXCsH1TIzsVE"
      }
    },
    {
      "cell_type": "code",
      "source": [
        "# Test Dataset Extraction\n",
        "X = df1.drop('response', axis = 1).copy()\n",
        "y = df1['response'].copy()\n",
        "\n",
        "x_train, x_test, y_train, y_test = ms.train_test_split(X, y, stratify = y, test_size = 0.20, random_state = 45)\n",
        "\n",
        "# df_test is a separate dataset, and will be used to perfomr the final evaluation of the trained model\n",
        "df_test = pd.concat([x_test, y_test], axis = 1)"
      ],
      "metadata": {
        "id": "ERC4Yvy-zz3V"
      },
      "execution_count": null,
      "outputs": []
    },
    {
      "cell_type": "code",
      "source": [
        "\n",
        "df_test"
      ],
      "metadata": {
        "colab": {
          "base_uri": "https://localhost:8080/",
          "height": 481
        },
        "id": "piYt_ninzseZ",
        "outputId": "4be12c32-aa28-440e-8f83-0a822d4a60aa"
      },
      "execution_count": null,
      "outputs": [
        {
          "output_type": "execute_result",
          "data": {
            "text/plain": [
              "            id  gender  age  driving_license  region_code  previously_insured  \\\n",
              "275163  275164  Female   24                1         41.0                   1   \n",
              "228955  228956  Female   39                1         41.0                   0   \n",
              "183986  183987  Female   25                1         39.0                   0   \n",
              "272782  272783  Female   67                1         28.0                   0   \n",
              "24900    24901    Male   23                1         46.0                   1   \n",
              "...        ...     ...  ...              ...          ...                 ...   \n",
              "327865  327866    Male   27                1         33.0                   1   \n",
              "18930    18931    Male   49                1         40.0                   0   \n",
              "135229  135230    Male   24                1         27.0                   0   \n",
              "105049  105050    Male   22                1         29.0                   1   \n",
              "187934  187935  Female   32                1         50.0                   1   \n",
              "\n",
              "       vehicle_age vehicle_damage  annual_premium  policy_sales_channel  \\\n",
              "275163    < 1 Year             No         31696.0                 152.0   \n",
              "228955    1-2 Year            Yes         34202.0                 124.0   \n",
              "183986    < 1 Year             No         31140.0                 152.0   \n",
              "272782   > 2 Years            Yes          2630.0                  26.0   \n",
              "24900     < 1 Year             No         32159.0                 152.0   \n",
              "...            ...            ...             ...                   ...   \n",
              "327865    < 1 Year             No         32955.0                 152.0   \n",
              "18930    > 2 Years            Yes          2630.0                 124.0   \n",
              "135229    < 1 Year             No         26595.0                 152.0   \n",
              "105049    < 1 Year             No         42844.0                 152.0   \n",
              "187934    < 1 Year             No         27098.0                 152.0   \n",
              "\n",
              "        vintage  response  \n",
              "275163       62         0  \n",
              "228955      188         0  \n",
              "183986      200         0  \n",
              "272782       17         0  \n",
              "24900       149         0  \n",
              "...         ...       ...  \n",
              "327865       23         0  \n",
              "18930       277         0  \n",
              "135229      277         0  \n",
              "105049      140         0  \n",
              "187934      236         0  \n",
              "\n",
              "[76222 rows x 12 columns]"
            ],
            "text/html": [
              "\n",
              "  <div id=\"df-e25d0197-1d5e-4f6a-9a27-32412e6dcac0\">\n",
              "    <div class=\"colab-df-container\">\n",
              "      <div>\n",
              "<style scoped>\n",
              "    .dataframe tbody tr th:only-of-type {\n",
              "        vertical-align: middle;\n",
              "    }\n",
              "\n",
              "    .dataframe tbody tr th {\n",
              "        vertical-align: top;\n",
              "    }\n",
              "\n",
              "    .dataframe thead th {\n",
              "        text-align: right;\n",
              "    }\n",
              "</style>\n",
              "<table border=\"1\" class=\"dataframe\">\n",
              "  <thead>\n",
              "    <tr style=\"text-align: right;\">\n",
              "      <th></th>\n",
              "      <th>id</th>\n",
              "      <th>gender</th>\n",
              "      <th>age</th>\n",
              "      <th>driving_license</th>\n",
              "      <th>region_code</th>\n",
              "      <th>previously_insured</th>\n",
              "      <th>vehicle_age</th>\n",
              "      <th>vehicle_damage</th>\n",
              "      <th>annual_premium</th>\n",
              "      <th>policy_sales_channel</th>\n",
              "      <th>vintage</th>\n",
              "      <th>response</th>\n",
              "    </tr>\n",
              "  </thead>\n",
              "  <tbody>\n",
              "    <tr>\n",
              "      <th>275163</th>\n",
              "      <td>275164</td>\n",
              "      <td>Female</td>\n",
              "      <td>24</td>\n",
              "      <td>1</td>\n",
              "      <td>41.0</td>\n",
              "      <td>1</td>\n",
              "      <td>&lt; 1 Year</td>\n",
              "      <td>No</td>\n",
              "      <td>31696.0</td>\n",
              "      <td>152.0</td>\n",
              "      <td>62</td>\n",
              "      <td>0</td>\n",
              "    </tr>\n",
              "    <tr>\n",
              "      <th>228955</th>\n",
              "      <td>228956</td>\n",
              "      <td>Female</td>\n",
              "      <td>39</td>\n",
              "      <td>1</td>\n",
              "      <td>41.0</td>\n",
              "      <td>0</td>\n",
              "      <td>1-2 Year</td>\n",
              "      <td>Yes</td>\n",
              "      <td>34202.0</td>\n",
              "      <td>124.0</td>\n",
              "      <td>188</td>\n",
              "      <td>0</td>\n",
              "    </tr>\n",
              "    <tr>\n",
              "      <th>183986</th>\n",
              "      <td>183987</td>\n",
              "      <td>Female</td>\n",
              "      <td>25</td>\n",
              "      <td>1</td>\n",
              "      <td>39.0</td>\n",
              "      <td>0</td>\n",
              "      <td>&lt; 1 Year</td>\n",
              "      <td>No</td>\n",
              "      <td>31140.0</td>\n",
              "      <td>152.0</td>\n",
              "      <td>200</td>\n",
              "      <td>0</td>\n",
              "    </tr>\n",
              "    <tr>\n",
              "      <th>272782</th>\n",
              "      <td>272783</td>\n",
              "      <td>Female</td>\n",
              "      <td>67</td>\n",
              "      <td>1</td>\n",
              "      <td>28.0</td>\n",
              "      <td>0</td>\n",
              "      <td>&gt; 2 Years</td>\n",
              "      <td>Yes</td>\n",
              "      <td>2630.0</td>\n",
              "      <td>26.0</td>\n",
              "      <td>17</td>\n",
              "      <td>0</td>\n",
              "    </tr>\n",
              "    <tr>\n",
              "      <th>24900</th>\n",
              "      <td>24901</td>\n",
              "      <td>Male</td>\n",
              "      <td>23</td>\n",
              "      <td>1</td>\n",
              "      <td>46.0</td>\n",
              "      <td>1</td>\n",
              "      <td>&lt; 1 Year</td>\n",
              "      <td>No</td>\n",
              "      <td>32159.0</td>\n",
              "      <td>152.0</td>\n",
              "      <td>149</td>\n",
              "      <td>0</td>\n",
              "    </tr>\n",
              "    <tr>\n",
              "      <th>...</th>\n",
              "      <td>...</td>\n",
              "      <td>...</td>\n",
              "      <td>...</td>\n",
              "      <td>...</td>\n",
              "      <td>...</td>\n",
              "      <td>...</td>\n",
              "      <td>...</td>\n",
              "      <td>...</td>\n",
              "      <td>...</td>\n",
              "      <td>...</td>\n",
              "      <td>...</td>\n",
              "      <td>...</td>\n",
              "    </tr>\n",
              "    <tr>\n",
              "      <th>327865</th>\n",
              "      <td>327866</td>\n",
              "      <td>Male</td>\n",
              "      <td>27</td>\n",
              "      <td>1</td>\n",
              "      <td>33.0</td>\n",
              "      <td>1</td>\n",
              "      <td>&lt; 1 Year</td>\n",
              "      <td>No</td>\n",
              "      <td>32955.0</td>\n",
              "      <td>152.0</td>\n",
              "      <td>23</td>\n",
              "      <td>0</td>\n",
              "    </tr>\n",
              "    <tr>\n",
              "      <th>18930</th>\n",
              "      <td>18931</td>\n",
              "      <td>Male</td>\n",
              "      <td>49</td>\n",
              "      <td>1</td>\n",
              "      <td>40.0</td>\n",
              "      <td>0</td>\n",
              "      <td>&gt; 2 Years</td>\n",
              "      <td>Yes</td>\n",
              "      <td>2630.0</td>\n",
              "      <td>124.0</td>\n",
              "      <td>277</td>\n",
              "      <td>0</td>\n",
              "    </tr>\n",
              "    <tr>\n",
              "      <th>135229</th>\n",
              "      <td>135230</td>\n",
              "      <td>Male</td>\n",
              "      <td>24</td>\n",
              "      <td>1</td>\n",
              "      <td>27.0</td>\n",
              "      <td>0</td>\n",
              "      <td>&lt; 1 Year</td>\n",
              "      <td>No</td>\n",
              "      <td>26595.0</td>\n",
              "      <td>152.0</td>\n",
              "      <td>277</td>\n",
              "      <td>0</td>\n",
              "    </tr>\n",
              "    <tr>\n",
              "      <th>105049</th>\n",
              "      <td>105050</td>\n",
              "      <td>Male</td>\n",
              "      <td>22</td>\n",
              "      <td>1</td>\n",
              "      <td>29.0</td>\n",
              "      <td>1</td>\n",
              "      <td>&lt; 1 Year</td>\n",
              "      <td>No</td>\n",
              "      <td>42844.0</td>\n",
              "      <td>152.0</td>\n",
              "      <td>140</td>\n",
              "      <td>0</td>\n",
              "    </tr>\n",
              "    <tr>\n",
              "      <th>187934</th>\n",
              "      <td>187935</td>\n",
              "      <td>Female</td>\n",
              "      <td>32</td>\n",
              "      <td>1</td>\n",
              "      <td>50.0</td>\n",
              "      <td>1</td>\n",
              "      <td>&lt; 1 Year</td>\n",
              "      <td>No</td>\n",
              "      <td>27098.0</td>\n",
              "      <td>152.0</td>\n",
              "      <td>236</td>\n",
              "      <td>0</td>\n",
              "    </tr>\n",
              "  </tbody>\n",
              "</table>\n",
              "<p>76222 rows × 12 columns</p>\n",
              "</div>\n",
              "      <button class=\"colab-df-convert\" onclick=\"convertToInteractive('df-e25d0197-1d5e-4f6a-9a27-32412e6dcac0')\"\n",
              "              title=\"Convert this dataframe to an interactive table.\"\n",
              "              style=\"display:none;\">\n",
              "        \n",
              "  <svg xmlns=\"http://www.w3.org/2000/svg\" height=\"24px\"viewBox=\"0 0 24 24\"\n",
              "       width=\"24px\">\n",
              "    <path d=\"M0 0h24v24H0V0z\" fill=\"none\"/>\n",
              "    <path d=\"M18.56 5.44l.94 2.06.94-2.06 2.06-.94-2.06-.94-.94-2.06-.94 2.06-2.06.94zm-11 1L8.5 8.5l.94-2.06 2.06-.94-2.06-.94L8.5 2.5l-.94 2.06-2.06.94zm10 10l.94 2.06.94-2.06 2.06-.94-2.06-.94-.94-2.06-.94 2.06-2.06.94z\"/><path d=\"M17.41 7.96l-1.37-1.37c-.4-.4-.92-.59-1.43-.59-.52 0-1.04.2-1.43.59L10.3 9.45l-7.72 7.72c-.78.78-.78 2.05 0 2.83L4 21.41c.39.39.9.59 1.41.59.51 0 1.02-.2 1.41-.59l7.78-7.78 2.81-2.81c.8-.78.8-2.07 0-2.86zM5.41 20L4 18.59l7.72-7.72 1.47 1.35L5.41 20z\"/>\n",
              "  </svg>\n",
              "      </button>\n",
              "      \n",
              "  <style>\n",
              "    .colab-df-container {\n",
              "      display:flex;\n",
              "      flex-wrap:wrap;\n",
              "      gap: 12px;\n",
              "    }\n",
              "\n",
              "    .colab-df-convert {\n",
              "      background-color: #E8F0FE;\n",
              "      border: none;\n",
              "      border-radius: 50%;\n",
              "      cursor: pointer;\n",
              "      display: none;\n",
              "      fill: #1967D2;\n",
              "      height: 32px;\n",
              "      padding: 0 0 0 0;\n",
              "      width: 32px;\n",
              "    }\n",
              "\n",
              "    .colab-df-convert:hover {\n",
              "      background-color: #E2EBFA;\n",
              "      box-shadow: 0px 1px 2px rgba(60, 64, 67, 0.3), 0px 1px 3px 1px rgba(60, 64, 67, 0.15);\n",
              "      fill: #174EA6;\n",
              "    }\n",
              "\n",
              "    [theme=dark] .colab-df-convert {\n",
              "      background-color: #3B4455;\n",
              "      fill: #D2E3FC;\n",
              "    }\n",
              "\n",
              "    [theme=dark] .colab-df-convert:hover {\n",
              "      background-color: #434B5C;\n",
              "      box-shadow: 0px 1px 3px 1px rgba(0, 0, 0, 0.15);\n",
              "      filter: drop-shadow(0px 1px 2px rgba(0, 0, 0, 0.3));\n",
              "      fill: #FFFFFF;\n",
              "    }\n",
              "  </style>\n",
              "\n",
              "      <script>\n",
              "        const buttonEl =\n",
              "          document.querySelector('#df-e25d0197-1d5e-4f6a-9a27-32412e6dcac0 button.colab-df-convert');\n",
              "        buttonEl.style.display =\n",
              "          google.colab.kernel.accessAllowed ? 'block' : 'none';\n",
              "\n",
              "        async function convertToInteractive(key) {\n",
              "          const element = document.querySelector('#df-e25d0197-1d5e-4f6a-9a27-32412e6dcac0');\n",
              "          const dataTable =\n",
              "            await google.colab.kernel.invokeFunction('convertToInteractive',\n",
              "                                                     [key], {});\n",
              "          if (!dataTable) return;\n",
              "\n",
              "          const docLinkHtml = 'Like what you see? Visit the ' +\n",
              "            '<a target=\"_blank\" href=https://colab.research.google.com/notebooks/data_table.ipynb>data table notebook</a>'\n",
              "            + ' to learn more about interactive tables.';\n",
              "          element.innerHTML = '';\n",
              "          dataTable['output_type'] = 'display_data';\n",
              "          await google.colab.output.renderOutput(dataTable, element);\n",
              "          const docLink = document.createElement('div');\n",
              "          docLink.innerHTML = docLinkHtml;\n",
              "          element.appendChild(docLink);\n",
              "        }\n",
              "      </script>\n",
              "    </div>\n",
              "  </div>\n",
              "  "
            ]
          },
          "metadata": {},
          "execution_count": 216
        }
      ]
    },
    {
      "cell_type": "markdown",
      "source": [
        "#### Test preparation"
      ],
      "metadata": {
        "id": "RLfGN8m10xNn"
      }
    },
    {
      "cell_type": "code",
      "source": [
        "#load x_test and y_test from test data.\n",
        "#x_test = pd.read_csv(datapath+'full_test_data.csv.csv', index_col=0)\n",
        "x_test = df_test\n",
        "y_test = x_test['response']\n",
        "x_test = x_test.drop('response', axis=1)\n",
        "x_test"
      ],
      "metadata": {
        "colab": {
          "base_uri": "https://localhost:8080/",
          "height": 481
        },
        "id": "wBFn4mfOzsmi",
        "outputId": "600482d4-1fef-443a-b8ca-514c2819a11c"
      },
      "execution_count": null,
      "outputs": [
        {
          "output_type": "execute_result",
          "data": {
            "text/plain": [
              "            id  gender  age  driving_license  region_code  previously_insured  \\\n",
              "275163  275164  Female   24                1         41.0                   1   \n",
              "228955  228956  Female   39                1         41.0                   0   \n",
              "183986  183987  Female   25                1         39.0                   0   \n",
              "272782  272783  Female   67                1         28.0                   0   \n",
              "24900    24901    Male   23                1         46.0                   1   \n",
              "...        ...     ...  ...              ...          ...                 ...   \n",
              "327865  327866    Male   27                1         33.0                   1   \n",
              "18930    18931    Male   49                1         40.0                   0   \n",
              "135229  135230    Male   24                1         27.0                   0   \n",
              "105049  105050    Male   22                1         29.0                   1   \n",
              "187934  187935  Female   32                1         50.0                   1   \n",
              "\n",
              "       vehicle_age vehicle_damage  annual_premium  policy_sales_channel  \\\n",
              "275163    < 1 Year             No         31696.0                 152.0   \n",
              "228955    1-2 Year            Yes         34202.0                 124.0   \n",
              "183986    < 1 Year             No         31140.0                 152.0   \n",
              "272782   > 2 Years            Yes          2630.0                  26.0   \n",
              "24900     < 1 Year             No         32159.0                 152.0   \n",
              "...            ...            ...             ...                   ...   \n",
              "327865    < 1 Year             No         32955.0                 152.0   \n",
              "18930    > 2 Years            Yes          2630.0                 124.0   \n",
              "135229    < 1 Year             No         26595.0                 152.0   \n",
              "105049    < 1 Year             No         42844.0                 152.0   \n",
              "187934    < 1 Year             No         27098.0                 152.0   \n",
              "\n",
              "        vintage  \n",
              "275163       62  \n",
              "228955      188  \n",
              "183986      200  \n",
              "272782       17  \n",
              "24900       149  \n",
              "...         ...  \n",
              "327865       23  \n",
              "18930       277  \n",
              "135229      277  \n",
              "105049      140  \n",
              "187934      236  \n",
              "\n",
              "[76222 rows x 11 columns]"
            ],
            "text/html": [
              "\n",
              "  <div id=\"df-0aaf4d18-2aa8-4e56-a631-fe44cc04e18b\">\n",
              "    <div class=\"colab-df-container\">\n",
              "      <div>\n",
              "<style scoped>\n",
              "    .dataframe tbody tr th:only-of-type {\n",
              "        vertical-align: middle;\n",
              "    }\n",
              "\n",
              "    .dataframe tbody tr th {\n",
              "        vertical-align: top;\n",
              "    }\n",
              "\n",
              "    .dataframe thead th {\n",
              "        text-align: right;\n",
              "    }\n",
              "</style>\n",
              "<table border=\"1\" class=\"dataframe\">\n",
              "  <thead>\n",
              "    <tr style=\"text-align: right;\">\n",
              "      <th></th>\n",
              "      <th>id</th>\n",
              "      <th>gender</th>\n",
              "      <th>age</th>\n",
              "      <th>driving_license</th>\n",
              "      <th>region_code</th>\n",
              "      <th>previously_insured</th>\n",
              "      <th>vehicle_age</th>\n",
              "      <th>vehicle_damage</th>\n",
              "      <th>annual_premium</th>\n",
              "      <th>policy_sales_channel</th>\n",
              "      <th>vintage</th>\n",
              "    </tr>\n",
              "  </thead>\n",
              "  <tbody>\n",
              "    <tr>\n",
              "      <th>275163</th>\n",
              "      <td>275164</td>\n",
              "      <td>Female</td>\n",
              "      <td>24</td>\n",
              "      <td>1</td>\n",
              "      <td>41.0</td>\n",
              "      <td>1</td>\n",
              "      <td>&lt; 1 Year</td>\n",
              "      <td>No</td>\n",
              "      <td>31696.0</td>\n",
              "      <td>152.0</td>\n",
              "      <td>62</td>\n",
              "    </tr>\n",
              "    <tr>\n",
              "      <th>228955</th>\n",
              "      <td>228956</td>\n",
              "      <td>Female</td>\n",
              "      <td>39</td>\n",
              "      <td>1</td>\n",
              "      <td>41.0</td>\n",
              "      <td>0</td>\n",
              "      <td>1-2 Year</td>\n",
              "      <td>Yes</td>\n",
              "      <td>34202.0</td>\n",
              "      <td>124.0</td>\n",
              "      <td>188</td>\n",
              "    </tr>\n",
              "    <tr>\n",
              "      <th>183986</th>\n",
              "      <td>183987</td>\n",
              "      <td>Female</td>\n",
              "      <td>25</td>\n",
              "      <td>1</td>\n",
              "      <td>39.0</td>\n",
              "      <td>0</td>\n",
              "      <td>&lt; 1 Year</td>\n",
              "      <td>No</td>\n",
              "      <td>31140.0</td>\n",
              "      <td>152.0</td>\n",
              "      <td>200</td>\n",
              "    </tr>\n",
              "    <tr>\n",
              "      <th>272782</th>\n",
              "      <td>272783</td>\n",
              "      <td>Female</td>\n",
              "      <td>67</td>\n",
              "      <td>1</td>\n",
              "      <td>28.0</td>\n",
              "      <td>0</td>\n",
              "      <td>&gt; 2 Years</td>\n",
              "      <td>Yes</td>\n",
              "      <td>2630.0</td>\n",
              "      <td>26.0</td>\n",
              "      <td>17</td>\n",
              "    </tr>\n",
              "    <tr>\n",
              "      <th>24900</th>\n",
              "      <td>24901</td>\n",
              "      <td>Male</td>\n",
              "      <td>23</td>\n",
              "      <td>1</td>\n",
              "      <td>46.0</td>\n",
              "      <td>1</td>\n",
              "      <td>&lt; 1 Year</td>\n",
              "      <td>No</td>\n",
              "      <td>32159.0</td>\n",
              "      <td>152.0</td>\n",
              "      <td>149</td>\n",
              "    </tr>\n",
              "    <tr>\n",
              "      <th>...</th>\n",
              "      <td>...</td>\n",
              "      <td>...</td>\n",
              "      <td>...</td>\n",
              "      <td>...</td>\n",
              "      <td>...</td>\n",
              "      <td>...</td>\n",
              "      <td>...</td>\n",
              "      <td>...</td>\n",
              "      <td>...</td>\n",
              "      <td>...</td>\n",
              "      <td>...</td>\n",
              "    </tr>\n",
              "    <tr>\n",
              "      <th>327865</th>\n",
              "      <td>327866</td>\n",
              "      <td>Male</td>\n",
              "      <td>27</td>\n",
              "      <td>1</td>\n",
              "      <td>33.0</td>\n",
              "      <td>1</td>\n",
              "      <td>&lt; 1 Year</td>\n",
              "      <td>No</td>\n",
              "      <td>32955.0</td>\n",
              "      <td>152.0</td>\n",
              "      <td>23</td>\n",
              "    </tr>\n",
              "    <tr>\n",
              "      <th>18930</th>\n",
              "      <td>18931</td>\n",
              "      <td>Male</td>\n",
              "      <td>49</td>\n",
              "      <td>1</td>\n",
              "      <td>40.0</td>\n",
              "      <td>0</td>\n",
              "      <td>&gt; 2 Years</td>\n",
              "      <td>Yes</td>\n",
              "      <td>2630.0</td>\n",
              "      <td>124.0</td>\n",
              "      <td>277</td>\n",
              "    </tr>\n",
              "    <tr>\n",
              "      <th>135229</th>\n",
              "      <td>135230</td>\n",
              "      <td>Male</td>\n",
              "      <td>24</td>\n",
              "      <td>1</td>\n",
              "      <td>27.0</td>\n",
              "      <td>0</td>\n",
              "      <td>&lt; 1 Year</td>\n",
              "      <td>No</td>\n",
              "      <td>26595.0</td>\n",
              "      <td>152.0</td>\n",
              "      <td>277</td>\n",
              "    </tr>\n",
              "    <tr>\n",
              "      <th>105049</th>\n",
              "      <td>105050</td>\n",
              "      <td>Male</td>\n",
              "      <td>22</td>\n",
              "      <td>1</td>\n",
              "      <td>29.0</td>\n",
              "      <td>1</td>\n",
              "      <td>&lt; 1 Year</td>\n",
              "      <td>No</td>\n",
              "      <td>42844.0</td>\n",
              "      <td>152.0</td>\n",
              "      <td>140</td>\n",
              "    </tr>\n",
              "    <tr>\n",
              "      <th>187934</th>\n",
              "      <td>187935</td>\n",
              "      <td>Female</td>\n",
              "      <td>32</td>\n",
              "      <td>1</td>\n",
              "      <td>50.0</td>\n",
              "      <td>1</td>\n",
              "      <td>&lt; 1 Year</td>\n",
              "      <td>No</td>\n",
              "      <td>27098.0</td>\n",
              "      <td>152.0</td>\n",
              "      <td>236</td>\n",
              "    </tr>\n",
              "  </tbody>\n",
              "</table>\n",
              "<p>76222 rows × 11 columns</p>\n",
              "</div>\n",
              "      <button class=\"colab-df-convert\" onclick=\"convertToInteractive('df-0aaf4d18-2aa8-4e56-a631-fe44cc04e18b')\"\n",
              "              title=\"Convert this dataframe to an interactive table.\"\n",
              "              style=\"display:none;\">\n",
              "        \n",
              "  <svg xmlns=\"http://www.w3.org/2000/svg\" height=\"24px\"viewBox=\"0 0 24 24\"\n",
              "       width=\"24px\">\n",
              "    <path d=\"M0 0h24v24H0V0z\" fill=\"none\"/>\n",
              "    <path d=\"M18.56 5.44l.94 2.06.94-2.06 2.06-.94-2.06-.94-.94-2.06-.94 2.06-2.06.94zm-11 1L8.5 8.5l.94-2.06 2.06-.94-2.06-.94L8.5 2.5l-.94 2.06-2.06.94zm10 10l.94 2.06.94-2.06 2.06-.94-2.06-.94-.94-2.06-.94 2.06-2.06.94z\"/><path d=\"M17.41 7.96l-1.37-1.37c-.4-.4-.92-.59-1.43-.59-.52 0-1.04.2-1.43.59L10.3 9.45l-7.72 7.72c-.78.78-.78 2.05 0 2.83L4 21.41c.39.39.9.59 1.41.59.51 0 1.02-.2 1.41-.59l7.78-7.78 2.81-2.81c.8-.78.8-2.07 0-2.86zM5.41 20L4 18.59l7.72-7.72 1.47 1.35L5.41 20z\"/>\n",
              "  </svg>\n",
              "      </button>\n",
              "      \n",
              "  <style>\n",
              "    .colab-df-container {\n",
              "      display:flex;\n",
              "      flex-wrap:wrap;\n",
              "      gap: 12px;\n",
              "    }\n",
              "\n",
              "    .colab-df-convert {\n",
              "      background-color: #E8F0FE;\n",
              "      border: none;\n",
              "      border-radius: 50%;\n",
              "      cursor: pointer;\n",
              "      display: none;\n",
              "      fill: #1967D2;\n",
              "      height: 32px;\n",
              "      padding: 0 0 0 0;\n",
              "      width: 32px;\n",
              "    }\n",
              "\n",
              "    .colab-df-convert:hover {\n",
              "      background-color: #E2EBFA;\n",
              "      box-shadow: 0px 1px 2px rgba(60, 64, 67, 0.3), 0px 1px 3px 1px rgba(60, 64, 67, 0.15);\n",
              "      fill: #174EA6;\n",
              "    }\n",
              "\n",
              "    [theme=dark] .colab-df-convert {\n",
              "      background-color: #3B4455;\n",
              "      fill: #D2E3FC;\n",
              "    }\n",
              "\n",
              "    [theme=dark] .colab-df-convert:hover {\n",
              "      background-color: #434B5C;\n",
              "      box-shadow: 0px 1px 3px 1px rgba(0, 0, 0, 0.15);\n",
              "      filter: drop-shadow(0px 1px 2px rgba(0, 0, 0, 0.3));\n",
              "      fill: #FFFFFF;\n",
              "    }\n",
              "  </style>\n",
              "\n",
              "      <script>\n",
              "        const buttonEl =\n",
              "          document.querySelector('#df-0aaf4d18-2aa8-4e56-a631-fe44cc04e18b button.colab-df-convert');\n",
              "        buttonEl.style.display =\n",
              "          google.colab.kernel.accessAllowed ? 'block' : 'none';\n",
              "\n",
              "        async function convertToInteractive(key) {\n",
              "          const element = document.querySelector('#df-0aaf4d18-2aa8-4e56-a631-fe44cc04e18b');\n",
              "          const dataTable =\n",
              "            await google.colab.kernel.invokeFunction('convertToInteractive',\n",
              "                                                     [key], {});\n",
              "          if (!dataTable) return;\n",
              "\n",
              "          const docLinkHtml = 'Like what you see? Visit the ' +\n",
              "            '<a target=\"_blank\" href=https://colab.research.google.com/notebooks/data_table.ipynb>data table notebook</a>'\n",
              "            + ' to learn more about interactive tables.';\n",
              "          element.innerHTML = '';\n",
              "          dataTable['output_type'] = 'display_data';\n",
              "          await google.colab.output.renderOutput(dataTable, element);\n",
              "          const docLink = document.createElement('div');\n",
              "          docLink.innerHTML = docLinkHtml;\n",
              "          element.appendChild(docLink);\n",
              "        }\n",
              "      </script>\n",
              "    </div>\n",
              "  </div>\n",
              "  "
            ]
          },
          "metadata": {},
          "execution_count": 217
        }
      ]
    },
    {
      "cell_type": "code",
      "source": [
        "# ----- Feature Engeneering ----- \n",
        "# Vehicle Damage Number\n",
        "x_test['vehicle_damage'] = x_test['vehicle_damage'].apply( lambda x: 1 if x == 'Yes' else 0 )\n",
        "\n",
        "# Vehicle Age\n",
        "x_test['vehicle_age'] =  x_test['vehicle_age'].apply( lambda x: 'over_2_years' if x == '> 2 Years' else 'between_1_2_year' if x == '1-2 Year' else 'below_1_year' )\n",
        "\n",
        "# ----- Data Preparation - Standardization ----- \n",
        "#health_annual_paid: StandardScaler\n",
        "x_test['annual_premium'] = ss.transform(x_test[['annual_premium']].values)\n",
        "    #If we used fit_transform() on our test data too, we would compute a new mean and variance, that is a new scale for each feature, and would let our model learn about our test data too. Using transform() we use the same mean and variance as it is calculated from our training data to transform our test data.\n",
        "\n",
        "# ----- Data Preparation - Rescaling ----- \n",
        "#age: MinMaxScaler\n",
        "x_test['age'] = mms_age.transform( x_test[['age']].values )\n",
        "#days_associated: MinMaxScaler\n",
        "x_test['vintage'] = mms_vintage.fit_transform( x_test[['vintage']].values )\n",
        "\n",
        "\n",
        "# ----- Data Preparation - Encoding ----- \n",
        "#vehicle_age: one hot encoding \n",
        "x_test = pd.get_dummies( x_test, prefix='vehicle_age', columns=['vehicle_age'] ) \n",
        "#gender: target encoding\n",
        "x_test.loc[:,'gender'] = x_test.loc[:,'gender'].map(target_encode_gender)\n",
        "#region_code: target encoding\n",
        "x_test.loc[:,'region_code'] = x_test.loc[:,'region_code'].map(target_encode_region_code)\n",
        "#policy_sales_channel: frequency encoding\n",
        "x_test.loc[:,'policy_sales_channel'] = x_test['policy_sales_channel'].map(fe_policy_sales_channel)"
      ],
      "metadata": {
        "id": "C0ywrEvzzsqj"
      },
      "execution_count": null,
      "outputs": []
    },
    {
      "cell_type": "code",
      "source": [
        "x_test.shape"
      ],
      "metadata": {
        "colab": {
          "base_uri": "https://localhost:8080/"
        },
        "id": "7sf0zhLozstz",
        "outputId": "723e638f-d38c-4923-abe3-01f7454c3aa1"
      },
      "execution_count": null,
      "outputs": [
        {
          "output_type": "execute_result",
          "data": {
            "text/plain": [
              "(76222, 13)"
            ]
          },
          "metadata": {},
          "execution_count": 219
        }
      ]
    },
    {
      "cell_type": "markdown",
      "source": [
        "### 8.2 Business Performance"
      ],
      "metadata": {
        "id": "LgrllHOU1B1e"
      }
    },
    {
      "cell_type": "code",
      "source": [
        "# rounding the number of calls to 40000 to Compute Recall at k based on the validation dataset and previous yhat_xgb\n",
        "xgb_recall_at_k = round(recall_at_k(df8, x_validation, y_validation, yhat_xgb, 40000), 3)\n",
        "print('XGB Model - Recall at K: {}'.format(xgb_recall_at_k))\n",
        "print('Percentage of customers interested: {}%'.format(xgb_recall_at_k*100))"
      ],
      "metadata": {
        "colab": {
          "base_uri": "https://localhost:8080/"
        },
        "id": "LWtZGABWzsws",
        "outputId": "a3295325-9b9e-4a0c-b61a-350254e0b84c"
      },
      "execution_count": null,
      "outputs": [
        {
          "output_type": "stream",
          "name": "stdout",
          "text": [
            "XGB Model - Recall at K: 0.999\n",
            "Percentage of customers interested: 99.9%\n"
          ]
        }
      ]
    },
    {
      "cell_type": "markdown",
      "source": [
        "#### 8.2.2 Percentage of clients interested in vehicle insurance that will be contacted with 20.000 calls."
      ],
      "metadata": {
        "id": "BlytiRTY1Ka0"
      }
    },
    {
      "cell_type": "code",
      "source": [
        "data = x_test.copy()\n",
        "data['target'] = y_test.copy()\n",
        "data.head()"
      ],
      "metadata": {
        "colab": {
          "base_uri": "https://localhost:8080/",
          "height": 267
        },
        "id": "QPH1NOrgzszk",
        "outputId": "87b89096-0034-488f-8c40-1f710ee85525"
      },
      "execution_count": null,
      "outputs": [
        {
          "output_type": "execute_result",
          "data": {
            "text/plain": [
              "            id    gender       age  driving_license  region_code  \\\n",
              "275163  275164  0.100393  0.061538                1     0.116297   \n",
              "228955  228956  0.100393  0.292308                1     0.116297   \n",
              "183986  183987  0.100393  0.076923                1     0.113402   \n",
              "272782  272783  0.100393  0.723077                1     0.188286   \n",
              "24900    24901  0.138716  0.046154                1     0.100533   \n",
              "\n",
              "        previously_insured  vehicle_damage  annual_premium  \\\n",
              "275163                   1               0       -0.392369   \n",
              "228955                   0               1       -0.163647   \n",
              "183986                   0               0       -0.443115   \n",
              "272782                   0               1       -3.045222   \n",
              "24900                    1               0       -0.350111   \n",
              "\n",
              "        policy_sales_channel   vintage  vehicle_age_below_1_year  \\\n",
              "275163              0.387389  0.179931                         1   \n",
              "228955              0.195955  0.615917                         0   \n",
              "183986              0.387389  0.657439                         1   \n",
              "272782              0.212527  0.024221                         0   \n",
              "24900               0.387389  0.480969                         1   \n",
              "\n",
              "        vehicle_age_between_1_2_year  vehicle_age_over_2_years  target  \n",
              "275163                             0                         0       0  \n",
              "228955                             1                         0       0  \n",
              "183986                             0                         0       0  \n",
              "272782                             0                         1       0  \n",
              "24900                              0                         0       0  "
            ],
            "text/html": [
              "\n",
              "  <div id=\"df-aef0631a-0e95-4962-83ff-972be6d5ab02\">\n",
              "    <div class=\"colab-df-container\">\n",
              "      <div>\n",
              "<style scoped>\n",
              "    .dataframe tbody tr th:only-of-type {\n",
              "        vertical-align: middle;\n",
              "    }\n",
              "\n",
              "    .dataframe tbody tr th {\n",
              "        vertical-align: top;\n",
              "    }\n",
              "\n",
              "    .dataframe thead th {\n",
              "        text-align: right;\n",
              "    }\n",
              "</style>\n",
              "<table border=\"1\" class=\"dataframe\">\n",
              "  <thead>\n",
              "    <tr style=\"text-align: right;\">\n",
              "      <th></th>\n",
              "      <th>id</th>\n",
              "      <th>gender</th>\n",
              "      <th>age</th>\n",
              "      <th>driving_license</th>\n",
              "      <th>region_code</th>\n",
              "      <th>previously_insured</th>\n",
              "      <th>vehicle_damage</th>\n",
              "      <th>annual_premium</th>\n",
              "      <th>policy_sales_channel</th>\n",
              "      <th>vintage</th>\n",
              "      <th>vehicle_age_below_1_year</th>\n",
              "      <th>vehicle_age_between_1_2_year</th>\n",
              "      <th>vehicle_age_over_2_years</th>\n",
              "      <th>target</th>\n",
              "    </tr>\n",
              "  </thead>\n",
              "  <tbody>\n",
              "    <tr>\n",
              "      <th>275163</th>\n",
              "      <td>275164</td>\n",
              "      <td>0.100393</td>\n",
              "      <td>0.061538</td>\n",
              "      <td>1</td>\n",
              "      <td>0.116297</td>\n",
              "      <td>1</td>\n",
              "      <td>0</td>\n",
              "      <td>-0.392369</td>\n",
              "      <td>0.387389</td>\n",
              "      <td>0.179931</td>\n",
              "      <td>1</td>\n",
              "      <td>0</td>\n",
              "      <td>0</td>\n",
              "      <td>0</td>\n",
              "    </tr>\n",
              "    <tr>\n",
              "      <th>228955</th>\n",
              "      <td>228956</td>\n",
              "      <td>0.100393</td>\n",
              "      <td>0.292308</td>\n",
              "      <td>1</td>\n",
              "      <td>0.116297</td>\n",
              "      <td>0</td>\n",
              "      <td>1</td>\n",
              "      <td>-0.163647</td>\n",
              "      <td>0.195955</td>\n",
              "      <td>0.615917</td>\n",
              "      <td>0</td>\n",
              "      <td>1</td>\n",
              "      <td>0</td>\n",
              "      <td>0</td>\n",
              "    </tr>\n",
              "    <tr>\n",
              "      <th>183986</th>\n",
              "      <td>183987</td>\n",
              "      <td>0.100393</td>\n",
              "      <td>0.076923</td>\n",
              "      <td>1</td>\n",
              "      <td>0.113402</td>\n",
              "      <td>0</td>\n",
              "      <td>0</td>\n",
              "      <td>-0.443115</td>\n",
              "      <td>0.387389</td>\n",
              "      <td>0.657439</td>\n",
              "      <td>1</td>\n",
              "      <td>0</td>\n",
              "      <td>0</td>\n",
              "      <td>0</td>\n",
              "    </tr>\n",
              "    <tr>\n",
              "      <th>272782</th>\n",
              "      <td>272783</td>\n",
              "      <td>0.100393</td>\n",
              "      <td>0.723077</td>\n",
              "      <td>1</td>\n",
              "      <td>0.188286</td>\n",
              "      <td>0</td>\n",
              "      <td>1</td>\n",
              "      <td>-3.045222</td>\n",
              "      <td>0.212527</td>\n",
              "      <td>0.024221</td>\n",
              "      <td>0</td>\n",
              "      <td>0</td>\n",
              "      <td>1</td>\n",
              "      <td>0</td>\n",
              "    </tr>\n",
              "    <tr>\n",
              "      <th>24900</th>\n",
              "      <td>24901</td>\n",
              "      <td>0.138716</td>\n",
              "      <td>0.046154</td>\n",
              "      <td>1</td>\n",
              "      <td>0.100533</td>\n",
              "      <td>1</td>\n",
              "      <td>0</td>\n",
              "      <td>-0.350111</td>\n",
              "      <td>0.387389</td>\n",
              "      <td>0.480969</td>\n",
              "      <td>1</td>\n",
              "      <td>0</td>\n",
              "      <td>0</td>\n",
              "      <td>0</td>\n",
              "    </tr>\n",
              "  </tbody>\n",
              "</table>\n",
              "</div>\n",
              "      <button class=\"colab-df-convert\" onclick=\"convertToInteractive('df-aef0631a-0e95-4962-83ff-972be6d5ab02')\"\n",
              "              title=\"Convert this dataframe to an interactive table.\"\n",
              "              style=\"display:none;\">\n",
              "        \n",
              "  <svg xmlns=\"http://www.w3.org/2000/svg\" height=\"24px\"viewBox=\"0 0 24 24\"\n",
              "       width=\"24px\">\n",
              "    <path d=\"M0 0h24v24H0V0z\" fill=\"none\"/>\n",
              "    <path d=\"M18.56 5.44l.94 2.06.94-2.06 2.06-.94-2.06-.94-.94-2.06-.94 2.06-2.06.94zm-11 1L8.5 8.5l.94-2.06 2.06-.94-2.06-.94L8.5 2.5l-.94 2.06-2.06.94zm10 10l.94 2.06.94-2.06 2.06-.94-2.06-.94-.94-2.06-.94 2.06-2.06.94z\"/><path d=\"M17.41 7.96l-1.37-1.37c-.4-.4-.92-.59-1.43-.59-.52 0-1.04.2-1.43.59L10.3 9.45l-7.72 7.72c-.78.78-.78 2.05 0 2.83L4 21.41c.39.39.9.59 1.41.59.51 0 1.02-.2 1.41-.59l7.78-7.78 2.81-2.81c.8-.78.8-2.07 0-2.86zM5.41 20L4 18.59l7.72-7.72 1.47 1.35L5.41 20z\"/>\n",
              "  </svg>\n",
              "      </button>\n",
              "      \n",
              "  <style>\n",
              "    .colab-df-container {\n",
              "      display:flex;\n",
              "      flex-wrap:wrap;\n",
              "      gap: 12px;\n",
              "    }\n",
              "\n",
              "    .colab-df-convert {\n",
              "      background-color: #E8F0FE;\n",
              "      border: none;\n",
              "      border-radius: 50%;\n",
              "      cursor: pointer;\n",
              "      display: none;\n",
              "      fill: #1967D2;\n",
              "      height: 32px;\n",
              "      padding: 0 0 0 0;\n",
              "      width: 32px;\n",
              "    }\n",
              "\n",
              "    .colab-df-convert:hover {\n",
              "      background-color: #E2EBFA;\n",
              "      box-shadow: 0px 1px 2px rgba(60, 64, 67, 0.3), 0px 1px 3px 1px rgba(60, 64, 67, 0.15);\n",
              "      fill: #174EA6;\n",
              "    }\n",
              "\n",
              "    [theme=dark] .colab-df-convert {\n",
              "      background-color: #3B4455;\n",
              "      fill: #D2E3FC;\n",
              "    }\n",
              "\n",
              "    [theme=dark] .colab-df-convert:hover {\n",
              "      background-color: #434B5C;\n",
              "      box-shadow: 0px 1px 3px 1px rgba(0, 0, 0, 0.15);\n",
              "      filter: drop-shadow(0px 1px 2px rgba(0, 0, 0, 0.3));\n",
              "      fill: #FFFFFF;\n",
              "    }\n",
              "  </style>\n",
              "\n",
              "      <script>\n",
              "        const buttonEl =\n",
              "          document.querySelector('#df-aef0631a-0e95-4962-83ff-972be6d5ab02 button.colab-df-convert');\n",
              "        buttonEl.style.display =\n",
              "          google.colab.kernel.accessAllowed ? 'block' : 'none';\n",
              "\n",
              "        async function convertToInteractive(key) {\n",
              "          const element = document.querySelector('#df-aef0631a-0e95-4962-83ff-972be6d5ab02');\n",
              "          const dataTable =\n",
              "            await google.colab.kernel.invokeFunction('convertToInteractive',\n",
              "                                                     [key], {});\n",
              "          if (!dataTable) return;\n",
              "\n",
              "          const docLinkHtml = 'Like what you see? Visit the ' +\n",
              "            '<a target=\"_blank\" href=https://colab.research.google.com/notebooks/data_table.ipynb>data table notebook</a>'\n",
              "            + ' to learn more about interactive tables.';\n",
              "          element.innerHTML = '';\n",
              "          dataTable['output_type'] = 'display_data';\n",
              "          await google.colab.output.renderOutput(dataTable, element);\n",
              "          const docLink = document.createElement('div');\n",
              "          docLink.innerHTML = docLinkHtml;\n",
              "          element.appendChild(docLink);\n",
              "        }\n",
              "      </script>\n",
              "    </div>\n",
              "  </div>\n",
              "  "
            ]
          },
          "metadata": {},
          "execution_count": 221
        }
      ]
    },
    {
      "cell_type": "code",
      "source": [
        "# getting the percentage provided by the algorithm based on test dataset\n",
        "calls = 20000\n",
        "total_leads = data.shape[0]\n",
        "\n",
        "percent_at_20k = 20000 / len(data)\n",
        "recall_at_20k, table_20k = precision_recall_at_k(data, k=20000)\n",
        "\n",
        "perc_calls = calls / total_leads\n",
        "print('Total leads: {}'.format(total_leads))\n",
        "print('% of calls: {0:.2f}%'.format(perc_calls*100))"
      ],
      "metadata": {
        "colab": {
          "base_uri": "https://localhost:8080/",
          "height": 229
        },
        "id": "6KEq9HK7zs2i",
        "outputId": "83ce7ca1-5325-49c9-8f9f-bb391063bb1a"
      },
      "execution_count": null,
      "outputs": [
        {
          "output_type": "error",
          "ename": "NameError",
          "evalue": "ignored",
          "traceback": [
            "\u001b[0;31m---------------------------------------------------------------------------\u001b[0m",
            "\u001b[0;31mNameError\u001b[0m                                 Traceback (most recent call last)",
            "\u001b[0;32m<ipython-input-222-6d62cf709537>\u001b[0m in \u001b[0;36m<module>\u001b[0;34m\u001b[0m\n\u001b[1;32m      4\u001b[0m \u001b[0;34m\u001b[0m\u001b[0m\n\u001b[1;32m      5\u001b[0m \u001b[0mpercent_at_20k\u001b[0m \u001b[0;34m=\u001b[0m \u001b[0;36m20000\u001b[0m \u001b[0;34m/\u001b[0m \u001b[0mlen\u001b[0m\u001b[0;34m(\u001b[0m\u001b[0mdata\u001b[0m\u001b[0;34m)\u001b[0m\u001b[0;34m\u001b[0m\u001b[0;34m\u001b[0m\u001b[0m\n\u001b[0;32m----> 6\u001b[0;31m \u001b[0mrecall_at_20k\u001b[0m\u001b[0;34m,\u001b[0m \u001b[0mtable_20k\u001b[0m \u001b[0;34m=\u001b[0m \u001b[0mprecision_recall_at_k\u001b[0m\u001b[0;34m(\u001b[0m\u001b[0mdata\u001b[0m\u001b[0;34m,\u001b[0m \u001b[0mk\u001b[0m\u001b[0;34m=\u001b[0m\u001b[0;36m20000\u001b[0m\u001b[0;34m)\u001b[0m\u001b[0;34m\u001b[0m\u001b[0;34m\u001b[0m\u001b[0m\n\u001b[0m\u001b[1;32m      7\u001b[0m \u001b[0;34m\u001b[0m\u001b[0m\n\u001b[1;32m      8\u001b[0m \u001b[0mperc_calls\u001b[0m \u001b[0;34m=\u001b[0m \u001b[0mcalls\u001b[0m \u001b[0;34m/\u001b[0m \u001b[0mtotal_leads\u001b[0m\u001b[0;34m\u001b[0m\u001b[0;34m\u001b[0m\u001b[0m\n",
            "\u001b[0;31mNameError\u001b[0m: name 'precision_recall_at_k' is not defined"
          ]
        }
      ]
    },
    {
      "cell_type": "code",
      "source": [
        "round(20000 / data.shape[0]*100 )"
      ],
      "metadata": {
        "colab": {
          "base_uri": "https://localhost:8080/"
        },
        "id": "EbS8UsePzs5W",
        "outputId": "17ad87a1-de0c-4533-e161-0522ec1cc3af"
      },
      "execution_count": null,
      "outputs": [
        {
          "output_type": "execute_result",
          "data": {
            "text/plain": [
              "26"
            ]
          },
          "metadata": {},
          "execution_count": 223
        }
      ]
    },
    {
      "cell_type": "code",
      "source": [
        "round(data.loc[data['target'] == 1].shape[0])"
      ],
      "metadata": {
        "colab": {
          "base_uri": "https://localhost:8080/"
        },
        "id": "JO9kRx7gzs8I",
        "outputId": "8598808f-a176-4e85-b073-28a4309af147"
      },
      "execution_count": null,
      "outputs": [
        {
          "output_type": "execute_result",
          "data": {
            "text/plain": [
              "9342"
            ]
          },
          "metadata": {},
          "execution_count": 224
        }
      ]
    },
    {
      "cell_type": "code",
      "source": [
        "round(df1['annual_premium'].median())"
      ],
      "metadata": {
        "colab": {
          "base_uri": "https://localhost:8080/"
        },
        "id": "Rc8E7JGY1Txf",
        "outputId": "eb83b577-dfef-447d-890a-0fcb24c0a423"
      },
      "execution_count": null,
      "outputs": [
        {
          "output_type": "execute_result",
          "data": {
            "text/plain": [
              "31669"
            ]
          },
          "metadata": {},
          "execution_count": 225
        }
      ]
    },
    {
      "cell_type": "markdown",
      "source": [
        "#### 8.2.3 And if the sales team's capacity increases to 40,000 calls, what percentage of customers interested in purchasing vehicle insurance will the sales team be able to contact?"
      ],
      "metadata": {
        "id": "D3O681PL1a7R"
      }
    },
    {
      "cell_type": "code",
      "source": [
        "# getting the percentage provided by the algorithm based on test dataset\n",
        "calls = 40000\n",
        "total_leads = data.shape[0]\n",
        "perc_calls = calls / total_leads\n",
        "print('Total leads: {}'.format(total_leads))\n",
        "print('% of calls: {0:.2f}%'.format(perc_calls*100))"
      ],
      "metadata": {
        "colab": {
          "base_uri": "https://localhost:8080/"
        },
        "id": "pUxXHSve1bJx",
        "outputId": "7c1c3945-6b12-4a1b-f200-aa5f6d773075"
      },
      "execution_count": null,
      "outputs": [
        {
          "output_type": "stream",
          "name": "stdout",
          "text": [
            "Total leads: 76222\n",
            "% of calls: 52.48%\n"
          ]
        }
      ]
    },
    {
      "cell_type": "markdown",
      "source": [
        "#### 8.2.4 Resultados:\n",
        "\n",
        "* Há 76222 novos clientes, dos quais 9342 estão interessados (12.24% do total)\n",
        "\n",
        "* O ticket médio para seguro de saúde é $31669.\n",
        "\n",
        "* Com 20.000 ligações, podemos atingir 71,29% dos 9342 interessandos\n",
        "\n",
        "* COm 40.000 ligações, podemos atingir 99,48% dos 9342 interessados"
      ],
      "metadata": {
        "id": "m8vMm-mHLzVa"
      }
    },
    {
      "cell_type": "markdown",
      "source": [
        "## 9.0 Performance Metrics"
      ],
      "metadata": {
        "id": "LuXAkI3Jc4_T"
      }
    },
    {
      "cell_type": "markdown",
      "source": [
        "### 7.1 ROI "
      ],
      "metadata": {
        "id": "gqaqJpZjiH8j"
      }
    },
    {
      "cell_type": "code",
      "source": [
        "# results = pd.DataFrame()\n",
        "# results['prediction'] = yhat_xgb_tuned[:,1].tolist()\n",
        "# results['real'] = y_val.tolist()\n",
        "\n",
        "# # ordering by prediction\n",
        "# results = results.sort_values( 'prediction', ascending=False )\n",
        "\n",
        "# # Percentage of intereset ( Propensity Score )\n",
        "# results['real_cum'] = results['real'].cumsum() \n",
        "# results['real_cum_perc'] = 100*results['real_cum']/results['real'].sum()\n",
        "\n",
        "# # Percentage of Base ( Clients )\n",
        "# results['base'] = range( 1, len( results ) + 1  )\n",
        "# results['base_cum_perc'] = 100*results['base']/len( results )\n",
        "\n",
        "# # Baseline model\n",
        "# results['baseline'] = results['base_cum_perc']\n",
        "\n",
        "# # Lift Calculation\n",
        "# results['lift'] = results['real_cum_perc'] / results['base_cum_perc']"
      ],
      "metadata": {
        "id": "lB2_4LiEckz0"
      },
      "execution_count": null,
      "outputs": []
    },
    {
      "cell_type": "code",
      "source": [
        "# Compute bucket\n",
        "results['bucket'] = results['prediction'].apply( lambda x: 0.9 if x >= 0.90 else \n",
        "                                                           0.8 if ( x >= 0.80) & ( x <= 0.90 ) else \n",
        "                                                           0.7 if ( x >= 0.70) & ( x <= 0.80 ) else \n",
        "                                                           0.6 if ( x >= 0.60) & ( x <= 0.70 ) else \n",
        "                                                           0.5 if ( x >= 0.50) & ( x <= 0.60 ) else \n",
        "                                                           0.4 if ( x >= 0.40) & ( x <= 0.50 ) else \n",
        "                                                           0.3 if ( x >= 0.30) & ( x <= 0.40 ) else \n",
        "                                                           0.2 if ( x >= 0.20) & ( x <= 0.30 ) else \n",
        "                                                           0.1 if ( x >= 0.10) & ( x <= 0.20 ) else 0.01 )\n",
        "\n",
        "#  Aggregate clients among buckets\n",
        "df = results[['prediction','bucket']].groupby( 'bucket' ).agg( {'min', 'count'} ).reset_index()\n",
        "df.columns = df.columns.droplevel()\n",
        "df.columns = ['index', 'clients', 'propensity_score']\n",
        "\n",
        "# Compute revenue and cost\n",
        "df['gross_revenue'] = 40 * df['clients'] * df['propensity_score'] \n",
        "df['cost'] = 4 * df['clients']\n",
        "\n",
        "df['base'] = df['clients'].sort_values( ascending=True ).cumsum() / df['clients'].sum()\n",
        "\n",
        "# revenue\n",
        "df['revenue'] = df['gross_revenue'] - df['cost']\n",
        "df = df.sort_values( 'index', ascending=False )\n",
        "df"
      ],
      "metadata": {
        "id": "D95AQHOlck3w",
        "colab": {
          "base_uri": "https://localhost:8080/",
          "height": 295
        },
        "outputId": "e5b1c5cc-3b0a-4d94-a5ab-3d87453e6cdd"
      },
      "execution_count": null,
      "outputs": [
        {
          "output_type": "execute_result",
          "data": {
            "text/plain": [
              "   index   clients  propensity_score  gross_revenue      cost      base  \\\n",
              "7   0.70  0.720927                 2      57.674174  2.883709  1.000000   \n",
              "6   0.60  0.602071                45    1083.727348  2.408283  0.744638   \n",
              "5   0.50  0.500043               470    9400.816894  2.000174  0.531376   \n",
              "4   0.40  0.400000              3051   48816.026187  1.600001  0.354254   \n",
              "3   0.30  0.300027              7799   93596.557081  1.200110  0.212569   \n",
              "2   0.20  0.200016              8066   64533.323097  0.800066  0.106295   \n",
              "1   0.10  0.100015              6294   25179.667482  0.400058  0.035447   \n",
              "0   0.01  0.000057             37363      84.539694  0.000226  0.000020   \n",
              "\n",
              "        revenue  \n",
              "7     54.790466  \n",
              "6   1081.319065  \n",
              "5   9398.816720  \n",
              "4  48814.426186  \n",
              "3  93595.356971  \n",
              "2  64532.523031  \n",
              "1  25179.267424  \n",
              "0     84.539468  "
            ],
            "text/html": [
              "\n",
              "  <div id=\"df-6008f99d-8831-41bd-a282-32f552098333\">\n",
              "    <div class=\"colab-df-container\">\n",
              "      <div>\n",
              "<style scoped>\n",
              "    .dataframe tbody tr th:only-of-type {\n",
              "        vertical-align: middle;\n",
              "    }\n",
              "\n",
              "    .dataframe tbody tr th {\n",
              "        vertical-align: top;\n",
              "    }\n",
              "\n",
              "    .dataframe thead th {\n",
              "        text-align: right;\n",
              "    }\n",
              "</style>\n",
              "<table border=\"1\" class=\"dataframe\">\n",
              "  <thead>\n",
              "    <tr style=\"text-align: right;\">\n",
              "      <th></th>\n",
              "      <th>index</th>\n",
              "      <th>clients</th>\n",
              "      <th>propensity_score</th>\n",
              "      <th>gross_revenue</th>\n",
              "      <th>cost</th>\n",
              "      <th>base</th>\n",
              "      <th>revenue</th>\n",
              "    </tr>\n",
              "  </thead>\n",
              "  <tbody>\n",
              "    <tr>\n",
              "      <th>7</th>\n",
              "      <td>0.70</td>\n",
              "      <td>0.720927</td>\n",
              "      <td>2</td>\n",
              "      <td>57.674174</td>\n",
              "      <td>2.883709</td>\n",
              "      <td>1.000000</td>\n",
              "      <td>54.790466</td>\n",
              "    </tr>\n",
              "    <tr>\n",
              "      <th>6</th>\n",
              "      <td>0.60</td>\n",
              "      <td>0.602071</td>\n",
              "      <td>45</td>\n",
              "      <td>1083.727348</td>\n",
              "      <td>2.408283</td>\n",
              "      <td>0.744638</td>\n",
              "      <td>1081.319065</td>\n",
              "    </tr>\n",
              "    <tr>\n",
              "      <th>5</th>\n",
              "      <td>0.50</td>\n",
              "      <td>0.500043</td>\n",
              "      <td>470</td>\n",
              "      <td>9400.816894</td>\n",
              "      <td>2.000174</td>\n",
              "      <td>0.531376</td>\n",
              "      <td>9398.816720</td>\n",
              "    </tr>\n",
              "    <tr>\n",
              "      <th>4</th>\n",
              "      <td>0.40</td>\n",
              "      <td>0.400000</td>\n",
              "      <td>3051</td>\n",
              "      <td>48816.026187</td>\n",
              "      <td>1.600001</td>\n",
              "      <td>0.354254</td>\n",
              "      <td>48814.426186</td>\n",
              "    </tr>\n",
              "    <tr>\n",
              "      <th>3</th>\n",
              "      <td>0.30</td>\n",
              "      <td>0.300027</td>\n",
              "      <td>7799</td>\n",
              "      <td>93596.557081</td>\n",
              "      <td>1.200110</td>\n",
              "      <td>0.212569</td>\n",
              "      <td>93595.356971</td>\n",
              "    </tr>\n",
              "    <tr>\n",
              "      <th>2</th>\n",
              "      <td>0.20</td>\n",
              "      <td>0.200016</td>\n",
              "      <td>8066</td>\n",
              "      <td>64533.323097</td>\n",
              "      <td>0.800066</td>\n",
              "      <td>0.106295</td>\n",
              "      <td>64532.523031</td>\n",
              "    </tr>\n",
              "    <tr>\n",
              "      <th>1</th>\n",
              "      <td>0.10</td>\n",
              "      <td>0.100015</td>\n",
              "      <td>6294</td>\n",
              "      <td>25179.667482</td>\n",
              "      <td>0.400058</td>\n",
              "      <td>0.035447</td>\n",
              "      <td>25179.267424</td>\n",
              "    </tr>\n",
              "    <tr>\n",
              "      <th>0</th>\n",
              "      <td>0.01</td>\n",
              "      <td>0.000057</td>\n",
              "      <td>37363</td>\n",
              "      <td>84.539694</td>\n",
              "      <td>0.000226</td>\n",
              "      <td>0.000020</td>\n",
              "      <td>84.539468</td>\n",
              "    </tr>\n",
              "  </tbody>\n",
              "</table>\n",
              "</div>\n",
              "      <button class=\"colab-df-convert\" onclick=\"convertToInteractive('df-6008f99d-8831-41bd-a282-32f552098333')\"\n",
              "              title=\"Convert this dataframe to an interactive table.\"\n",
              "              style=\"display:none;\">\n",
              "        \n",
              "  <svg xmlns=\"http://www.w3.org/2000/svg\" height=\"24px\"viewBox=\"0 0 24 24\"\n",
              "       width=\"24px\">\n",
              "    <path d=\"M0 0h24v24H0V0z\" fill=\"none\"/>\n",
              "    <path d=\"M18.56 5.44l.94 2.06.94-2.06 2.06-.94-2.06-.94-.94-2.06-.94 2.06-2.06.94zm-11 1L8.5 8.5l.94-2.06 2.06-.94-2.06-.94L8.5 2.5l-.94 2.06-2.06.94zm10 10l.94 2.06.94-2.06 2.06-.94-2.06-.94-.94-2.06-.94 2.06-2.06.94z\"/><path d=\"M17.41 7.96l-1.37-1.37c-.4-.4-.92-.59-1.43-.59-.52 0-1.04.2-1.43.59L10.3 9.45l-7.72 7.72c-.78.78-.78 2.05 0 2.83L4 21.41c.39.39.9.59 1.41.59.51 0 1.02-.2 1.41-.59l7.78-7.78 2.81-2.81c.8-.78.8-2.07 0-2.86zM5.41 20L4 18.59l7.72-7.72 1.47 1.35L5.41 20z\"/>\n",
              "  </svg>\n",
              "      </button>\n",
              "      \n",
              "  <style>\n",
              "    .colab-df-container {\n",
              "      display:flex;\n",
              "      flex-wrap:wrap;\n",
              "      gap: 12px;\n",
              "    }\n",
              "\n",
              "    .colab-df-convert {\n",
              "      background-color: #E8F0FE;\n",
              "      border: none;\n",
              "      border-radius: 50%;\n",
              "      cursor: pointer;\n",
              "      display: none;\n",
              "      fill: #1967D2;\n",
              "      height: 32px;\n",
              "      padding: 0 0 0 0;\n",
              "      width: 32px;\n",
              "    }\n",
              "\n",
              "    .colab-df-convert:hover {\n",
              "      background-color: #E2EBFA;\n",
              "      box-shadow: 0px 1px 2px rgba(60, 64, 67, 0.3), 0px 1px 3px 1px rgba(60, 64, 67, 0.15);\n",
              "      fill: #174EA6;\n",
              "    }\n",
              "\n",
              "    [theme=dark] .colab-df-convert {\n",
              "      background-color: #3B4455;\n",
              "      fill: #D2E3FC;\n",
              "    }\n",
              "\n",
              "    [theme=dark] .colab-df-convert:hover {\n",
              "      background-color: #434B5C;\n",
              "      box-shadow: 0px 1px 3px 1px rgba(0, 0, 0, 0.15);\n",
              "      filter: drop-shadow(0px 1px 2px rgba(0, 0, 0, 0.3));\n",
              "      fill: #FFFFFF;\n",
              "    }\n",
              "  </style>\n",
              "\n",
              "      <script>\n",
              "        const buttonEl =\n",
              "          document.querySelector('#df-6008f99d-8831-41bd-a282-32f552098333 button.colab-df-convert');\n",
              "        buttonEl.style.display =\n",
              "          google.colab.kernel.accessAllowed ? 'block' : 'none';\n",
              "\n",
              "        async function convertToInteractive(key) {\n",
              "          const element = document.querySelector('#df-6008f99d-8831-41bd-a282-32f552098333');\n",
              "          const dataTable =\n",
              "            await google.colab.kernel.invokeFunction('convertToInteractive',\n",
              "                                                     [key], {});\n",
              "          if (!dataTable) return;\n",
              "\n",
              "          const docLinkHtml = 'Like what you see? Visit the ' +\n",
              "            '<a target=\"_blank\" href=https://colab.research.google.com/notebooks/data_table.ipynb>data table notebook</a>'\n",
              "            + ' to learn more about interactive tables.';\n",
              "          element.innerHTML = '';\n",
              "          dataTable['output_type'] = 'display_data';\n",
              "          await google.colab.output.renderOutput(dataTable, element);\n",
              "          const docLink = document.createElement('div');\n",
              "          docLink.innerHTML = docLinkHtml;\n",
              "          element.appendChild(docLink);\n",
              "        }\n",
              "      </script>\n",
              "    </div>\n",
              "  </div>\n",
              "  "
            ]
          },
          "metadata": {},
          "execution_count": 227
        }
      ]
    },
    {
      "cell_type": "code",
      "source": [
        "plt.figure( figsize=(12,8))\n",
        "aux = df[df['propensity_score'] >= 0.1]\n",
        "sns.lineplot( x='base', y='revenue', data=aux ).set(title='ROI')"
      ],
      "metadata": {
        "id": "QcYxasdsck7i",
        "colab": {
          "base_uri": "https://localhost:8080/",
          "height": 530
        },
        "outputId": "e934712e-26be-4744-c976-0e9d41a708b3"
      },
      "execution_count": null,
      "outputs": [
        {
          "output_type": "execute_result",
          "data": {
            "text/plain": [
              "[Text(0.5, 1.0, 'ROI')]"
            ]
          },
          "metadata": {},
          "execution_count": 229
        },
        {
          "output_type": "display_data",
          "data": {
            "text/plain": [
              "<Figure size 864x576 with 1 Axes>"
            ],
            "image/png": "[encoded data removed]"
          },
          "metadata": {
            "needs_background": "light"
          }
        }
      ]
    },
    {
      "cell_type": "markdown",
      "source": [],
      "metadata": {
        "id": "Hsu2ezFYOH4B"
      }
    },
    {
      "cell_type": "markdown",
      "source": [
        "## 10. Conclusion"
      ],
      "metadata": {
        "id": "sRDcRx5bNk-Z"
      }
    },
    {
      "cell_type": "markdown",
      "source": [
        "* Com base nos resultados dos negócios, a seguradora passa a ter uma vantagem competitiva sobre seus concorrentes, reduzindo o custo de aquisição de clientes e aumentando sua receita.\n",
        "\n",
        "* A equipe de vendas pode focar sua atenção nos primeiros 20.000 ou 40.000 clientes da lista e, no futuro, focar nos primeiros K clientes da nova lista.\n",
        "\n",
        "* Insights foram revelados e, com os resultados obtidos, é possível simular perfis de clientes, funcionalidade de grande valia para a empresa."
      ],
      "metadata": {
        "id": "-WGVNwpWN3NU"
      }
    }
  ]
}