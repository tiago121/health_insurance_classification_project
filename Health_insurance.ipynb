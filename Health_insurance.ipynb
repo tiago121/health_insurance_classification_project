{
  "nbformat": 4,
  "nbformat_minor": 0,
  "metadata": {
    "colab": {
      "provenance": [],
      "toc_visible": true,
      "authorship_tag": "ABX9TyMRK9DYwIty5OSvEV3u3MYK",
      "include_colab_link": true
    },
    "kernelspec": {
      "name": "python3",
      "display_name": "Python 3"
    },
    "language_info": {
      "name": "python"
    }
  },
  "cells": [
    {
      "cell_type": "markdown",
      "metadata": {
        "id": "view-in-github",
        "colab_type": "text"
      },
      "source": [
        "<a href=\"https://colab.research.google.com/github/tiago121/health_insurance_classification_project/blob/main/Health_insurance.ipynb\" target=\"_parent\"><img src=\"https://colab.research.google.com/assets/colab-badge.svg\" alt=\"Open In Colab\"/></a>"
      ]
    },
    {
      "cell_type": "markdown",
      "source": [
        "# Health Insurance Cross Sell"
      ],
      "metadata": {
        "id": "XGEMvti2jg3d"
      }
    },
    {
      "cell_type": "markdown",
      "source": [
        "## 0.0 Initial considerations"
      ],
      "metadata": {
        "id": "icCEL7Bf6d-Q"
      }
    },
    {
      "cell_type": "markdown",
      "source": [
        "### 0.1 Imports"
      ],
      "metadata": {
        "id": "ONIfo5ob6eQE"
      }
    },
    {
      "cell_type": "code",
      "source": [
        "import numpy  as np\n",
        "import pandas as pd\n",
        "import boruta as bt\n",
        "import scikitplot as skplt\n",
        "import pickle\n",
        "import seaborn as sns\n",
        "from matplotlib import pyplot as plt\n",
        "from sklearn import preprocessing   as pp\n",
        "from sklearn import linear_model    as lm\n",
        "from sklearn import model_selection as ms\n",
        "from sklearn import ensemble        as en\n",
        "from sklearn import neighbors       as nh"
      ],
      "metadata": {
        "id": "OBuevr6m6eYf"
      },
      "execution_count": null,
      "outputs": []
    },
    {
      "cell_type": "markdown",
      "source": [
        "### 0.2 Helper functions"
      ],
      "metadata": {
        "id": "5u5Vm9-d6egk"
      }
    },
    {
      "cell_type": "code",
      "source": [
        "def jupyter_settings():\n",
        "    %matplotlib inline\n",
        "    %pylab inline\n",
        "    \n",
        "    plt.style.use( 'bmh' )\n",
        "    plt.rcParams['figure.figsize'] = [25, 12]\n",
        "    plt.rcParams['font.size'] = 24\n",
        "    \n",
        "    display( HTML( '<style>.container { width:100% !important; }</style>') )\n",
        "    pd.options.display.max_columns = None\n",
        "    pd.options.display.max_rows = None\n",
        "    pd.set_option( 'display.expand_frame_repr', False )\n",
        "    \n",
        "    sns.set()"
      ],
      "metadata": {
        "id": "ub2anvs66e30"
      },
      "execution_count": null,
      "outputs": []
    },
    {
      "cell_type": "markdown",
      "source": [
        "## 1.0 Data Description"
      ],
      "metadata": {
        "id": "YILFKY0Z6e_3"
      }
    },
    {
      "cell_type": "code",
      "source": [
        "df1 = pd.read_csv('/content/health_insurance.csv')\n",
        "df1 = df1.rename(columns=str.lower)\n",
        "df1.head()"
      ],
      "metadata": {
        "colab": {
          "base_uri": "https://localhost:8080/",
          "height": 269
        },
        "id": "qeh39o-e6fHc",
        "outputId": "447ffe6d-f520-4327-8427-e9eb6552b9d0"
      },
      "execution_count": null,
      "outputs": [
        {
          "output_type": "execute_result",
          "data": {
            "text/plain": [
              "   id  gender  age  driving_license  region_code  previously_insured  \\\n",
              "0   1    Male   44                1         28.0                   0   \n",
              "1   2    Male   76                1          3.0                   0   \n",
              "2   3    Male   47                1         28.0                   0   \n",
              "3   4    Male   21                1         11.0                   1   \n",
              "4   5  Female   29                1         41.0                   1   \n",
              "\n",
              "  vehicle_age vehicle_damage  annual_premium  policy_sales_channel  vintage  \\\n",
              "0   > 2 Years            Yes         40454.0                  26.0      217   \n",
              "1    1-2 Year             No         33536.0                  26.0      183   \n",
              "2   > 2 Years            Yes         38294.0                  26.0       27   \n",
              "3    < 1 Year             No         28619.0                 152.0      203   \n",
              "4    < 1 Year             No         27496.0                 152.0       39   \n",
              "\n",
              "   response  \n",
              "0         1  \n",
              "1         0  \n",
              "2         1  \n",
              "3         0  \n",
              "4         0  "
            ],
            "text/html": [
              "\n",
              "  <div id=\"df-9a325bb5-2799-488f-9244-489f10cd3780\">\n",
              "    <div class=\"colab-df-container\">\n",
              "      <div>\n",
              "<style scoped>\n",
              "    .dataframe tbody tr th:only-of-type {\n",
              "        vertical-align: middle;\n",
              "    }\n",
              "\n",
              "    .dataframe tbody tr th {\n",
              "        vertical-align: top;\n",
              "    }\n",
              "\n",
              "    .dataframe thead th {\n",
              "        text-align: right;\n",
              "    }\n",
              "</style>\n",
              "<table border=\"1\" class=\"dataframe\">\n",
              "  <thead>\n",
              "    <tr style=\"text-align: right;\">\n",
              "      <th></th>\n",
              "      <th>id</th>\n",
              "      <th>gender</th>\n",
              "      <th>age</th>\n",
              "      <th>driving_license</th>\n",
              "      <th>region_code</th>\n",
              "      <th>previously_insured</th>\n",
              "      <th>vehicle_age</th>\n",
              "      <th>vehicle_damage</th>\n",
              "      <th>annual_premium</th>\n",
              "      <th>policy_sales_channel</th>\n",
              "      <th>vintage</th>\n",
              "      <th>response</th>\n",
              "    </tr>\n",
              "  </thead>\n",
              "  <tbody>\n",
              "    <tr>\n",
              "      <th>0</th>\n",
              "      <td>1</td>\n",
              "      <td>Male</td>\n",
              "      <td>44</td>\n",
              "      <td>1</td>\n",
              "      <td>28.0</td>\n",
              "      <td>0</td>\n",
              "      <td>&gt; 2 Years</td>\n",
              "      <td>Yes</td>\n",
              "      <td>40454.0</td>\n",
              "      <td>26.0</td>\n",
              "      <td>217</td>\n",
              "      <td>1</td>\n",
              "    </tr>\n",
              "    <tr>\n",
              "      <th>1</th>\n",
              "      <td>2</td>\n",
              "      <td>Male</td>\n",
              "      <td>76</td>\n",
              "      <td>1</td>\n",
              "      <td>3.0</td>\n",
              "      <td>0</td>\n",
              "      <td>1-2 Year</td>\n",
              "      <td>No</td>\n",
              "      <td>33536.0</td>\n",
              "      <td>26.0</td>\n",
              "      <td>183</td>\n",
              "      <td>0</td>\n",
              "    </tr>\n",
              "    <tr>\n",
              "      <th>2</th>\n",
              "      <td>3</td>\n",
              "      <td>Male</td>\n",
              "      <td>47</td>\n",
              "      <td>1</td>\n",
              "      <td>28.0</td>\n",
              "      <td>0</td>\n",
              "      <td>&gt; 2 Years</td>\n",
              "      <td>Yes</td>\n",
              "      <td>38294.0</td>\n",
              "      <td>26.0</td>\n",
              "      <td>27</td>\n",
              "      <td>1</td>\n",
              "    </tr>\n",
              "    <tr>\n",
              "      <th>3</th>\n",
              "      <td>4</td>\n",
              "      <td>Male</td>\n",
              "      <td>21</td>\n",
              "      <td>1</td>\n",
              "      <td>11.0</td>\n",
              "      <td>1</td>\n",
              "      <td>&lt; 1 Year</td>\n",
              "      <td>No</td>\n",
              "      <td>28619.0</td>\n",
              "      <td>152.0</td>\n",
              "      <td>203</td>\n",
              "      <td>0</td>\n",
              "    </tr>\n",
              "    <tr>\n",
              "      <th>4</th>\n",
              "      <td>5</td>\n",
              "      <td>Female</td>\n",
              "      <td>29</td>\n",
              "      <td>1</td>\n",
              "      <td>41.0</td>\n",
              "      <td>1</td>\n",
              "      <td>&lt; 1 Year</td>\n",
              "      <td>No</td>\n",
              "      <td>27496.0</td>\n",
              "      <td>152.0</td>\n",
              "      <td>39</td>\n",
              "      <td>0</td>\n",
              "    </tr>\n",
              "  </tbody>\n",
              "</table>\n",
              "</div>\n",
              "      <button class=\"colab-df-convert\" onclick=\"convertToInteractive('df-9a325bb5-2799-488f-9244-489f10cd3780')\"\n",
              "              title=\"Convert this dataframe to an interactive table.\"\n",
              "              style=\"display:none;\">\n",
              "        \n",
              "  <svg xmlns=\"http://www.w3.org/2000/svg\" height=\"24px\"viewBox=\"0 0 24 24\"\n",
              "       width=\"24px\">\n",
              "    <path d=\"M0 0h24v24H0V0z\" fill=\"none\"/>\n",
              "    <path d=\"M18.56 5.44l.94 2.06.94-2.06 2.06-.94-2.06-.94-.94-2.06-.94 2.06-2.06.94zm-11 1L8.5 8.5l.94-2.06 2.06-.94-2.06-.94L8.5 2.5l-.94 2.06-2.06.94zm10 10l.94 2.06.94-2.06 2.06-.94-2.06-.94-.94-2.06-.94 2.06-2.06.94z\"/><path d=\"M17.41 7.96l-1.37-1.37c-.4-.4-.92-.59-1.43-.59-.52 0-1.04.2-1.43.59L10.3 9.45l-7.72 7.72c-.78.78-.78 2.05 0 2.83L4 21.41c.39.39.9.59 1.41.59.51 0 1.02-.2 1.41-.59l7.78-7.78 2.81-2.81c.8-.78.8-2.07 0-2.86zM5.41 20L4 18.59l7.72-7.72 1.47 1.35L5.41 20z\"/>\n",
              "  </svg>\n",
              "      </button>\n",
              "      \n",
              "  <style>\n",
              "    .colab-df-container {\n",
              "      display:flex;\n",
              "      flex-wrap:wrap;\n",
              "      gap: 12px;\n",
              "    }\n",
              "\n",
              "    .colab-df-convert {\n",
              "      background-color: #E8F0FE;\n",
              "      border: none;\n",
              "      border-radius: 50%;\n",
              "      cursor: pointer;\n",
              "      display: none;\n",
              "      fill: #1967D2;\n",
              "      height: 32px;\n",
              "      padding: 0 0 0 0;\n",
              "      width: 32px;\n",
              "    }\n",
              "\n",
              "    .colab-df-convert:hover {\n",
              "      background-color: #E2EBFA;\n",
              "      box-shadow: 0px 1px 2px rgba(60, 64, 67, 0.3), 0px 1px 3px 1px rgba(60, 64, 67, 0.15);\n",
              "      fill: #174EA6;\n",
              "    }\n",
              "\n",
              "    [theme=dark] .colab-df-convert {\n",
              "      background-color: #3B4455;\n",
              "      fill: #D2E3FC;\n",
              "    }\n",
              "\n",
              "    [theme=dark] .colab-df-convert:hover {\n",
              "      background-color: #434B5C;\n",
              "      box-shadow: 0px 1px 3px 1px rgba(0, 0, 0, 0.15);\n",
              "      filter: drop-shadow(0px 1px 2px rgba(0, 0, 0, 0.3));\n",
              "      fill: #FFFFFF;\n",
              "    }\n",
              "  </style>\n",
              "\n",
              "      <script>\n",
              "        const buttonEl =\n",
              "          document.querySelector('#df-9a325bb5-2799-488f-9244-489f10cd3780 button.colab-df-convert');\n",
              "        buttonEl.style.display =\n",
              "          google.colab.kernel.accessAllowed ? 'block' : 'none';\n",
              "\n",
              "        async function convertToInteractive(key) {\n",
              "          const element = document.querySelector('#df-9a325bb5-2799-488f-9244-489f10cd3780');\n",
              "          const dataTable =\n",
              "            await google.colab.kernel.invokeFunction('convertToInteractive',\n",
              "                                                     [key], {});\n",
              "          if (!dataTable) return;\n",
              "\n",
              "          const docLinkHtml = 'Like what you see? Visit the ' +\n",
              "            '<a target=\"_blank\" href=https://colab.research.google.com/notebooks/data_table.ipynb>data table notebook</a>'\n",
              "            + ' to learn more about interactive tables.';\n",
              "          element.innerHTML = '';\n",
              "          dataTable['output_type'] = 'display_data';\n",
              "          await google.colab.output.renderOutput(dataTable, element);\n",
              "          const docLink = document.createElement('div');\n",
              "          docLink.innerHTML = docLinkHtml;\n",
              "          element.appendChild(docLink);\n",
              "        }\n",
              "      </script>\n",
              "    </div>\n",
              "  </div>\n",
              "  "
            ]
          },
          "metadata": {},
          "execution_count": 179
        }
      ]
    },
    {
      "cell_type": "code",
      "source": [
        "df1.info()"
      ],
      "metadata": {
        "colab": {
          "base_uri": "https://localhost:8080/"
        },
        "id": "XQdITOdz8FS2",
        "outputId": "97020f57-9715-4ce3-8f1c-5680b6a04c2e"
      },
      "execution_count": null,
      "outputs": [
        {
          "output_type": "stream",
          "name": "stdout",
          "text": [
            "<class 'pandas.core.frame.DataFrame'>\n",
            "RangeIndex: 381109 entries, 0 to 381108\n",
            "Data columns (total 12 columns):\n",
            " #   Column                Non-Null Count   Dtype  \n",
            "---  ------                --------------   -----  \n",
            " 0   id                    381109 non-null  int64  \n",
            " 1   gender                381109 non-null  object \n",
            " 2   age                   381109 non-null  int64  \n",
            " 3   driving_license       381109 non-null  int64  \n",
            " 4   region_code           381109 non-null  float64\n",
            " 5   previously_insured    381109 non-null  int64  \n",
            " 6   vehicle_age           381109 non-null  object \n",
            " 7   vehicle_damage        381109 non-null  object \n",
            " 8   annual_premium        381109 non-null  float64\n",
            " 9   policy_sales_channel  381109 non-null  float64\n",
            " 10  vintage               381109 non-null  int64  \n",
            " 11  response              381109 non-null  int64  \n",
            "dtypes: float64(3), int64(6), object(3)\n",
            "memory usage: 34.9+ MB\n"
          ]
        }
      ]
    },
    {
      "cell_type": "code",
      "source": [
        "\n",
        "\n",
        "aux1 = df1['gender']\n",
        "aux2 = df1['vehicle_damage']\n",
        "aux3 = df1['vehicle_age']\n",
        "aux4 = df1['policy_sales_channel']\n",
        "\n",
        "list = [aux1 , aux2 , aux3, aux4 ]\n",
        "\n",
        "for i in list:\n",
        "    df1_counts = i.value_counts(normalize=True)\n",
        "    display(df1_counts)\n",
        "\n",
        "\n"
      ],
      "metadata": {
        "colab": {
          "base_uri": "https://localhost:8080/",
          "height": 417
        },
        "id": "kVLCfnC38FYK",
        "outputId": "58589b3d-46a2-4824-9642-5ad9aed3ca0a"
      },
      "execution_count": null,
      "outputs": [
        {
          "output_type": "display_data",
          "data": {
            "text/plain": [
              "Male      0.540761\n",
              "Female    0.459239\n",
              "Name: gender, dtype: float64"
            ]
          },
          "metadata": {}
        },
        {
          "output_type": "display_data",
          "data": {
            "text/plain": [
              "Yes    0.504877\n",
              "No     0.495123\n",
              "Name: vehicle_damage, dtype: float64"
            ]
          },
          "metadata": {}
        },
        {
          "output_type": "display_data",
          "data": {
            "text/plain": [
              "1-2 Year     0.525613\n",
              "< 1 Year     0.432385\n",
              "> 2 Years    0.042001\n",
              "Name: vehicle_age, dtype: float64"
            ]
          },
          "metadata": {}
        },
        {
          "output_type": "display_data",
          "data": {
            "text/plain": [
              "152.0    0.353663\n",
              "26.0     0.209127\n",
              "124.0    0.194157\n",
              "160.0    0.057146\n",
              "156.0    0.027974\n",
              "           ...   \n",
              "149.0    0.000003\n",
              "43.0     0.000003\n",
              "144.0    0.000003\n",
              "143.0    0.000003\n",
              "41.0     0.000003\n",
              "Name: policy_sales_channel, Length: 155, dtype: float64"
            ]
          },
          "metadata": {}
        }
      ]
    },
    {
      "cell_type": "markdown",
      "source": [
        "### 1.1 Check NA / Duplicates"
      ],
      "metadata": {
        "id": "cYGI8J25z3eu"
      }
    },
    {
      "cell_type": "code",
      "source": [
        "df1.isna().sum()"
      ],
      "metadata": {
        "id": "Ol3FthA58FaY",
        "colab": {
          "base_uri": "https://localhost:8080/"
        },
        "outputId": "2d241bb7-8cd6-4c2c-9253-d569ab98533b"
      },
      "execution_count": null,
      "outputs": [
        {
          "output_type": "execute_result",
          "data": {
            "text/plain": [
              "id                      0\n",
              "gender                  0\n",
              "age                     0\n",
              "driving_license         0\n",
              "region_code             0\n",
              "previously_insured      0\n",
              "vehicle_age             0\n",
              "vehicle_damage          0\n",
              "annual_premium          0\n",
              "policy_sales_channel    0\n",
              "vintage                 0\n",
              "response                0\n",
              "dtype: int64"
            ]
          },
          "metadata": {},
          "execution_count": 182
        }
      ]
    },
    {
      "cell_type": "code",
      "source": [
        "print(f\"df has {df.duplicated().sum()} duplicated data\")"
      ],
      "metadata": {
        "colab": {
          "base_uri": "https://localhost:8080/"
        },
        "id": "ibRoMlwSnT96",
        "outputId": "756fef2d-cd2d-44a9-de7b-9875c4702b0c"
      },
      "execution_count": null,
      "outputs": [
        {
          "output_type": "stream",
          "name": "stdout",
          "text": [
            "df has 0 duplicated data\n"
          ]
        }
      ]
    },
    {
      "cell_type": "markdown",
      "source": [
        "### 1.2 Informações colhidas com descrição\n",
        "\n",
        "1. Não há dados faltantes\n",
        "2. Age tem dados como float\n",
        "3. Não há variáveis textos\n",
        "4. Encodar gender para 0 e 1\n",
        "5. Encodar Vehicle_Age e Vehicle_Damage"
      ],
      "metadata": {
        "id": "VHAbekGWz97a"
      }
    },
    {
      "cell_type": "markdown",
      "source": [
        "## 2.0 Feature Engineering"
      ],
      "metadata": {
        "id": "pxW5fDnd7Am1"
      }
    },
    {
      "cell_type": "code",
      "source": [
        "df2 = df1.copy()\n",
        "\n",
        "# Vehicle Damage Number\n",
        "df2['vehicle_damage'] = df2['vehicle_damage'].apply( lambda x: 1 if x == 'Yes' else 0 )\n",
        "\n",
        "# Vehicle Age\n",
        "df2['vehicle_age'] =  df2['vehicle_age'].apply( lambda x: 'over_2_years' if x == '> 2 Years' else 'between_1_2_year' if x == '1-2 Year' else 'below_1_Year' )"
      ],
      "metadata": {
        "id": "JBBhkm8L7Ds1"
      },
      "execution_count": null,
      "outputs": []
    },
    {
      "cell_type": "markdown",
      "source": [
        "##3.0 EDA (Exploratory Data Analysis) "
      ],
      "metadata": {
        "id": "-iyvBWcF6fde"
      }
    },
    {
      "cell_type": "code",
      "source": [
        "df3 = df2.copy()\n",
        "num_attributes = df3.select_dtypes( include=['int64', 'float64'] )\n",
        "cat_attributes = df3.select_dtypes( exclude=['int64', 'float64', 'datetime64[ns]'])"
      ],
      "metadata": {
        "id": "7OMTxTnX8PVy"
      },
      "execution_count": null,
      "outputs": []
    },
    {
      "cell_type": "code",
      "source": [
        "# Central Tendency - Mean, Median\n",
        "ct1 = pd.DataFrame( num_attributes.apply( np.mean ) ).T\n",
        "ct2 = pd.DataFrame( num_attributes.apply( np.median ) ).T\n",
        "\n",
        "# dispersion - std, min, max, range, skew, kurtosis\n",
        "d1 = pd.DataFrame( num_attributes.apply( np.std ) ).T \n",
        "d2 = pd.DataFrame( num_attributes.apply( min ) ).T \n",
        "d3 = pd.DataFrame( num_attributes.apply( max ) ).T \n",
        "d4 = pd.DataFrame( num_attributes.apply( lambda x: x.max() - x.min() ) ).T \n",
        "d5 = pd.DataFrame( num_attributes.apply( lambda x: x.skew() ) ).T \n",
        "d6 = pd.DataFrame( num_attributes.apply( lambda x: x.kurtosis() ) ).T \n",
        "\n",
        "# concatenar\n",
        "m = pd.concat( [d2, d3, d4, ct1, ct2, d1, d5, d6] ).T.reset_index()\n",
        "m.columns = ['attributes', 'min', 'max', 'range', 'mean', 'median', 'std', 'skew', 'kurtosis']\n",
        "m"
      ],
      "metadata": {
        "colab": {
          "base_uri": "https://localhost:8080/",
          "height": 362
        },
        "id": "XJOQVDjR8PZa",
        "outputId": "82538aad-7977-4090-b795-cdae3f798f86"
      },
      "execution_count": null,
      "outputs": [
        {
          "output_type": "execute_result",
          "data": {
            "text/plain": [
              "             attributes     min       max     range           mean    median  \\\n",
              "0                    id     1.0  381109.0  381108.0  190555.000000  190555.0   \n",
              "1                   age    20.0      85.0      65.0      38.822584      36.0   \n",
              "2       driving_license     0.0       1.0       1.0       0.997869       1.0   \n",
              "3           region_code     0.0      52.0      52.0      26.388807      28.0   \n",
              "4    previously_insured     0.0       1.0       1.0       0.458210       0.0   \n",
              "5        vehicle_damage     0.0       1.0       1.0       0.504877       1.0   \n",
              "6        annual_premium  2630.0  540165.0  537535.0   30564.389581   31669.0   \n",
              "7  policy_sales_channel     1.0     163.0     162.0     112.034295     133.0   \n",
              "8               vintage    10.0     299.0     289.0     154.347397     154.0   \n",
              "9              response     0.0       1.0       1.0       0.122563       0.0   \n",
              "\n",
              "             std          skew    kurtosis  \n",
              "0  110016.691870  9.443274e-16   -1.200000  \n",
              "1      15.511591  6.725390e-01   -0.565655  \n",
              "2       0.046109 -2.159518e+01  464.354302  \n",
              "3      13.229871 -1.152664e-01   -0.867857  \n",
              "4       0.498251  1.677471e-01   -1.971871  \n",
              "5       0.499976 -1.950724e-02   -1.999630  \n",
              "6   17213.132474  1.766087e+00   34.004569  \n",
              "7      54.203924 -9.000081e-01   -0.970810  \n",
              "8      83.671194  3.029517e-03   -1.200688  \n",
              "9       0.327935  2.301906e+00    3.298788  "
            ],
            "text/html": [
              "\n",
              "  <div id=\"df-d1490dcd-cc95-4df0-af51-db82bdeb8c49\">\n",
              "    <div class=\"colab-df-container\">\n",
              "      <div>\n",
              "<style scoped>\n",
              "    .dataframe tbody tr th:only-of-type {\n",
              "        vertical-align: middle;\n",
              "    }\n",
              "\n",
              "    .dataframe tbody tr th {\n",
              "        vertical-align: top;\n",
              "    }\n",
              "\n",
              "    .dataframe thead th {\n",
              "        text-align: right;\n",
              "    }\n",
              "</style>\n",
              "<table border=\"1\" class=\"dataframe\">\n",
              "  <thead>\n",
              "    <tr style=\"text-align: right;\">\n",
              "      <th></th>\n",
              "      <th>attributes</th>\n",
              "      <th>min</th>\n",
              "      <th>max</th>\n",
              "      <th>range</th>\n",
              "      <th>mean</th>\n",
              "      <th>median</th>\n",
              "      <th>std</th>\n",
              "      <th>skew</th>\n",
              "      <th>kurtosis</th>\n",
              "    </tr>\n",
              "  </thead>\n",
              "  <tbody>\n",
              "    <tr>\n",
              "      <th>0</th>\n",
              "      <td>id</td>\n",
              "      <td>1.0</td>\n",
              "      <td>381109.0</td>\n",
              "      <td>381108.0</td>\n",
              "      <td>190555.000000</td>\n",
              "      <td>190555.0</td>\n",
              "      <td>110016.691870</td>\n",
              "      <td>9.443274e-16</td>\n",
              "      <td>-1.200000</td>\n",
              "    </tr>\n",
              "    <tr>\n",
              "      <th>1</th>\n",
              "      <td>age</td>\n",
              "      <td>20.0</td>\n",
              "      <td>85.0</td>\n",
              "      <td>65.0</td>\n",
              "      <td>38.822584</td>\n",
              "      <td>36.0</td>\n",
              "      <td>15.511591</td>\n",
              "      <td>6.725390e-01</td>\n",
              "      <td>-0.565655</td>\n",
              "    </tr>\n",
              "    <tr>\n",
              "      <th>2</th>\n",
              "      <td>driving_license</td>\n",
              "      <td>0.0</td>\n",
              "      <td>1.0</td>\n",
              "      <td>1.0</td>\n",
              "      <td>0.997869</td>\n",
              "      <td>1.0</td>\n",
              "      <td>0.046109</td>\n",
              "      <td>-2.159518e+01</td>\n",
              "      <td>464.354302</td>\n",
              "    </tr>\n",
              "    <tr>\n",
              "      <th>3</th>\n",
              "      <td>region_code</td>\n",
              "      <td>0.0</td>\n",
              "      <td>52.0</td>\n",
              "      <td>52.0</td>\n",
              "      <td>26.388807</td>\n",
              "      <td>28.0</td>\n",
              "      <td>13.229871</td>\n",
              "      <td>-1.152664e-01</td>\n",
              "      <td>-0.867857</td>\n",
              "    </tr>\n",
              "    <tr>\n",
              "      <th>4</th>\n",
              "      <td>previously_insured</td>\n",
              "      <td>0.0</td>\n",
              "      <td>1.0</td>\n",
              "      <td>1.0</td>\n",
              "      <td>0.458210</td>\n",
              "      <td>0.0</td>\n",
              "      <td>0.498251</td>\n",
              "      <td>1.677471e-01</td>\n",
              "      <td>-1.971871</td>\n",
              "    </tr>\n",
              "    <tr>\n",
              "      <th>5</th>\n",
              "      <td>vehicle_damage</td>\n",
              "      <td>0.0</td>\n",
              "      <td>1.0</td>\n",
              "      <td>1.0</td>\n",
              "      <td>0.504877</td>\n",
              "      <td>1.0</td>\n",
              "      <td>0.499976</td>\n",
              "      <td>-1.950724e-02</td>\n",
              "      <td>-1.999630</td>\n",
              "    </tr>\n",
              "    <tr>\n",
              "      <th>6</th>\n",
              "      <td>annual_premium</td>\n",
              "      <td>2630.0</td>\n",
              "      <td>540165.0</td>\n",
              "      <td>537535.0</td>\n",
              "      <td>30564.389581</td>\n",
              "      <td>31669.0</td>\n",
              "      <td>17213.132474</td>\n",
              "      <td>1.766087e+00</td>\n",
              "      <td>34.004569</td>\n",
              "    </tr>\n",
              "    <tr>\n",
              "      <th>7</th>\n",
              "      <td>policy_sales_channel</td>\n",
              "      <td>1.0</td>\n",
              "      <td>163.0</td>\n",
              "      <td>162.0</td>\n",
              "      <td>112.034295</td>\n",
              "      <td>133.0</td>\n",
              "      <td>54.203924</td>\n",
              "      <td>-9.000081e-01</td>\n",
              "      <td>-0.970810</td>\n",
              "    </tr>\n",
              "    <tr>\n",
              "      <th>8</th>\n",
              "      <td>vintage</td>\n",
              "      <td>10.0</td>\n",
              "      <td>299.0</td>\n",
              "      <td>289.0</td>\n",
              "      <td>154.347397</td>\n",
              "      <td>154.0</td>\n",
              "      <td>83.671194</td>\n",
              "      <td>3.029517e-03</td>\n",
              "      <td>-1.200688</td>\n",
              "    </tr>\n",
              "    <tr>\n",
              "      <th>9</th>\n",
              "      <td>response</td>\n",
              "      <td>0.0</td>\n",
              "      <td>1.0</td>\n",
              "      <td>1.0</td>\n",
              "      <td>0.122563</td>\n",
              "      <td>0.0</td>\n",
              "      <td>0.327935</td>\n",
              "      <td>2.301906e+00</td>\n",
              "      <td>3.298788</td>\n",
              "    </tr>\n",
              "  </tbody>\n",
              "</table>\n",
              "</div>\n",
              "      <button class=\"colab-df-convert\" onclick=\"convertToInteractive('df-d1490dcd-cc95-4df0-af51-db82bdeb8c49')\"\n",
              "              title=\"Convert this dataframe to an interactive table.\"\n",
              "              style=\"display:none;\">\n",
              "        \n",
              "  <svg xmlns=\"http://www.w3.org/2000/svg\" height=\"24px\"viewBox=\"0 0 24 24\"\n",
              "       width=\"24px\">\n",
              "    <path d=\"M0 0h24v24H0V0z\" fill=\"none\"/>\n",
              "    <path d=\"M18.56 5.44l.94 2.06.94-2.06 2.06-.94-2.06-.94-.94-2.06-.94 2.06-2.06.94zm-11 1L8.5 8.5l.94-2.06 2.06-.94-2.06-.94L8.5 2.5l-.94 2.06-2.06.94zm10 10l.94 2.06.94-2.06 2.06-.94-2.06-.94-.94-2.06-.94 2.06-2.06.94z\"/><path d=\"M17.41 7.96l-1.37-1.37c-.4-.4-.92-.59-1.43-.59-.52 0-1.04.2-1.43.59L10.3 9.45l-7.72 7.72c-.78.78-.78 2.05 0 2.83L4 21.41c.39.39.9.59 1.41.59.51 0 1.02-.2 1.41-.59l7.78-7.78 2.81-2.81c.8-.78.8-2.07 0-2.86zM5.41 20L4 18.59l7.72-7.72 1.47 1.35L5.41 20z\"/>\n",
              "  </svg>\n",
              "      </button>\n",
              "      \n",
              "  <style>\n",
              "    .colab-df-container {\n",
              "      display:flex;\n",
              "      flex-wrap:wrap;\n",
              "      gap: 12px;\n",
              "    }\n",
              "\n",
              "    .colab-df-convert {\n",
              "      background-color: #E8F0FE;\n",
              "      border: none;\n",
              "      border-radius: 50%;\n",
              "      cursor: pointer;\n",
              "      display: none;\n",
              "      fill: #1967D2;\n",
              "      height: 32px;\n",
              "      padding: 0 0 0 0;\n",
              "      width: 32px;\n",
              "    }\n",
              "\n",
              "    .colab-df-convert:hover {\n",
              "      background-color: #E2EBFA;\n",
              "      box-shadow: 0px 1px 2px rgba(60, 64, 67, 0.3), 0px 1px 3px 1px rgba(60, 64, 67, 0.15);\n",
              "      fill: #174EA6;\n",
              "    }\n",
              "\n",
              "    [theme=dark] .colab-df-convert {\n",
              "      background-color: #3B4455;\n",
              "      fill: #D2E3FC;\n",
              "    }\n",
              "\n",
              "    [theme=dark] .colab-df-convert:hover {\n",
              "      background-color: #434B5C;\n",
              "      box-shadow: 0px 1px 3px 1px rgba(0, 0, 0, 0.15);\n",
              "      filter: drop-shadow(0px 1px 2px rgba(0, 0, 0, 0.3));\n",
              "      fill: #FFFFFF;\n",
              "    }\n",
              "  </style>\n",
              "\n",
              "      <script>\n",
              "        const buttonEl =\n",
              "          document.querySelector('#df-d1490dcd-cc95-4df0-af51-db82bdeb8c49 button.colab-df-convert');\n",
              "        buttonEl.style.display =\n",
              "          google.colab.kernel.accessAllowed ? 'block' : 'none';\n",
              "\n",
              "        async function convertToInteractive(key) {\n",
              "          const element = document.querySelector('#df-d1490dcd-cc95-4df0-af51-db82bdeb8c49');\n",
              "          const dataTable =\n",
              "            await google.colab.kernel.invokeFunction('convertToInteractive',\n",
              "                                                     [key], {});\n",
              "          if (!dataTable) return;\n",
              "\n",
              "          const docLinkHtml = 'Like what you see? Visit the ' +\n",
              "            '<a target=\"_blank\" href=https://colab.research.google.com/notebooks/data_table.ipynb>data table notebook</a>'\n",
              "            + ' to learn more about interactive tables.';\n",
              "          element.innerHTML = '';\n",
              "          dataTable['output_type'] = 'display_data';\n",
              "          await google.colab.output.renderOutput(dataTable, element);\n",
              "          const docLink = document.createElement('div');\n",
              "          docLink.innerHTML = docLinkHtml;\n",
              "          element.appendChild(docLink);\n",
              "        }\n",
              "      </script>\n",
              "    </div>\n",
              "  </div>\n",
              "  "
            ]
          },
          "metadata": {},
          "execution_count": 186
        }
      ]
    },
    {
      "cell_type": "code",
      "source": [
        "#num_var = [\"age\", \"annual_premium\", \"vintage\"]\n",
        "#cat_var = [\"gender\", \"region_code\", \"previously_insured\", \"vehicle_age\", \"vehicle_damage\",\"policy_sales_channel\" ]\n",
        "#target = \"response\""
      ],
      "metadata": {
        "id": "yjCjjPKI6fkO"
      },
      "execution_count": null,
      "outputs": []
    },
    {
      "cell_type": "markdown",
      "source": [
        "### 3.1 Univariate Analysis"
      ],
      "metadata": {
        "id": "-JmCgPdq9_sv"
      }
    },
    {
      "cell_type": "markdown",
      "source": [
        "#### 3.1.1 Age"
      ],
      "metadata": {
        "id": "DJndbs48-Ebr"
      }
    },
    {
      "cell_type": "code",
      "source": [
        "sns.boxplot( x='response', y='age', data=df3 )\n"
      ],
      "metadata": {
        "colab": {
          "base_uri": "https://localhost:8080/",
          "height": 297
        },
        "id": "W7oU9HBv-_Fy",
        "outputId": "54519cec-fa4d-4263-ca68-3fb5a1d7a5a9"
      },
      "execution_count": null,
      "outputs": [
        {
          "output_type": "execute_result",
          "data": {
            "text/plain": [
              "<matplotlib.axes._subplots.AxesSubplot at 0x7f18a15af110>"
            ]
          },
          "metadata": {},
          "execution_count": 246
        },
        {
          "output_type": "display_data",
          "data": {
            "text/plain": [
              "<Figure size 432x288 with 1 Axes>"
            ],
            "image/png": "[encoded data removed]"
          },
          "metadata": {
            "needs_background": "light"
          }
        }
      ]
    },
    {
      "cell_type": "code",
      "source": [
        "aux00 = df3.loc[df3['response'] == 0, 'age']\n",
        "sns.histplot( aux00 )"
      ],
      "metadata": {
        "colab": {
          "base_uri": "https://localhost:8080/",
          "height": 297
        },
        "id": "ZSgMDxUG_UI2",
        "outputId": "29f302eb-f148-44f5-bc5c-83c775666261"
      },
      "execution_count": null,
      "outputs": [
        {
          "output_type": "execute_result",
          "data": {
            "text/plain": [
              "<matplotlib.axes._subplots.AxesSubplot at 0x7f189dfba750>"
            ]
          },
          "metadata": {},
          "execution_count": 189
        },
        {
          "output_type": "display_data",
          "data": {
            "text/plain": [
              "<Figure size 432x288 with 1 Axes>"
            ],
            "image/png": "[encoded data removed]"
          },
          "metadata": {
            "needs_background": "light"
          }
        }
      ]
    },
    {
      "cell_type": "code",
      "source": [
        "aux00 = df3.loc[df3['response'] == 1, 'age']\n",
        "sns.histplot( aux00 )"
      ],
      "metadata": {
        "colab": {
          "base_uri": "https://localhost:8080/",
          "height": 297
        },
        "id": "X7i5xFTA_fHb",
        "outputId": "c9b0f41d-3706-4749-bf83-8fa22f14e5cb"
      },
      "execution_count": null,
      "outputs": [
        {
          "output_type": "execute_result",
          "data": {
            "text/plain": [
              "<matplotlib.axes._subplots.AxesSubplot at 0x7f189de8a750>"
            ]
          },
          "metadata": {},
          "execution_count": 190
        },
        {
          "output_type": "display_data",
          "data": {
            "text/plain": [
              "<Figure size 432x288 with 1 Axes>"
            ],
            "image/png": "[encoded data removed]"
          },
          "metadata": {
            "needs_background": "light"
          }
        }
      ]
    },
    {
      "cell_type": "markdown",
      "source": [
        "#### 3.1.2 Anual Income"
      ],
      "metadata": {
        "id": "L0-FMYgV-IFL"
      }
    },
    {
      "cell_type": "code",
      "source": [
        "sns.boxplot( x='response', y='annual_premium', data=df3 )"
      ],
      "metadata": {
        "colab": {
          "base_uri": "https://localhost:8080/",
          "height": 297
        },
        "id": "15xF6W5I_lHf",
        "outputId": "55e5939c-eb76-40ca-9a49-8f92b5b9ba0a"
      },
      "execution_count": null,
      "outputs": [
        {
          "output_type": "execute_result",
          "data": {
            "text/plain": [
              "<matplotlib.axes._subplots.AxesSubplot at 0x7f189dfd9c50>"
            ]
          },
          "metadata": {},
          "execution_count": 191
        },
        {
          "output_type": "display_data",
          "data": {
            "text/plain": [
              "<Figure size 432x288 with 1 Axes>"
            ],
            "image/png": "[encoded data removed]"
          },
          "metadata": {
            "needs_background": "light"
          }
        }
      ]
    },
    {
      "cell_type": "code",
      "source": [
        "df3 = df3[(df3['annual_premium'] > 10000) & (df3['annual_premium'] < 100000)]"
      ],
      "metadata": {
        "id": "x-8f1sYy_lJ8"
      },
      "execution_count": null,
      "outputs": []
    },
    {
      "cell_type": "code",
      "source": [
        "aux00 = df3.loc[df3['response'] == 0, 'annual_premium']\n",
        "sns.histplot( aux00 )"
      ],
      "metadata": {
        "colab": {
          "base_uri": "https://localhost:8080/",
          "height": 298
        },
        "id": "YM8PO0oS_lMZ",
        "outputId": "23b794e4-a1f5-4aef-ca82-179b91f0cae5"
      },
      "execution_count": null,
      "outputs": [
        {
          "output_type": "execute_result",
          "data": {
            "text/plain": [
              "<matplotlib.axes._subplots.AxesSubplot at 0x7f189dcc1590>"
            ]
          },
          "metadata": {},
          "execution_count": 193
        },
        {
          "output_type": "display_data",
          "data": {
            "text/plain": [
              "<Figure size 432x288 with 1 Axes>"
            ],
            "image/png": "[encoded data removed]"
          },
          "metadata": {
            "needs_background": "light"
          }
        }
      ]
    },
    {
      "cell_type": "code",
      "source": [
        "aux00 = df3.loc[df3['response'] == 1, 'annual_premium']\n",
        "sns.histplot( aux00 )"
      ],
      "metadata": {
        "colab": {
          "base_uri": "https://localhost:8080/",
          "height": 298
        },
        "id": "Zyf0Mo2PAH87",
        "outputId": "d2f47715-de8f-4e4f-8005-60283d941a6d"
      },
      "execution_count": null,
      "outputs": [
        {
          "output_type": "execute_result",
          "data": {
            "text/plain": [
              "<matplotlib.axes._subplots.AxesSubplot at 0x7f189dab9b90>"
            ]
          },
          "metadata": {},
          "execution_count": 194
        },
        {
          "output_type": "display_data",
          "data": {
            "text/plain": [
              "<Figure size 432x288 with 1 Axes>"
            ],
            "image/png": "[encoded data removed]"
          },
          "metadata": {
            "needs_background": "light"
          }
        }
      ]
    },
    {
      "cell_type": "code",
      "source": [
        "sns.boxplot( x='response', y='annual_premium', data=df3 )"
      ],
      "metadata": {
        "colab": {
          "base_uri": "https://localhost:8080/",
          "height": 297
        },
        "id": "0g7PAeNuAXps",
        "outputId": "63874efb-7a7a-4b66-84b3-1cecd1b912ad"
      },
      "execution_count": null,
      "outputs": [
        {
          "output_type": "execute_result",
          "data": {
            "text/plain": [
              "<matplotlib.axes._subplots.AxesSubplot at 0x7f189d84da90>"
            ]
          },
          "metadata": {},
          "execution_count": 195
        },
        {
          "output_type": "display_data",
          "data": {
            "text/plain": [
              "<Figure size 432x288 with 1 Axes>"
            ],
            "image/png": "[encoded data removed]"
          },
          "metadata": {
            "needs_background": "light"
          }
        }
      ]
    },
    {
      "cell_type": "markdown",
      "source": [
        "#### 3.1.3 Driving License"
      ],
      "metadata": {
        "id": "YWI1IiF0-IHi"
      }
    },
    {
      "cell_type": "code",
      "source": [
        "aux = df3[['driving_license', 'response']].groupby( 'response' ).sum().reset_index()\n",
        "sns.barplot( x='response', y='driving_license', data=aux )"
      ],
      "metadata": {
        "colab": {
          "base_uri": "https://localhost:8080/",
          "height": 297
        },
        "id": "wM8ku1CVAhC7",
        "outputId": "7cca22cd-3287-4749-f409-97156fc6fc29"
      },
      "execution_count": null,
      "outputs": [
        {
          "output_type": "execute_result",
          "data": {
            "text/plain": [
              "<matplotlib.axes._subplots.AxesSubplot at 0x7f189d7bd190>"
            ]
          },
          "metadata": {},
          "execution_count": 196
        },
        {
          "output_type": "display_data",
          "data": {
            "text/plain": [
              "<Figure size 432x288 with 1 Axes>"
            ],
            "image/png": "[encoded data removed]"
          },
          "metadata": {
            "needs_background": "light"
          }
        }
      ]
    },
    {
      "cell_type": "markdown",
      "source": [
        "#### 3.1.4 Region Code"
      ],
      "metadata": {
        "id": "LYnbIH3_-IKD"
      }
    },
    {
      "cell_type": "code",
      "source": [
        "aux0 = df3[['id', 'region_code', 'response']].groupby( ['region_code', 'response'] ).count().reset_index()\n",
        "#aux0 = aux0[(aux0['id'] > 1000) & (aux0['id'] < 20000)]\n",
        "\n",
        "sns.scatterplot( x='region_code', y='id', hue='response', data=aux0 )"
      ],
      "metadata": {
        "colab": {
          "base_uri": "https://localhost:8080/",
          "height": 298
        },
        "id": "ljuYfifKAjmm",
        "outputId": "78a66a29-1d58-48e4-b103-921a97836343"
      },
      "execution_count": null,
      "outputs": [
        {
          "output_type": "execute_result",
          "data": {
            "text/plain": [
              "<matplotlib.axes._subplots.AxesSubplot at 0x7f189d78cf10>"
            ]
          },
          "metadata": {},
          "execution_count": 197
        },
        {
          "output_type": "display_data",
          "data": {
            "text/plain": [
              "<Figure size 432x288 with 1 Axes>"
            ],
            "image/png": "[encoded data removed]"
          },
          "metadata": {
            "needs_background": "light"
          }
        }
      ]
    },
    {
      "cell_type": "markdown",
      "source": [
        "#### 3.1.5 Previously Insured"
      ],
      "metadata": {
        "id": "wSHWLvv2-IM6"
      }
    },
    {
      "cell_type": "code",
      "source": [
        "pd.crosstab(df3['previously_insured'], df3['response'] ).apply( lambda x: x / x.sum(), axis=1 )\n"
      ],
      "metadata": {
        "colab": {
          "base_uri": "https://localhost:8080/",
          "height": 143
        },
        "id": "QqS4mswoAnjv",
        "outputId": "2c12f835-bf8e-4e2b-e60e-12347ebdf218"
      },
      "execution_count": null,
      "outputs": [
        {
          "output_type": "execute_result",
          "data": {
            "text/plain": [
              "response                   0         1\n",
              "previously_insured                    \n",
              "0                   0.769438  0.230562\n",
              "1                   0.999191  0.000809"
            ],
            "text/html": [
              "\n",
              "  <div id=\"df-07b9dfcf-d219-44fc-83a1-8ec4feccf35c\">\n",
              "    <div class=\"colab-df-container\">\n",
              "      <div>\n",
              "<style scoped>\n",
              "    .dataframe tbody tr th:only-of-type {\n",
              "        vertical-align: middle;\n",
              "    }\n",
              "\n",
              "    .dataframe tbody tr th {\n",
              "        vertical-align: top;\n",
              "    }\n",
              "\n",
              "    .dataframe thead th {\n",
              "        text-align: right;\n",
              "    }\n",
              "</style>\n",
              "<table border=\"1\" class=\"dataframe\">\n",
              "  <thead>\n",
              "    <tr style=\"text-align: right;\">\n",
              "      <th>response</th>\n",
              "      <th>0</th>\n",
              "      <th>1</th>\n",
              "    </tr>\n",
              "    <tr>\n",
              "      <th>previously_insured</th>\n",
              "      <th></th>\n",
              "      <th></th>\n",
              "    </tr>\n",
              "  </thead>\n",
              "  <tbody>\n",
              "    <tr>\n",
              "      <th>0</th>\n",
              "      <td>0.769438</td>\n",
              "      <td>0.230562</td>\n",
              "    </tr>\n",
              "    <tr>\n",
              "      <th>1</th>\n",
              "      <td>0.999191</td>\n",
              "      <td>0.000809</td>\n",
              "    </tr>\n",
              "  </tbody>\n",
              "</table>\n",
              "</div>\n",
              "      <button class=\"colab-df-convert\" onclick=\"convertToInteractive('df-07b9dfcf-d219-44fc-83a1-8ec4feccf35c')\"\n",
              "              title=\"Convert this dataframe to an interactive table.\"\n",
              "              style=\"display:none;\">\n",
              "        \n",
              "  <svg xmlns=\"http://www.w3.org/2000/svg\" height=\"24px\"viewBox=\"0 0 24 24\"\n",
              "       width=\"24px\">\n",
              "    <path d=\"M0 0h24v24H0V0z\" fill=\"none\"/>\n",
              "    <path d=\"M18.56 5.44l.94 2.06.94-2.06 2.06-.94-2.06-.94-.94-2.06-.94 2.06-2.06.94zm-11 1L8.5 8.5l.94-2.06 2.06-.94-2.06-.94L8.5 2.5l-.94 2.06-2.06.94zm10 10l.94 2.06.94-2.06 2.06-.94-2.06-.94-.94-2.06-.94 2.06-2.06.94z\"/><path d=\"M17.41 7.96l-1.37-1.37c-.4-.4-.92-.59-1.43-.59-.52 0-1.04.2-1.43.59L10.3 9.45l-7.72 7.72c-.78.78-.78 2.05 0 2.83L4 21.41c.39.39.9.59 1.41.59.51 0 1.02-.2 1.41-.59l7.78-7.78 2.81-2.81c.8-.78.8-2.07 0-2.86zM5.41 20L4 18.59l7.72-7.72 1.47 1.35L5.41 20z\"/>\n",
              "  </svg>\n",
              "      </button>\n",
              "      \n",
              "  <style>\n",
              "    .colab-df-container {\n",
              "      display:flex;\n",
              "      flex-wrap:wrap;\n",
              "      gap: 12px;\n",
              "    }\n",
              "\n",
              "    .colab-df-convert {\n",
              "      background-color: #E8F0FE;\n",
              "      border: none;\n",
              "      border-radius: 50%;\n",
              "      cursor: pointer;\n",
              "      display: none;\n",
              "      fill: #1967D2;\n",
              "      height: 32px;\n",
              "      padding: 0 0 0 0;\n",
              "      width: 32px;\n",
              "    }\n",
              "\n",
              "    .colab-df-convert:hover {\n",
              "      background-color: #E2EBFA;\n",
              "      box-shadow: 0px 1px 2px rgba(60, 64, 67, 0.3), 0px 1px 3px 1px rgba(60, 64, 67, 0.15);\n",
              "      fill: #174EA6;\n",
              "    }\n",
              "\n",
              "    [theme=dark] .colab-df-convert {\n",
              "      background-color: #3B4455;\n",
              "      fill: #D2E3FC;\n",
              "    }\n",
              "\n",
              "    [theme=dark] .colab-df-convert:hover {\n",
              "      background-color: #434B5C;\n",
              "      box-shadow: 0px 1px 3px 1px rgba(0, 0, 0, 0.15);\n",
              "      filter: drop-shadow(0px 1px 2px rgba(0, 0, 0, 0.3));\n",
              "      fill: #FFFFFF;\n",
              "    }\n",
              "  </style>\n",
              "\n",
              "      <script>\n",
              "        const buttonEl =\n",
              "          document.querySelector('#df-07b9dfcf-d219-44fc-83a1-8ec4feccf35c button.colab-df-convert');\n",
              "        buttonEl.style.display =\n",
              "          google.colab.kernel.accessAllowed ? 'block' : 'none';\n",
              "\n",
              "        async function convertToInteractive(key) {\n",
              "          const element = document.querySelector('#df-07b9dfcf-d219-44fc-83a1-8ec4feccf35c');\n",
              "          const dataTable =\n",
              "            await google.colab.kernel.invokeFunction('convertToInteractive',\n",
              "                                                     [key], {});\n",
              "          if (!dataTable) return;\n",
              "\n",
              "          const docLinkHtml = 'Like what you see? Visit the ' +\n",
              "            '<a target=\"_blank\" href=https://colab.research.google.com/notebooks/data_table.ipynb>data table notebook</a>'\n",
              "            + ' to learn more about interactive tables.';\n",
              "          element.innerHTML = '';\n",
              "          dataTable['output_type'] = 'display_data';\n",
              "          await google.colab.output.renderOutput(dataTable, element);\n",
              "          const docLink = document.createElement('div');\n",
              "          docLink.innerHTML = docLinkHtml;\n",
              "          element.appendChild(docLink);\n",
              "        }\n",
              "      </script>\n",
              "    </div>\n",
              "  </div>\n",
              "  "
            ]
          },
          "metadata": {},
          "execution_count": 198
        }
      ]
    },
    {
      "cell_type": "markdown",
      "source": [
        "#### 3.1.6 Vehicle Age"
      ],
      "metadata": {
        "id": "7wnYTT-G-IPX"
      }
    },
    {
      "cell_type": "code",
      "source": [
        "df3[['id','vehicle_age', 'response']].groupby( ['vehicle_age', 'response'] ).count().reset_index()\n"
      ],
      "metadata": {
        "colab": {
          "base_uri": "https://localhost:8080/",
          "height": 236
        },
        "id": "_4za3l2WApzX",
        "outputId": "5323a59a-4f70-44b3-9187-3716b3c05ce7"
      },
      "execution_count": null,
      "outputs": [
        {
          "output_type": "execute_result",
          "data": {
            "text/plain": [
              "        vehicle_age  response      id\n",
              "0      below_1_Year         0  137861\n",
              "1      below_1_Year         1    5994\n",
              "2  between_1_2_year         0  130381\n",
              "3  between_1_2_year         1   28017\n",
              "4      over_2_years         0    9126\n",
              "5      over_2_years         1    4070"
            ],
            "text/html": [
              "\n",
              "  <div id=\"df-8dcc4906-c3b4-4069-b477-e1fa1b116672\">\n",
              "    <div class=\"colab-df-container\">\n",
              "      <div>\n",
              "<style scoped>\n",
              "    .dataframe tbody tr th:only-of-type {\n",
              "        vertical-align: middle;\n",
              "    }\n",
              "\n",
              "    .dataframe tbody tr th {\n",
              "        vertical-align: top;\n",
              "    }\n",
              "\n",
              "    .dataframe thead th {\n",
              "        text-align: right;\n",
              "    }\n",
              "</style>\n",
              "<table border=\"1\" class=\"dataframe\">\n",
              "  <thead>\n",
              "    <tr style=\"text-align: right;\">\n",
              "      <th></th>\n",
              "      <th>vehicle_age</th>\n",
              "      <th>response</th>\n",
              "      <th>id</th>\n",
              "    </tr>\n",
              "  </thead>\n",
              "  <tbody>\n",
              "    <tr>\n",
              "      <th>0</th>\n",
              "      <td>below_1_Year</td>\n",
              "      <td>0</td>\n",
              "      <td>137861</td>\n",
              "    </tr>\n",
              "    <tr>\n",
              "      <th>1</th>\n",
              "      <td>below_1_Year</td>\n",
              "      <td>1</td>\n",
              "      <td>5994</td>\n",
              "    </tr>\n",
              "    <tr>\n",
              "      <th>2</th>\n",
              "      <td>between_1_2_year</td>\n",
              "      <td>0</td>\n",
              "      <td>130381</td>\n",
              "    </tr>\n",
              "    <tr>\n",
              "      <th>3</th>\n",
              "      <td>between_1_2_year</td>\n",
              "      <td>1</td>\n",
              "      <td>28017</td>\n",
              "    </tr>\n",
              "    <tr>\n",
              "      <th>4</th>\n",
              "      <td>over_2_years</td>\n",
              "      <td>0</td>\n",
              "      <td>9126</td>\n",
              "    </tr>\n",
              "    <tr>\n",
              "      <th>5</th>\n",
              "      <td>over_2_years</td>\n",
              "      <td>1</td>\n",
              "      <td>4070</td>\n",
              "    </tr>\n",
              "  </tbody>\n",
              "</table>\n",
              "</div>\n",
              "      <button class=\"colab-df-convert\" onclick=\"convertToInteractive('df-8dcc4906-c3b4-4069-b477-e1fa1b116672')\"\n",
              "              title=\"Convert this dataframe to an interactive table.\"\n",
              "              style=\"display:none;\">\n",
              "        \n",
              "  <svg xmlns=\"http://www.w3.org/2000/svg\" height=\"24px\"viewBox=\"0 0 24 24\"\n",
              "       width=\"24px\">\n",
              "    <path d=\"M0 0h24v24H0V0z\" fill=\"none\"/>\n",
              "    <path d=\"M18.56 5.44l.94 2.06.94-2.06 2.06-.94-2.06-.94-.94-2.06-.94 2.06-2.06.94zm-11 1L8.5 8.5l.94-2.06 2.06-.94-2.06-.94L8.5 2.5l-.94 2.06-2.06.94zm10 10l.94 2.06.94-2.06 2.06-.94-2.06-.94-.94-2.06-.94 2.06-2.06.94z\"/><path d=\"M17.41 7.96l-1.37-1.37c-.4-.4-.92-.59-1.43-.59-.52 0-1.04.2-1.43.59L10.3 9.45l-7.72 7.72c-.78.78-.78 2.05 0 2.83L4 21.41c.39.39.9.59 1.41.59.51 0 1.02-.2 1.41-.59l7.78-7.78 2.81-2.81c.8-.78.8-2.07 0-2.86zM5.41 20L4 18.59l7.72-7.72 1.47 1.35L5.41 20z\"/>\n",
              "  </svg>\n",
              "      </button>\n",
              "      \n",
              "  <style>\n",
              "    .colab-df-container {\n",
              "      display:flex;\n",
              "      flex-wrap:wrap;\n",
              "      gap: 12px;\n",
              "    }\n",
              "\n",
              "    .colab-df-convert {\n",
              "      background-color: #E8F0FE;\n",
              "      border: none;\n",
              "      border-radius: 50%;\n",
              "      cursor: pointer;\n",
              "      display: none;\n",
              "      fill: #1967D2;\n",
              "      height: 32px;\n",
              "      padding: 0 0 0 0;\n",
              "      width: 32px;\n",
              "    }\n",
              "\n",
              "    .colab-df-convert:hover {\n",
              "      background-color: #E2EBFA;\n",
              "      box-shadow: 0px 1px 2px rgba(60, 64, 67, 0.3), 0px 1px 3px 1px rgba(60, 64, 67, 0.15);\n",
              "      fill: #174EA6;\n",
              "    }\n",
              "\n",
              "    [theme=dark] .colab-df-convert {\n",
              "      background-color: #3B4455;\n",
              "      fill: #D2E3FC;\n",
              "    }\n",
              "\n",
              "    [theme=dark] .colab-df-convert:hover {\n",
              "      background-color: #434B5C;\n",
              "      box-shadow: 0px 1px 3px 1px rgba(0, 0, 0, 0.15);\n",
              "      filter: drop-shadow(0px 1px 2px rgba(0, 0, 0, 0.3));\n",
              "      fill: #FFFFFF;\n",
              "    }\n",
              "  </style>\n",
              "\n",
              "      <script>\n",
              "        const buttonEl =\n",
              "          document.querySelector('#df-8dcc4906-c3b4-4069-b477-e1fa1b116672 button.colab-df-convert');\n",
              "        buttonEl.style.display =\n",
              "          google.colab.kernel.accessAllowed ? 'block' : 'none';\n",
              "\n",
              "        async function convertToInteractive(key) {\n",
              "          const element = document.querySelector('#df-8dcc4906-c3b4-4069-b477-e1fa1b116672');\n",
              "          const dataTable =\n",
              "            await google.colab.kernel.invokeFunction('convertToInteractive',\n",
              "                                                     [key], {});\n",
              "          if (!dataTable) return;\n",
              "\n",
              "          const docLinkHtml = 'Like what you see? Visit the ' +\n",
              "            '<a target=\"_blank\" href=https://colab.research.google.com/notebooks/data_table.ipynb>data table notebook</a>'\n",
              "            + ' to learn more about interactive tables.';\n",
              "          element.innerHTML = '';\n",
              "          dataTable['output_type'] = 'display_data';\n",
              "          await google.colab.output.renderOutput(dataTable, element);\n",
              "          const docLink = document.createElement('div');\n",
              "          docLink.innerHTML = docLinkHtml;\n",
              "          element.appendChild(docLink);\n",
              "        }\n",
              "      </script>\n",
              "    </div>\n",
              "  </div>\n",
              "  "
            ]
          },
          "metadata": {},
          "execution_count": 199
        }
      ]
    },
    {
      "cell_type": "markdown",
      "source": [
        "#### 3.1.7 Vehicle Damage"
      ],
      "metadata": {
        "id": "EswfeD0h-ISn"
      }
    },
    {
      "cell_type": "code",
      "source": [
        "aux = df3[['vehicle_damage', 'response']].groupby( 'response' ).sum().reset_index()\n",
        "sns.barplot( x='response', y='vehicle_damage', data=aux );"
      ],
      "metadata": {
        "colab": {
          "base_uri": "https://localhost:8080/",
          "height": 279
        },
        "id": "m2LXXpeBArnv",
        "outputId": "84d0112d-83fe-4195-80d4-872c3088446c"
      },
      "execution_count": null,
      "outputs": [
        {
          "output_type": "display_data",
          "data": {
            "text/plain": [
              "<Figure size 432x288 with 1 Axes>"
            ],
            "image/png": "[encoded data removed]"
          },
          "metadata": {
            "needs_background": "light"
          }
        }
      ]
    },
    {
      "cell_type": "markdown",
      "source": [
        "#### 3.1.8 Policy Sales Channel \n"
      ],
      "metadata": {
        "id": "v0O8LXO6-IV1"
      }
    },
    {
      "cell_type": "code",
      "source": [
        "aux = df3[['policy_sales_channel', 'response']].groupby( 'policy_sales_channel' ).sum().reset_index()\n",
        "sns.barplot( x='response', y='policy_sales_channel', data=aux );"
      ],
      "metadata": {
        "colab": {
          "base_uri": "https://localhost:8080/",
          "height": 279
        },
        "id": "M8IQ4xvFAtXW",
        "outputId": "a6ddbec9-c3c1-4760-e45b-f16fda10c959"
      },
      "execution_count": null,
      "outputs": [
        {
          "output_type": "display_data",
          "data": {
            "text/plain": [
              "<Figure size 432x288 with 1 Axes>"
            ],
            "image/png": "[encoded data removed]"
          },
          "metadata": {
            "needs_background": "light"
          }
        }
      ]
    },
    {
      "cell_type": "code",
      "source": [
        "aux01 = df3[['policy_sales_channel', 'response']].groupby( 'policy_sales_channel' ).sum().reset_index()\n",
        "aux02 = df3[['id', 'policy_sales_channel']].groupby( 'policy_sales_channel' ).size().reset_index().rename( columns={0:'total_responses'})\n",
        "\n",
        "aux = pd.merge( aux01, aux02, how='inner', on='policy_sales_channel' )\n",
        "aux"
      ],
      "metadata": {
        "colab": {
          "base_uri": "https://localhost:8080/",
          "height": 422
        },
        "id": "Jej1ENjtAvMF",
        "outputId": "19aeb287-75c9-45ba-c673-7c7d6063337c"
      },
      "execution_count": null,
      "outputs": [
        {
          "output_type": "execute_result",
          "data": {
            "text/plain": [
              "     policy_sales_channel  response  total_responses\n",
              "0                     1.0         0               10\n",
              "1                     2.0         0                1\n",
              "2                     3.0       136              434\n",
              "3                     4.0        90              442\n",
              "4                     6.0         0                2\n",
              "..                    ...       ...              ...\n",
              "143                 157.0       706             2353\n",
              "144                 158.0        45              148\n",
              "145                 159.0         1               21\n",
              "146                 160.0       303            16225\n",
              "147                 163.0       621             2004\n",
              "\n",
              "[148 rows x 3 columns]"
            ],
            "text/html": [
              "\n",
              "  <div id=\"df-b5d67319-2e36-4309-83cf-ce127cc73229\">\n",
              "    <div class=\"colab-df-container\">\n",
              "      <div>\n",
              "<style scoped>\n",
              "    .dataframe tbody tr th:only-of-type {\n",
              "        vertical-align: middle;\n",
              "    }\n",
              "\n",
              "    .dataframe tbody tr th {\n",
              "        vertical-align: top;\n",
              "    }\n",
              "\n",
              "    .dataframe thead th {\n",
              "        text-align: right;\n",
              "    }\n",
              "</style>\n",
              "<table border=\"1\" class=\"dataframe\">\n",
              "  <thead>\n",
              "    <tr style=\"text-align: right;\">\n",
              "      <th></th>\n",
              "      <th>policy_sales_channel</th>\n",
              "      <th>response</th>\n",
              "      <th>total_responses</th>\n",
              "    </tr>\n",
              "  </thead>\n",
              "  <tbody>\n",
              "    <tr>\n",
              "      <th>0</th>\n",
              "      <td>1.0</td>\n",
              "      <td>0</td>\n",
              "      <td>10</td>\n",
              "    </tr>\n",
              "    <tr>\n",
              "      <th>1</th>\n",
              "      <td>2.0</td>\n",
              "      <td>0</td>\n",
              "      <td>1</td>\n",
              "    </tr>\n",
              "    <tr>\n",
              "      <th>2</th>\n",
              "      <td>3.0</td>\n",
              "      <td>136</td>\n",
              "      <td>434</td>\n",
              "    </tr>\n",
              "    <tr>\n",
              "      <th>3</th>\n",
              "      <td>4.0</td>\n",
              "      <td>90</td>\n",
              "      <td>442</td>\n",
              "    </tr>\n",
              "    <tr>\n",
              "      <th>4</th>\n",
              "      <td>6.0</td>\n",
              "      <td>0</td>\n",
              "      <td>2</td>\n",
              "    </tr>\n",
              "    <tr>\n",
              "      <th>...</th>\n",
              "      <td>...</td>\n",
              "      <td>...</td>\n",
              "      <td>...</td>\n",
              "    </tr>\n",
              "    <tr>\n",
              "      <th>143</th>\n",
              "      <td>157.0</td>\n",
              "      <td>706</td>\n",
              "      <td>2353</td>\n",
              "    </tr>\n",
              "    <tr>\n",
              "      <th>144</th>\n",
              "      <td>158.0</td>\n",
              "      <td>45</td>\n",
              "      <td>148</td>\n",
              "    </tr>\n",
              "    <tr>\n",
              "      <th>145</th>\n",
              "      <td>159.0</td>\n",
              "      <td>1</td>\n",
              "      <td>21</td>\n",
              "    </tr>\n",
              "    <tr>\n",
              "      <th>146</th>\n",
              "      <td>160.0</td>\n",
              "      <td>303</td>\n",
              "      <td>16225</td>\n",
              "    </tr>\n",
              "    <tr>\n",
              "      <th>147</th>\n",
              "      <td>163.0</td>\n",
              "      <td>621</td>\n",
              "      <td>2004</td>\n",
              "    </tr>\n",
              "  </tbody>\n",
              "</table>\n",
              "<p>148 rows × 3 columns</p>\n",
              "</div>\n",
              "      <button class=\"colab-df-convert\" onclick=\"convertToInteractive('df-b5d67319-2e36-4309-83cf-ce127cc73229')\"\n",
              "              title=\"Convert this dataframe to an interactive table.\"\n",
              "              style=\"display:none;\">\n",
              "        \n",
              "  <svg xmlns=\"http://www.w3.org/2000/svg\" height=\"24px\"viewBox=\"0 0 24 24\"\n",
              "       width=\"24px\">\n",
              "    <path d=\"M0 0h24v24H0V0z\" fill=\"none\"/>\n",
              "    <path d=\"M18.56 5.44l.94 2.06.94-2.06 2.06-.94-2.06-.94-.94-2.06-.94 2.06-2.06.94zm-11 1L8.5 8.5l.94-2.06 2.06-.94-2.06-.94L8.5 2.5l-.94 2.06-2.06.94zm10 10l.94 2.06.94-2.06 2.06-.94-2.06-.94-.94-2.06-.94 2.06-2.06.94z\"/><path d=\"M17.41 7.96l-1.37-1.37c-.4-.4-.92-.59-1.43-.59-.52 0-1.04.2-1.43.59L10.3 9.45l-7.72 7.72c-.78.78-.78 2.05 0 2.83L4 21.41c.39.39.9.59 1.41.59.51 0 1.02-.2 1.41-.59l7.78-7.78 2.81-2.81c.8-.78.8-2.07 0-2.86zM5.41 20L4 18.59l7.72-7.72 1.47 1.35L5.41 20z\"/>\n",
              "  </svg>\n",
              "      </button>\n",
              "      \n",
              "  <style>\n",
              "    .colab-df-container {\n",
              "      display:flex;\n",
              "      flex-wrap:wrap;\n",
              "      gap: 12px;\n",
              "    }\n",
              "\n",
              "    .colab-df-convert {\n",
              "      background-color: #E8F0FE;\n",
              "      border: none;\n",
              "      border-radius: 50%;\n",
              "      cursor: pointer;\n",
              "      display: none;\n",
              "      fill: #1967D2;\n",
              "      height: 32px;\n",
              "      padding: 0 0 0 0;\n",
              "      width: 32px;\n",
              "    }\n",
              "\n",
              "    .colab-df-convert:hover {\n",
              "      background-color: #E2EBFA;\n",
              "      box-shadow: 0px 1px 2px rgba(60, 64, 67, 0.3), 0px 1px 3px 1px rgba(60, 64, 67, 0.15);\n",
              "      fill: #174EA6;\n",
              "    }\n",
              "\n",
              "    [theme=dark] .colab-df-convert {\n",
              "      background-color: #3B4455;\n",
              "      fill: #D2E3FC;\n",
              "    }\n",
              "\n",
              "    [theme=dark] .colab-df-convert:hover {\n",
              "      background-color: #434B5C;\n",
              "      box-shadow: 0px 1px 3px 1px rgba(0, 0, 0, 0.15);\n",
              "      filter: drop-shadow(0px 1px 2px rgba(0, 0, 0, 0.3));\n",
              "      fill: #FFFFFF;\n",
              "    }\n",
              "  </style>\n",
              "\n",
              "      <script>\n",
              "        const buttonEl =\n",
              "          document.querySelector('#df-b5d67319-2e36-4309-83cf-ce127cc73229 button.colab-df-convert');\n",
              "        buttonEl.style.display =\n",
              "          google.colab.kernel.accessAllowed ? 'block' : 'none';\n",
              "\n",
              "        async function convertToInteractive(key) {\n",
              "          const element = document.querySelector('#df-b5d67319-2e36-4309-83cf-ce127cc73229');\n",
              "          const dataTable =\n",
              "            await google.colab.kernel.invokeFunction('convertToInteractive',\n",
              "                                                     [key], {});\n",
              "          if (!dataTable) return;\n",
              "\n",
              "          const docLinkHtml = 'Like what you see? Visit the ' +\n",
              "            '<a target=\"_blank\" href=https://colab.research.google.com/notebooks/data_table.ipynb>data table notebook</a>'\n",
              "            + ' to learn more about interactive tables.';\n",
              "          element.innerHTML = '';\n",
              "          dataTable['output_type'] = 'display_data';\n",
              "          await google.colab.output.renderOutput(dataTable, element);\n",
              "          const docLink = document.createElement('div');\n",
              "          docLink.innerHTML = docLinkHtml;\n",
              "          element.appendChild(docLink);\n",
              "        }\n",
              "      </script>\n",
              "    </div>\n",
              "  </div>\n",
              "  "
            ]
          },
          "metadata": {},
          "execution_count": 202
        }
      ]
    },
    {
      "cell_type": "markdown",
      "source": [
        "#### 3.1.9 Vintage"
      ],
      "metadata": {
        "id": "fA2ZUN03-IYy"
      }
    },
    {
      "cell_type": "code",
      "source": [
        "aux = df3.loc[df3['response'] == 0, 'vintage']\n",
        "sns.histplot( aux )"
      ],
      "metadata": {
        "id": "Q3Rbvo0VpsM3",
        "colab": {
          "base_uri": "https://localhost:8080/",
          "height": 297
        },
        "outputId": "b9572cf5-38f3-47e6-d5d9-a1c97414fbc7"
      },
      "execution_count": null,
      "outputs": [
        {
          "output_type": "execute_result",
          "data": {
            "text/plain": [
              "<matplotlib.axes._subplots.AxesSubplot at 0x7f189d399350>"
            ]
          },
          "metadata": {},
          "execution_count": 203
        },
        {
          "output_type": "display_data",
          "data": {
            "text/plain": [
              "<Figure size 432x288 with 1 Axes>"
            ],
            "image/png": "[encoded data removed]"
          },
          "metadata": {
            "needs_background": "light"
          }
        }
      ]
    },
    {
      "cell_type": "code",
      "source": [
        "aux = df3.loc[df3['response'] == 1, 'vintage']\n",
        "sns.histplot( aux )"
      ],
      "metadata": {
        "id": "m062Vbj0psPU",
        "colab": {
          "base_uri": "https://localhost:8080/",
          "height": 297
        },
        "outputId": "f51e20f8-e824-4c81-84b6-f18f59d84479"
      },
      "execution_count": null,
      "outputs": [
        {
          "output_type": "execute_result",
          "data": {
            "text/plain": [
              "<matplotlib.axes._subplots.AxesSubplot at 0x7f189d304a90>"
            ]
          },
          "metadata": {},
          "execution_count": 204
        },
        {
          "output_type": "display_data",
          "data": {
            "text/plain": [
              "<Figure size 432x288 with 1 Axes>"
            ],
            "image/png": "[encoded data removed]"
          },
          "metadata": {
            "needs_background": "light"
          }
        }
      ]
    },
    {
      "cell_type": "code",
      "source": [
        "df = pd.pivot_table( index='vintage', columns='response', values='id', data=df3).reset_index()\n",
        "df.columns = ['vintage', 'no_response', 'yes_response']"
      ],
      "metadata": {
        "id": "2mBDbPFBpsSK"
      },
      "execution_count": null,
      "outputs": []
    },
    {
      "cell_type": "code",
      "source": [
        "df.plot( x='vintage', kind='bar', stacked=True)"
      ],
      "metadata": {
        "colab": {
          "base_uri": "https://localhost:8080/",
          "height": 306
        },
        "id": "RpVE04YABLuE",
        "outputId": "309d158c-892d-43a3-ef27-2d6ec8bd1745"
      },
      "execution_count": null,
      "outputs": [
        {
          "output_type": "execute_result",
          "data": {
            "text/plain": [
              "<matplotlib.axes._subplots.AxesSubplot at 0x7f189d28f890>"
            ]
          },
          "metadata": {},
          "execution_count": 206
        },
        {
          "output_type": "display_data",
          "data": {
            "text/plain": [
              "<Figure size 432x288 with 1 Axes>"
            ],
            "image/png": "[encoded data removed]"
          },
          "metadata": {
            "needs_background": "light"
          }
        }
      ]
    },
    {
      "cell_type": "markdown",
      "source": [
        "### 3.2  Insights"
      ],
      "metadata": {
        "id": "eKzMLTGOG-9Q"
      }
    },
    {
      "cell_type": "markdown",
      "source": [
        "## 4.0 Data Preparation\n",
        "\n"
      ],
      "metadata": {
        "id": "RSTLCqtA6fq3"
      }
    },
    {
      "cell_type": "code",
      "source": [
        "X = df3.drop( 'response', axis=1 )\n",
        "y = df3['response'].copy() \n",
        "\n",
        "x_train, x_validation, y_train, y_validation = ms.train_test_split( X, y, test_size=0.99 )\n",
        "\n",
        "df4 = pd.concat( [x_train, y_train], axis=1 )"
      ],
      "metadata": {
        "id": "twyl0ClqaW1Q"
      },
      "execution_count": null,
      "outputs": []
    },
    {
      "cell_type": "markdown",
      "source": [
        "### 4.1 Standardization"
      ],
      "metadata": {
        "id": "9ib9PJaZYlMM"
      }
    },
    {
      "cell_type": "code",
      "source": [
        "ss = pp.StandardScaler()\n",
        "\n",
        "# anual premium - StandarScaler\n",
        "df4['annual_premium'] = ss.fit_transform( df4[['annual_premium']].values )\n"
      ],
      "metadata": {
        "id": "HO_i6HIUZQG7"
      },
      "execution_count": null,
      "outputs": []
    },
    {
      "cell_type": "markdown",
      "source": [
        "### 4.2. Reescaling"
      ],
      "metadata": {
        "id": "rqx7MkkmYn8u"
      }
    },
    {
      "cell_type": "code",
      "source": [
        "mms_age = pp.MinMaxScaler()\n",
        "mms_vintage = pp.MinMaxScaler()\n",
        "\n",
        "# Age - MinMaxScaler\n",
        "df4['age'] = mms_age.fit_transform( df4[['age']].values )\n",
        "\n",
        "\n",
        "# Vintage - MinMaxScaler\n",
        "df4['vintage'] = mms_vintage.fit_transform( df4[['vintage']].values )\n"
      ],
      "metadata": {
        "id": "jTkNxD4DZTQW"
      },
      "execution_count": null,
      "outputs": []
    },
    {
      "cell_type": "markdown",
      "source": [
        "### 4.3 Encoding"
      ],
      "metadata": {
        "id": "x5cnuBOpYrl8"
      }
    },
    {
      "cell_type": "markdown",
      "source": [],
      "metadata": {
        "id": "u7k0MZX2ZVXW"
      }
    },
    {
      "cell_type": "code",
      "source": [
        "# gender - One Hot Encoding / Target Encoding\n",
        "target_encode_gender = df4.groupby( 'gender' )['response'].mean()\n",
        "df4.loc[:, 'gender'] = df4['gender'].map( target_encode_gender )\n",
        "\n",
        "\n",
        "# region_code - Target Encoding / Frequency Encoding\n",
        "target_encode_region_code = df4.groupby( 'region_code' )['response'].mean()\n",
        "df4.loc[:, 'region_code'] = df4['region_code'].map( target_encode_region_code )\n",
        "\n",
        "# vehicle_age - One Hot Encoding / Frequency Encoding\n",
        "df4 = pd.get_dummies( df4, prefix='vehicle_age', columns=['vehicle_age'] )\n",
        "\n",
        "# policy_sales_channel - Target Encoding / Frequency Encoding\n",
        "fe_policy_sales_channel = df4.groupby( 'policy_sales_channel' ).size() / len( df4 ) \n",
        "df4.loc[:, 'policy_sales_channel'] = df4['policy_sales_channel'].map( fe_policy_sales_channel )\n"
      ],
      "metadata": {
        "id": "45jDIWIaZVrT"
      },
      "execution_count": null,
      "outputs": []
    },
    {
      "cell_type": "markdown",
      "source": [
        "### 4.4 Validation Preparation"
      ],
      "metadata": {
        "id": "iRrQJT9uZIwQ"
      }
    },
    {
      "cell_type": "code",
      "source": [
        "# gender\n",
        "x_validation.loc[:, 'gender'] =  x_validation.loc[:, 'gender'].map( target_encode_gender )\n",
        "\n",
        "# age\n",
        "x_validation.loc[:, 'age'] = mms_age.transform( x_validation[['age']].values )\n",
        "\n",
        "# region_code\n",
        "x_validation.loc[:, 'region_code'] = x_validation.loc[:, 'region_code'].map( target_encode_region_code )\n",
        "\n",
        "# vehicle_age\n",
        "x_validation = pd.get_dummies( x_validation, prefix='vehicle_age', columns=['vehicle_age'] )\n",
        "\n",
        "# annual_premium\n",
        "x_validation.loc[:, 'annual_premium'] = ss.transform( x_validation[['annual_premium']].values )\n",
        "\n",
        "# policy_sales_channel\n",
        "x_validation.loc[:, 'policy_sales_channel'] = x_validation['policy_sales_channel'].map( fe_policy_sales_channel )\n",
        "\n",
        "# vintage\n",
        "x_validation.loc[:, 'vintage'] = mms_vintage.transform( x_validation[['vintage']].values )\n",
        "\n",
        "# fillna\n",
        "x_validation = x_validation.fillna( 0 )"
      ],
      "metadata": {
        "id": "HoaPxRDmZCuT"
      },
      "execution_count": null,
      "outputs": []
    },
    {
      "cell_type": "markdown",
      "source": [
        "## 5.0 Feature Selection"
      ],
      "metadata": {
        "id": "GQ2zp7PEanW0"
      }
    },
    {
      "cell_type": "code",
      "source": [
        "df5 = df4.copy()"
      ],
      "metadata": {
        "id": "ESFqzFiva3yG"
      },
      "execution_count": null,
      "outputs": []
    },
    {
      "cell_type": "code",
      "source": [
        "x_train_n = df5.drop( ['id', 'response'], axis=1 ).values\n",
        "y_train_n = y_train.values.ravel()\n",
        "\n",
        "# Define model\n",
        "et = en.ExtraTreesClassifier( n_jobs=-1 )\n",
        "\n",
        "# Define boruta\n",
        "boruta = bt.BorutaPy( et, n_estimators='auto', verbose=2, random_state=42 ).fit( x_train_n, y_train_n  )"
      ],
      "metadata": {
        "colab": {
          "base_uri": "https://localhost:8080/"
        },
        "id": "t7cEHW46bLD8",
        "outputId": "9613a239-f66c-47c1-ed83-ae2d55a8bf04"
      },
      "execution_count": null,
      "outputs": [
        {
          "output_type": "stream",
          "name": "stdout",
          "text": [
            "Iteration: \t1 / 100\n",
            "Confirmed: \t0\n",
            "Tentative: \t12\n",
            "Rejected: \t0\n",
            "Iteration: \t2 / 100\n",
            "Confirmed: \t0\n",
            "Tentative: \t12\n",
            "Rejected: \t0\n",
            "Iteration: \t3 / 100\n",
            "Confirmed: \t0\n",
            "Tentative: \t12\n",
            "Rejected: \t0\n",
            "Iteration: \t4 / 100\n",
            "Confirmed: \t0\n",
            "Tentative: \t12\n",
            "Rejected: \t0\n",
            "Iteration: \t5 / 100\n",
            "Confirmed: \t0\n",
            "Tentative: \t12\n",
            "Rejected: \t0\n",
            "Iteration: \t6 / 100\n",
            "Confirmed: \t0\n",
            "Tentative: \t12\n",
            "Rejected: \t0\n",
            "Iteration: \t7 / 100\n",
            "Confirmed: \t0\n",
            "Tentative: \t12\n",
            "Rejected: \t0\n",
            "Iteration: \t8 / 100\n",
            "Confirmed: \t1\n",
            "Tentative: \t3\n",
            "Rejected: \t8\n",
            "Iteration: \t9 / 100\n",
            "Confirmed: \t1\n",
            "Tentative: \t3\n",
            "Rejected: \t8\n",
            "Iteration: \t10 / 100\n",
            "Confirmed: \t1\n",
            "Tentative: \t3\n",
            "Rejected: \t8\n",
            "Iteration: \t11 / 100\n",
            "Confirmed: \t1\n",
            "Tentative: \t3\n",
            "Rejected: \t8\n",
            "Iteration: \t12 / 100\n",
            "Confirmed: \t1\n",
            "Tentative: \t3\n",
            "Rejected: \t8\n",
            "Iteration: \t13 / 100\n",
            "Confirmed: \t1\n",
            "Tentative: \t3\n",
            "Rejected: \t8\n",
            "Iteration: \t14 / 100\n",
            "Confirmed: \t1\n",
            "Tentative: \t3\n",
            "Rejected: \t8\n",
            "Iteration: \t15 / 100\n",
            "Confirmed: \t1\n",
            "Tentative: \t3\n",
            "Rejected: \t8\n",
            "Iteration: \t16 / 100\n",
            "Confirmed: \t1\n",
            "Tentative: \t3\n",
            "Rejected: \t8\n",
            "Iteration: \t17 / 100\n",
            "Confirmed: \t1\n",
            "Tentative: \t3\n",
            "Rejected: \t8\n",
            "Iteration: \t18 / 100\n",
            "Confirmed: \t1\n",
            "Tentative: \t3\n",
            "Rejected: \t8\n",
            "Iteration: \t19 / 100\n",
            "Confirmed: \t1\n",
            "Tentative: \t3\n",
            "Rejected: \t8\n",
            "Iteration: \t20 / 100\n",
            "Confirmed: \t1\n",
            "Tentative: \t3\n",
            "Rejected: \t8\n",
            "Iteration: \t21 / 100\n",
            "Confirmed: \t1\n",
            "Tentative: \t3\n",
            "Rejected: \t8\n",
            "Iteration: \t22 / 100\n",
            "Confirmed: \t1\n",
            "Tentative: \t3\n",
            "Rejected: \t8\n",
            "Iteration: \t23 / 100\n",
            "Confirmed: \t1\n",
            "Tentative: \t3\n",
            "Rejected: \t8\n",
            "Iteration: \t24 / 100\n",
            "Confirmed: \t1\n",
            "Tentative: \t3\n",
            "Rejected: \t8\n",
            "Iteration: \t25 / 100\n",
            "Confirmed: \t1\n",
            "Tentative: \t3\n",
            "Rejected: \t8\n",
            "Iteration: \t26 / 100\n",
            "Confirmed: \t1\n",
            "Tentative: \t3\n",
            "Rejected: \t8\n",
            "Iteration: \t27 / 100\n",
            "Confirmed: \t1\n",
            "Tentative: \t3\n",
            "Rejected: \t8\n",
            "Iteration: \t28 / 100\n",
            "Confirmed: \t1\n",
            "Tentative: \t3\n",
            "Rejected: \t8\n",
            "Iteration: \t29 / 100\n",
            "Confirmed: \t2\n",
            "Tentative: \t1\n",
            "Rejected: \t9\n",
            "Iteration: \t30 / 100\n",
            "Confirmed: \t2\n",
            "Tentative: \t1\n",
            "Rejected: \t9\n",
            "Iteration: \t31 / 100\n",
            "Confirmed: \t2\n",
            "Tentative: \t1\n",
            "Rejected: \t9\n",
            "Iteration: \t32 / 100\n",
            "Confirmed: \t2\n",
            "Tentative: \t1\n",
            "Rejected: \t9\n",
            "Iteration: \t33 / 100\n",
            "Confirmed: \t2\n",
            "Tentative: \t1\n",
            "Rejected: \t9\n",
            "Iteration: \t34 / 100\n",
            "Confirmed: \t2\n",
            "Tentative: \t1\n",
            "Rejected: \t9\n",
            "Iteration: \t35 / 100\n",
            "Confirmed: \t2\n",
            "Tentative: \t1\n",
            "Rejected: \t9\n",
            "Iteration: \t36 / 100\n",
            "Confirmed: \t2\n",
            "Tentative: \t1\n",
            "Rejected: \t9\n",
            "Iteration: \t37 / 100\n",
            "Confirmed: \t2\n",
            "Tentative: \t1\n",
            "Rejected: \t9\n",
            "Iteration: \t38 / 100\n",
            "Confirmed: \t2\n",
            "Tentative: \t1\n",
            "Rejected: \t9\n",
            "Iteration: \t39 / 100\n",
            "Confirmed: \t2\n",
            "Tentative: \t1\n",
            "Rejected: \t9\n",
            "Iteration: \t40 / 100\n",
            "Confirmed: \t2\n",
            "Tentative: \t1\n",
            "Rejected: \t9\n",
            "Iteration: \t41 / 100\n",
            "Confirmed: \t2\n",
            "Tentative: \t1\n",
            "Rejected: \t9\n",
            "Iteration: \t42 / 100\n",
            "Confirmed: \t2\n",
            "Tentative: \t1\n",
            "Rejected: \t9\n",
            "Iteration: \t43 / 100\n",
            "Confirmed: \t2\n",
            "Tentative: \t1\n",
            "Rejected: \t9\n",
            "Iteration: \t44 / 100\n",
            "Confirmed: \t2\n",
            "Tentative: \t1\n",
            "Rejected: \t9\n",
            "Iteration: \t45 / 100\n",
            "Confirmed: \t2\n",
            "Tentative: \t1\n",
            "Rejected: \t9\n",
            "Iteration: \t46 / 100\n",
            "Confirmed: \t2\n",
            "Tentative: \t1\n",
            "Rejected: \t9\n",
            "Iteration: \t47 / 100\n",
            "Confirmed: \t2\n",
            "Tentative: \t1\n",
            "Rejected: \t9\n",
            "Iteration: \t48 / 100\n",
            "Confirmed: \t2\n",
            "Tentative: \t1\n",
            "Rejected: \t9\n",
            "Iteration: \t49 / 100\n",
            "Confirmed: \t2\n",
            "Tentative: \t1\n",
            "Rejected: \t9\n",
            "Iteration: \t50 / 100\n",
            "Confirmed: \t2\n",
            "Tentative: \t1\n",
            "Rejected: \t9\n",
            "Iteration: \t51 / 100\n",
            "Confirmed: \t2\n",
            "Tentative: \t1\n",
            "Rejected: \t9\n",
            "Iteration: \t52 / 100\n",
            "Confirmed: \t2\n",
            "Tentative: \t1\n",
            "Rejected: \t9\n",
            "Iteration: \t53 / 100\n",
            "Confirmed: \t2\n",
            "Tentative: \t1\n",
            "Rejected: \t9\n",
            "Iteration: \t54 / 100\n",
            "Confirmed: \t2\n",
            "Tentative: \t1\n",
            "Rejected: \t9\n",
            "Iteration: \t55 / 100\n",
            "Confirmed: \t2\n",
            "Tentative: \t1\n",
            "Rejected: \t9\n",
            "Iteration: \t56 / 100\n",
            "Confirmed: \t2\n",
            "Tentative: \t1\n",
            "Rejected: \t9\n",
            "Iteration: \t57 / 100\n",
            "Confirmed: \t2\n",
            "Tentative: \t1\n",
            "Rejected: \t9\n",
            "Iteration: \t58 / 100\n",
            "Confirmed: \t2\n",
            "Tentative: \t1\n",
            "Rejected: \t9\n",
            "Iteration: \t59 / 100\n",
            "Confirmed: \t2\n",
            "Tentative: \t1\n",
            "Rejected: \t9\n",
            "Iteration: \t60 / 100\n",
            "Confirmed: \t2\n",
            "Tentative: \t1\n",
            "Rejected: \t9\n",
            "Iteration: \t61 / 100\n",
            "Confirmed: \t2\n",
            "Tentative: \t1\n",
            "Rejected: \t9\n",
            "Iteration: \t62 / 100\n",
            "Confirmed: \t2\n",
            "Tentative: \t1\n",
            "Rejected: \t9\n",
            "Iteration: \t63 / 100\n",
            "Confirmed: \t2\n",
            "Tentative: \t1\n",
            "Rejected: \t9\n",
            "Iteration: \t64 / 100\n",
            "Confirmed: \t2\n",
            "Tentative: \t1\n",
            "Rejected: \t9\n",
            "Iteration: \t65 / 100\n",
            "Confirmed: \t2\n",
            "Tentative: \t1\n",
            "Rejected: \t9\n",
            "Iteration: \t66 / 100\n",
            "Confirmed: \t2\n",
            "Tentative: \t1\n",
            "Rejected: \t9\n",
            "Iteration: \t67 / 100\n",
            "Confirmed: \t2\n",
            "Tentative: \t1\n",
            "Rejected: \t9\n",
            "Iteration: \t68 / 100\n",
            "Confirmed: \t2\n",
            "Tentative: \t1\n",
            "Rejected: \t9\n",
            "Iteration: \t69 / 100\n",
            "Confirmed: \t2\n",
            "Tentative: \t1\n",
            "Rejected: \t9\n",
            "Iteration: \t70 / 100\n",
            "Confirmed: \t2\n",
            "Tentative: \t1\n",
            "Rejected: \t9\n",
            "Iteration: \t71 / 100\n",
            "Confirmed: \t2\n",
            "Tentative: \t1\n",
            "Rejected: \t9\n",
            "Iteration: \t72 / 100\n",
            "Confirmed: \t2\n",
            "Tentative: \t1\n",
            "Rejected: \t9\n",
            "Iteration: \t73 / 100\n",
            "Confirmed: \t2\n",
            "Tentative: \t1\n",
            "Rejected: \t9\n",
            "Iteration: \t74 / 100\n",
            "Confirmed: \t2\n",
            "Tentative: \t1\n",
            "Rejected: \t9\n",
            "Iteration: \t75 / 100\n",
            "Confirmed: \t2\n",
            "Tentative: \t1\n",
            "Rejected: \t9\n",
            "Iteration: \t76 / 100\n",
            "Confirmed: \t2\n",
            "Tentative: \t1\n",
            "Rejected: \t9\n",
            "Iteration: \t77 / 100\n",
            "Confirmed: \t2\n",
            "Tentative: \t1\n",
            "Rejected: \t9\n",
            "Iteration: \t78 / 100\n",
            "Confirmed: \t2\n",
            "Tentative: \t1\n",
            "Rejected: \t9\n",
            "Iteration: \t79 / 100\n",
            "Confirmed: \t2\n",
            "Tentative: \t1\n",
            "Rejected: \t9\n",
            "Iteration: \t80 / 100\n",
            "Confirmed: \t2\n",
            "Tentative: \t1\n",
            "Rejected: \t9\n",
            "Iteration: \t81 / 100\n",
            "Confirmed: \t2\n",
            "Tentative: \t1\n",
            "Rejected: \t9\n",
            "Iteration: \t82 / 100\n",
            "Confirmed: \t2\n",
            "Tentative: \t1\n",
            "Rejected: \t9\n",
            "Iteration: \t83 / 100\n",
            "Confirmed: \t2\n",
            "Tentative: \t1\n",
            "Rejected: \t9\n",
            "Iteration: \t84 / 100\n",
            "Confirmed: \t2\n",
            "Tentative: \t1\n",
            "Rejected: \t9\n",
            "Iteration: \t85 / 100\n",
            "Confirmed: \t2\n",
            "Tentative: \t1\n",
            "Rejected: \t9\n",
            "Iteration: \t86 / 100\n",
            "Confirmed: \t2\n",
            "Tentative: \t1\n",
            "Rejected: \t9\n",
            "Iteration: \t87 / 100\n",
            "Confirmed: \t2\n",
            "Tentative: \t1\n",
            "Rejected: \t9\n",
            "Iteration: \t88 / 100\n",
            "Confirmed: \t2\n",
            "Tentative: \t1\n",
            "Rejected: \t9\n",
            "Iteration: \t89 / 100\n",
            "Confirmed: \t2\n",
            "Tentative: \t1\n",
            "Rejected: \t9\n",
            "Iteration: \t90 / 100\n",
            "Confirmed: \t2\n",
            "Tentative: \t1\n",
            "Rejected: \t9\n",
            "Iteration: \t91 / 100\n",
            "Confirmed: \t2\n",
            "Tentative: \t1\n",
            "Rejected: \t9\n",
            "Iteration: \t92 / 100\n",
            "Confirmed: \t2\n",
            "Tentative: \t1\n",
            "Rejected: \t9\n",
            "Iteration: \t93 / 100\n",
            "Confirmed: \t2\n",
            "Tentative: \t1\n",
            "Rejected: \t9\n",
            "Iteration: \t94 / 100\n",
            "Confirmed: \t2\n",
            "Tentative: \t1\n",
            "Rejected: \t9\n",
            "Iteration: \t95 / 100\n",
            "Confirmed: \t2\n",
            "Tentative: \t1\n",
            "Rejected: \t9\n",
            "Iteration: \t96 / 100\n",
            "Confirmed: \t2\n",
            "Tentative: \t1\n",
            "Rejected: \t9\n",
            "Iteration: \t97 / 100\n",
            "Confirmed: \t2\n",
            "Tentative: \t1\n",
            "Rejected: \t9\n",
            "Iteration: \t98 / 100\n",
            "Confirmed: \t2\n",
            "Tentative: \t1\n",
            "Rejected: \t9\n",
            "Iteration: \t99 / 100\n",
            "Confirmed: \t2\n",
            "Tentative: \t1\n",
            "Rejected: \t9\n",
            "\n",
            "\n",
            "BorutaPy finished running.\n",
            "\n",
            "Iteration: \t100 / 100\n",
            "Confirmed: \t2\n",
            "Tentative: \t0\n",
            "Rejected: \t9\n"
          ]
        }
      ]
    },
    {
      "cell_type": "code",
      "source": [
        "cols_selected = boruta.support_.tolist()\n",
        "\n",
        "# best features\n",
        "x_train_fs = df5.drop( ['id', 'response'], axis=1 )\n",
        "cols_selected_boruta = x_train_fs.iloc[:, cols_selected].columns.to_list()\n",
        "cols_selected_boruta\n",
        "# not selected boruta\n",
        "#cols_not_selected_boruta = list( np.setdiff1d( x_train_fs.columns, cols_selected_boruta ) )"
      ],
      "metadata": {
        "colab": {
          "base_uri": "https://localhost:8080/"
        },
        "id": "HQVoWYh4bLe3",
        "outputId": "f9d0b023-1a8a-4958-a87b-7409fadbb480"
      },
      "execution_count": null,
      "outputs": [
        {
          "output_type": "execute_result",
          "data": {
            "text/plain": [
              "['age', 'vehicle_damage']"
            ]
          },
          "metadata": {},
          "execution_count": 216
        }
      ]
    },
    {
      "cell_type": "code",
      "source": [
        "# model definition\n",
        "forest = en.ExtraTreesClassifier( n_estimators=250, random_state=0, n_jobs=-1 )\n",
        "\n",
        "# data preparation\n",
        "x_train_n = df5.drop( ['id', 'response'], axis=1 )\n",
        "y_train_n = y_train.values\n",
        "forest.fit( x_train_n, y_train_n )"
      ],
      "metadata": {
        "colab": {
          "base_uri": "https://localhost:8080/"
        },
        "id": "F2hb3YBAarX1",
        "outputId": "08bbebca-ade8-445b-b8b2-b37ec03b3fe4"
      },
      "execution_count": null,
      "outputs": [
        {
          "output_type": "execute_result",
          "data": {
            "text/plain": [
              "ExtraTreesClassifier(n_estimators=250, n_jobs=-1, random_state=0)"
            ]
          },
          "metadata": {},
          "execution_count": 217
        }
      ]
    },
    {
      "cell_type": "code",
      "source": [
        "importances = forest.feature_importances_\n",
        "std = np.std([tree.feature_importances_ for tree in forest.estimators_], axis=0)\n",
        "indices = np.argsort(importances)[::-1]\n",
        "\n",
        "# Print the feature ranking\n",
        "print(\"Feature ranking:\")\n",
        "df = pd.DataFrame()\n",
        "for i, j in zip( x_train_n, forest.feature_importances_ ):\n",
        "    aux = pd.DataFrame( {'feature': i, 'importance': j}, index=[0] )\n",
        "    df = pd.concat( [df, aux], axis=0 )\n",
        "    \n",
        "print( df.sort_values( 'importance', ascending=False ) )\n",
        "\n",
        "# Plot the impurity-based feature importances of the forest\n",
        "plt.figure()\n",
        "plt.title(\"Feature importances\")\n",
        "plt.bar(range(x_train_n.shape[1]), importances[indices], color=\"r\", yerr=std[indices], align=\"center\")\n",
        "plt.xticks(range(x_train_n.shape[1]), indices)\n",
        "plt.xlim([-1, x_train_n.shape[1]])\n",
        "plt.show()"
      ],
      "metadata": {
        "colab": {
          "base_uri": "https://localhost:8080/",
          "height": 535
        },
        "id": "v1KkYlY7ayu0",
        "outputId": "583272a6-0b0c-4390-eb4c-c601800b1084"
      },
      "execution_count": null,
      "outputs": [
        {
          "output_type": "stream",
          "name": "stdout",
          "text": [
            "Feature ranking:\n",
            "                        feature  importance\n",
            "0                annual_premium    0.203461\n",
            "0                       vintage    0.199863\n",
            "0                           age    0.191599\n",
            "0                   region_code    0.120327\n",
            "0          policy_sales_channel    0.097579\n",
            "0                vehicle_damage    0.072460\n",
            "0            previously_insured    0.057387\n",
            "0                        gender    0.022673\n",
            "0      vehicle_age_below_1_Year    0.014792\n",
            "0      vehicle_age_over_2_years    0.010203\n",
            "0  vehicle_age_between_1_2_year    0.007716\n",
            "0               driving_license    0.001942\n"
          ]
        },
        {
          "output_type": "display_data",
          "data": {
            "text/plain": [
              "<Figure size 432x288 with 1 Axes>"
            ],
            "image/png": "[encoded data removed]"
          },
          "metadata": {
            "needs_background": "light"
          }
        }
      ]
    },
    {
      "cell_type": "markdown",
      "source": [
        "## 6.0 Machine Learning Modelling\n"
      ],
      "metadata": {
        "id": "dEROc2_AczIp"
      }
    },
    {
      "cell_type": "code",
      "source": [
        "cols_selected = ['annual_premium', 'vintage', 'age', 'region_code', 'vehicle_damage', 'policy_sales_channel', \n",
        "                 'vehicle_damage','previously_insured']"
      ],
      "metadata": {
        "id": "jyh2i5wDdbGQ"
      },
      "execution_count": null,
      "outputs": []
    },
    {
      "cell_type": "code",
      "source": [
        "x_train = df5[ cols_selected ]\n",
        "\n",
        "x_val = x_validation[ cols_selected ]\n",
        "y_val = y_validation"
      ],
      "metadata": {
        "id": "4sh7-0vcdvr_"
      },
      "execution_count": null,
      "outputs": []
    },
    {
      "cell_type": "code",
      "source": [],
      "metadata": {
        "id": "omJgqhbTdvzB"
      },
      "execution_count": null,
      "outputs": []
    },
    {
      "cell_type": "code",
      "source": [],
      "metadata": {
        "id": "yERN9IdAdv12"
      },
      "execution_count": null,
      "outputs": []
    },
    {
      "cell_type": "markdown",
      "source": [
        "### 6.1 KNN Classifier\n"
      ],
      "metadata": {
        "id": "rpIWvxO1c2g6"
      }
    },
    {
      "cell_type": "code",
      "source": [
        "# model definition\n",
        "knn_model = nh.KNeighborsClassifier( n_neighbors=7 )\n",
        "\n",
        "# model training\n",
        "knn_model.fit( x_train, y_train )\n",
        "\n",
        "# model prediction\n",
        "yhat_knn = knn_model.predict_proba( x_val )"
      ],
      "metadata": {
        "id": "mXzWPAAgdylP"
      },
      "execution_count": null,
      "outputs": []
    },
    {
      "cell_type": "code",
      "source": [
        "# Accumulative Gain\n",
        "skplt.metrics.plot_cumulative_gain( y_val, yhat_knn );"
      ],
      "metadata": {
        "colab": {
          "base_uri": "https://localhost:8080/",
          "height": 295
        },
        "id": "WsuGV24yd0fF",
        "outputId": "394c3d4e-4ea6-4d09-ac18-92e933ad4fae"
      },
      "execution_count": null,
      "outputs": [
        {
          "output_type": "display_data",
          "data": {
            "text/plain": [
              "<Figure size 432x288 with 1 Axes>"
            ],
            "image/png": "[encoded data removed]"
          },
          "metadata": {
            "needs_background": "light"
          }
        }
      ]
    },
    {
      "cell_type": "code",
      "source": [
        "skplt.metrics.plot_lift_curve( y_val, yhat_knn );"
      ],
      "metadata": {
        "colab": {
          "base_uri": "https://localhost:8080/",
          "height": 295
        },
        "id": "BqC-wqj3d9Sg",
        "outputId": "6982bf6b-6c78-49d7-865c-4d8cefc9b080"
      },
      "execution_count": null,
      "outputs": [
        {
          "output_type": "display_data",
          "data": {
            "text/plain": [
              "<Figure size 432x288 with 1 Axes>"
            ],
            "image/png": "[encoded data removed]"
          },
          "metadata": {
            "needs_background": "light"
          }
        }
      ]
    },
    {
      "cell_type": "markdown",
      "source": [
        "### 6.2 Logistic Regression"
      ],
      "metadata": {
        "id": "1bhR_Np3c4x5"
      }
    },
    {
      "cell_type": "code",
      "source": [
        "# model definition\n",
        "lr_model = lm.LogisticRegression( random_state=42 ) \n",
        "\n",
        "# model training\n",
        "lr_model.fit( x_train, y_train )\n",
        "\n",
        "# model prediction\n",
        "yhat_lr = lr_model.predict_proba( x_val )"
      ],
      "metadata": {
        "id": "tcq9s4c5d5dl"
      },
      "execution_count": null,
      "outputs": []
    },
    {
      "cell_type": "code",
      "source": [
        "# Accumulative Gain\n",
        "skplt.metrics.plot_cumulative_gain( y_val, yhat_lr );"
      ],
      "metadata": {
        "colab": {
          "base_uri": "https://localhost:8080/",
          "height": 295
        },
        "id": "gxkbDdcZeC9q",
        "outputId": "1be7ccc9-fb7e-4249-be95-da5f30a672a9"
      },
      "execution_count": null,
      "outputs": [
        {
          "output_type": "display_data",
          "data": {
            "text/plain": [
              "<Figure size 432x288 with 1 Axes>"
            ],
            "image/png": "[encoded data removed]"
          },
          "metadata": {
            "needs_background": "light"
          }
        }
      ]
    },
    {
      "cell_type": "code",
      "source": [
        "# Lift Curve\n",
        "skplt.metrics.plot_lift_curve( y_val, yhat_lr );"
      ],
      "metadata": {
        "colab": {
          "base_uri": "https://localhost:8080/",
          "height": 295
        },
        "id": "iandcTJ1eE03",
        "outputId": "4b1657eb-3e3b-4ddf-b7f5-20daaacdfce4"
      },
      "execution_count": null,
      "outputs": [
        {
          "output_type": "display_data",
          "data": {
            "text/plain": [
              "<Figure size 432x288 with 1 Axes>"
            ],
            "image/png": "[encoded data removed]"
          },
          "metadata": {
            "needs_background": "light"
          }
        }
      ]
    },
    {
      "cell_type": "markdown",
      "source": [
        "### 6.3 Extra Trees Classifier"
      ],
      "metadata": {
        "id": "6RdMWJwsc42Y"
      }
    },
    {
      "cell_type": "code",
      "source": [
        "# model definition\n",
        "et = en.ExtraTreesClassifier( n_estimators=1000, n_jobs=-1, random_state=42 ) \n",
        "\n",
        "# model training\n",
        "et.fit( x_train, y_train )\n",
        "\n",
        "# model prediction\n",
        "yhat_et = et.predict_proba( x_val )"
      ],
      "metadata": {
        "id": "Zrgcw91OeG7U"
      },
      "execution_count": null,
      "outputs": []
    },
    {
      "cell_type": "code",
      "source": [
        "# Accumulative Gain\n",
        "skplt.metrics.plot_cumulative_gain( y_val, yhat_et );"
      ],
      "metadata": {
        "colab": {
          "base_uri": "https://localhost:8080/",
          "height": 295
        },
        "id": "ruw3wwdPeG95",
        "outputId": "a145ba52-df92-45fc-e1dd-83ae4b1cf00c"
      },
      "execution_count": null,
      "outputs": [
        {
          "output_type": "display_data",
          "data": {
            "text/plain": [
              "<Figure size 432x288 with 1 Axes>"
            ],
            "image/png": "[encoded data removed]"
          },
          "metadata": {
            "needs_background": "light"
          }
        }
      ]
    },
    {
      "cell_type": "code",
      "source": [
        "# Lift Curve\n",
        "skplt.metrics.plot_lift_curve( y_val, yhat_et );"
      ],
      "metadata": {
        "colab": {
          "base_uri": "https://localhost:8080/",
          "height": 295
        },
        "id": "9zSftsTXeI8U",
        "outputId": "a15435fb-50ff-4572-88e6-a26811c60867"
      },
      "execution_count": null,
      "outputs": [
        {
          "output_type": "display_data",
          "data": {
            "text/plain": [
              "<Figure size 432x288 with 1 Axes>"
            ],
            "image/png": "[encoded data removed]"
          },
          "metadata": {
            "needs_background": "light"
          }
        }
      ]
    },
    {
      "cell_type": "code",
      "source": [
        "from sklearn.metrics import roc_auc_score\n",
        "from sklearn import metrics\n",
        "#teste = metrics.roc_auc_score(y_val, yhat_et)\n",
        "#teste"
      ],
      "metadata": {
        "colab": {
          "base_uri": "https://localhost:8080/",
          "height": 376
        },
        "id": "_0p1aIKGfOoy",
        "outputId": "e1b68537-7903-4f18-aa21-9e8f4b521113"
      },
      "execution_count": null,
      "outputs": [
        {
          "output_type": "error",
          "ename": "ValueError",
          "evalue": "ignored",
          "traceback": [
            "\u001b[0;31m---------------------------------------------------------------------------\u001b[0m",
            "\u001b[0;31mValueError\u001b[0m                                Traceback (most recent call last)",
            "\u001b[0;32m<ipython-input-238-70c22a15a6c3>\u001b[0m in \u001b[0;36m<module>\u001b[0;34m\u001b[0m\n\u001b[1;32m      1\u001b[0m \u001b[0;32mfrom\u001b[0m \u001b[0msklearn\u001b[0m\u001b[0;34m.\u001b[0m\u001b[0mmetrics\u001b[0m \u001b[0;32mimport\u001b[0m \u001b[0mroc_auc_score\u001b[0m\u001b[0;34m\u001b[0m\u001b[0;34m\u001b[0m\u001b[0m\n\u001b[1;32m      2\u001b[0m \u001b[0;32mfrom\u001b[0m \u001b[0msklearn\u001b[0m \u001b[0;32mimport\u001b[0m \u001b[0mmetrics\u001b[0m\u001b[0;34m\u001b[0m\u001b[0;34m\u001b[0m\u001b[0m\n\u001b[0;32m----> 3\u001b[0;31m \u001b[0mteste\u001b[0m \u001b[0;34m=\u001b[0m \u001b[0mmetrics\u001b[0m\u001b[0;34m.\u001b[0m\u001b[0mroc_auc_score\u001b[0m\u001b[0;34m(\u001b[0m\u001b[0my_val\u001b[0m\u001b[0;34m,\u001b[0m \u001b[0myhat_et\u001b[0m\u001b[0;34m)\u001b[0m\u001b[0;34m\u001b[0m\u001b[0;34m\u001b[0m\u001b[0m\n\u001b[0m\u001b[1;32m      4\u001b[0m \u001b[0mteste\u001b[0m\u001b[0;34m\u001b[0m\u001b[0;34m\u001b[0m\u001b[0m\n",
            "\u001b[0;32m/usr/local/lib/python3.7/dist-packages/sklearn/metrics/_ranking.py\u001b[0m in \u001b[0;36mroc_auc_score\u001b[0;34m(y_true, y_score, average, sample_weight, max_fpr, multi_class, labels)\u001b[0m\n\u001b[1;32m    570\u001b[0m             \u001b[0my_score\u001b[0m\u001b[0;34m,\u001b[0m\u001b[0;34m\u001b[0m\u001b[0;34m\u001b[0m\u001b[0m\n\u001b[1;32m    571\u001b[0m             \u001b[0maverage\u001b[0m\u001b[0;34m,\u001b[0m\u001b[0;34m\u001b[0m\u001b[0;34m\u001b[0m\u001b[0m\n\u001b[0;32m--> 572\u001b[0;31m             \u001b[0msample_weight\u001b[0m\u001b[0;34m=\u001b[0m\u001b[0msample_weight\u001b[0m\u001b[0;34m,\u001b[0m\u001b[0;34m\u001b[0m\u001b[0;34m\u001b[0m\u001b[0m\n\u001b[0m\u001b[1;32m    573\u001b[0m         )\n\u001b[1;32m    574\u001b[0m     \u001b[0;32melse\u001b[0m\u001b[0;34m:\u001b[0m  \u001b[0;31m# multilabel-indicator\u001b[0m\u001b[0;34m\u001b[0m\u001b[0;34m\u001b[0m\u001b[0m\n",
            "\u001b[0;32m/usr/local/lib/python3.7/dist-packages/sklearn/metrics/_base.py\u001b[0m in \u001b[0;36m_average_binary_score\u001b[0;34m(binary_metric, y_true, y_score, average, sample_weight)\u001b[0m\n\u001b[1;32m     73\u001b[0m \u001b[0;34m\u001b[0m\u001b[0m\n\u001b[1;32m     74\u001b[0m     \u001b[0;32mif\u001b[0m \u001b[0my_type\u001b[0m \u001b[0;34m==\u001b[0m \u001b[0;34m\"binary\"\u001b[0m\u001b[0;34m:\u001b[0m\u001b[0;34m\u001b[0m\u001b[0;34m\u001b[0m\u001b[0m\n\u001b[0;32m---> 75\u001b[0;31m         \u001b[0;32mreturn\u001b[0m \u001b[0mbinary_metric\u001b[0m\u001b[0;34m(\u001b[0m\u001b[0my_true\u001b[0m\u001b[0;34m,\u001b[0m \u001b[0my_score\u001b[0m\u001b[0;34m,\u001b[0m \u001b[0msample_weight\u001b[0m\u001b[0;34m=\u001b[0m\u001b[0msample_weight\u001b[0m\u001b[0;34m)\u001b[0m\u001b[0;34m\u001b[0m\u001b[0;34m\u001b[0m\u001b[0m\n\u001b[0m\u001b[1;32m     76\u001b[0m \u001b[0;34m\u001b[0m\u001b[0m\n\u001b[1;32m     77\u001b[0m     \u001b[0mcheck_consistent_length\u001b[0m\u001b[0;34m(\u001b[0m\u001b[0my_true\u001b[0m\u001b[0;34m,\u001b[0m \u001b[0my_score\u001b[0m\u001b[0;34m,\u001b[0m \u001b[0msample_weight\u001b[0m\u001b[0;34m)\u001b[0m\u001b[0;34m\u001b[0m\u001b[0;34m\u001b[0m\u001b[0m\n",
            "\u001b[0;32m/usr/local/lib/python3.7/dist-packages/sklearn/metrics/_ranking.py\u001b[0m in \u001b[0;36m_binary_roc_auc_score\u001b[0;34m(y_true, y_score, sample_weight, max_fpr)\u001b[0m\n\u001b[1;32m    340\u001b[0m         )\n\u001b[1;32m    341\u001b[0m \u001b[0;34m\u001b[0m\u001b[0m\n\u001b[0;32m--> 342\u001b[0;31m     \u001b[0mfpr\u001b[0m\u001b[0;34m,\u001b[0m \u001b[0mtpr\u001b[0m\u001b[0;34m,\u001b[0m \u001b[0m_\u001b[0m \u001b[0;34m=\u001b[0m \u001b[0mroc_curve\u001b[0m\u001b[0;34m(\u001b[0m\u001b[0my_true\u001b[0m\u001b[0;34m,\u001b[0m \u001b[0my_score\u001b[0m\u001b[0;34m,\u001b[0m \u001b[0msample_weight\u001b[0m\u001b[0;34m=\u001b[0m\u001b[0msample_weight\u001b[0m\u001b[0;34m)\u001b[0m\u001b[0;34m\u001b[0m\u001b[0;34m\u001b[0m\u001b[0m\n\u001b[0m\u001b[1;32m    343\u001b[0m     \u001b[0;32mif\u001b[0m \u001b[0mmax_fpr\u001b[0m \u001b[0;32mis\u001b[0m \u001b[0;32mNone\u001b[0m \u001b[0;32mor\u001b[0m \u001b[0mmax_fpr\u001b[0m \u001b[0;34m==\u001b[0m \u001b[0;36m1\u001b[0m\u001b[0;34m:\u001b[0m\u001b[0;34m\u001b[0m\u001b[0;34m\u001b[0m\u001b[0m\n\u001b[1;32m    344\u001b[0m         \u001b[0;32mreturn\u001b[0m \u001b[0mauc\u001b[0m\u001b[0;34m(\u001b[0m\u001b[0mfpr\u001b[0m\u001b[0;34m,\u001b[0m \u001b[0mtpr\u001b[0m\u001b[0;34m)\u001b[0m\u001b[0;34m\u001b[0m\u001b[0;34m\u001b[0m\u001b[0m\n",
            "\u001b[0;32m/usr/local/lib/python3.7/dist-packages/sklearn/metrics/_ranking.py\u001b[0m in \u001b[0;36mroc_curve\u001b[0;34m(y_true, y_score, pos_label, sample_weight, drop_intermediate)\u001b[0m\n\u001b[1;32m    961\u001b[0m     \"\"\"\n\u001b[1;32m    962\u001b[0m     fps, tps, thresholds = _binary_clf_curve(\n\u001b[0;32m--> 963\u001b[0;31m         \u001b[0my_true\u001b[0m\u001b[0;34m,\u001b[0m \u001b[0my_score\u001b[0m\u001b[0;34m,\u001b[0m \u001b[0mpos_label\u001b[0m\u001b[0;34m=\u001b[0m\u001b[0mpos_label\u001b[0m\u001b[0;34m,\u001b[0m \u001b[0msample_weight\u001b[0m\u001b[0;34m=\u001b[0m\u001b[0msample_weight\u001b[0m\u001b[0;34m\u001b[0m\u001b[0;34m\u001b[0m\u001b[0m\n\u001b[0m\u001b[1;32m    964\u001b[0m     )\n\u001b[1;32m    965\u001b[0m \u001b[0;34m\u001b[0m\u001b[0m\n",
            "\u001b[0;32m/usr/local/lib/python3.7/dist-packages/sklearn/metrics/_ranking.py\u001b[0m in \u001b[0;36m_binary_clf_curve\u001b[0;34m(y_true, y_score, pos_label, sample_weight)\u001b[0m\n\u001b[1;32m    733\u001b[0m     \u001b[0mcheck_consistent_length\u001b[0m\u001b[0;34m(\u001b[0m\u001b[0my_true\u001b[0m\u001b[0;34m,\u001b[0m \u001b[0my_score\u001b[0m\u001b[0;34m,\u001b[0m \u001b[0msample_weight\u001b[0m\u001b[0;34m)\u001b[0m\u001b[0;34m\u001b[0m\u001b[0;34m\u001b[0m\u001b[0m\n\u001b[1;32m    734\u001b[0m     \u001b[0my_true\u001b[0m \u001b[0;34m=\u001b[0m \u001b[0mcolumn_or_1d\u001b[0m\u001b[0;34m(\u001b[0m\u001b[0my_true\u001b[0m\u001b[0;34m)\u001b[0m\u001b[0;34m\u001b[0m\u001b[0;34m\u001b[0m\u001b[0m\n\u001b[0;32m--> 735\u001b[0;31m     \u001b[0my_score\u001b[0m \u001b[0;34m=\u001b[0m \u001b[0mcolumn_or_1d\u001b[0m\u001b[0;34m(\u001b[0m\u001b[0my_score\u001b[0m\u001b[0;34m)\u001b[0m\u001b[0;34m\u001b[0m\u001b[0;34m\u001b[0m\u001b[0m\n\u001b[0m\u001b[1;32m    736\u001b[0m     \u001b[0massert_all_finite\u001b[0m\u001b[0;34m(\u001b[0m\u001b[0my_true\u001b[0m\u001b[0;34m)\u001b[0m\u001b[0;34m\u001b[0m\u001b[0;34m\u001b[0m\u001b[0m\n\u001b[1;32m    737\u001b[0m     \u001b[0massert_all_finite\u001b[0m\u001b[0;34m(\u001b[0m\u001b[0my_score\u001b[0m\u001b[0;34m)\u001b[0m\u001b[0;34m\u001b[0m\u001b[0;34m\u001b[0m\u001b[0m\n",
            "\u001b[0;32m/usr/local/lib/python3.7/dist-packages/sklearn/utils/validation.py\u001b[0m in \u001b[0;36mcolumn_or_1d\u001b[0;34m(y, warn)\u001b[0m\n\u001b[1;32m   1037\u001b[0m \u001b[0;34m\u001b[0m\u001b[0m\n\u001b[1;32m   1038\u001b[0m     raise ValueError(\n\u001b[0;32m-> 1039\u001b[0;31m         \u001b[0;34m\"y should be a 1d array, got an array of shape {} instead.\"\u001b[0m\u001b[0;34m.\u001b[0m\u001b[0mformat\u001b[0m\u001b[0;34m(\u001b[0m\u001b[0mshape\u001b[0m\u001b[0;34m)\u001b[0m\u001b[0;34m\u001b[0m\u001b[0;34m\u001b[0m\u001b[0m\n\u001b[0m\u001b[1;32m   1040\u001b[0m     )\n\u001b[1;32m   1041\u001b[0m \u001b[0;34m\u001b[0m\u001b[0m\n",
            "\u001b[0;31mValueError\u001b[0m: y should be a 1d array, got an array of shape (312295, 2) instead."
          ]
        }
      ]
    },
    {
      "cell_type": "markdown",
      "source": [
        "### 6.4 Random Forest"
      ],
      "metadata": {
        "id": "PUZ-BqsTc46o"
      }
    },
    {
      "cell_type": "code",
      "source": [
        "# model definition\n",
        "rf = en.RandomForestClassifier( n_estimators=1000, n_jobs=-1, random_state=42 ) \n",
        "\n",
        "# model training\n",
        "rf.fit( x_train, y_train )\n",
        "\n",
        "# model prediction\n",
        "yhat_rf = et.predict_proba( x_val )"
      ],
      "metadata": {
        "id": "STdBa17WeSzj"
      },
      "execution_count": null,
      "outputs": []
    },
    {
      "cell_type": "code",
      "source": [
        "# Accumulative Gain\n",
        "skplt.metrics.plot_cumulative_gain( y_val, yhat_rf );"
      ],
      "metadata": {
        "colab": {
          "base_uri": "https://localhost:8080/",
          "height": 295
        },
        "id": "X3HVEjyOeUdO",
        "outputId": "8b6d1c38-aebe-49d7-8e4e-c60bf5436632"
      },
      "execution_count": null,
      "outputs": [
        {
          "output_type": "display_data",
          "data": {
            "text/plain": [
              "<Figure size 432x288 with 1 Axes>"
            ],
            "image/png": "[encoded data removed]"
          },
          "metadata": {
            "needs_background": "light"
          }
        }
      ]
    },
    {
      "cell_type": "code",
      "source": [
        "# Lift Curve\n",
        "skplt.metrics.plot_lift_curve( y_val, yhat_rf );"
      ],
      "metadata": {
        "colab": {
          "base_uri": "https://localhost:8080/",
          "height": 295
        },
        "id": "TZV153joeZwx",
        "outputId": "f570ee6a-6f99-4bda-b6b3-683c258c2470"
      },
      "execution_count": null,
      "outputs": [
        {
          "output_type": "display_data",
          "data": {
            "text/plain": [
              "<Figure size 432x288 with 1 Axes>"
            ],
            "image/png": "[encoded data removed]"
          },
          "metadata": {
            "needs_background": "light"
          }
        }
      ]
    },
    {
      "cell_type": "markdown",
      "source": [
        "###6.5 Model Selection"
      ],
      "metadata": {
        "id": "6O8Sr0xTh1k8"
      }
    },
    {
      "cell_type": "markdown",
      "source": [
        "## 7.0 Performance Metrics"
      ],
      "metadata": {
        "id": "LuXAkI3Jc4_T"
      }
    },
    {
      "cell_type": "markdown",
      "source": [
        "### 7.1 ROI "
      ],
      "metadata": {
        "id": "gqaqJpZjiH8j"
      }
    },
    {
      "cell_type": "code",
      "source": [
        "results = pd.DataFrame()\n",
        "results['prediction'] = yhat_et[:,1].tolist()\n",
        "results['real'] = y_val.tolist()\n",
        "\n",
        "# ordering by prediction\n",
        "results = results.sort_values( 'prediction', ascending=False )\n",
        "\n",
        "# Percentage of intereset ( Propensity Score )\n",
        "results['real_cum'] = results['real'].cumsum() \n",
        "results['real_cum_perc'] = 100*results['real_cum']/results['real'].sum()\n",
        "\n",
        "# Percentage of Base ( Clients )\n",
        "results['base'] = range( 1, len( results ) + 1  )\n",
        "results['base_cum_perc'] = 100*results['base']/len( results )\n",
        "\n",
        "# Basline model\n",
        "results['baseline'] = results['base_cum_perc']\n",
        "\n",
        "# Lift Calculation\n",
        "results['lift'] = results['real_cum_perc'] / results['base_cum_perc']"
      ],
      "metadata": {
        "id": "lB2_4LiEckz0"
      },
      "execution_count": null,
      "outputs": []
    },
    {
      "cell_type": "code",
      "source": [
        "# Compute bucket\n",
        "results['bucket'] = results['prediction'].apply( lambda x: 0.9 if x >= 0.90 else \n",
        "                                                           0.8 if ( x >= 0.80) & ( x <= 0.90 ) else \n",
        "                                                           0.7 if ( x >= 0.70) & ( x <= 0.80 ) else \n",
        "                                                           0.6 if ( x >= 0.60) & ( x <= 0.70 ) else \n",
        "                                                           0.5 if ( x >= 0.50) & ( x <= 0.60 ) else \n",
        "                                                           0.4 if ( x >= 0.40) & ( x <= 0.50 ) else \n",
        "                                                           0.3 if ( x >= 0.30) & ( x <= 0.40 ) else \n",
        "                                                           0.2 if ( x >= 0.20) & ( x <= 0.30 ) else \n",
        "                                                           0.1 if ( x >= 0.10) & ( x <= 0.20 ) else 0.01 )\n",
        "\n",
        "#  Aggregate clients among buckets\n",
        "df = results[['prediction','bucket']].groupby( 'bucket' ).agg( {'min', 'count'} ).reset_index()\n",
        "df.columns = df.columns.droplevel()\n",
        "df.columns = ['index', 'clients', 'propensity_score']\n",
        "\n",
        "# Compute revenue and cost\n",
        "df['gross_revenue'] = 40 * df['clients'] * df['propensity_score'] \n",
        "df['cost'] = 4 * df['clients']\n",
        "\n",
        "df['base'] = df['clients'].sort_values( ascending=True ).cumsum() / df['clients'].sum()\n",
        "\n",
        "# revenue\n",
        "df['revenue'] = df['gross_revenue'] - df['cost']\n",
        "df = df.sort_values( 'index', ascending=False )\n",
        "df"
      ],
      "metadata": {
        "colab": {
          "base_uri": "https://localhost:8080/",
          "height": 362
        },
        "id": "D95AQHOlck3w",
        "outputId": "ab144956-d74e-448c-d204-60f45946ee2c"
      },
      "execution_count": null,
      "outputs": [
        {
          "output_type": "execute_result",
          "data": {
            "text/plain": [
              "   index  clients  propensity_score  gross_revenue   cost      base  \\\n",
              "9   0.90    0.901                42        1513.68  3.604  1.000000   \n",
              "8   0.80    0.800               368       11776.00  3.200  0.799822   \n",
              "7   0.70    0.700              1345       37660.00  2.800  0.622084   \n",
              "6   0.60    0.600              3436       82464.00  2.400  0.466563   \n",
              "5   0.50    0.500              7184      143680.00  2.000  0.333259   \n",
              "4   0.40    0.400             13939      223024.00  1.600  0.222173   \n",
              "3   0.30    0.300             23710      284520.00  1.200  0.133304   \n",
              "2   0.20    0.200             33448      267584.00  0.800  0.066652   \n",
              "1   0.10    0.100             38396      153584.00  0.400  0.022217   \n",
              "0   0.01    0.000            190427           0.00  0.000  0.000000   \n",
              "\n",
              "      revenue  \n",
              "9    1510.076  \n",
              "8   11772.800  \n",
              "7   37657.200  \n",
              "6   82461.600  \n",
              "5  143678.000  \n",
              "4  223022.400  \n",
              "3  284518.800  \n",
              "2  267583.200  \n",
              "1  153583.600  \n",
              "0       0.000  "
            ],
            "text/html": [
              "\n",
              "  <div id=\"df-ac157fb7-81a9-4f48-b649-b851b85028bd\">\n",
              "    <div class=\"colab-df-container\">\n",
              "      <div>\n",
              "<style scoped>\n",
              "    .dataframe tbody tr th:only-of-type {\n",
              "        vertical-align: middle;\n",
              "    }\n",
              "\n",
              "    .dataframe tbody tr th {\n",
              "        vertical-align: top;\n",
              "    }\n",
              "\n",
              "    .dataframe thead th {\n",
              "        text-align: right;\n",
              "    }\n",
              "</style>\n",
              "<table border=\"1\" class=\"dataframe\">\n",
              "  <thead>\n",
              "    <tr style=\"text-align: right;\">\n",
              "      <th></th>\n",
              "      <th>index</th>\n",
              "      <th>clients</th>\n",
              "      <th>propensity_score</th>\n",
              "      <th>gross_revenue</th>\n",
              "      <th>cost</th>\n",
              "      <th>base</th>\n",
              "      <th>revenue</th>\n",
              "    </tr>\n",
              "  </thead>\n",
              "  <tbody>\n",
              "    <tr>\n",
              "      <th>9</th>\n",
              "      <td>0.90</td>\n",
              "      <td>0.901</td>\n",
              "      <td>42</td>\n",
              "      <td>1513.68</td>\n",
              "      <td>3.604</td>\n",
              "      <td>1.000000</td>\n",
              "      <td>1510.076</td>\n",
              "    </tr>\n",
              "    <tr>\n",
              "      <th>8</th>\n",
              "      <td>0.80</td>\n",
              "      <td>0.800</td>\n",
              "      <td>368</td>\n",
              "      <td>11776.00</td>\n",
              "      <td>3.200</td>\n",
              "      <td>0.799822</td>\n",
              "      <td>11772.800</td>\n",
              "    </tr>\n",
              "    <tr>\n",
              "      <th>7</th>\n",
              "      <td>0.70</td>\n",
              "      <td>0.700</td>\n",
              "      <td>1345</td>\n",
              "      <td>37660.00</td>\n",
              "      <td>2.800</td>\n",
              "      <td>0.622084</td>\n",
              "      <td>37657.200</td>\n",
              "    </tr>\n",
              "    <tr>\n",
              "      <th>6</th>\n",
              "      <td>0.60</td>\n",
              "      <td>0.600</td>\n",
              "      <td>3436</td>\n",
              "      <td>82464.00</td>\n",
              "      <td>2.400</td>\n",
              "      <td>0.466563</td>\n",
              "      <td>82461.600</td>\n",
              "    </tr>\n",
              "    <tr>\n",
              "      <th>5</th>\n",
              "      <td>0.50</td>\n",
              "      <td>0.500</td>\n",
              "      <td>7184</td>\n",
              "      <td>143680.00</td>\n",
              "      <td>2.000</td>\n",
              "      <td>0.333259</td>\n",
              "      <td>143678.000</td>\n",
              "    </tr>\n",
              "    <tr>\n",
              "      <th>4</th>\n",
              "      <td>0.40</td>\n",
              "      <td>0.400</td>\n",
              "      <td>13939</td>\n",
              "      <td>223024.00</td>\n",
              "      <td>1.600</td>\n",
              "      <td>0.222173</td>\n",
              "      <td>223022.400</td>\n",
              "    </tr>\n",
              "    <tr>\n",
              "      <th>3</th>\n",
              "      <td>0.30</td>\n",
              "      <td>0.300</td>\n",
              "      <td>23710</td>\n",
              "      <td>284520.00</td>\n",
              "      <td>1.200</td>\n",
              "      <td>0.133304</td>\n",
              "      <td>284518.800</td>\n",
              "    </tr>\n",
              "    <tr>\n",
              "      <th>2</th>\n",
              "      <td>0.20</td>\n",
              "      <td>0.200</td>\n",
              "      <td>33448</td>\n",
              "      <td>267584.00</td>\n",
              "      <td>0.800</td>\n",
              "      <td>0.066652</td>\n",
              "      <td>267583.200</td>\n",
              "    </tr>\n",
              "    <tr>\n",
              "      <th>1</th>\n",
              "      <td>0.10</td>\n",
              "      <td>0.100</td>\n",
              "      <td>38396</td>\n",
              "      <td>153584.00</td>\n",
              "      <td>0.400</td>\n",
              "      <td>0.022217</td>\n",
              "      <td>153583.600</td>\n",
              "    </tr>\n",
              "    <tr>\n",
              "      <th>0</th>\n",
              "      <td>0.01</td>\n",
              "      <td>0.000</td>\n",
              "      <td>190427</td>\n",
              "      <td>0.00</td>\n",
              "      <td>0.000</td>\n",
              "      <td>0.000000</td>\n",
              "      <td>0.000</td>\n",
              "    </tr>\n",
              "  </tbody>\n",
              "</table>\n",
              "</div>\n",
              "      <button class=\"colab-df-convert\" onclick=\"convertToInteractive('df-ac157fb7-81a9-4f48-b649-b851b85028bd')\"\n",
              "              title=\"Convert this dataframe to an interactive table.\"\n",
              "              style=\"display:none;\">\n",
              "        \n",
              "  <svg xmlns=\"http://www.w3.org/2000/svg\" height=\"24px\"viewBox=\"0 0 24 24\"\n",
              "       width=\"24px\">\n",
              "    <path d=\"M0 0h24v24H0V0z\" fill=\"none\"/>\n",
              "    <path d=\"M18.56 5.44l.94 2.06.94-2.06 2.06-.94-2.06-.94-.94-2.06-.94 2.06-2.06.94zm-11 1L8.5 8.5l.94-2.06 2.06-.94-2.06-.94L8.5 2.5l-.94 2.06-2.06.94zm10 10l.94 2.06.94-2.06 2.06-.94-2.06-.94-.94-2.06-.94 2.06-2.06.94z\"/><path d=\"M17.41 7.96l-1.37-1.37c-.4-.4-.92-.59-1.43-.59-.52 0-1.04.2-1.43.59L10.3 9.45l-7.72 7.72c-.78.78-.78 2.05 0 2.83L4 21.41c.39.39.9.59 1.41.59.51 0 1.02-.2 1.41-.59l7.78-7.78 2.81-2.81c.8-.78.8-2.07 0-2.86zM5.41 20L4 18.59l7.72-7.72 1.47 1.35L5.41 20z\"/>\n",
              "  </svg>\n",
              "      </button>\n",
              "      \n",
              "  <style>\n",
              "    .colab-df-container {\n",
              "      display:flex;\n",
              "      flex-wrap:wrap;\n",
              "      gap: 12px;\n",
              "    }\n",
              "\n",
              "    .colab-df-convert {\n",
              "      background-color: #E8F0FE;\n",
              "      border: none;\n",
              "      border-radius: 50%;\n",
              "      cursor: pointer;\n",
              "      display: none;\n",
              "      fill: #1967D2;\n",
              "      height: 32px;\n",
              "      padding: 0 0 0 0;\n",
              "      width: 32px;\n",
              "    }\n",
              "\n",
              "    .colab-df-convert:hover {\n",
              "      background-color: #E2EBFA;\n",
              "      box-shadow: 0px 1px 2px rgba(60, 64, 67, 0.3), 0px 1px 3px 1px rgba(60, 64, 67, 0.15);\n",
              "      fill: #174EA6;\n",
              "    }\n",
              "\n",
              "    [theme=dark] .colab-df-convert {\n",
              "      background-color: #3B4455;\n",
              "      fill: #D2E3FC;\n",
              "    }\n",
              "\n",
              "    [theme=dark] .colab-df-convert:hover {\n",
              "      background-color: #434B5C;\n",
              "      box-shadow: 0px 1px 3px 1px rgba(0, 0, 0, 0.15);\n",
              "      filter: drop-shadow(0px 1px 2px rgba(0, 0, 0, 0.3));\n",
              "      fill: #FFFFFF;\n",
              "    }\n",
              "  </style>\n",
              "\n",
              "      <script>\n",
              "        const buttonEl =\n",
              "          document.querySelector('#df-ac157fb7-81a9-4f48-b649-b851b85028bd button.colab-df-convert');\n",
              "        buttonEl.style.display =\n",
              "          google.colab.kernel.accessAllowed ? 'block' : 'none';\n",
              "\n",
              "        async function convertToInteractive(key) {\n",
              "          const element = document.querySelector('#df-ac157fb7-81a9-4f48-b649-b851b85028bd');\n",
              "          const dataTable =\n",
              "            await google.colab.kernel.invokeFunction('convertToInteractive',\n",
              "                                                     [key], {});\n",
              "          if (!dataTable) return;\n",
              "\n",
              "          const docLinkHtml = 'Like what you see? Visit the ' +\n",
              "            '<a target=\"_blank\" href=https://colab.research.google.com/notebooks/data_table.ipynb>data table notebook</a>'\n",
              "            + ' to learn more about interactive tables.';\n",
              "          element.innerHTML = '';\n",
              "          dataTable['output_type'] = 'display_data';\n",
              "          await google.colab.output.renderOutput(dataTable, element);\n",
              "          const docLink = document.createElement('div');\n",
              "          docLink.innerHTML = docLinkHtml;\n",
              "          element.appendChild(docLink);\n",
              "        }\n",
              "      </script>\n",
              "    </div>\n",
              "  </div>\n",
              "  "
            ]
          },
          "metadata": {},
          "execution_count": 243
        }
      ]
    },
    {
      "cell_type": "code",
      "source": [
        "plt.figure( figsize=(12,8))\n",
        "aux = df[df['propensity_score'] >= 0.1]\n",
        "sns.lineplot( x='base', y='revenue', data=aux )"
      ],
      "metadata": {
        "colab": {
          "base_uri": "https://localhost:8080/",
          "height": 515
        },
        "id": "QcYxasdsck7i",
        "outputId": "3ce3f7fc-f0c7-4d6b-853e-e885ca8ff580"
      },
      "execution_count": null,
      "outputs": [
        {
          "output_type": "execute_result",
          "data": {
            "text/plain": [
              "<matplotlib.axes._subplots.AxesSubplot at 0x7f18a28a1e90>"
            ]
          },
          "metadata": {},
          "execution_count": 244
        },
        {
          "output_type": "display_data",
          "data": {
            "text/plain": [
              "<Figure size 864x576 with 1 Axes>"
            ],
            "image/png": "[encoded data removed]"
          },
          "metadata": {
            "needs_background": "light"
          }
        }
      ]
    },
    {
      "cell_type": "markdown",
      "source": [
        "### 7.2 Bussiness analysis"
      ],
      "metadata": {
        "id": "i5ScN7oMiVrx"
      }
    }
  ]
}