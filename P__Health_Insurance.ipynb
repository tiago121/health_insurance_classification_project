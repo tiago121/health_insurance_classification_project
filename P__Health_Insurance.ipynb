{
  "nbformat": 4,
  "nbformat_minor": 0,
  "metadata": {
    "colab": {
      "name": "P_ Health_Insurance",
      "provenance": [],
      "collapsed_sections": [
        "1x6UU0cExDRv",
        "nCJ4KTXJxiKL",
        "EnJqQGkr1RZs",
        "ISWqq5aB1WFf",
        "TA8sxVxf1Z-0",
        "kepHWt-p_vdW"
      ],
      "authorship_tag": "ABX9TyORshegr3Hwf23Dfn3aPQam",
      "include_colab_link": true
    },
    "kernelspec": {
      "name": "python3",
      "display_name": "Python 3"
    },
    "language_info": {
      "name": "python"
    }
  },
  "cells": [
    {
      "cell_type": "markdown",
      "metadata": {
        "id": "view-in-github",
        "colab_type": "text"
      },
      "source": [
        "<a href=\"https://colab.research.google.com/github/tiago121/health_insurance_project/blob/main/P__Health_Insurance.ipynb\" target=\"_parent\"><img src=\"https://colab.research.google.com/assets/colab-badge.svg\" alt=\"Open In Colab\"/></a>"
      ]
    },
    {
      "cell_type": "code",
      "source": [
        "!pip install scikit-plot"
      ],
      "metadata": {
        "colab": {
          "base_uri": "https://localhost:8080/"
        },
        "id": "3-dFYw_Su5Sa",
        "outputId": "09266208-7fbd-47cf-8163-9972bfb82c8b"
      },
      "execution_count": null,
      "outputs": [
        {
          "output_type": "stream",
          "name": "stdout",
          "text": [
            "Looking in indexes: https://pypi.org/simple, https://us-python.pkg.dev/colab-wheels/public/simple/\n",
            "Requirement already satisfied: scikit-plot in /usr/local/lib/python3.7/dist-packages (0.3.7)\n",
            "Requirement already satisfied: matplotlib>=1.4.0 in /usr/local/lib/python3.7/dist-packages (from scikit-plot) (3.2.2)\n",
            "Requirement already satisfied: joblib>=0.10 in /usr/local/lib/python3.7/dist-packages (from scikit-plot) (1.1.0)\n",
            "Requirement already satisfied: scikit-learn>=0.18 in /usr/local/lib/python3.7/dist-packages (from scikit-plot) (1.0.2)\n",
            "Requirement already satisfied: scipy>=0.9 in /usr/local/lib/python3.7/dist-packages (from scikit-plot) (1.7.3)\n",
            "Requirement already satisfied: pyparsing!=2.0.4,!=2.1.2,!=2.1.6,>=2.0.1 in /usr/local/lib/python3.7/dist-packages (from matplotlib>=1.4.0->scikit-plot) (3.0.9)\n",
            "Requirement already satisfied: kiwisolver>=1.0.1 in /usr/local/lib/python3.7/dist-packages (from matplotlib>=1.4.0->scikit-plot) (1.4.4)\n",
            "Requirement already satisfied: cycler>=0.10 in /usr/local/lib/python3.7/dist-packages (from matplotlib>=1.4.0->scikit-plot) (0.11.0)\n",
            "Requirement already satisfied: numpy>=1.11 in /usr/local/lib/python3.7/dist-packages (from matplotlib>=1.4.0->scikit-plot) (1.21.6)\n",
            "Requirement already satisfied: python-dateutil>=2.1 in /usr/local/lib/python3.7/dist-packages (from matplotlib>=1.4.0->scikit-plot) (2.8.2)\n",
            "Requirement already satisfied: typing-extensions in /usr/local/lib/python3.7/dist-packages (from kiwisolver>=1.0.1->matplotlib>=1.4.0->scikit-plot) (4.1.1)\n",
            "Requirement already satisfied: six>=1.5 in /usr/local/lib/python3.7/dist-packages (from python-dateutil>=2.1->matplotlib>=1.4.0->scikit-plot) (1.15.0)\n",
            "Requirement already satisfied: threadpoolctl>=2.0.0 in /usr/local/lib/python3.7/dist-packages (from scikit-learn>=0.18->scikit-plot) (3.1.0)\n"
          ]
        }
      ]
    },
    {
      "cell_type": "code",
      "execution_count": null,
      "metadata": {
        "id": "QgFVa2GmusyI"
      },
      "outputs": [],
      "source": [
        "import numpy  as np\n",
        "import pandas as pd\n",
        "#import boruta as bt\n",
        "import scikitplot as skplt\n",
        "import pickle\n",
        "\n",
        "import seaborn as sns\n",
        "\n",
        "from matplotlib import pyplot as plt\n",
        "\n",
        "from sklearn import preprocessing   as pp\n",
        "from sklearn import linear_model    as lm\n",
        "from sklearn import model_selection as ms\n",
        "from sklearn import ensemble        as en\n",
        "from sklearn import neighbors       as nh"
      ]
    },
    {
      "cell_type": "code",
      "source": [
        "df1 = pd.read_csv('/content/trieno_health_insurance.csv')"
      ],
      "metadata": {
        "id": "YDA7QVScwAs8"
      },
      "execution_count": null,
      "outputs": []
    },
    {
      "cell_type": "code",
      "source": [
        "cols_new = ['id', 'gender', 'age', 'driving_license', 'region_code', 'previously_insured', 'vehicle_age', \n",
        "            'vehicle_damage', 'annual_premium', 'policy_sales_channel', 'vintage', 'response']\n",
        "\n",
        "# rename \n",
        "df1.columns = cols_new"
      ],
      "metadata": {
        "id": "9fZbr4sEuuhB"
      },
      "execution_count": null,
      "outputs": []
    },
    {
      "cell_type": "code",
      "source": [
        "num_attributes = df1.select_dtypes( include=['int64', 'float64'] )\n",
        "cat_attributes = df1.select_dtypes( exclude=['int64', 'float64', 'datetime64[ns]'])"
      ],
      "metadata": {
        "id": "Bj0A77SrvHoj"
      },
      "execution_count": null,
      "outputs": []
    },
    {
      "cell_type": "code",
      "source": [
        "df2 = df1.copy()\n",
        "\n",
        "# Vehicle Damage Number\n",
        "df2['vehicle_damage'] = df2['vehicle_damage'].apply( lambda x: 1 if x == 'Yes' else 0 )\n",
        "\n",
        "# Vehicle Age\n",
        "df2['vehicle_age'] =  df2['vehicle_age'].apply( lambda x: 'over_2_years' if x == '> 2 Years' else 'between_1_2_year' if x == '1-2 Year' else \"less_1_year\")"
      ],
      "metadata": {
        "id": "cwUPmr1AvHq7"
      },
      "execution_count": null,
      "outputs": []
    },
    {
      "cell_type": "code",
      "source": [
        "df2.head()"
      ],
      "metadata": {
        "colab": {
          "base_uri": "https://localhost:8080/",
          "height": 205
        },
        "id": "KHqjWM8tvHti",
        "outputId": "2ed65062-ac09-4370-ced8-b226f55eb76c"
      },
      "execution_count": null,
      "outputs": [
        {
          "output_type": "execute_result",
          "data": {
            "text/plain": [
              "   id  gender  age  driving_license  region_code  previously_insured  \\\n",
              "0   1    Male   44                1         28.0                   0   \n",
              "1   2    Male   76                1          3.0                   0   \n",
              "2   3    Male   47                1         28.0                   0   \n",
              "3   4    Male   21                1         11.0                   1   \n",
              "4   5  Female   29                1         41.0                   1   \n",
              "\n",
              "        vehicle_age  vehicle_damage  annual_premium  policy_sales_channel  \\\n",
              "0      over_2_years               1         40454.0                  26.0   \n",
              "1  between_1_2_year               0         33536.0                  26.0   \n",
              "2      over_2_years               1         38294.0                  26.0   \n",
              "3       less_1_year               0         28619.0                 152.0   \n",
              "4       less_1_year               0         27496.0                 152.0   \n",
              "\n",
              "   vintage  response  \n",
              "0      217         1  \n",
              "1      183         0  \n",
              "2       27         1  \n",
              "3      203         0  \n",
              "4       39         0  "
            ],
            "text/html": [
              "\n",
              "  <div id=\"df-c1de19b1-66f0-4b6f-a68b-72565355d8a1\">\n",
              "    <div class=\"colab-df-container\">\n",
              "      <div>\n",
              "<style scoped>\n",
              "    .dataframe tbody tr th:only-of-type {\n",
              "        vertical-align: middle;\n",
              "    }\n",
              "\n",
              "    .dataframe tbody tr th {\n",
              "        vertical-align: top;\n",
              "    }\n",
              "\n",
              "    .dataframe thead th {\n",
              "        text-align: right;\n",
              "    }\n",
              "</style>\n",
              "<table border=\"1\" class=\"dataframe\">\n",
              "  <thead>\n",
              "    <tr style=\"text-align: right;\">\n",
              "      <th></th>\n",
              "      <th>id</th>\n",
              "      <th>gender</th>\n",
              "      <th>age</th>\n",
              "      <th>driving_license</th>\n",
              "      <th>region_code</th>\n",
              "      <th>previously_insured</th>\n",
              "      <th>vehicle_age</th>\n",
              "      <th>vehicle_damage</th>\n",
              "      <th>annual_premium</th>\n",
              "      <th>policy_sales_channel</th>\n",
              "      <th>vintage</th>\n",
              "      <th>response</th>\n",
              "    </tr>\n",
              "  </thead>\n",
              "  <tbody>\n",
              "    <tr>\n",
              "      <th>0</th>\n",
              "      <td>1</td>\n",
              "      <td>Male</td>\n",
              "      <td>44</td>\n",
              "      <td>1</td>\n",
              "      <td>28.0</td>\n",
              "      <td>0</td>\n",
              "      <td>over_2_years</td>\n",
              "      <td>1</td>\n",
              "      <td>40454.0</td>\n",
              "      <td>26.0</td>\n",
              "      <td>217</td>\n",
              "      <td>1</td>\n",
              "    </tr>\n",
              "    <tr>\n",
              "      <th>1</th>\n",
              "      <td>2</td>\n",
              "      <td>Male</td>\n",
              "      <td>76</td>\n",
              "      <td>1</td>\n",
              "      <td>3.0</td>\n",
              "      <td>0</td>\n",
              "      <td>between_1_2_year</td>\n",
              "      <td>0</td>\n",
              "      <td>33536.0</td>\n",
              "      <td>26.0</td>\n",
              "      <td>183</td>\n",
              "      <td>0</td>\n",
              "    </tr>\n",
              "    <tr>\n",
              "      <th>2</th>\n",
              "      <td>3</td>\n",
              "      <td>Male</td>\n",
              "      <td>47</td>\n",
              "      <td>1</td>\n",
              "      <td>28.0</td>\n",
              "      <td>0</td>\n",
              "      <td>over_2_years</td>\n",
              "      <td>1</td>\n",
              "      <td>38294.0</td>\n",
              "      <td>26.0</td>\n",
              "      <td>27</td>\n",
              "      <td>1</td>\n",
              "    </tr>\n",
              "    <tr>\n",
              "      <th>3</th>\n",
              "      <td>4</td>\n",
              "      <td>Male</td>\n",
              "      <td>21</td>\n",
              "      <td>1</td>\n",
              "      <td>11.0</td>\n",
              "      <td>1</td>\n",
              "      <td>less_1_year</td>\n",
              "      <td>0</td>\n",
              "      <td>28619.0</td>\n",
              "      <td>152.0</td>\n",
              "      <td>203</td>\n",
              "      <td>0</td>\n",
              "    </tr>\n",
              "    <tr>\n",
              "      <th>4</th>\n",
              "      <td>5</td>\n",
              "      <td>Female</td>\n",
              "      <td>29</td>\n",
              "      <td>1</td>\n",
              "      <td>41.0</td>\n",
              "      <td>1</td>\n",
              "      <td>less_1_year</td>\n",
              "      <td>0</td>\n",
              "      <td>27496.0</td>\n",
              "      <td>152.0</td>\n",
              "      <td>39</td>\n",
              "      <td>0</td>\n",
              "    </tr>\n",
              "  </tbody>\n",
              "</table>\n",
              "</div>\n",
              "      <button class=\"colab-df-convert\" onclick=\"convertToInteractive('df-c1de19b1-66f0-4b6f-a68b-72565355d8a1')\"\n",
              "              title=\"Convert this dataframe to an interactive table.\"\n",
              "              style=\"display:none;\">\n",
              "        \n",
              "  <svg xmlns=\"http://www.w3.org/2000/svg\" height=\"24px\"viewBox=\"0 0 24 24\"\n",
              "       width=\"24px\">\n",
              "    <path d=\"M0 0h24v24H0V0z\" fill=\"none\"/>\n",
              "    <path d=\"M18.56 5.44l.94 2.06.94-2.06 2.06-.94-2.06-.94-.94-2.06-.94 2.06-2.06.94zm-11 1L8.5 8.5l.94-2.06 2.06-.94-2.06-.94L8.5 2.5l-.94 2.06-2.06.94zm10 10l.94 2.06.94-2.06 2.06-.94-2.06-.94-.94-2.06-.94 2.06-2.06.94z\"/><path d=\"M17.41 7.96l-1.37-1.37c-.4-.4-.92-.59-1.43-.59-.52 0-1.04.2-1.43.59L10.3 9.45l-7.72 7.72c-.78.78-.78 2.05 0 2.83L4 21.41c.39.39.9.59 1.41.59.51 0 1.02-.2 1.41-.59l7.78-7.78 2.81-2.81c.8-.78.8-2.07 0-2.86zM5.41 20L4 18.59l7.72-7.72 1.47 1.35L5.41 20z\"/>\n",
              "  </svg>\n",
              "      </button>\n",
              "      \n",
              "  <style>\n",
              "    .colab-df-container {\n",
              "      display:flex;\n",
              "      flex-wrap:wrap;\n",
              "      gap: 12px;\n",
              "    }\n",
              "\n",
              "    .colab-df-convert {\n",
              "      background-color: #E8F0FE;\n",
              "      border: none;\n",
              "      border-radius: 50%;\n",
              "      cursor: pointer;\n",
              "      display: none;\n",
              "      fill: #1967D2;\n",
              "      height: 32px;\n",
              "      padding: 0 0 0 0;\n",
              "      width: 32px;\n",
              "    }\n",
              "\n",
              "    .colab-df-convert:hover {\n",
              "      background-color: #E2EBFA;\n",
              "      box-shadow: 0px 1px 2px rgba(60, 64, 67, 0.3), 0px 1px 3px 1px rgba(60, 64, 67, 0.15);\n",
              "      fill: #174EA6;\n",
              "    }\n",
              "\n",
              "    [theme=dark] .colab-df-convert {\n",
              "      background-color: #3B4455;\n",
              "      fill: #D2E3FC;\n",
              "    }\n",
              "\n",
              "    [theme=dark] .colab-df-convert:hover {\n",
              "      background-color: #434B5C;\n",
              "      box-shadow: 0px 1px 3px 1px rgba(0, 0, 0, 0.15);\n",
              "      filter: drop-shadow(0px 1px 2px rgba(0, 0, 0, 0.3));\n",
              "      fill: #FFFFFF;\n",
              "    }\n",
              "  </style>\n",
              "\n",
              "      <script>\n",
              "        const buttonEl =\n",
              "          document.querySelector('#df-c1de19b1-66f0-4b6f-a68b-72565355d8a1 button.colab-df-convert');\n",
              "        buttonEl.style.display =\n",
              "          google.colab.kernel.accessAllowed ? 'block' : 'none';\n",
              "\n",
              "        async function convertToInteractive(key) {\n",
              "          const element = document.querySelector('#df-c1de19b1-66f0-4b6f-a68b-72565355d8a1');\n",
              "          const dataTable =\n",
              "            await google.colab.kernel.invokeFunction('convertToInteractive',\n",
              "                                                     [key], {});\n",
              "          if (!dataTable) return;\n",
              "\n",
              "          const docLinkHtml = 'Like what you see? Visit the ' +\n",
              "            '<a target=\"_blank\" href=https://colab.research.google.com/notebooks/data_table.ipynb>data table notebook</a>'\n",
              "            + ' to learn more about interactive tables.';\n",
              "          element.innerHTML = '';\n",
              "          dataTable['output_type'] = 'display_data';\n",
              "          await google.colab.output.renderOutput(dataTable, element);\n",
              "          const docLink = document.createElement('div');\n",
              "          docLink.innerHTML = docLinkHtml;\n",
              "          element.appendChild(docLink);\n",
              "        }\n",
              "      </script>\n",
              "    </div>\n",
              "  </div>\n",
              "  "
            ]
          },
          "metadata": {},
          "execution_count": 112
        }
      ]
    },
    {
      "cell_type": "code",
      "source": [
        "df2['response'].value_counts(normalize=True)"
      ],
      "metadata": {
        "colab": {
          "base_uri": "https://localhost:8080/"
        },
        "id": "rmtimGaYGw7c",
        "outputId": "e6573eb0-4171-4c91-adc1-178ed8882ae6"
      },
      "execution_count": null,
      "outputs": [
        {
          "output_type": "execute_result",
          "data": {
            "text/plain": [
              "0    0.877437\n",
              "1    0.122563\n",
              "Name: response, dtype: float64"
            ]
          },
          "metadata": {},
          "execution_count": 147
        }
      ]
    },
    {
      "cell_type": "code",
      "source": [
        "df5 = df2.copy()"
      ],
      "metadata": {
        "id": "demuarENvHwK"
      },
      "execution_count": null,
      "outputs": []
    },
    {
      "cell_type": "markdown",
      "source": [
        "## Data Preparation"
      ],
      "metadata": {
        "id": "RvdhTiLbw8QM"
      }
    },
    {
      "cell_type": "code",
      "source": [
        "X = df2.drop( 'response', axis=1 )\n",
        "y = df2['response'].copy() \n",
        "\n",
        "x_train, x_validation, y_train, y_validation = ms.train_test_split( X, y, test_size=0.90 )\n",
        "\n",
        "df5 = pd.concat( [x_train, y_train], axis=1 )"
      ],
      "metadata": {
        "id": "XUJJccPPvHyz"
      },
      "execution_count": null,
      "outputs": []
    },
    {
      "cell_type": "code",
      "source": [
        "ss = pp.StandardScaler()\n",
        "\n",
        "# annual_premium\n",
        "df5['annual_premium'] = ss.fit_transform( df5[['annual_premium']].values )"
      ],
      "metadata": {
        "id": "cQf_tiH3vH1i"
      },
      "execution_count": null,
      "outputs": []
    },
    {
      "cell_type": "code",
      "source": [
        "mms_age = pp.MinMaxScaler()\n",
        "mms_vintage = pp.MinMaxScaler()\n",
        "\n",
        "# Age\n",
        "df5['age'] = mms_age.fit_transform( df5[['age']].values )\n",
        "\n",
        "# vintage\n",
        "df5['vintage'] = mms_vintage.fit_transform( df5[['vintage']].values)"
      ],
      "metadata": {
        "id": "C6aXvFX9vH4S"
      },
      "execution_count": null,
      "outputs": []
    },
    {
      "cell_type": "code",
      "source": [
        "# gender - One Hot Encoding / Target Encoding\n",
        "target_encode_gender = df5.groupby( 'gender' )['response'].mean()\n",
        "df5.loc[:, 'gender'] = df5['gender'].map( target_encode_gender )\n",
        "\n",
        "# region_code - Target Encoding / Frequency Encoding\n",
        "target_encode_region_code = df5.groupby( 'region_code' )['response'].mean()\n",
        "df5.loc[:, 'region_code'] = df5['region_code'].map( target_encode_region_code )\n",
        "\n",
        "# vehicle_age - One Hot Encoding / Frequency Encoding\n",
        "df5 = pd.get_dummies( df5, prefix='vehicle_age', columns=['vehicle_age'] )\n",
        "\n",
        "# policy_sales_channel - Target Encoding / Frequency Encoding\n",
        "fe_policy_sales_channel = df5.groupby( 'policy_sales_channel' ).size() / len( df5 ) \n",
        "df5.loc[:, 'policy_sales_channel'] = df5['policy_sales_channel'].map( fe_policy_sales_channel )"
      ],
      "metadata": {
        "id": "jsn_nXcrvH7C"
      },
      "execution_count": null,
      "outputs": []
    },
    {
      "cell_type": "code",
      "source": [
        "# gender\n",
        "x_validation.loc[:, 'gender'] =  x_validation.loc[:, 'gender'].map( target_encode_gender )\n",
        "\n",
        "# age\n",
        "x_validation.loc[:, 'age'] = mms_age.transform( x_validation[['age']].values )\n",
        "\n",
        "# region_code\n",
        "x_validation.loc[:, 'region_code'] = x_validation.loc[:, 'region_code'].map( target_encode_region_code )\n",
        "\n",
        "# vehicle_age\n",
        "x_validation = pd.get_dummies( x_validation, prefix='vehicle_age', columns=['vehicle_age'] )\n",
        "\n",
        "# annual_premium\n",
        "x_validation.loc[:, 'annual_premium'] = ss.transform( x_validation[['annual_premium']].values )\n",
        "\n",
        "# policy_sales_channel\n",
        "x_validation.loc[:, 'policy_sales_channel'] = x_validation['policy_sales_channel'].map( fe_policy_sales_channel )\n",
        "\n",
        "# vintage\n",
        "x_validation.loc[:, 'vintage'] = mms_vintage.transform( x_validation[['vintage']].values )\n",
        "\n",
        "# fillna\n",
        "x_validation = x_validation.fillna( 0 )"
      ],
      "metadata": {
        "id": "VP8K07jTvH9y"
      },
      "execution_count": null,
      "outputs": []
    },
    {
      "cell_type": "markdown",
      "source": [
        "## Models"
      ],
      "metadata": {
        "id": "1x6UU0cExDRv"
      }
    },
    {
      "cell_type": "code",
      "source": [
        "cols_selected = ['annual_premium', 'vintage', 'age', 'region_code', 'vehicle_damage', 'previously_insured',\n",
        "                 'policy_sales_channel']\n",
        "\n",
        "x_train = df5[ cols_selected ]\n",
        "x_val = x_validation[ cols_selected ]\n",
        "y_val = y_validation.copy()"
      ],
      "metadata": {
        "id": "n6Na0Xd4vIAX"
      },
      "execution_count": null,
      "outputs": []
    },
    {
      "cell_type": "code",
      "source": [
        "# model definition\n",
        "knn_model = nh.KNeighborsClassifier( n_neighbors=7 )\n",
        "\n",
        "# model training\n",
        "knn_model.fit( x_train, y_train )\n",
        "\n",
        "# model prediction - Poder de GENERALIZACAO \n",
        "yhat_knn = knn_model.predict_proba( x_val )"
      ],
      "metadata": {
        "id": "6daWQbqfvIDb"
      },
      "execution_count": null,
      "outputs": []
    },
    {
      "cell_type": "code",
      "source": [
        " # Accumulative Gain\n",
        "skplt.metrics.plot_cumulative_gain( y_val, yhat_knn );"
      ],
      "metadata": {
        "colab": {
          "base_uri": "https://localhost:8080/",
          "height": 295
        },
        "id": "Jtc-X8J3xIUA",
        "outputId": "70ee9889-ffa4-4823-c7fc-864621fb1198"
      },
      "execution_count": null,
      "outputs": [
        {
          "output_type": "display_data",
          "data": {
            "text/plain": [
              "<Figure size 432x288 with 1 Axes>"
            ],
            "image/png": "[encoded data removed]"
          },
          "metadata": {
            "needs_background": "light"
          }
        }
      ]
    },
    {
      "cell_type": "code",
      "source": [
        "# model definition\n",
        "lr_model = lm.LogisticRegression( random_state=42 ) \n",
        "\n",
        "# model training\n",
        "lr_model.fit( x_train, y_train )\n",
        "\n",
        "# model prediction\n",
        "yhat_lr = lr_model.predict_proba( x_val )\n",
        "\n",
        "# Accumulative Gain\n",
        "skplt.metrics.plot_cumulative_gain( y_val, yhat_lr );"
      ],
      "metadata": {
        "colab": {
          "base_uri": "https://localhost:8080/",
          "height": 295
        },
        "id": "Mwo_7VqvxIWo",
        "outputId": "742d5a86-87b9-47d1-f565-4acc8aabc2b4"
      },
      "execution_count": null,
      "outputs": [
        {
          "output_type": "display_data",
          "data": {
            "text/plain": [
              "<Figure size 432x288 with 1 Axes>"
            ],
            "image/png": "[encoded data removed]"
          },
          "metadata": {
            "needs_background": "light"
          }
        }
      ]
    },
    {
      "cell_type": "code",
      "source": [
        "# model definition\n",
        "lr_model = lm.LogisticRegression( random_state=42 ) \n",
        "\n",
        "# model training\n",
        "lr_model.fit( x_train, y_train )\n",
        "\n",
        "# model prediction\n",
        "yhat_lr = lr_model.predict_proba( x_val )\n",
        "\n",
        "# Accumulative Gain\n",
        "skplt.metrics.plot_cumulative_gain( y_val, yhat_lr );"
      ],
      "metadata": {
        "colab": {
          "base_uri": "https://localhost:8080/",
          "height": 295
        },
        "id": "C6R13ASqxIY9",
        "outputId": "e07bda79-8fcc-4c45-ed21-973ffb61e219"
      },
      "execution_count": null,
      "outputs": [
        {
          "output_type": "display_data",
          "data": {
            "text/plain": [
              "<Figure size 432x288 with 1 Axes>"
            ],
            "image/png": "[encoded data removed]"
          },
          "metadata": {
            "needs_background": "light"
          }
        }
      ]
    },
    {
      "cell_type": "code",
      "source": [
        "# model definition\n",
        "lr_model = lm.LogisticRegression( random_state=42 ) \n",
        "\n",
        "# model training\n",
        "lr_model.fit( x_train, y_train )\n",
        "\n",
        "# model prediction\n",
        "yhat_lr = lr_model.predict_proba( x_val )\n",
        "\n",
        "# Accumulative Gain\n",
        "skplt.metrics.plot_cumulative_gain( y_val, yhat_lr );"
      ],
      "metadata": {
        "colab": {
          "base_uri": "https://localhost:8080/",
          "height": 295
        },
        "id": "HhhhWRVaxIjL",
        "outputId": "31c06eff-1ee4-421a-de09-bc6304372a76"
      },
      "execution_count": null,
      "outputs": [
        {
          "output_type": "display_data",
          "data": {
            "text/plain": [
              "<Figure size 432x288 with 1 Axes>"
            ],
            "image/png": "[encoded data removed]"
          },
          "metadata": {
            "needs_background": "light"
          }
        }
      ]
    },
    {
      "cell_type": "code",
      "source": [
        "# model definition\n",
        "rf = en.RandomForestClassifier( n_estimators=1000, n_jobs=-1, random_state=42 ) \n",
        "\n",
        "# model training\n",
        "rf.fit( x_train, y_train )\n",
        "\n",
        "# model prediction\n",
        "yhat_rf = rf.predict_proba( x_val )"
      ],
      "metadata": {
        "id": "Y8pJUaV-yXSG"
      },
      "execution_count": null,
      "outputs": []
    },
    {
      "cell_type": "code",
      "source": [
        "# Accumulative Gain\n",
        "skplt.metrics.plot_cumulative_gain( y_val, yhat_rf );"
      ],
      "metadata": {
        "colab": {
          "base_uri": "https://localhost:8080/",
          "height": 295
        },
        "id": "913q1VYJyabl",
        "outputId": "36f80fe8-64ea-4803-fc34-83a7a76535fe"
      },
      "execution_count": null,
      "outputs": [
        {
          "output_type": "display_data",
          "data": {
            "text/plain": [
              "<Figure size 432x288 with 1 Axes>"
            ],
            "image/png": "[encoded data removed]"
          },
          "metadata": {
            "needs_background": "light"
          }
        }
      ]
    },
    {
      "cell_type": "code",
      "source": [
        "#Scikitplot library is there to help\n",
        "skplt.metrics.plot_lift_curve( y_val, yhat_rf );"
      ],
      "metadata": {
        "colab": {
          "base_uri": "https://localhost:8080/",
          "height": 295
        },
        "id": "Z3GdpdP4zjyY",
        "outputId": "13b98c1d-100f-4a13-e335-b794d9656fca"
      },
      "execution_count": null,
      "outputs": [
        {
          "output_type": "display_data",
          "data": {
            "text/plain": [
              "<Figure size 432x288 with 1 Axes>"
            ],
            "image/png": "[encoded data removed]"
          },
          "metadata": {
            "needs_background": "light"
          }
        }
      ]
    },
    {
      "cell_type": "code",
      "source": [
        "len(yhat_rf)"
      ],
      "metadata": {
        "colab": {
          "base_uri": "https://localhost:8080/"
        },
        "id": "PJWOeJuYBHER",
        "outputId": "a80c93fd-6d74-44be-b9b2-3457d65e500e"
      },
      "execution_count": null,
      "outputs": [
        {
          "output_type": "execute_result",
          "data": {
            "text/plain": [
              "342999"
            ]
          },
          "metadata": {},
          "execution_count": 128
        }
      ]
    },
    {
      "cell_type": "code",
      "source": [
        "len(y_val)"
      ],
      "metadata": {
        "colab": {
          "base_uri": "https://localhost:8080/"
        },
        "id": "kJ4sSUzKBZK7",
        "outputId": "2be191ae-39a3-42cf-8411-41f191b4624b"
      },
      "execution_count": null,
      "outputs": [
        {
          "output_type": "execute_result",
          "data": {
            "text/plain": [
              "342999"
            ]
          },
          "metadata": {},
          "execution_count": 129
        }
      ]
    },
    {
      "cell_type": "markdown",
      "source": [
        "## Model Performance"
      ],
      "metadata": {
        "id": "nCJ4KTXJxiKL"
      }
    },
    {
      "cell_type": "code",
      "source": [
        "def precision_at_k( data, k=10 ):\n",
        "    data = data.reset_index( drop=True )\n",
        "    data['ranking'] = data.index + 1\n",
        "    \n",
        "    data['precision_at_k'] = data['response'].cumsum() / data['ranking']\n",
        "    \n",
        "    return ( data.loc[ k, 'precision_at_k'], data )"
      ],
      "metadata": {
        "id": "h5rioHqfxIl4"
      },
      "execution_count": null,
      "outputs": []
    },
    {
      "cell_type": "code",
      "source": [
        "def recall_at_k( data, k=15 ):\n",
        "    data = data.reset_index( drop=True )\n",
        "    data['ranking'] = data.index + 1\n",
        "    \n",
        "    data['recall_at_k'] = data['response'].cumsum() / data['response'].sum()\n",
        "    \n",
        "    return ( data.loc[ k, 'recall_at_k'], data )"
      ],
      "metadata": {
        "id": "c9P7cgnzxIoK"
      },
      "execution_count": null,
      "outputs": []
    },
    {
      "cell_type": "code",
      "source": [
        "# copy dataframe\n",
        "df8 = x_validation.copy()\n",
        "df8['response'] = y_validation.copy()\n",
        "\n",
        "# propensity score\n",
        "df8['score'] = yhat_rf[:, 1].tolist()\n",
        "\n",
        "# sort clients by propensity score\n",
        "df8 = df8.sort_values( 'score', ascending=False )\n",
        "\n",
        "# compute precision at k \n",
        "precision_at_20, data = precision_at_k( df8, k=20 )\n",
        "\n",
        "# compute recall at k\n",
        "recall_at_15, data = recall_at_k( df8, k=15 )"
      ],
      "metadata": {
        "id": "gZiYrIN8vIKK"
      },
      "execution_count": null,
      "outputs": []
    },
    {
      "cell_type": "code",
      "source": [
        ""
      ],
      "metadata": {
        "id": "3tVk0Zp92tT8"
      },
      "execution_count": null,
      "outputs": []
    },
    {
      "cell_type": "code",
      "source": [
        "import numpy as np\n",
        "from sklearn.metrics import top_k_accuracy_score\n",
        "\n",
        "y_true = np.array([0, 1, 2, 2])\n",
        "y_score = np.array([[0.5, 0.2, 0.2],  # 0 is in top 2\n",
        "                    [0.3, 0.4, 0.2],  # 1 is in top 2\n",
        "                    [0.2, 0.4, 0.3],  # 2 is in top 2\n",
        "                    [0.7, 0.2, 0.1]]) # 2 isn't in top 2\n",
        "\n",
        "top_k_accuracy_score(y_true, y_score, k=2)"
      ],
      "metadata": {
        "colab": {
          "base_uri": "https://localhost:8080/"
        },
        "id": "Rl4OVEnrywwJ",
        "outputId": "a4a5e78b-d555-4edc-a22c-9172b435bc3c"
      },
      "execution_count": null,
      "outputs": [
        {
          "output_type": "execute_result",
          "data": {
            "text/plain": [
              "0.75"
            ]
          },
          "metadata": {},
          "execution_count": 133
        }
      ]
    },
    {
      "cell_type": "code",
      "source": [
        "y_true = np.array( [1, 0, 1, 1, 0, 1, 0, 0] )\n",
        "y_score = np.array( [])"
      ],
      "metadata": {
        "id": "J_3xXOQEywy3"
      },
      "execution_count": null,
      "outputs": []
    },
    {
      "cell_type": "markdown",
      "source": [
        "## Cummulative Curve Manually"
      ],
      "metadata": {
        "id": "EnJqQGkr1RZs"
      }
    },
    {
      "cell_type": "code",
      "source": [
        "results = pd.DataFrame()\n",
        "results['prediction'] = yhat_rf[:,1].tolist()\n",
        "results['real'] = y_val.tolist()\n",
        "\n",
        "# ordering by prediction\n",
        "results = results.sort_values( 'prediction', ascending=False )\n",
        "\n",
        "# Percentage of intereset ( Propensity Score )\n",
        "results['real_cum'] = results['real'].cumsum() \n",
        "results['real_cum_perc'] = 100*results['real_cum']/results['real'].sum()\n",
        "\n",
        "# Percentage of Base ( Clients )\n",
        "results['base'] = range( 1, len( results ) + 1  )\n",
        "results['base_cum_perc'] = 100*results['base']/len( results )\n",
        "\n",
        "# Basline model\n",
        "results['baseline'] = results['base_cum_perc']\n",
        "\n",
        "plt.figure( figsize=(12,8))\n",
        "sns.lineplot( x='base_cum_perc', y='real_cum_perc', data=results )\n",
        "sns.lineplot( x='base_cum_perc', y='baseline', data=results )"
      ],
      "metadata": {
        "colab": {
          "base_uri": "https://localhost:8080/",
          "height": 516
        },
        "id": "8olri7qhyw1q",
        "outputId": "d6fb6332-2dc6-4331-a894-92793c135b7c"
      },
      "execution_count": null,
      "outputs": [
        {
          "output_type": "execute_result",
          "data": {
            "text/plain": [
              "<matplotlib.axes._subplots.AxesSubplot at 0x7f914a8f1b90>"
            ]
          },
          "metadata": {},
          "execution_count": 135
        },
        {
          "output_type": "display_data",
          "data": {
            "text/plain": [
              "<Figure size 864x576 with 1 Axes>"
            ],
            "image/png": "[encoded data removed]"
          },
          "metadata": {
            "needs_background": "light"
          }
        }
      ]
    },
    {
      "cell_type": "code",
      "source": [
        "results.head(12)"
      ],
      "metadata": {
        "colab": {
          "base_uri": "https://localhost:8080/",
          "height": 425
        },
        "id": "1p7M6RSx2SJs",
        "outputId": "23c4faa0-054c-4e31-dc0c-209a79f4f6b7"
      },
      "execution_count": null,
      "outputs": [
        {
          "output_type": "execute_result",
          "data": {
            "text/plain": [
              "        prediction  real  real_cum  real_cum_perc  base  base_cum_perc  \\\n",
              "123190       0.924     0         0       0.000000     1       0.000292   \n",
              "257391       0.914     1         1       0.002375     2       0.000583   \n",
              "242612       0.901     0         1       0.002375     3       0.000875   \n",
              "272058       0.889     0         1       0.002375     4       0.001166   \n",
              "206731       0.887     1         2       0.004751     5       0.001458   \n",
              "285130       0.883     1         3       0.007126     6       0.001749   \n",
              "23950        0.877     0         3       0.007126     7       0.002041   \n",
              "116332       0.874     1         4       0.009501     8       0.002332   \n",
              "76181        0.873     1         5       0.011876     9       0.002624   \n",
              "68950        0.869     1         6       0.014252    10       0.002915   \n",
              "175959       0.869     1         7       0.016627    11       0.003207   \n",
              "319007       0.866     0         7       0.016627    12       0.003499   \n",
              "\n",
              "        baseline  \n",
              "123190  0.000292  \n",
              "257391  0.000583  \n",
              "242612  0.000875  \n",
              "272058  0.001166  \n",
              "206731  0.001458  \n",
              "285130  0.001749  \n",
              "23950   0.002041  \n",
              "116332  0.002332  \n",
              "76181   0.002624  \n",
              "68950   0.002915  \n",
              "175959  0.003207  \n",
              "319007  0.003499  "
            ],
            "text/html": [
              "\n",
              "  <div id=\"df-3d3adc9a-e362-4e20-9c73-fe7907cecddc\">\n",
              "    <div class=\"colab-df-container\">\n",
              "      <div>\n",
              "<style scoped>\n",
              "    .dataframe tbody tr th:only-of-type {\n",
              "        vertical-align: middle;\n",
              "    }\n",
              "\n",
              "    .dataframe tbody tr th {\n",
              "        vertical-align: top;\n",
              "    }\n",
              "\n",
              "    .dataframe thead th {\n",
              "        text-align: right;\n",
              "    }\n",
              "</style>\n",
              "<table border=\"1\" class=\"dataframe\">\n",
              "  <thead>\n",
              "    <tr style=\"text-align: right;\">\n",
              "      <th></th>\n",
              "      <th>prediction</th>\n",
              "      <th>real</th>\n",
              "      <th>real_cum</th>\n",
              "      <th>real_cum_perc</th>\n",
              "      <th>base</th>\n",
              "      <th>base_cum_perc</th>\n",
              "      <th>baseline</th>\n",
              "    </tr>\n",
              "  </thead>\n",
              "  <tbody>\n",
              "    <tr>\n",
              "      <th>123190</th>\n",
              "      <td>0.924</td>\n",
              "      <td>0</td>\n",
              "      <td>0</td>\n",
              "      <td>0.000000</td>\n",
              "      <td>1</td>\n",
              "      <td>0.000292</td>\n",
              "      <td>0.000292</td>\n",
              "    </tr>\n",
              "    <tr>\n",
              "      <th>257391</th>\n",
              "      <td>0.914</td>\n",
              "      <td>1</td>\n",
              "      <td>1</td>\n",
              "      <td>0.002375</td>\n",
              "      <td>2</td>\n",
              "      <td>0.000583</td>\n",
              "      <td>0.000583</td>\n",
              "    </tr>\n",
              "    <tr>\n",
              "      <th>242612</th>\n",
              "      <td>0.901</td>\n",
              "      <td>0</td>\n",
              "      <td>1</td>\n",
              "      <td>0.002375</td>\n",
              "      <td>3</td>\n",
              "      <td>0.000875</td>\n",
              "      <td>0.000875</td>\n",
              "    </tr>\n",
              "    <tr>\n",
              "      <th>272058</th>\n",
              "      <td>0.889</td>\n",
              "      <td>0</td>\n",
              "      <td>1</td>\n",
              "      <td>0.002375</td>\n",
              "      <td>4</td>\n",
              "      <td>0.001166</td>\n",
              "      <td>0.001166</td>\n",
              "    </tr>\n",
              "    <tr>\n",
              "      <th>206731</th>\n",
              "      <td>0.887</td>\n",
              "      <td>1</td>\n",
              "      <td>2</td>\n",
              "      <td>0.004751</td>\n",
              "      <td>5</td>\n",
              "      <td>0.001458</td>\n",
              "      <td>0.001458</td>\n",
              "    </tr>\n",
              "    <tr>\n",
              "      <th>285130</th>\n",
              "      <td>0.883</td>\n",
              "      <td>1</td>\n",
              "      <td>3</td>\n",
              "      <td>0.007126</td>\n",
              "      <td>6</td>\n",
              "      <td>0.001749</td>\n",
              "      <td>0.001749</td>\n",
              "    </tr>\n",
              "    <tr>\n",
              "      <th>23950</th>\n",
              "      <td>0.877</td>\n",
              "      <td>0</td>\n",
              "      <td>3</td>\n",
              "      <td>0.007126</td>\n",
              "      <td>7</td>\n",
              "      <td>0.002041</td>\n",
              "      <td>0.002041</td>\n",
              "    </tr>\n",
              "    <tr>\n",
              "      <th>116332</th>\n",
              "      <td>0.874</td>\n",
              "      <td>1</td>\n",
              "      <td>4</td>\n",
              "      <td>0.009501</td>\n",
              "      <td>8</td>\n",
              "      <td>0.002332</td>\n",
              "      <td>0.002332</td>\n",
              "    </tr>\n",
              "    <tr>\n",
              "      <th>76181</th>\n",
              "      <td>0.873</td>\n",
              "      <td>1</td>\n",
              "      <td>5</td>\n",
              "      <td>0.011876</td>\n",
              "      <td>9</td>\n",
              "      <td>0.002624</td>\n",
              "      <td>0.002624</td>\n",
              "    </tr>\n",
              "    <tr>\n",
              "      <th>68950</th>\n",
              "      <td>0.869</td>\n",
              "      <td>1</td>\n",
              "      <td>6</td>\n",
              "      <td>0.014252</td>\n",
              "      <td>10</td>\n",
              "      <td>0.002915</td>\n",
              "      <td>0.002915</td>\n",
              "    </tr>\n",
              "    <tr>\n",
              "      <th>175959</th>\n",
              "      <td>0.869</td>\n",
              "      <td>1</td>\n",
              "      <td>7</td>\n",
              "      <td>0.016627</td>\n",
              "      <td>11</td>\n",
              "      <td>0.003207</td>\n",
              "      <td>0.003207</td>\n",
              "    </tr>\n",
              "    <tr>\n",
              "      <th>319007</th>\n",
              "      <td>0.866</td>\n",
              "      <td>0</td>\n",
              "      <td>7</td>\n",
              "      <td>0.016627</td>\n",
              "      <td>12</td>\n",
              "      <td>0.003499</td>\n",
              "      <td>0.003499</td>\n",
              "    </tr>\n",
              "  </tbody>\n",
              "</table>\n",
              "</div>\n",
              "      <button class=\"colab-df-convert\" onclick=\"convertToInteractive('df-3d3adc9a-e362-4e20-9c73-fe7907cecddc')\"\n",
              "              title=\"Convert this dataframe to an interactive table.\"\n",
              "              style=\"display:none;\">\n",
              "        \n",
              "  <svg xmlns=\"http://www.w3.org/2000/svg\" height=\"24px\"viewBox=\"0 0 24 24\"\n",
              "       width=\"24px\">\n",
              "    <path d=\"M0 0h24v24H0V0z\" fill=\"none\"/>\n",
              "    <path d=\"M18.56 5.44l.94 2.06.94-2.06 2.06-.94-2.06-.94-.94-2.06-.94 2.06-2.06.94zm-11 1L8.5 8.5l.94-2.06 2.06-.94-2.06-.94L8.5 2.5l-.94 2.06-2.06.94zm10 10l.94 2.06.94-2.06 2.06-.94-2.06-.94-.94-2.06-.94 2.06-2.06.94z\"/><path d=\"M17.41 7.96l-1.37-1.37c-.4-.4-.92-.59-1.43-.59-.52 0-1.04.2-1.43.59L10.3 9.45l-7.72 7.72c-.78.78-.78 2.05 0 2.83L4 21.41c.39.39.9.59 1.41.59.51 0 1.02-.2 1.41-.59l7.78-7.78 2.81-2.81c.8-.78.8-2.07 0-2.86zM5.41 20L4 18.59l7.72-7.72 1.47 1.35L5.41 20z\"/>\n",
              "  </svg>\n",
              "      </button>\n",
              "      \n",
              "  <style>\n",
              "    .colab-df-container {\n",
              "      display:flex;\n",
              "      flex-wrap:wrap;\n",
              "      gap: 12px;\n",
              "    }\n",
              "\n",
              "    .colab-df-convert {\n",
              "      background-color: #E8F0FE;\n",
              "      border: none;\n",
              "      border-radius: 50%;\n",
              "      cursor: pointer;\n",
              "      display: none;\n",
              "      fill: #1967D2;\n",
              "      height: 32px;\n",
              "      padding: 0 0 0 0;\n",
              "      width: 32px;\n",
              "    }\n",
              "\n",
              "    .colab-df-convert:hover {\n",
              "      background-color: #E2EBFA;\n",
              "      box-shadow: 0px 1px 2px rgba(60, 64, 67, 0.3), 0px 1px 3px 1px rgba(60, 64, 67, 0.15);\n",
              "      fill: #174EA6;\n",
              "    }\n",
              "\n",
              "    [theme=dark] .colab-df-convert {\n",
              "      background-color: #3B4455;\n",
              "      fill: #D2E3FC;\n",
              "    }\n",
              "\n",
              "    [theme=dark] .colab-df-convert:hover {\n",
              "      background-color: #434B5C;\n",
              "      box-shadow: 0px 1px 3px 1px rgba(0, 0, 0, 0.15);\n",
              "      filter: drop-shadow(0px 1px 2px rgba(0, 0, 0, 0.3));\n",
              "      fill: #FFFFFF;\n",
              "    }\n",
              "  </style>\n",
              "\n",
              "      <script>\n",
              "        const buttonEl =\n",
              "          document.querySelector('#df-3d3adc9a-e362-4e20-9c73-fe7907cecddc button.colab-df-convert');\n",
              "        buttonEl.style.display =\n",
              "          google.colab.kernel.accessAllowed ? 'block' : 'none';\n",
              "\n",
              "        async function convertToInteractive(key) {\n",
              "          const element = document.querySelector('#df-3d3adc9a-e362-4e20-9c73-fe7907cecddc');\n",
              "          const dataTable =\n",
              "            await google.colab.kernel.invokeFunction('convertToInteractive',\n",
              "                                                     [key], {});\n",
              "          if (!dataTable) return;\n",
              "\n",
              "          const docLinkHtml = 'Like what you see? Visit the ' +\n",
              "            '<a target=\"_blank\" href=https://colab.research.google.com/notebooks/data_table.ipynb>data table notebook</a>'\n",
              "            + ' to learn more about interactive tables.';\n",
              "          element.innerHTML = '';\n",
              "          dataTable['output_type'] = 'display_data';\n",
              "          await google.colab.output.renderOutput(dataTable, element);\n",
              "          const docLink = document.createElement('div');\n",
              "          docLink.innerHTML = docLinkHtml;\n",
              "          element.appendChild(docLink);\n",
              "        }\n",
              "      </script>\n",
              "    </div>\n",
              "  </div>\n",
              "  "
            ]
          },
          "metadata": {},
          "execution_count": 136
        }
      ]
    },
    {
      "cell_type": "markdown",
      "source": [
        "## Lift Curve Manually"
      ],
      "metadata": {
        "id": "ISWqq5aB1WFf"
      }
    },
    {
      "cell_type": "code",
      "source": [
        "results = pd.DataFrame()\n",
        "results['prediction'] = yhat_rf[:,1].tolist()\n",
        "results['real'] = y_val.tolist()\n",
        "\n",
        "# ordering by prediction\n",
        "results = results.sort_values( 'prediction', ascending=False )\n",
        "\n",
        "# Percentage of intereset ( Propensity Score )\n",
        "results['real_cum'] = results['real'].cumsum() \n",
        "results['real_cum_perc'] = 100*results['real_cum']/results['real'].sum()\n",
        "\n",
        "# Percentage of Base ( Clients )\n",
        "results['base'] = range( 1, len( results ) + 1  )\n",
        "results['base_cum_perc'] = 100*results['base']/len( results )\n",
        "\n",
        "# Basline model\n",
        "results['baseline'] = results['base_cum_perc']\n",
        "\n",
        "# Lift Calculation\n",
        "results['lift'] = results['real_cum_perc'] / results['base_cum_perc']\n",
        "\n",
        "plt.figure( figsize=(12,8))\n",
        "sns.lineplot( x='base_cum_perc', y='lift', data=results )"
      ],
      "metadata": {
        "colab": {
          "base_uri": "https://localhost:8080/",
          "height": 516
        },
        "id": "BCmFWh9Qyw4X",
        "outputId": "0d4d60a2-e23b-4525-90a1-641445908905"
      },
      "execution_count": null,
      "outputs": [
        {
          "output_type": "execute_result",
          "data": {
            "text/plain": [
              "<matplotlib.axes._subplots.AxesSubplot at 0x7f9149bc95d0>"
            ]
          },
          "metadata": {},
          "execution_count": 137
        },
        {
          "output_type": "display_data",
          "data": {
            "text/plain": [
              "<Figure size 864x576 with 1 Axes>"
            ],
            "image/png": "[encoded data removed]"
          },
          "metadata": {
            "needs_background": "light"
          }
        }
      ]
    },
    {
      "cell_type": "markdown",
      "source": [
        "## ROI Curve Manually"
      ],
      "metadata": {
        "id": "TA8sxVxf1Z-0"
      }
    },
    {
      "cell_type": "code",
      "source": [
        "results = pd.DataFrame()\n",
        "results['prediction'] = yhat_rf[:,1].tolist()\n",
        "results['real'] = y_val.tolist()\n",
        "\n",
        "# ordering by prediction\n",
        "results = results.sort_values( 'prediction', ascending=False )\n",
        "\n",
        "# Percentage of intereset ( Propensity Score )\n",
        "results['real_cum'] = results['real'].cumsum() \n",
        "results['real_cum_perc'] = 100*results['real_cum']/results['real'].sum()\n",
        "\n",
        "# Percentage of Base ( Clients )\n",
        "results['base'] = range( 1, len( results ) + 1  )\n",
        "results['base_cum_perc'] = 100*results['base']/len( results )\n",
        "\n",
        "# Basline model\n",
        "results['baseline'] = results['base_cum_perc']\n",
        "\n",
        "# Lift Calculation\n",
        "results['lift'] = results['real_cum_perc'] / results['base_cum_perc']\n",
        "\n",
        "# ROI Curve\n",
        "\n",
        "\n",
        "#plt.figure( figsize=(12,8))\n",
        "#sns.lineplot( x='base_cum_perc', y='lift', data=results )"
      ],
      "metadata": {
        "id": "mwu9s4CWyw67"
      },
      "execution_count": null,
      "outputs": []
    },
    {
      "cell_type": "code",
      "source": [
        "results.head()"
      ],
      "metadata": {
        "colab": {
          "base_uri": "https://localhost:8080/",
          "height": 205
        },
        "id": "o_Eblcnw096Q",
        "outputId": "1c770f2c-3abe-42da-cd2d-1a886c5373ce"
      },
      "execution_count": null,
      "outputs": [
        {
          "output_type": "execute_result",
          "data": {
            "text/plain": [
              "        prediction  real  real_cum  real_cum_perc  base  base_cum_perc  \\\n",
              "123190       0.924     0         0       0.000000     1       0.000292   \n",
              "257391       0.914     1         1       0.002375     2       0.000583   \n",
              "242612       0.901     0         1       0.002375     3       0.000875   \n",
              "272058       0.889     0         1       0.002375     4       0.001166   \n",
              "206731       0.887     1         2       0.004751     5       0.001458   \n",
              "\n",
              "        baseline      lift  \n",
              "123190  0.000292  0.000000  \n",
              "257391  0.000583  4.073622  \n",
              "242612  0.000875  2.715748  \n",
              "272058  0.001166  2.036811  \n",
              "206731  0.001458  3.258898  "
            ],
            "text/html": [
              "\n",
              "  <div id=\"df-67b362c1-532c-4f32-a5b3-0026746c5b49\">\n",
              "    <div class=\"colab-df-container\">\n",
              "      <div>\n",
              "<style scoped>\n",
              "    .dataframe tbody tr th:only-of-type {\n",
              "        vertical-align: middle;\n",
              "    }\n",
              "\n",
              "    .dataframe tbody tr th {\n",
              "        vertical-align: top;\n",
              "    }\n",
              "\n",
              "    .dataframe thead th {\n",
              "        text-align: right;\n",
              "    }\n",
              "</style>\n",
              "<table border=\"1\" class=\"dataframe\">\n",
              "  <thead>\n",
              "    <tr style=\"text-align: right;\">\n",
              "      <th></th>\n",
              "      <th>prediction</th>\n",
              "      <th>real</th>\n",
              "      <th>real_cum</th>\n",
              "      <th>real_cum_perc</th>\n",
              "      <th>base</th>\n",
              "      <th>base_cum_perc</th>\n",
              "      <th>baseline</th>\n",
              "      <th>lift</th>\n",
              "    </tr>\n",
              "  </thead>\n",
              "  <tbody>\n",
              "    <tr>\n",
              "      <th>123190</th>\n",
              "      <td>0.924</td>\n",
              "      <td>0</td>\n",
              "      <td>0</td>\n",
              "      <td>0.000000</td>\n",
              "      <td>1</td>\n",
              "      <td>0.000292</td>\n",
              "      <td>0.000292</td>\n",
              "      <td>0.000000</td>\n",
              "    </tr>\n",
              "    <tr>\n",
              "      <th>257391</th>\n",
              "      <td>0.914</td>\n",
              "      <td>1</td>\n",
              "      <td>1</td>\n",
              "      <td>0.002375</td>\n",
              "      <td>2</td>\n",
              "      <td>0.000583</td>\n",
              "      <td>0.000583</td>\n",
              "      <td>4.073622</td>\n",
              "    </tr>\n",
              "    <tr>\n",
              "      <th>242612</th>\n",
              "      <td>0.901</td>\n",
              "      <td>0</td>\n",
              "      <td>1</td>\n",
              "      <td>0.002375</td>\n",
              "      <td>3</td>\n",
              "      <td>0.000875</td>\n",
              "      <td>0.000875</td>\n",
              "      <td>2.715748</td>\n",
              "    </tr>\n",
              "    <tr>\n",
              "      <th>272058</th>\n",
              "      <td>0.889</td>\n",
              "      <td>0</td>\n",
              "      <td>1</td>\n",
              "      <td>0.002375</td>\n",
              "      <td>4</td>\n",
              "      <td>0.001166</td>\n",
              "      <td>0.001166</td>\n",
              "      <td>2.036811</td>\n",
              "    </tr>\n",
              "    <tr>\n",
              "      <th>206731</th>\n",
              "      <td>0.887</td>\n",
              "      <td>1</td>\n",
              "      <td>2</td>\n",
              "      <td>0.004751</td>\n",
              "      <td>5</td>\n",
              "      <td>0.001458</td>\n",
              "      <td>0.001458</td>\n",
              "      <td>3.258898</td>\n",
              "    </tr>\n",
              "  </tbody>\n",
              "</table>\n",
              "</div>\n",
              "      <button class=\"colab-df-convert\" onclick=\"convertToInteractive('df-67b362c1-532c-4f32-a5b3-0026746c5b49')\"\n",
              "              title=\"Convert this dataframe to an interactive table.\"\n",
              "              style=\"display:none;\">\n",
              "        \n",
              "  <svg xmlns=\"http://www.w3.org/2000/svg\" height=\"24px\"viewBox=\"0 0 24 24\"\n",
              "       width=\"24px\">\n",
              "    <path d=\"M0 0h24v24H0V0z\" fill=\"none\"/>\n",
              "    <path d=\"M18.56 5.44l.94 2.06.94-2.06 2.06-.94-2.06-.94-.94-2.06-.94 2.06-2.06.94zm-11 1L8.5 8.5l.94-2.06 2.06-.94-2.06-.94L8.5 2.5l-.94 2.06-2.06.94zm10 10l.94 2.06.94-2.06 2.06-.94-2.06-.94-.94-2.06-.94 2.06-2.06.94z\"/><path d=\"M17.41 7.96l-1.37-1.37c-.4-.4-.92-.59-1.43-.59-.52 0-1.04.2-1.43.59L10.3 9.45l-7.72 7.72c-.78.78-.78 2.05 0 2.83L4 21.41c.39.39.9.59 1.41.59.51 0 1.02-.2 1.41-.59l7.78-7.78 2.81-2.81c.8-.78.8-2.07 0-2.86zM5.41 20L4 18.59l7.72-7.72 1.47 1.35L5.41 20z\"/>\n",
              "  </svg>\n",
              "      </button>\n",
              "      \n",
              "  <style>\n",
              "    .colab-df-container {\n",
              "      display:flex;\n",
              "      flex-wrap:wrap;\n",
              "      gap: 12px;\n",
              "    }\n",
              "\n",
              "    .colab-df-convert {\n",
              "      background-color: #E8F0FE;\n",
              "      border: none;\n",
              "      border-radius: 50%;\n",
              "      cursor: pointer;\n",
              "      display: none;\n",
              "      fill: #1967D2;\n",
              "      height: 32px;\n",
              "      padding: 0 0 0 0;\n",
              "      width: 32px;\n",
              "    }\n",
              "\n",
              "    .colab-df-convert:hover {\n",
              "      background-color: #E2EBFA;\n",
              "      box-shadow: 0px 1px 2px rgba(60, 64, 67, 0.3), 0px 1px 3px 1px rgba(60, 64, 67, 0.15);\n",
              "      fill: #174EA6;\n",
              "    }\n",
              "\n",
              "    [theme=dark] .colab-df-convert {\n",
              "      background-color: #3B4455;\n",
              "      fill: #D2E3FC;\n",
              "    }\n",
              "\n",
              "    [theme=dark] .colab-df-convert:hover {\n",
              "      background-color: #434B5C;\n",
              "      box-shadow: 0px 1px 3px 1px rgba(0, 0, 0, 0.15);\n",
              "      filter: drop-shadow(0px 1px 2px rgba(0, 0, 0, 0.3));\n",
              "      fill: #FFFFFF;\n",
              "    }\n",
              "  </style>\n",
              "\n",
              "      <script>\n",
              "        const buttonEl =\n",
              "          document.querySelector('#df-67b362c1-532c-4f32-a5b3-0026746c5b49 button.colab-df-convert');\n",
              "        buttonEl.style.display =\n",
              "          google.colab.kernel.accessAllowed ? 'block' : 'none';\n",
              "\n",
              "        async function convertToInteractive(key) {\n",
              "          const element = document.querySelector('#df-67b362c1-532c-4f32-a5b3-0026746c5b49');\n",
              "          const dataTable =\n",
              "            await google.colab.kernel.invokeFunction('convertToInteractive',\n",
              "                                                     [key], {});\n",
              "          if (!dataTable) return;\n",
              "\n",
              "          const docLinkHtml = 'Like what you see? Visit the ' +\n",
              "            '<a target=\"_blank\" href=https://colab.research.google.com/notebooks/data_table.ipynb>data table notebook</a>'\n",
              "            + ' to learn more about interactive tables.';\n",
              "          element.innerHTML = '';\n",
              "          dataTable['output_type'] = 'display_data';\n",
              "          await google.colab.output.renderOutput(dataTable, element);\n",
              "          const docLink = document.createElement('div');\n",
              "          docLink.innerHTML = docLinkHtml;\n",
              "          element.appendChild(docLink);\n",
              "        }\n",
              "      </script>\n",
              "    </div>\n",
              "  </div>\n",
              "  "
            ]
          },
          "metadata": {},
          "execution_count": 139
        }
      ]
    },
    {
      "cell_type": "code",
      "source": [
        "# Compute bucket\n",
        "results['bucket'] = results['prediction'].apply( lambda x: 0.9 if x >= 0.90 else \n",
        "                                                           0.8 if ( x >= 0.80) & ( x <= 0.90 ) else \n",
        "                                                           0.7 if ( x >= 0.70) & ( x <= 0.80 ) else \n",
        "                                                           0.6 if ( x >= 0.60) & ( x <= 0.70 ) else \n",
        "                                                           0.5 if ( x >= 0.50) & ( x <= 0.60 ) else \n",
        "                                                           0.4 if ( x >= 0.40) & ( x <= 0.50 ) else \n",
        "                                                           0.3 if ( x >= 0.30) & ( x <= 0.40 ) else \n",
        "                                                           0.2 if ( x >= 0.20) & ( x <= 0.30 ) else \n",
        "                                                           0.1 if ( x >= 0.10) & ( x <= 0.20 ) else 0.01 )\n",
        "\n",
        "#  Aggregate clients among buckets\n",
        "df = results[['prediction','bucket']].groupby( 'bucket' ).agg( {'min', 'count'} ).reset_index()\n",
        "df.columns = df.columns.droplevel()\n",
        "df.columns = ['index', 'clients', 'propensity_score']\n",
        "\n",
        "# Compute revenue and cost\n",
        "df['gross_revenue'] = 40 * df['clients'] * df['propensity_score'] \n",
        "df['cost'] = 4 * df['clients']\n",
        "\n",
        "df['base'] = df['clients'].sort_values( ascending=True ).cumsum() / df['clients'].sum()\n",
        "\n",
        "# revenue\n",
        "df['revenue'] = df['gross_revenue'] - df['cost']\n",
        "df = df.sort_values( 'index', ascending=False )\n",
        "df"
      ],
      "metadata": {
        "colab": {
          "base_uri": "https://localhost:8080/",
          "height": 362
        },
        "id": "hbfDwJtmyw9z",
        "outputId": "bc0c0167-a075-48d0-fd0b-a1da1e2bb320"
      },
      "execution_count": null,
      "outputs": [
        {
          "output_type": "execute_result",
          "data": {
            "text/plain": [
              "   index  clients  propensity_score  gross_revenue   cost      base  \\\n",
              "9   0.90    0.901                 3         108.12  3.604  1.000000   \n",
              "8   0.80    0.800               100        3200.00  3.200  0.799822   \n",
              "7   0.70    0.700               794       22232.00  2.800  0.622084   \n",
              "6   0.60    0.600              3130       75120.00  2.400  0.466563   \n",
              "5   0.50    0.500              8388      167760.00  2.000  0.333259   \n",
              "4   0.40    0.400             17468      279488.00  1.600  0.222173   \n",
              "3   0.30    0.300             29339      352068.00  1.200  0.133304   \n",
              "2   0.20    0.200             39199      313592.00  0.800  0.066652   \n",
              "1   0.10    0.100             40114      160456.00  0.400  0.022217   \n",
              "0   0.01    0.000            204464           0.00  0.000  0.000000   \n",
              "\n",
              "      revenue  \n",
              "9     104.516  \n",
              "8    3196.800  \n",
              "7   22229.200  \n",
              "6   75117.600  \n",
              "5  167758.000  \n",
              "4  279486.400  \n",
              "3  352066.800  \n",
              "2  313591.200  \n",
              "1  160455.600  \n",
              "0       0.000  "
            ],
            "text/html": [
              "\n",
              "  <div id=\"df-cfb64626-2b58-4ede-97cd-b196fc573cf3\">\n",
              "    <div class=\"colab-df-container\">\n",
              "      <div>\n",
              "<style scoped>\n",
              "    .dataframe tbody tr th:only-of-type {\n",
              "        vertical-align: middle;\n",
              "    }\n",
              "\n",
              "    .dataframe tbody tr th {\n",
              "        vertical-align: top;\n",
              "    }\n",
              "\n",
              "    .dataframe thead th {\n",
              "        text-align: right;\n",
              "    }\n",
              "</style>\n",
              "<table border=\"1\" class=\"dataframe\">\n",
              "  <thead>\n",
              "    <tr style=\"text-align: right;\">\n",
              "      <th></th>\n",
              "      <th>index</th>\n",
              "      <th>clients</th>\n",
              "      <th>propensity_score</th>\n",
              "      <th>gross_revenue</th>\n",
              "      <th>cost</th>\n",
              "      <th>base</th>\n",
              "      <th>revenue</th>\n",
              "    </tr>\n",
              "  </thead>\n",
              "  <tbody>\n",
              "    <tr>\n",
              "      <th>9</th>\n",
              "      <td>0.90</td>\n",
              "      <td>0.901</td>\n",
              "      <td>3</td>\n",
              "      <td>108.12</td>\n",
              "      <td>3.604</td>\n",
              "      <td>1.000000</td>\n",
              "      <td>104.516</td>\n",
              "    </tr>\n",
              "    <tr>\n",
              "      <th>8</th>\n",
              "      <td>0.80</td>\n",
              "      <td>0.800</td>\n",
              "      <td>100</td>\n",
              "      <td>3200.00</td>\n",
              "      <td>3.200</td>\n",
              "      <td>0.799822</td>\n",
              "      <td>3196.800</td>\n",
              "    </tr>\n",
              "    <tr>\n",
              "      <th>7</th>\n",
              "      <td>0.70</td>\n",
              "      <td>0.700</td>\n",
              "      <td>794</td>\n",
              "      <td>22232.00</td>\n",
              "      <td>2.800</td>\n",
              "      <td>0.622084</td>\n",
              "      <td>22229.200</td>\n",
              "    </tr>\n",
              "    <tr>\n",
              "      <th>6</th>\n",
              "      <td>0.60</td>\n",
              "      <td>0.600</td>\n",
              "      <td>3130</td>\n",
              "      <td>75120.00</td>\n",
              "      <td>2.400</td>\n",
              "      <td>0.466563</td>\n",
              "      <td>75117.600</td>\n",
              "    </tr>\n",
              "    <tr>\n",
              "      <th>5</th>\n",
              "      <td>0.50</td>\n",
              "      <td>0.500</td>\n",
              "      <td>8388</td>\n",
              "      <td>167760.00</td>\n",
              "      <td>2.000</td>\n",
              "      <td>0.333259</td>\n",
              "      <td>167758.000</td>\n",
              "    </tr>\n",
              "    <tr>\n",
              "      <th>4</th>\n",
              "      <td>0.40</td>\n",
              "      <td>0.400</td>\n",
              "      <td>17468</td>\n",
              "      <td>279488.00</td>\n",
              "      <td>1.600</td>\n",
              "      <td>0.222173</td>\n",
              "      <td>279486.400</td>\n",
              "    </tr>\n",
              "    <tr>\n",
              "      <th>3</th>\n",
              "      <td>0.30</td>\n",
              "      <td>0.300</td>\n",
              "      <td>29339</td>\n",
              "      <td>352068.00</td>\n",
              "      <td>1.200</td>\n",
              "      <td>0.133304</td>\n",
              "      <td>352066.800</td>\n",
              "    </tr>\n",
              "    <tr>\n",
              "      <th>2</th>\n",
              "      <td>0.20</td>\n",
              "      <td>0.200</td>\n",
              "      <td>39199</td>\n",
              "      <td>313592.00</td>\n",
              "      <td>0.800</td>\n",
              "      <td>0.066652</td>\n",
              "      <td>313591.200</td>\n",
              "    </tr>\n",
              "    <tr>\n",
              "      <th>1</th>\n",
              "      <td>0.10</td>\n",
              "      <td>0.100</td>\n",
              "      <td>40114</td>\n",
              "      <td>160456.00</td>\n",
              "      <td>0.400</td>\n",
              "      <td>0.022217</td>\n",
              "      <td>160455.600</td>\n",
              "    </tr>\n",
              "    <tr>\n",
              "      <th>0</th>\n",
              "      <td>0.01</td>\n",
              "      <td>0.000</td>\n",
              "      <td>204464</td>\n",
              "      <td>0.00</td>\n",
              "      <td>0.000</td>\n",
              "      <td>0.000000</td>\n",
              "      <td>0.000</td>\n",
              "    </tr>\n",
              "  </tbody>\n",
              "</table>\n",
              "</div>\n",
              "      <button class=\"colab-df-convert\" onclick=\"convertToInteractive('df-cfb64626-2b58-4ede-97cd-b196fc573cf3')\"\n",
              "              title=\"Convert this dataframe to an interactive table.\"\n",
              "              style=\"display:none;\">\n",
              "        \n",
              "  <svg xmlns=\"http://www.w3.org/2000/svg\" height=\"24px\"viewBox=\"0 0 24 24\"\n",
              "       width=\"24px\">\n",
              "    <path d=\"M0 0h24v24H0V0z\" fill=\"none\"/>\n",
              "    <path d=\"M18.56 5.44l.94 2.06.94-2.06 2.06-.94-2.06-.94-.94-2.06-.94 2.06-2.06.94zm-11 1L8.5 8.5l.94-2.06 2.06-.94-2.06-.94L8.5 2.5l-.94 2.06-2.06.94zm10 10l.94 2.06.94-2.06 2.06-.94-2.06-.94-.94-2.06-.94 2.06-2.06.94z\"/><path d=\"M17.41 7.96l-1.37-1.37c-.4-.4-.92-.59-1.43-.59-.52 0-1.04.2-1.43.59L10.3 9.45l-7.72 7.72c-.78.78-.78 2.05 0 2.83L4 21.41c.39.39.9.59 1.41.59.51 0 1.02-.2 1.41-.59l7.78-7.78 2.81-2.81c.8-.78.8-2.07 0-2.86zM5.41 20L4 18.59l7.72-7.72 1.47 1.35L5.41 20z\"/>\n",
              "  </svg>\n",
              "      </button>\n",
              "      \n",
              "  <style>\n",
              "    .colab-df-container {\n",
              "      display:flex;\n",
              "      flex-wrap:wrap;\n",
              "      gap: 12px;\n",
              "    }\n",
              "\n",
              "    .colab-df-convert {\n",
              "      background-color: #E8F0FE;\n",
              "      border: none;\n",
              "      border-radius: 50%;\n",
              "      cursor: pointer;\n",
              "      display: none;\n",
              "      fill: #1967D2;\n",
              "      height: 32px;\n",
              "      padding: 0 0 0 0;\n",
              "      width: 32px;\n",
              "    }\n",
              "\n",
              "    .colab-df-convert:hover {\n",
              "      background-color: #E2EBFA;\n",
              "      box-shadow: 0px 1px 2px rgba(60, 64, 67, 0.3), 0px 1px 3px 1px rgba(60, 64, 67, 0.15);\n",
              "      fill: #174EA6;\n",
              "    }\n",
              "\n",
              "    [theme=dark] .colab-df-convert {\n",
              "      background-color: #3B4455;\n",
              "      fill: #D2E3FC;\n",
              "    }\n",
              "\n",
              "    [theme=dark] .colab-df-convert:hover {\n",
              "      background-color: #434B5C;\n",
              "      box-shadow: 0px 1px 3px 1px rgba(0, 0, 0, 0.15);\n",
              "      filter: drop-shadow(0px 1px 2px rgba(0, 0, 0, 0.3));\n",
              "      fill: #FFFFFF;\n",
              "    }\n",
              "  </style>\n",
              "\n",
              "      <script>\n",
              "        const buttonEl =\n",
              "          document.querySelector('#df-cfb64626-2b58-4ede-97cd-b196fc573cf3 button.colab-df-convert');\n",
              "        buttonEl.style.display =\n",
              "          google.colab.kernel.accessAllowed ? 'block' : 'none';\n",
              "\n",
              "        async function convertToInteractive(key) {\n",
              "          const element = document.querySelector('#df-cfb64626-2b58-4ede-97cd-b196fc573cf3');\n",
              "          const dataTable =\n",
              "            await google.colab.kernel.invokeFunction('convertToInteractive',\n",
              "                                                     [key], {});\n",
              "          if (!dataTable) return;\n",
              "\n",
              "          const docLinkHtml = 'Like what you see? Visit the ' +\n",
              "            '<a target=\"_blank\" href=https://colab.research.google.com/notebooks/data_table.ipynb>data table notebook</a>'\n",
              "            + ' to learn more about interactive tables.';\n",
              "          element.innerHTML = '';\n",
              "          dataTable['output_type'] = 'display_data';\n",
              "          await google.colab.output.renderOutput(dataTable, element);\n",
              "          const docLink = document.createElement('div');\n",
              "          docLink.innerHTML = docLinkHtml;\n",
              "          element.appendChild(docLink);\n",
              "        }\n",
              "      </script>\n",
              "    </div>\n",
              "  </div>\n",
              "  "
            ]
          },
          "metadata": {},
          "execution_count": 140
        }
      ]
    },
    {
      "cell_type": "code",
      "source": [
        "plt.figure( figsize=(12,8))\n",
        "aux = df[df['propensity_score'] >= 0.1]\n",
        "sns.lineplot( x='base', y='revenue', data=aux )"
      ],
      "metadata": {
        "colab": {
          "base_uri": "https://localhost:8080/",
          "height": 515
        },
        "id": "j8orjcTbyxAP",
        "outputId": "bc3a8fa4-0e39-440c-efc6-826c7e7a1510"
      },
      "execution_count": null,
      "outputs": [
        {
          "output_type": "execute_result",
          "data": {
            "text/plain": [
              "<matplotlib.axes._subplots.AxesSubplot at 0x7f9145ebf990>"
            ]
          },
          "metadata": {},
          "execution_count": 141
        },
        {
          "output_type": "display_data",
          "data": {
            "text/plain": [
              "<Figure size 864x576 with 1 Axes>"
            ],
            "image/png": "[encoded data removed]"
          },
          "metadata": {
            "needs_background": "light"
          }
        }
      ]
    },
    {
      "cell_type": "code",
      "source": [
        ""
      ],
      "metadata": {
        "id": "70jWB4jiyxC0"
      },
      "execution_count": null,
      "outputs": []
    },
    {
      "cell_type": "markdown",
      "source": [
        "## Observações:\n",
        "\n",
        "1. gráfico de lucro não condiz com dados. Olhar mais exemplos\n",
        "2. dados de lucro que criei são diferentes dos do meigarom, entender por que\n",
        "3. como plotar uma função def no matplotlib?"
      ],
      "metadata": {
        "id": "kepHWt-p_vdW"
      }
    },
    {
      "cell_type": "code",
      "source": [
        ""
      ],
      "metadata": {
        "id": "bgR6rhd0yxFo"
      },
      "execution_count": null,
      "outputs": []
    },
    {
      "cell_type": "markdown",
      "source": [
        "## Implementação da minha curva de lucro"
      ],
      "metadata": {
        "id": "pFSvr9g3AM-D"
      }
    },
    {
      "cell_type": "code",
      "source": [
        "population_size = 100000\n",
        "target_incidence = 0.12\n",
        "reward_target = 50\n",
        "cost_campaign = 2\n",
        "\n",
        "def profit(perc_targets, perc_selected, population_size, reward_target, cost_campaign):\n",
        "    cost = cost_campaign * perc_selected * population_size\n",
        "    reward = reward_target * perc_targets * perc_selected * population_size\n",
        "    return (reward - cost)\n",
        "\n",
        "perc_selected = 0.20\n",
        "lift = 2.5\n",
        "perc_targets = lift * target_incidence\n",
        "print(profit(perc_targets, perc_selected, population_size, reward_target, cost_campaign))\n",
        "\n",
        "\n",
        "\n",
        "\n"
      ],
      "metadata": {
        "colab": {
          "base_uri": "https://localhost:8080/"
        },
        "id": "OYBgNRphyxIY",
        "outputId": "98b9a607-b818-4f48-9159-f73c0ccf5c25"
      },
      "execution_count": null,
      "outputs": [
        {
          "output_type": "stream",
          "name": "stdout",
          "text": [
            "260000.0\n"
          ]
        }
      ]
    },
    {
      "cell_type": "code",
      "source": [
        "profit_40 = profit( target_incidence * lift , 0.1, population_size, cost_campaign, reward_target)\n",
        "profit_40 "
      ],
      "metadata": {
        "colab": {
          "base_uri": "https://localhost:8080/"
        },
        "id": "ZlAU-nGgHfwe",
        "outputId": "c8981eed-acb1-4025-a212-707e177db9ab"
      },
      "execution_count": null,
      "outputs": [
        {
          "output_type": "execute_result",
          "data": {
            "text/plain": [
              "-494000.0"
            ]
          },
          "metadata": {},
          "execution_count": 159
        }
      ]
    },
    {
      "cell_type": "code",
      "source": [
        "plt.figure( figsize=(12,8))\n",
        "aux = df[df['propensity_score'] >= 0.1]\n",
        "sns.lineplot( x='base', y='revenue', data=aux )"
      ],
      "metadata": {
        "id": "-jK4cmOhvIMz"
      },
      "execution_count": null,
      "outputs": []
    },
    {
      "cell_type": "code",
      "source": [
        ""
      ],
      "metadata": {
        "id": "RBP3qwGevIPh"
      },
      "execution_count": null,
      "outputs": []
    }
  ]
}